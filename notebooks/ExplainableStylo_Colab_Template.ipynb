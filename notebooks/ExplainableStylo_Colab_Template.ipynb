{
  "cells": [
    {
      "cell_type": "markdown",
      "metadata": {},
      "source": [
        "# \ud83d\udcd8 Explainable Stylo Workshop Notebook\n",
        "\n",
        "Welcome to the Colab notebook for the **Explainable Stylo Workshop**.\n",
        "\n",
        "This notebook helps you:\n",
        "- Load the [`cl_explainable_stylo`](https://github.com/remolek/Wshop-ExplainableStylo) package from GitHub\n",
        "- Prepare to work with textual data stored in folders like `example1/`, `example2/`\n",
        "- Understand how to explore and use the package interactively\n"
      ]
    },
    {
      "cell_type": "code",
      "execution_count": null,
      "metadata": {},
      "outputs": [],
      "source": [
        "# \ud83d\udd27 Setup: Clone the repository and install the package\n",
        "import os\n",
        "\n",
        "# Clone the repo only if it's not already cloned\n",
        "if not os.path.exists(\"Wshop-ExplainableStylo\"):\n",
        "    !git clone https://github.com/remolek/Wshop-ExplainableStylo.git\n",
        "%cd Wshop-ExplainableStylo\n",
        "\n",
        "# Install the package in editable mode\n",
        "!pip install -e ."
      ]
    },
    {
      "cell_type": "markdown",
      "metadata": {},
      "source": [
        "## \ud83d\udce6 Import the Package\n",
        "\n",
        "Now that the package is installed, you can import its modules and use them in the notebook.\n",
        "Replace `some_module` below with the actual module or function you want to explore.\n"
      ]
    },
    {
      "cell_type": "code",
      "execution_count": null,
      "metadata": {},
      "outputs": [],
      "source": [
        "# Example: Import a module from cl_explainable_stylo\n",
        "from cl_explainable_stylo import example_loader  # replace with real module/function\n",
        "\n",
        "# Help or test it\n",
        "# help(example_loader)"
      ]
    },
    {
      "cell_type": "markdown",
      "metadata": {},
      "source": [
        "## \ud83d\udcc1 Auto-detect and Preview Textual Data\n",
        "\n",
        "This cell finds all `example*` folders, lists `.txt` files, and shows a short preview of each."
      ]
    },
    {
      "cell_type": "code",
      "execution_count": null,
      "metadata": {},
      "outputs": [],
      "source": [
        "import os\n",
        "from glob import glob\n",
        "\n",
        "# \ud83d\udd0d Find all folders starting with \"example\"\n",
        "example_dirs = sorted([d for d in os.listdir() if d.startswith(\"example\") and os.path.isdir(d)])\n",
        "print(f\"Detected folders: {example_dirs}\")\n",
        "\n",
        "# \ud83d\udcc4 Find and preview all .txt files inside each folder\n",
        "for folder in example_dirs:\n",
        "    txt_files = sorted(glob(os.path.join(folder, \"*.txt\")))\n",
        "    print(f\"\\n\ud83d\udcc1 {folder} contains {len(txt_files)} .txt files:\")\n",
        "    for path in txt_files:\n",
        "        print(f\"  - {os.path.basename(path)}\")\n",
        "        with open(path, \"r\", encoding=\"utf-8\") as f:\n",
        "            preview = f.read(200).strip().replace(\"\\n\", \" \")\n",
        "        print(f\"    Preview: {preview[:150]}{'...' if len(preview) > 150 else ''}\")"
      ]
    },
    {
      "cell_type": "markdown",
      "metadata": {},
      "source": [
        "## \ud83e\uddea Your Playground\n",
        "\n",
        "You can now run your own analyses using functions from `cl_explainable_stylo`, loading texts and experimenting with stylistic explainability."
      ]
    },
    {
      "cell_type": "code",
      "execution_count": null,
      "metadata": {},
      "outputs": [],
      "source": [
        "# Write your own code here!\n",
        "# For example, analyze loaded text, vectorize it, or explain features\n",
        "# from cl_explainable_stylo import analyze_text\n",
        "\n",
        "# results = analyze_text(text)\n",
        "# print(results)"
      ]
    }
  ],
  "metadata": {
    "kernelspec": {
      "display_name": "Python 3",
      "language": "python",
      "name": "python3"
    },
    "language_info": {
      "name": "python",
      "version": "3.x"
    }
  },
  "nbformat": 4,
  "nbformat_minor": 2
}