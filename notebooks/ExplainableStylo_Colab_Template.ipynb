{
  "cells": [
    {
      "cell_type": "markdown",
      "metadata": {
        "id": "tt-GoYWDtkn4"
      },
      "source": [
        "# 📘 Explainable Stylo Workshop Notebook\n",
        "\n",
        "Welcome to the Colab notebook for the **Explainable Stylo Workshop**.\n",
        "\n",
        "This notebook helps you:\n",
        "- Load the [`cl_explainable_stylo`](https://github.com/remolek/Wshop-ExplainableStylo) package from GitHub\n",
        "- Prepare to work with textual data stored in folders like `example1/`, `example2/`\n",
        "- Understand how to explore and use the package interactively\n"
      ]
    },
    {
      "cell_type": "code",
      "execution_count": 1,
      "metadata": {
        "colab": {
          "base_uri": "https://localhost:8080/"
        },
        "id": "dv2Y-eswtkn7",
        "outputId": "0a5af551-10c6-4b24-9179-cae341193682"
      },
      "outputs": [
        {
          "output_type": "stream",
          "name": "stdout",
          "text": [
            "Cloning into 'Wshop-ExplainableStylo'...\n",
            "remote: Enumerating objects: 171, done.\u001b[K\n",
            "remote: Counting objects: 100% (171/171), done.\u001b[K\n",
            "remote: Compressing objects: 100% (145/145), done.\u001b[K\n",
            "remote: Total 171 (delta 73), reused 65 (delta 20), pack-reused 0 (from 0)\u001b[K\n",
            "Receiving objects: 100% (171/171), 5.51 MiB | 6.89 MiB/s, done.\n",
            "Resolving deltas: 100% (73/73), done.\n",
            "/content/Wshop-ExplainableStylo\n"
          ]
        }
      ],
      "source": [
        "# 🔧 Setup: Clone the repository and install the package\n",
        "import os\n",
        "\n",
        "# Clone the repo only if it's not already cloned\n",
        "if not os.path.exists(\"Wshop-ExplainableStylo\"):\n",
        "    !git clone https://github.com/remolek/Wshop-ExplainableStylo.git\n",
        "%cd Wshop-ExplainableStylo"
      ]
    },
    {
      "cell_type": "markdown",
      "source": [
        "\n",
        "The main logic of the pipeline is to follow:\n",
        "\n",
        "<img src=\"https://github.com/remolek/Wshop-ExplainableStylo/blob/main/notebooks/flowchart2.png?raw=1\" width=\"400\">"
      ],
      "metadata": {
        "id": "RC7cgarGP_90"
      }
    },
    {
      "cell_type": "markdown",
      "metadata": {
        "id": "TwZh5jlLtkn-"
      },
      "source": [
        "## 📦 Import the Package\n",
        "\n",
        "Now that the package is downloaded, you can import its modules and use them in the notebook.\n",
        "The `base` module below contains the main class which is a wrapper for most of the other functions.\n"
      ]
    },
    {
      "cell_type": "code",
      "execution_count": 2,
      "metadata": {
        "id": "kP2KdpGbtkoA"
      },
      "outputs": [],
      "source": [
        "# Import a module from cl_explainable_stylo\n",
        "from cl_explainable_stylo import base"
      ]
    },
    {
      "cell_type": "code",
      "source": [
        "help(base)"
      ],
      "metadata": {
        "collapsed": true,
        "colab": {
          "base_uri": "https://localhost:8080/"
        },
        "id": "wvO1u7tTx9kU",
        "outputId": "a50aa4a3-e862-4b19-a250-9c7479d942be"
      },
      "execution_count": 3,
      "outputs": [
        {
          "output_type": "stream",
          "name": "stdout",
          "text": [
            "Help on module cl_explainable_stylo.base in cl_explainable_stylo:\n",
            "\n",
            "NAME\n",
            "    cl_explainable_stylo.base - This module defines a base class 'explain_style' providing a pipeline for preprocessing texts (currently by Spacy), extracting their features, classifying them with LGBM, explaining the classifiers with SHAP and visualising the results.\n",
            "\n",
            "DESCRIPTION\n",
            "    To initialize the class you need a .json file with metadata of the form, minimally:\n",
            "    {\"experiment_name\":\"...\",\n",
            "    \"labels\": [\"filename\", \"class\"],\n",
            "    \"files\":\n",
            "            {\"filename\": [\"path_to_file1.txt\",\"path_to_file2.txt\"],\n",
            "            \"class\": [\"file1_class\", \"file2_class\"]}\n",
            "     }\n",
            "    \n",
            "    Author: Jeremi K. Ochab\n",
            "    Date: August 14, 2023\n",
            "\n",
            "CLASSES\n",
            "    builtins.object\n",
            "        explain_style\n",
            "    \n",
            "    class explain_style(builtins.object)\n",
            "     |  explain_style(metadata_json, manual=True)\n",
            "     |  \n",
            "     |  Methods defined here:\n",
            "     |  \n",
            "     |  __init__(self, metadata_json, manual=True)\n",
            "     |      Initialize self.  See help(type(self)) for accurate signature.\n",
            "     |  \n",
            "     |  classifiers_load(self, filename=None, postfix=None)\n",
            "     |  \n",
            "     |  classifiers_save(self, filename=None, postfix=None, overwrite=False)\n",
            "     |  \n",
            "     |  classify(self, class_category='class', class_regrouping=[], group_category=None, save_to_file=False)\n",
            "     |  \n",
            "     |  docs_load(self, filename=None)\n",
            "     |      #----- Saving&loading important class instance attributes \n",
            "     |      # TO DO: niejednoznaczne ładowanie dokumentów po subsamplingu. Jeśli się załaduje, to do .docs, czy .docs_subsampled? Wtedy czy .subsample_scheme powinno być zmienione? Potem jeśli docs_subsampled istnieją, to one są klasyfikowane.\n",
            "     |  \n",
            "     |  docs_save(self, docs=None, filename=None, precheck=False, overwrite=False)\n",
            "     |  \n",
            "     |  explain(self, models=None, minimize_data_use=True, save_to_file=False)\n",
            "     |  \n",
            "     |  explanations_load(self, filename=None, postfix=None)\n",
            "     |  \n",
            "     |  explanations_save(self, filename=None, postfix=None, overwrite=False)\n",
            "     |  \n",
            "     |  extract_features(self, feature_scheme=None, feature_list=None, save_to_file=False)\n",
            "     |  \n",
            "     |  features_load(self, filename=None)\n",
            "     |  \n",
            "     |  features_save(self, filename=None, overwrite=False)\n",
            "     |  \n",
            "     |  load_init(self, filename)\n",
            "     |      # TO DO: szczegółowy config ładowany/zapisywany do jednego jsona, czy do kilku osobnych?\n",
            "     |      # Lepiej do jednego, żeby zapisać np. metadane typu data, nazwa eksperymentu, jakaś notatka? itp.\n",
            "     |  \n",
            "     |  load_params_classifier(self, filename=None)\n",
            "     |  \n",
            "     |  load_params_cv(self, filename=None)\n",
            "     |  \n",
            "     |  load_params_feature(self, filename=None)\n",
            "     |  \n",
            "     |  load_params_preproc(self, filename=None)\n",
            "     |  \n",
            "     |  load_params_subsample(self, filename=None)\n",
            "     |  \n",
            "     |  plot_group_summary(self, group_by, max_display=20, show=True, color_legend=True, filename='SHAP_group_all', title='', file_ext='.png')\n",
            "     |  \n",
            "     |  plot_group_texts(self, group_by, group=None, show=True, max_display=20, filename='SHAP_group_', title='', file_ext='.png')\n",
            "     |      group = None - plot all groups (e.g., authors)\n",
            "     |      group = 'GroupName', group = 0 - plot a selected group\n",
            "     |  \n",
            "     |  plot_summary(self, group_by=None, show=True, max_display=20, filename='SHAP_wszystkie', title='', file_ext='.png')\n",
            "     |  \n",
            "     |  plot_text(self, index, show=True, max_display=20, filename=None, title=None, file_ext='.png')\n",
            "     |      # TO DO: czy 'author' ma się pojawić\n",
            "     |      # TO DO: tytuł ma podawać też numer próbki\n",
            "     |  \n",
            "     |  save_config(self, filename=None)\n",
            "     |  \n",
            "     |  save_params_classifier(self, filename=None)\n",
            "     |  \n",
            "     |  save_params_cv(self, filename=None)\n",
            "     |      # TO DO: zapisyanie scoring (funkcje pythona) jest niemożliwe do jsona\n",
            "     |  \n",
            "     |  save_params_feature(self, filename=None)\n",
            "     |  \n",
            "     |  save_params_preproc(self, filename=None)\n",
            "     |  \n",
            "     |  save_params_subsample(self, filename=None)\n",
            "     |  \n",
            "     |  scores_load(self, filename=None, postfix=None)\n",
            "     |  \n",
            "     |  scores_save(self, filename=None, postfix=None, overwrite=False)\n",
            "     |  \n",
            "     |  texts_load(self, from_variable=None, metadata=None)\n",
            "     |      #----- Workhorse methods\n",
            "     |  \n",
            "     |  texts_preprocess(self, texts=None, model=None, filename=None, labels=None, save_to_file=True)\n",
            "     |  \n",
            "     |  texts_subsample(self, subsample_scheme=None, save_to_file=False)\n",
            "     |  \n",
            "     |  ----------------------------------------------------------------------\n",
            "     |  Data descriptors defined here:\n",
            "     |  \n",
            "     |  __dict__\n",
            "     |      dictionary for instance variables\n",
            "     |  \n",
            "     |  __weakref__\n",
            "     |      list of weak references to the object\n",
            "     |  \n",
            "     |  ----------------------------------------------------------------------\n",
            "     |  Data and other attributes defined here:\n",
            "     |  \n",
            "     |  default_classifier_scheme = {'bagging_fraction': 0.8, 'bagging_freq': ...\n",
            "     |  \n",
            "     |  default_cv_scheme = {'cv_method': 'StratifiedKFold', 'n_groups': 2, 'n...\n",
            "     |  \n",
            "     |  default_feature_scheme = {'features': [13, 23, 32, 52, 61], 'max_cull_...\n",
            "     |  \n",
            "     |  default_preproc_scheme = {'model': 'pl_core_news_lg'}\n",
            "     |  \n",
            "     |  default_subsample_scheme = {'sample_length': 800, 'sample_type': 'none...\n",
            "\n",
            "FILE\n",
            "    /content/Wshop-ExplainableStylo/cl_explainable_stylo/base.py\n",
            "\n",
            "\n"
          ]
        }
      ]
    },
    {
      "cell_type": "markdown",
      "metadata": {
        "id": "IGQ59GhXtkoC"
      },
      "source": [
        "## 📁 Example1: two translations\n",
        "\n",
        "Let's start with a simple example of comparing two translations of Joseph Conrad's *Heart of Darkness* into Polish, by Aniela Zagórska (1930) and Jacek Dukaj (2017)."
      ]
    },
    {
      "cell_type": "code",
      "execution_count": 4,
      "metadata": {
        "colab": {
          "base_uri": "https://localhost:8080/"
        },
        "id": "yDw2Vwk1tkoE",
        "outputId": "dd45ddee-89e4-4aa4-8b30-58920966a58f"
      },
      "outputs": [
        {
          "output_type": "stream",
          "name": "stdout",
          "text": [
            "\n",
            "📁 example1 contains 2 .txt files:\n",
            "  📄 Dukaj.txt\n",
            "    Preview:\n",
            "    SERCE CIEMNOŚCI Jacek Dukaj ISBN 978-83-08-06606-5   Wszelka sztuka przemawia przede wszystkim do zmysłów. I także artysta słowa pisanego musi przemaw...\n",
            "  📄 Zagórska.txt\n",
            "    Preview:\n",
            "    Tytuł oryginału: Heart of Darkness Przełożyła: Aniela Zagórska ISBN: 978-83-7779-308-4   I  Jacht krążowniczy „Nellie” obrócił się na kotwicy bez najl...\n"
          ]
        }
      ],
      "source": [
        "import os\n",
        "from glob import glob\n",
        "\n",
        "# 🔍 Find all folders starting with \"example\"\n",
        "# example_dirs = sorted([d for d in os.listdir() if d.startswith(\"example\") and os.path.isdir(d)])\n",
        "# print(f\"Detected folders: {example_dirs}\")\n",
        "\n",
        "# Find and preview all .txt files inside each folder\n",
        "folder = 'example1'\n",
        "txt_files = sorted(glob(os.path.join(folder, \"*/*.txt\")))\n",
        "print(f\"\\n📁 {folder} contains {len(txt_files)} .txt files:\")\n",
        "for path in txt_files:\n",
        "    print(f\"  📄 {os.path.basename(path)}\")\n",
        "    with open(path, \"r\", encoding=\"utf-8\") as f:\n",
        "        preview = f.read(200).strip().replace(\"\\n\", \" \")\n",
        "    print(f\"    Preview:\\n    {preview[:150]}{'...' if len(preview) > 150 else ''}\")"
      ]
    },
    {
      "cell_type": "markdown",
      "source": [
        "### 📄 Text loading and processing"
      ],
      "metadata": {
        "id": "pbt86KGInF-Z"
      }
    },
    {
      "cell_type": "markdown",
      "source": [
        "Before we have prepared a small `.json` file, containing the basic metadata for our first experiment (at this point it might seem a bit redundant)."
      ],
      "metadata": {
        "id": "FSZswEwR1IL1"
      }
    },
    {
      "cell_type": "code",
      "source": [
        "import json\n",
        "from IPython.display import JSON, display\n",
        "\n",
        "# Load the JSON\n",
        "with open('example1/init_metadata.json', 'r', encoding='utf-8') as f:\n",
        "    data = json.load(f)\n",
        "\n",
        "# Display an interactive JSON tree (in Jupyter lab only)\n",
        "display(JSON(data))\n"
      ],
      "metadata": {
        "colab": {
          "base_uri": "https://localhost:8080/",
          "height": 486
        },
        "id": "liyDJB-p1734",
        "outputId": "b1c34848-6ae2-4160-9eba-21a65099f54d"
      },
      "execution_count": 5,
      "outputs": [
        {
          "output_type": "display_data",
          "data": {
            "text/plain": [
              "<IPython.core.display.JSON object>"
            ],
            "application/json": {
              "experiment_name": "example1",
              "labels": [
                "filename",
                "class",
                "author"
              ],
              "files": {
                "filename": [
                  "example1/dukaj/Dukaj.txt",
                  "example1/zagórska/Zagórska.txt"
                ],
                "class": [
                  "dukaj",
                  "zagórska"
                ],
                "author": [
                  "Dukaj",
                  "Zagórska"
                ]
              },
              "preproc_scheme": null,
              "feature_scheme": null,
              "subsample_scheme": null,
              "classifier_params": null,
              "cv_scheme": null
            }
          },
          "metadata": {
            "application/json": {
              "expanded": false,
              "root": "root"
            }
          }
        }
      ]
    },
    {
      "cell_type": "markdown",
      "source": [
        "With these metadata we will initialize the experiment. All the text, results, etc. will be stored in one variable `exp`."
      ],
      "metadata": {
        "id": "I9897X_y4QcS"
      }
    },
    {
      "cell_type": "code",
      "source": [
        "exp = base.explain_style('example1/init_metadata.json',manual = True)"
      ],
      "metadata": {
        "colab": {
          "base_uri": "https://localhost:8080/"
        },
        "id": "yHw5I7ZLv-KL",
        "outputId": "2e924c42-02dc-4413-b841-7f9b5994acf4"
      },
      "execution_count": 6,
      "outputs": [
        {
          "output_type": "stream",
          "name": "stdout",
          "text": [
            "Initialisation metadata loaded from example1/init_metadata.json.\n",
            "Available text labels ['filename', 'class', 'author'].\n",
            "Predefined text classes ['dukaj', 'zagórska'].\n",
            "You are in manual mode. The next steps would be to run in sequence '.texts_load()', '.texts_preprocess()', '.texts_subsample()', '.extract_features()', '.classify()', '.explain()', and then any of the '.plot_...()' methods. If you would like to change the parameters provided in metadata or set by default  ('preproc_scheme', 'subsample_scheme', 'feature_scheme', 'cv_scheme', 'classifier_scheme'), please, load them via '.load_parameter_name()' to avoid incosistent file naming and config saving.\n"
          ]
        }
      ]
    },
    {
      "cell_type": "markdown",
      "source": [
        "Let's follow the instructions and load the text files by calling the method `.texts_load()` on our all-embracing `exp`. After that they will be stored in `exp.texts` (to be exact, these are going to be tuples of text and its metadata)."
      ],
      "metadata": {
        "id": "hvmWI6GX5sjC"
      }
    },
    {
      "cell_type": "code",
      "source": [
        "exp.texts_load()"
      ],
      "metadata": {
        "colab": {
          "base_uri": "https://localhost:8080/",
          "height": 66,
          "referenced_widgets": [
            "4437c02e0d574084854360b457d0b529",
            "2c7edefebfe74fa5b52c29a2cdd5b249",
            "32a259a0f5b94b09b3b9fa59c49a4457",
            "bb792715903e444e82554aad0d4a78bb",
            "bfb1f755d1de460bb9ab9f5c63ed0b89",
            "8b66615719f74cd4b6fbdada46875bf3",
            "8e3228c327964dc287eb076e20e21b64",
            "bf7ea878ee81423b99934fe529b6e07d",
            "d23186dbe8094e88a6bf62829c3c7d79",
            "a4f49f418d07407a853c0b2c9c2dfe9f",
            "99df5b736a4847b2b00f314505e957ae"
          ]
        },
        "id": "-t5q7piB4IsJ",
        "outputId": "d830022c-76d2-4393-94f7-7353e64c4232"
      },
      "execution_count": 7,
      "outputs": [
        {
          "output_type": "stream",
          "name": "stdout",
          "text": [
            "List of labels used: '['filename', 'class', 'author']'.\n"
          ]
        },
        {
          "output_type": "display_data",
          "data": {
            "text/plain": [
              "0it [00:00, ?it/s]"
            ],
            "application/vnd.jupyter.widget-view+json": {
              "version_major": 2,
              "version_minor": 0,
              "model_id": "4437c02e0d574084854360b457d0b529"
            }
          },
          "metadata": {}
        }
      ]
    },
    {
      "cell_type": "markdown",
      "source": [
        "If you have not run spaCy in this notebook before, it will ask your permission to install a language model. It may take a minute to download and install the model. Afterwards, the text processing will commence.\n",
        "\n",
        "[⏱️ Session lifespan in GoogleColab might be from idle ~90 min. to ~12 hrs code running. Every time after the session is over and you start the environment again, all the packages and models need to be loaded again too]."
      ],
      "metadata": {
        "id": "zW9D91ZD6xQT"
      }
    },
    {
      "cell_type": "code",
      "source": [
        "exp.texts_preprocess()"
      ],
      "metadata": {
        "colab": {
          "base_uri": "https://localhost:8080/",
          "height": 327,
          "referenced_widgets": [
            "21c49226c1114594a50555f1587ac261",
            "229ed3a8ae034ed8a57da0d6276b8af4",
            "7e4d5a66453c487daf9b84bbd0fc193e",
            "d60c0dcbf3ba414583b1cc3455edbd95",
            "fc4dd44a6513405cae5f482b24dc9d6b",
            "4c92ddc0900b42dda62dcdf77970fd1e",
            "fa2342c3651c4fcbba2282da3c4ac4de",
            "82947e27f1e240cc943587d1913a9ae5",
            "a4a31b9711344952a1fdd6284eafb4c0",
            "bd034588aa10493887fda57da1485641",
            "e188e00be22c47bcad12e86c0a6a1d8e"
          ]
        },
        "id": "_VH5xQTm6rby",
        "outputId": "9037cfd3-c467-4fbe-da6f-11da2a111f57"
      },
      "execution_count": 8,
      "outputs": [
        {
          "output_type": "stream",
          "name": "stdout",
          "text": [
            "Default folder 'explain_example1/subsamples_none_800' created.\n",
            "Labels ['filename', 'class', 'author'] will be now accessible in documents via 'document._.label'.\n",
            "Checking if the model is available...\n",
            "The pl_core_news_lg is available from Spacy models.\n",
            "Spacy model not installed.\n",
            " Would you like to install it now: [y/n]y\n",
            "\u001b[38;5;2m✔ Download and installation successful\u001b[0m\n",
            "You can now load the package via spacy.load('pl_core_news_lg')\n",
            "\u001b[38;5;3m⚠ Restart to reload dependencies\u001b[0m\n",
            "If you are in a Jupyter or Colab notebook, you may need to restart Python in\n",
            "order to load all the package's dependencies. You can do this by selecting the\n",
            "'Restart kernel' or 'Restart runtime' option.\n",
            "Number of documents provided: 2.\n"
          ]
        },
        {
          "output_type": "display_data",
          "data": {
            "text/plain": [
              "0it [00:00, ?it/s]"
            ],
            "application/vnd.jupyter.widget-view+json": {
              "version_major": 2,
              "version_minor": 0,
              "model_id": "21c49226c1114594a50555f1587ac261"
            }
          },
          "metadata": {}
        },
        {
          "output_type": "stream",
          "name": "stdout",
          "text": [
            "Documents saved as explain_example1/subsamples_none_800/docs.spacy.\n",
            "They can be reloaded with '.docs_load(filename)'.\n",
            "Preprocessing parameters saved as 'explain_example1/subsamples_none_800/config_preproc_scheme.json'. It can be reloaded with '.load_params_preproc(filename)'.\n"
          ]
        }
      ]
    },
    {
      "cell_type": "markdown",
      "source": [
        "If you are running the code locally, you will notice some new\n",
        "\n",
        "*   folders, e.g., `explain_example1/` - referring to the given experiment\n",
        "*   subfolders, e.g., `subsamples_none_800` - referring to some preprocessing parameters related to segmenting the texts into smaller chunks\n",
        "*   config files, e.g., `config_*.json` - containing Python dictionaries listing all the settings and parameters (currently the default ones)\n",
        "*   data files, e.g., `docs.spacy` - texts already processed by spaCy\n",
        "\n",
        "They are supposed to store for your later reference the processing steps you have taken and allow you reloading intermediate steps of the analysis."
      ],
      "metadata": {
        "id": "dAFUdsK37enU"
      }
    },
    {
      "cell_type": "markdown",
      "source": [
        "Now, you have your `exp.docs` ready in memory. But let's assume that you are working on your own laptop and want to reload them tomorrow...\n",
        "```\n",
        "exp.docs_load(filename = 'docs.spacy')\n",
        "# This looks for 'docs.spacy' in your experiment's directory 'explain_example1/subsamples_none_800/'\n",
        "# This is a default name, so you do not need to indicate the filename:\n",
        "# exp.docs_load()\n",
        "```"
      ],
      "metadata": {
        "id": "4aFivAiWnuAT"
      }
    },
    {
      "cell_type": "code",
      "source": [
        "print(f\"You've got {len(exp.docs)} texts ready.\\n\"\n",
        "f\"The first author is {exp.docs[0]._.author}, and the second {exp.docs[1]._.author}.\")"
      ],
      "metadata": {
        "colab": {
          "base_uri": "https://localhost:8080/"
        },
        "id": "vzdP5M_lo_-9",
        "outputId": "44285253-d693-4719-9951-fc8f8fb25806"
      },
      "execution_count": 9,
      "outputs": [
        {
          "output_type": "stream",
          "name": "stdout",
          "text": [
            "You've got 2 texts ready.\n",
            "The first author is Dukaj, and the second Zagórska.\n"
          ]
        }
      ]
    },
    {
      "cell_type": "markdown",
      "source": [
        "This is rather few texts per author. The classifier won't have much to go on with later.\n",
        "\n",
        "So let's 🪓🪓🪓 these beautiful pieces of literature into smaller chunks to get more samples.\n",
        "\n",
        "Currently implemented choices of `sample_type` are:\n",
        "- `'none'` - no chunking\n",
        "- `'t'` - segments defined by their number of tokens\n",
        "- `'s'` - segments defined by their number of sentences (as defined by spaCy)\n",
        "- `'ts'` - segments defined by their number of tokens, but make sure they don't cut sentences in half."
      ],
      "metadata": {
        "id": "DdEr__ISqxhl"
      }
    },
    {
      "cell_type": "code",
      "source": [
        "exp.subsample_scheme = {'sample_type': 'ts', 'sample_length': 200}\n",
        "exp.texts_subsample()\n",
        "print(f\"Samples 1-150 are {exp.docs_subsampled[0]._.author}'s, and 151-351 are {exp.docs_subsampled[170]._.author}'s.\")"
      ],
      "metadata": {
        "colab": {
          "base_uri": "https://localhost:8080/",
          "height": 101,
          "referenced_widgets": [
            "7c0c79405214470eac3ef1ff9eb908a6",
            "4a82187b035e4a8f83832a2c3b9f718b",
            "19da3cadd1fe4189abf66f6f949f6daf",
            "90d3972042b24ca19ca4a5ca9cbac122",
            "e12a79ed64544aac9866d2383b148b1f",
            "b2dd716b8a994051a858e022fa73a749",
            "84b572ae49e7451581021333dd6beb0c",
            "5d5ab0a5fdd74dc9910a2584e83bfdc4",
            "13a56bb9447a40c3b2c4256b17e4d85e",
            "298fa76f8d084c76bfb0723b6ed6617e",
            "1b7fabb3cb994a0ea36edf9bef042683"
          ]
        },
        "id": "f8NG7t0zqxLL",
        "outputId": "59dff690-1159-4307-93f7-75685eaceca3"
      },
      "execution_count": 10,
      "outputs": [
        {
          "output_type": "stream",
          "name": "stdout",
          "text": [
            "'subsample_scheme' changed to '{'sample_type': 'ts', 'sample_length': 200}'.\n"
          ]
        },
        {
          "output_type": "display_data",
          "data": {
            "text/plain": [
              "  0%|          | 0/2 [00:00<?, ?it/s]"
            ],
            "application/vnd.jupyter.widget-view+json": {
              "version_major": 2,
              "version_minor": 0,
              "model_id": "7c0c79405214470eac3ef1ff9eb908a6"
            }
          },
          "metadata": {}
        },
        {
          "output_type": "stream",
          "name": "stdout",
          "text": [
            "Number of text samples produced: 351.\n",
            "Samples 1-150 are Dukaj's, and 151-351 are Zagórska's.\n"
          ]
        }
      ]
    },
    {
      "cell_type": "markdown",
      "source": [
        "### 🔬 Feature extraction"
      ],
      "metadata": {
        "id": "hEj7qB5yxhov"
      }
    },
    {
      "cell_type": "markdown",
      "source": [
        "This is how our text samples look now:"
      ],
      "metadata": {
        "id": "M66ruMp2zDAD"
      }
    },
    {
      "cell_type": "code",
      "source": [
        "from IPython.display import display, HTML\n",
        "sample = exp.docs_subsampled[153]\n",
        "display(HTML(f\"<pre style='white-space:pre-wrap'>{sample}</pre>\"))"
      ],
      "metadata": {
        "colab": {
          "base_uri": "https://localhost:8080/",
          "height": 138
        },
        "id": "SO5_Y1POquNq",
        "outputId": "f2d81be1-9be1-4c51-afd9-c75a19536d1d"
      },
      "execution_count": 11,
      "outputs": [
        {
          "output_type": "display_data",
          "data": {
            "text/plain": [
              "<IPython.core.display.HTML object>"
            ],
            "text/html": [
              "<pre style='white-space:pre-wrap'>Stara rzeka, rozlana szeroko, wypoczywała bez ruchu u schyłku dnia – po całych wiekach dzielnej służby u rasy zaludniającej jej brzegi – rozpostarta spokojnie w swej godności wodnego szlaku, wiodącego do najdalszych krańców ziemi. Nie patrzyliśmy na czcigodną rzekę przelotnym spojrzeniem krótkiego dnia, który zjawia się i odchodzi na zawsze, ale widzieliśmy ją w dostojnym świetle trwałych wspomnień. I zaiste, nic łatwiejszego dla ludzi, którzy – jak to się mówi – „poświęcili się morzu” z szacunkiem i przywiązaniem, niż wywołać wielkiego ducha przeszłości na przymorskim obszarze Tamizy. Przypływ i odpływ biegną tam i z powrotem w nieustającej służbie, przepełnione wspomnieniami o okrętach i ludziach, których niosły ku domowemu wytchnieniu lub ku walkom na morzach. Prądy te znały wszystkich mężów, którymi szczyci się naród, i służyły im wszystkim – od sir Francisa Drake’a do sir Johna Franklina – rycerzom utytułowanym lub nie, wielkim, błędnym rycerzom morza. </pre>"
            ]
          },
          "metadata": {}
        }
      ]
    },
    {
      "cell_type": "markdown",
      "source": [
        "But spaCy gives you plenty of annotation, e.g.:"
      ],
      "metadata": {
        "id": "rawn65zrzIRK"
      }
    },
    {
      "cell_type": "code",
      "source": [
        "print(f\"Lemmas: {[token.lemma_ for token in sample[-20:]]}\")\n",
        "print(f\"Categories of named entities: {[token.ent_type_ for token in sample[-20:]]}\")\n",
        "print(f\"Part-of-speech tags: {[token.pos_ for token in sample[-20:]]}\")\n",
        "print(f\"Dependency tags: {[token.dep_ for token in sample[-20:]]}\")"
      ],
      "metadata": {
        "colab": {
          "base_uri": "https://localhost:8080/"
        },
        "id": "ETT4cvwxzjQ1",
        "outputId": "87c5675e-ae26-40ec-db86-d7b572ed45ca"
      },
      "execution_count": 12,
      "outputs": [
        {
          "output_type": "stream",
          "name": "stdout",
          "text": [
            "Lemmas: ['Francis', 'Drake', '’', 'a', 'do', 'sir', 'John', 'Franklin', '–', 'rycerz', 'utytułowany', 'lub', 'nie', ',', 'wielki', ',', 'błędny', 'rycerz', 'morze', '.']\n",
            "Categories of named entities: ['persName', 'persName', '', '', '', '', 'persName', 'persName', '', '', '', '', '', '', '', '', '', '', '', '']\n",
            "Part-of-speech tags: ['PROPN', 'PROPN', 'PROPN', 'PROPN', 'ADP', 'NOUN', 'PROPN', 'PROPN', 'PUNCT', 'NOUN', 'ADJ', 'CCONJ', 'PART', 'PUNCT', 'ADJ', 'PUNCT', 'ADJ', 'NOUN', 'NOUN', 'PUNCT']\n",
            "Dependency tags: ['appos', 'flat', 'punct', 'fixed', 'case', 'nmod', 'appos', 'flat', 'punct', 'appos', 'amod', 'cc', 'conj', 'punct', 'amod', 'punct', 'conj', 'conj', 'nmod', 'punct']\n"
          ]
        }
      ]
    },
    {
      "cell_type": "markdown",
      "source": [
        "You can utilise many of these as features for the classifier, and later as features that will explain differences between text styles.\n",
        "\n",
        "A longer list is given below (in the `feature_extraction` module of our package):"
      ],
      "metadata": {
        "id": "bPhA9tME1WYg"
      }
    },
    {
      "cell_type": "code",
      "source": [
        "from cl_explainable_stylo import feature_extraction\n",
        "help(feature_extraction.count_features)"
      ],
      "metadata": {
        "colab": {
          "base_uri": "https://localhost:8080/"
        },
        "id": "dqt_3kDn1b9d",
        "outputId": "4873e983-9947-4ae4-d693-06da2e8cfac9"
      },
      "execution_count": 13,
      "outputs": [
        {
          "output_type": "stream",
          "name": "stdout",
          "text": [
            "Help on function count_features in module cl_explainable_stylo.feature_extraction:\n",
            "\n",
            "count_features(docs, feature_scheme={'features': [13, 23, 30, 52], 'max_features': 1000, 'n_grams_word': (1, 3), 'n_grams_pos': (1, 3), 'n_grams_dep': (1, 3), 'n_grams_morph': (1, 1), 'min_cull_word': 0.0, 'max_cull_word': 1.0, 'min_cull_d2': 0.0, 'max_cull_d2': 1.0, 'remove_duplicates': True}, verbose=0, tqdm_propagate=False)\n",
            "    Count the features in the given documents.\n",
            "    \n",
            "    Parameters\n",
            "    ----------\n",
            "    docs : spacy.tokens.doc.Doc or spacy.tokens.span.Span or list\n",
            "        A single `spacy.tokens.doc.Doc` object or `spacy.tokens.span.Span` or a list of such objects representing the documents.\n",
            "    features : int or list\n",
            "        A single integer or a list of integers representing the features to count.\n",
            "    max_features : int, optional\n",
            "        The maximum number of features to consider (default is 1000).\n",
            "    n_grams_word : tuple, optional\n",
            "        The n-gram range for word features (default is (1, 3)).\n",
            "    n_grams_pos : tuple, optional\n",
            "        The n-gram range for POS features (default is (1, 3)).\n",
            "    n_grams_dep : tuple, optional\n",
            "        The n-gram range for dependency features (default is (1, 3)).\n",
            "    n_grams_morph : tuple, optional\n",
            "        The n-gram range for morphological features (default is (1, 1)).\n",
            "    min_cull_word : int, optional\n",
            "        The minimum document frequency threshold for token (word/lemma) features (default is 0). Ignores features that have a document frequency strictly lower than the given threshold.\n",
            "    max_cull_word : int, optional\n",
            "        The maximum document frequency threshold for token (word/lemma) features (default is 1). Ignores features that have a document frequency strictly higher than the given threshold.\n",
            "    min_cull_d2 : int, optional\n",
            "        The minimum document frequency threshold for dependency features (default is 0).\n",
            "    max_cull_d2 : int, optional\n",
            "        The maximum document frequency threshold for dependency features (default is 1).\n",
            "    remove_duplicates : bool, optional\n",
            "        Remove feature duplicates resulting from different feature types (default is True).\n",
            "    verbose : int, optional\n",
            "        Verbosity level (0: all messages, 1: warnings, 2: no messages) (default is 0).\n",
            "    tqdm_propagate : bool, optional\n",
            "        Display tqdm progress bars for functions called from within count_features (default is False).\n",
            "    \n",
            "    Returns\n",
            "    -------\n",
            "    tuple\n",
            "        A tuple containing the feature names and the feature matrix.\n",
            "        - feature_names : list\n",
            "            A list of feature names formatted as 'FeatureName_FeatureTypeID'.\n",
            "        - dfX : pandas.DataFrame\n",
            "            A DataFrame representing the feature matrix.\n",
            "    \n",
            "    Notes\n",
            "    -----\n",
            "    The function supports counting the same types of features as `choose_features()`.\n",
            "    Available feature IDs and their corresponding types:\n",
            "    - Tokens:\n",
            "        - 10: Select all words.\n",
            "        - 11: Select all lemmas.\n",
            "        - 12: Select non-NER words, replacing named entities with their entity type.\n",
            "        - 13: Select non-NER lemmas.\n",
            "    - Token N-grams, dependency-based:\n",
            "        - 20: Select all words and punctuation (excluding numerals) in dependency-based bigrams.\n",
            "        - 21: Select all lemmas in dependency-based bigrams.\n",
            "        - 22: Select non-NER words in dependency-based bigrams, replacing named entities with their entity type.\n",
            "        - 23: Select non-NER lemmas in dependency-based bigrams, replacing named entities with their entity type.\n",
            "    - Part-of-speech tags:\n",
            "        - 30: Select all parts of speech.\n",
            "        - 31: Select parts of speech without punctuation.\n",
            "        - 32: Select parts of speech without 'SPACE'.\n",
            "    - Dependency-based tags:\n",
            "        - 40: Select dependency labels without punctuation.\n",
            "    - Morphology annotation:\n",
            "        - 50: Select morphology annotations with punctuation.\n",
            "        - 52: Select non-NER morphology annotations, replacing named entities with their entity type.\n",
            "    - Named entities:\n",
            "        - 60: Select NER types.\n",
            "        - 61: Select all named entities.\n",
            "    - Invalid feature IDs will be skipped, and a warning message will be displayed if `verbose` is set to 0 or 1.\n",
            "    \n",
            "    Example situation where removing duplicates might be needed:\n",
            "    - Suppose that in a given corpus the feature 'PronType=Prs|Reflex=Yes_50' is always realised with 'się_10' (word) and the corresponding 'się_11' (lemma). These three features will be reduced to one.\n",
            "    - A specific POS 5-gram has only one corresponding word 5-gram realisation.\n",
            "\n"
          ]
        }
      ]
    },
    {
      "cell_type": "markdown",
      "source": [
        "You choose from the above the ones that you consider potentially useful.\n",
        "\n",
        "The default settings are defined in `exp.default_feature_scheme`,\n",
        "and the currently used settings are stored in `exp.feature_scheme`, which you can modify.\n",
        "\n",
        "🥼 Currently, the pipeline is implemented to work with _spaCy_.  If have your own annotations, you have to extract them as features on your own. But you can still use them in later steps."
      ],
      "metadata": {
        "id": "mmEKedXg2NJv"
      }
    },
    {
      "cell_type": "code",
      "source": [
        "exp.default_feature_scheme"
      ],
      "metadata": {
        "colab": {
          "base_uri": "https://localhost:8080/"
        },
        "id": "9MT4IukH2Kno",
        "outputId": "a435dd99-5793-4f80-ef62-bc55959b9e63"
      },
      "execution_count": 14,
      "outputs": [
        {
          "output_type": "execute_result",
          "data": {
            "text/plain": [
              "{'features': [13, 23, 32, 52, 61],\n",
              " 'max_features': 1000,\n",
              " 'n_grams_word': (1, 3),\n",
              " 'n_grams_pos': (1, 3),\n",
              " 'n_grams_dep': (1, 3),\n",
              " 'n_grams_morph': (1, 1),\n",
              " 'min_cull_word': 0.0,\n",
              " 'max_cull_word': 1.0,\n",
              " 'min_cull_d2': 0.0,\n",
              " 'max_cull_d2': 1.0,\n",
              " 'remove_duplicates': False}"
            ]
          },
          "metadata": {},
          "execution_count": 14
        }
      ]
    },
    {
      "cell_type": "code",
      "source": [
        "exp.feature_scheme['max_features']=500\n",
        "exp.feature_scheme"
      ],
      "metadata": {
        "colab": {
          "base_uri": "https://localhost:8080/"
        },
        "id": "88RjKvUJ21Gg",
        "outputId": "e9c0394c-b1bb-4102-f072-afe75659eb3b"
      },
      "execution_count": 15,
      "outputs": [
        {
          "output_type": "execute_result",
          "data": {
            "text/plain": [
              "{'features': [13, 23, 32, 52, 61],\n",
              " 'max_features': 500,\n",
              " 'n_grams_word': (1, 3),\n",
              " 'n_grams_pos': (1, 3),\n",
              " 'n_grams_dep': (1, 3),\n",
              " 'n_grams_morph': (1, 1),\n",
              " 'min_cull_word': 0.0,\n",
              " 'max_cull_word': 1.0,\n",
              " 'min_cull_d2': 0.0,\n",
              " 'max_cull_d2': 1.0,\n",
              " 'remove_duplicates': False}"
            ]
          },
          "metadata": {},
          "execution_count": 15
        }
      ]
    },
    {
      "cell_type": "markdown",
      "source": [
        "Now, let the machine do some heavy lifting for us:"
      ],
      "metadata": {
        "id": "uRyFphvt3Vdr"
      }
    },
    {
      "cell_type": "code",
      "source": [
        "exp.extract_features(save_to_file=True)"
      ],
      "metadata": {
        "colab": {
          "base_uri": "https://localhost:8080/",
          "height": 243,
          "referenced_widgets": [
            "58b061aa78a845888eaec057baac143a",
            "8a9f3ddd3dd345a2a61ec783587755d3",
            "3db45d31c5614da1a363e07b363e9c6f",
            "f8923c3eea2443ba91046a9ce392a2ee",
            "e7ace7d6f0064486843d1e40e0c2b858",
            "469d8ba991b443508580df5bef7c2a27",
            "c3f7948cc545450ebf6d46a2f16888d7",
            "69a351a2a80f4b85b62cbf5dc2b66889",
            "1d8c7e11660443659afbdd04a70534b0",
            "f9d19699ebc04e4aa47bef7f00562fc3",
            "0480216714af485996bb134a6c4e60fe"
          ]
        },
        "id": "4KaEAA3o3Zpb",
        "outputId": "45da6954-0400-46da-97b2-73c4805279df"
      },
      "execution_count": 16,
      "outputs": [
        {
          "output_type": "stream",
          "name": "stdout",
          "text": [
            "Number of documents provided: 351.\n",
            "Features to be extracted: [13, 23, 32, 52, 61].\n"
          ]
        },
        {
          "output_type": "display_data",
          "data": {
            "text/plain": [
              "  0%|          | 0/5 [00:00<?, ?it/s]"
            ],
            "application/vnd.jupyter.widget-view+json": {
              "version_major": 2,
              "version_minor": 0,
              "model_id": "58b061aa78a845888eaec057baac143a"
            }
          },
          "metadata": {}
        },
        {
          "output_type": "stream",
          "name": "stdout",
          "text": [
            "-- Extracting non-NER lemmas (replacing named entities with their entity type).\n",
            "-- Extracting dependency-based non-NER lemma bigrams (including punctuation, excluding numerals, replacing named entities with their entity type).\n",
            "-- Extracting all parts of speech (no punctuation).\n",
            "-- Extracting morphology annotations with punctuation (replacing named entities with their entity type).\n",
            "-- Extracting all named entities.\n",
            "Default folder 'explain_example1/subsamples_ts_200' created.\n",
            "Feature extraction parameters saved as 'explain_example1/subsamples_ts_200/config_feature_scheme.json'. It can be reloaded with '.load_params_feature(filename)'.\n",
            "'.feature_dataframe' saved as 'explain_example1/subsamples_ts_200/features.csv'. It can be reloaded with '.features_load(filename)'.\n"
          ]
        }
      ]
    },
    {
      "cell_type": "markdown",
      "source": [
        "The table (samples x features) is going to be saved as a `.csv` file, which can later be reloaded with\n",
        "```\n",
        "exp.features_load(filename = 'features.csv')\n",
        "```\n",
        "Our all-encompassing variable `exp` now contains also that table `exp.feature_dataframe` encoded as a _Pandas_ `DataFrame`.\n",
        "\n",
        "⚠️ It can grow rather **BIG**, ~100 MB and more, depending on the size of your corpus and the number of features.\n",
        "\n",
        "⚠️ The folder for storage is named after the subsampling settings: `subsamples_ts_200`. If you make multiple experiments with different subsampling settings, they are going to be stored separately. If you make experiments with different `.feature_scheme` settings, they might overwrite or produce `features_1.csv`, `features_2.csv`, etc. (with corresponding `config_*_1.json`, `config_*_2.json`, ..., files).\n"
      ],
      "metadata": {
        "id": "tmGgFLfD3e7P"
      }
    },
    {
      "cell_type": "code",
      "source": [
        "exp.feature_dataframe"
      ],
      "metadata": {
        "colab": {
          "base_uri": "https://localhost:8080/",
          "height": 461
        },
        "id": "0P1ZfvFC3dsv",
        "outputId": "1a924e88-7156-4360-9d35-210b6df8a8f3"
      },
      "execution_count": 17,
      "outputs": [
        {
          "output_type": "execute_result",
          "data": {
            "text/plain": [
              "     aby_13  ach_13  agent_13  albo_13  ale_13  ale nie_13  ani_13  aż_13  \\\n",
              "0       0.0     0.0       0.0      0.0     0.0         0.0     0.0    1.0   \n",
              "1       0.0     0.0       0.0      0.0     0.0         0.0     1.0    0.0   \n",
              "2       0.0     0.0       0.0      0.0     0.0         0.0     0.0    0.0   \n",
              "3       0.0     0.0       0.0      0.0     1.0         0.0     0.0    0.0   \n",
              "4       0.0     0.0       0.0      1.0     0.0         0.0     0.0    0.0   \n",
              "..      ...     ...       ...      ...     ...         ...     ...    ...   \n",
              "346     0.0     0.0       0.0      0.0     1.0         0.0     0.0    0.0   \n",
              "347     2.0     0.0       0.0      0.0     0.0         0.0     0.0    0.0   \n",
              "348     0.0     0.0       0.0      0.0     2.0         0.0     0.0    0.0   \n",
              "349     0.0     1.0       0.0      0.0     1.0         0.0     0.0    0.0   \n",
              "350     3.0     0.0       0.0      0.0     1.0         0.0     0.0    1.0   \n",
              "\n",
              "     bardzo_13  bez_13  ...  wschodnioindyjskiej_61  wtajemniczy_61  \\\n",
              "0          0.0     0.0  ...                     0.0             0.0   \n",
              "1          0.0     1.0  ...                     0.0             0.0   \n",
              "2          0.0     0.0  ...                     0.0             0.0   \n",
              "3          1.0     0.0  ...                     0.0             0.0   \n",
              "4          0.0     0.0  ...                     0.0             0.0   \n",
              "..         ...     ...  ...                     ...             ...   \n",
              "346        0.0     0.0  ...                     0.0             0.0   \n",
              "347        3.0     0.0  ...                     0.0             0.0   \n",
              "348        0.0     0.0  ...                     0.0             0.0   \n",
              "349        1.0     0.0  ...                     0.0             0.0   \n",
              "350        0.0     0.0  ...                     0.0             0.0   \n",
              "\n",
              "     wygraża_61  wylornetkowałem_61  zamorskiego_61  Ósma_61  ósmej_61  \\\n",
              "0           0.0                 0.0             0.0      0.0       0.0   \n",
              "1           0.0                 0.0             0.0      0.0       0.0   \n",
              "2           0.0                 0.0             0.0      0.0       0.0   \n",
              "3           0.0                 0.0             0.0      0.0       0.0   \n",
              "4           0.0                 0.0             0.0      0.0       0.0   \n",
              "..          ...                 ...             ...      ...       ...   \n",
              "346         0.0                 0.0             0.0      0.0       0.0   \n",
              "347         0.0                 0.0             0.0      0.0       0.0   \n",
              "348         0.0                 0.0             0.0      0.0       0.0   \n",
              "349         0.0                 0.0             0.0      0.0       0.0   \n",
              "350         0.0                 0.0             0.0      0.0       0.0   \n",
              "\n",
              "     Łódź_61  Śródziemnego_61  Śródziemnym_61  \n",
              "0        0.0              0.0             0.0  \n",
              "1        0.0              0.0             0.0  \n",
              "2        0.0              0.0             0.0  \n",
              "3        0.0              1.0             0.0  \n",
              "4        0.0              0.0             0.0  \n",
              "..       ...              ...             ...  \n",
              "346      0.0              0.0             0.0  \n",
              "347      0.0              0.0             0.0  \n",
              "348      0.0              0.0             0.0  \n",
              "349      0.0              0.0             0.0  \n",
              "350      0.0              0.0             0.0  \n",
              "\n",
              "[351 rows x 2317 columns]"
            ],
            "text/html": [
              "\n",
              "  <div id=\"df-8d01c99f-fae8-4cc0-84f3-cedffc66a3b0\" class=\"colab-df-container\">\n",
              "    <div>\n",
              "<style scoped>\n",
              "    .dataframe tbody tr th:only-of-type {\n",
              "        vertical-align: middle;\n",
              "    }\n",
              "\n",
              "    .dataframe tbody tr th {\n",
              "        vertical-align: top;\n",
              "    }\n",
              "\n",
              "    .dataframe thead th {\n",
              "        text-align: right;\n",
              "    }\n",
              "</style>\n",
              "<table border=\"1\" class=\"dataframe\">\n",
              "  <thead>\n",
              "    <tr style=\"text-align: right;\">\n",
              "      <th></th>\n",
              "      <th>aby_13</th>\n",
              "      <th>ach_13</th>\n",
              "      <th>agent_13</th>\n",
              "      <th>albo_13</th>\n",
              "      <th>ale_13</th>\n",
              "      <th>ale nie_13</th>\n",
              "      <th>ani_13</th>\n",
              "      <th>aż_13</th>\n",
              "      <th>bardzo_13</th>\n",
              "      <th>bez_13</th>\n",
              "      <th>...</th>\n",
              "      <th>wschodnioindyjskiej_61</th>\n",
              "      <th>wtajemniczy_61</th>\n",
              "      <th>wygraża_61</th>\n",
              "      <th>wylornetkowałem_61</th>\n",
              "      <th>zamorskiego_61</th>\n",
              "      <th>Ósma_61</th>\n",
              "      <th>ósmej_61</th>\n",
              "      <th>Łódź_61</th>\n",
              "      <th>Śródziemnego_61</th>\n",
              "      <th>Śródziemnym_61</th>\n",
              "    </tr>\n",
              "  </thead>\n",
              "  <tbody>\n",
              "    <tr>\n",
              "      <th>0</th>\n",
              "      <td>0.0</td>\n",
              "      <td>0.0</td>\n",
              "      <td>0.0</td>\n",
              "      <td>0.0</td>\n",
              "      <td>0.0</td>\n",
              "      <td>0.0</td>\n",
              "      <td>0.0</td>\n",
              "      <td>1.0</td>\n",
              "      <td>0.0</td>\n",
              "      <td>0.0</td>\n",
              "      <td>...</td>\n",
              "      <td>0.0</td>\n",
              "      <td>0.0</td>\n",
              "      <td>0.0</td>\n",
              "      <td>0.0</td>\n",
              "      <td>0.0</td>\n",
              "      <td>0.0</td>\n",
              "      <td>0.0</td>\n",
              "      <td>0.0</td>\n",
              "      <td>0.0</td>\n",
              "      <td>0.0</td>\n",
              "    </tr>\n",
              "    <tr>\n",
              "      <th>1</th>\n",
              "      <td>0.0</td>\n",
              "      <td>0.0</td>\n",
              "      <td>0.0</td>\n",
              "      <td>0.0</td>\n",
              "      <td>0.0</td>\n",
              "      <td>0.0</td>\n",
              "      <td>1.0</td>\n",
              "      <td>0.0</td>\n",
              "      <td>0.0</td>\n",
              "      <td>1.0</td>\n",
              "      <td>...</td>\n",
              "      <td>0.0</td>\n",
              "      <td>0.0</td>\n",
              "      <td>0.0</td>\n",
              "      <td>0.0</td>\n",
              "      <td>0.0</td>\n",
              "      <td>0.0</td>\n",
              "      <td>0.0</td>\n",
              "      <td>0.0</td>\n",
              "      <td>0.0</td>\n",
              "      <td>0.0</td>\n",
              "    </tr>\n",
              "    <tr>\n",
              "      <th>2</th>\n",
              "      <td>0.0</td>\n",
              "      <td>0.0</td>\n",
              "      <td>0.0</td>\n",
              "      <td>0.0</td>\n",
              "      <td>0.0</td>\n",
              "      <td>0.0</td>\n",
              "      <td>0.0</td>\n",
              "      <td>0.0</td>\n",
              "      <td>0.0</td>\n",
              "      <td>0.0</td>\n",
              "      <td>...</td>\n",
              "      <td>0.0</td>\n",
              "      <td>0.0</td>\n",
              "      <td>0.0</td>\n",
              "      <td>0.0</td>\n",
              "      <td>0.0</td>\n",
              "      <td>0.0</td>\n",
              "      <td>0.0</td>\n",
              "      <td>0.0</td>\n",
              "      <td>0.0</td>\n",
              "      <td>0.0</td>\n",
              "    </tr>\n",
              "    <tr>\n",
              "      <th>3</th>\n",
              "      <td>0.0</td>\n",
              "      <td>0.0</td>\n",
              "      <td>0.0</td>\n",
              "      <td>0.0</td>\n",
              "      <td>1.0</td>\n",
              "      <td>0.0</td>\n",
              "      <td>0.0</td>\n",
              "      <td>0.0</td>\n",
              "      <td>1.0</td>\n",
              "      <td>0.0</td>\n",
              "      <td>...</td>\n",
              "      <td>0.0</td>\n",
              "      <td>0.0</td>\n",
              "      <td>0.0</td>\n",
              "      <td>0.0</td>\n",
              "      <td>0.0</td>\n",
              "      <td>0.0</td>\n",
              "      <td>0.0</td>\n",
              "      <td>0.0</td>\n",
              "      <td>1.0</td>\n",
              "      <td>0.0</td>\n",
              "    </tr>\n",
              "    <tr>\n",
              "      <th>4</th>\n",
              "      <td>0.0</td>\n",
              "      <td>0.0</td>\n",
              "      <td>0.0</td>\n",
              "      <td>1.0</td>\n",
              "      <td>0.0</td>\n",
              "      <td>0.0</td>\n",
              "      <td>0.0</td>\n",
              "      <td>0.0</td>\n",
              "      <td>0.0</td>\n",
              "      <td>0.0</td>\n",
              "      <td>...</td>\n",
              "      <td>0.0</td>\n",
              "      <td>0.0</td>\n",
              "      <td>0.0</td>\n",
              "      <td>0.0</td>\n",
              "      <td>0.0</td>\n",
              "      <td>0.0</td>\n",
              "      <td>0.0</td>\n",
              "      <td>0.0</td>\n",
              "      <td>0.0</td>\n",
              "      <td>0.0</td>\n",
              "    </tr>\n",
              "    <tr>\n",
              "      <th>...</th>\n",
              "      <td>...</td>\n",
              "      <td>...</td>\n",
              "      <td>...</td>\n",
              "      <td>...</td>\n",
              "      <td>...</td>\n",
              "      <td>...</td>\n",
              "      <td>...</td>\n",
              "      <td>...</td>\n",
              "      <td>...</td>\n",
              "      <td>...</td>\n",
              "      <td>...</td>\n",
              "      <td>...</td>\n",
              "      <td>...</td>\n",
              "      <td>...</td>\n",
              "      <td>...</td>\n",
              "      <td>...</td>\n",
              "      <td>...</td>\n",
              "      <td>...</td>\n",
              "      <td>...</td>\n",
              "      <td>...</td>\n",
              "      <td>...</td>\n",
              "    </tr>\n",
              "    <tr>\n",
              "      <th>346</th>\n",
              "      <td>0.0</td>\n",
              "      <td>0.0</td>\n",
              "      <td>0.0</td>\n",
              "      <td>0.0</td>\n",
              "      <td>1.0</td>\n",
              "      <td>0.0</td>\n",
              "      <td>0.0</td>\n",
              "      <td>0.0</td>\n",
              "      <td>0.0</td>\n",
              "      <td>0.0</td>\n",
              "      <td>...</td>\n",
              "      <td>0.0</td>\n",
              "      <td>0.0</td>\n",
              "      <td>0.0</td>\n",
              "      <td>0.0</td>\n",
              "      <td>0.0</td>\n",
              "      <td>0.0</td>\n",
              "      <td>0.0</td>\n",
              "      <td>0.0</td>\n",
              "      <td>0.0</td>\n",
              "      <td>0.0</td>\n",
              "    </tr>\n",
              "    <tr>\n",
              "      <th>347</th>\n",
              "      <td>2.0</td>\n",
              "      <td>0.0</td>\n",
              "      <td>0.0</td>\n",
              "      <td>0.0</td>\n",
              "      <td>0.0</td>\n",
              "      <td>0.0</td>\n",
              "      <td>0.0</td>\n",
              "      <td>0.0</td>\n",
              "      <td>3.0</td>\n",
              "      <td>0.0</td>\n",
              "      <td>...</td>\n",
              "      <td>0.0</td>\n",
              "      <td>0.0</td>\n",
              "      <td>0.0</td>\n",
              "      <td>0.0</td>\n",
              "      <td>0.0</td>\n",
              "      <td>0.0</td>\n",
              "      <td>0.0</td>\n",
              "      <td>0.0</td>\n",
              "      <td>0.0</td>\n",
              "      <td>0.0</td>\n",
              "    </tr>\n",
              "    <tr>\n",
              "      <th>348</th>\n",
              "      <td>0.0</td>\n",
              "      <td>0.0</td>\n",
              "      <td>0.0</td>\n",
              "      <td>0.0</td>\n",
              "      <td>2.0</td>\n",
              "      <td>0.0</td>\n",
              "      <td>0.0</td>\n",
              "      <td>0.0</td>\n",
              "      <td>0.0</td>\n",
              "      <td>0.0</td>\n",
              "      <td>...</td>\n",
              "      <td>0.0</td>\n",
              "      <td>0.0</td>\n",
              "      <td>0.0</td>\n",
              "      <td>0.0</td>\n",
              "      <td>0.0</td>\n",
              "      <td>0.0</td>\n",
              "      <td>0.0</td>\n",
              "      <td>0.0</td>\n",
              "      <td>0.0</td>\n",
              "      <td>0.0</td>\n",
              "    </tr>\n",
              "    <tr>\n",
              "      <th>349</th>\n",
              "      <td>0.0</td>\n",
              "      <td>1.0</td>\n",
              "      <td>0.0</td>\n",
              "      <td>0.0</td>\n",
              "      <td>1.0</td>\n",
              "      <td>0.0</td>\n",
              "      <td>0.0</td>\n",
              "      <td>0.0</td>\n",
              "      <td>1.0</td>\n",
              "      <td>0.0</td>\n",
              "      <td>...</td>\n",
              "      <td>0.0</td>\n",
              "      <td>0.0</td>\n",
              "      <td>0.0</td>\n",
              "      <td>0.0</td>\n",
              "      <td>0.0</td>\n",
              "      <td>0.0</td>\n",
              "      <td>0.0</td>\n",
              "      <td>0.0</td>\n",
              "      <td>0.0</td>\n",
              "      <td>0.0</td>\n",
              "    </tr>\n",
              "    <tr>\n",
              "      <th>350</th>\n",
              "      <td>3.0</td>\n",
              "      <td>0.0</td>\n",
              "      <td>0.0</td>\n",
              "      <td>0.0</td>\n",
              "      <td>1.0</td>\n",
              "      <td>0.0</td>\n",
              "      <td>0.0</td>\n",
              "      <td>1.0</td>\n",
              "      <td>0.0</td>\n",
              "      <td>0.0</td>\n",
              "      <td>...</td>\n",
              "      <td>0.0</td>\n",
              "      <td>0.0</td>\n",
              "      <td>0.0</td>\n",
              "      <td>0.0</td>\n",
              "      <td>0.0</td>\n",
              "      <td>0.0</td>\n",
              "      <td>0.0</td>\n",
              "      <td>0.0</td>\n",
              "      <td>0.0</td>\n",
              "      <td>0.0</td>\n",
              "    </tr>\n",
              "  </tbody>\n",
              "</table>\n",
              "<p>351 rows × 2317 columns</p>\n",
              "</div>\n",
              "    <div class=\"colab-df-buttons\">\n",
              "\n",
              "  <div class=\"colab-df-container\">\n",
              "    <button class=\"colab-df-convert\" onclick=\"convertToInteractive('df-8d01c99f-fae8-4cc0-84f3-cedffc66a3b0')\"\n",
              "            title=\"Convert this dataframe to an interactive table.\"\n",
              "            style=\"display:none;\">\n",
              "\n",
              "  <svg xmlns=\"http://www.w3.org/2000/svg\" height=\"24px\" viewBox=\"0 -960 960 960\">\n",
              "    <path d=\"M120-120v-720h720v720H120Zm60-500h600v-160H180v160Zm220 220h160v-160H400v160Zm0 220h160v-160H400v160ZM180-400h160v-160H180v160Zm440 0h160v-160H620v160ZM180-180h160v-160H180v160Zm440 0h160v-160H620v160Z\"/>\n",
              "  </svg>\n",
              "    </button>\n",
              "\n",
              "  <style>\n",
              "    .colab-df-container {\n",
              "      display:flex;\n",
              "      gap: 12px;\n",
              "    }\n",
              "\n",
              "    .colab-df-convert {\n",
              "      background-color: #E8F0FE;\n",
              "      border: none;\n",
              "      border-radius: 50%;\n",
              "      cursor: pointer;\n",
              "      display: none;\n",
              "      fill: #1967D2;\n",
              "      height: 32px;\n",
              "      padding: 0 0 0 0;\n",
              "      width: 32px;\n",
              "    }\n",
              "\n",
              "    .colab-df-convert:hover {\n",
              "      background-color: #E2EBFA;\n",
              "      box-shadow: 0px 1px 2px rgba(60, 64, 67, 0.3), 0px 1px 3px 1px rgba(60, 64, 67, 0.15);\n",
              "      fill: #174EA6;\n",
              "    }\n",
              "\n",
              "    .colab-df-buttons div {\n",
              "      margin-bottom: 4px;\n",
              "    }\n",
              "\n",
              "    [theme=dark] .colab-df-convert {\n",
              "      background-color: #3B4455;\n",
              "      fill: #D2E3FC;\n",
              "    }\n",
              "\n",
              "    [theme=dark] .colab-df-convert:hover {\n",
              "      background-color: #434B5C;\n",
              "      box-shadow: 0px 1px 3px 1px rgba(0, 0, 0, 0.15);\n",
              "      filter: drop-shadow(0px 1px 2px rgba(0, 0, 0, 0.3));\n",
              "      fill: #FFFFFF;\n",
              "    }\n",
              "  </style>\n",
              "\n",
              "    <script>\n",
              "      const buttonEl =\n",
              "        document.querySelector('#df-8d01c99f-fae8-4cc0-84f3-cedffc66a3b0 button.colab-df-convert');\n",
              "      buttonEl.style.display =\n",
              "        google.colab.kernel.accessAllowed ? 'block' : 'none';\n",
              "\n",
              "      async function convertToInteractive(key) {\n",
              "        const element = document.querySelector('#df-8d01c99f-fae8-4cc0-84f3-cedffc66a3b0');\n",
              "        const dataTable =\n",
              "          await google.colab.kernel.invokeFunction('convertToInteractive',\n",
              "                                                    [key], {});\n",
              "        if (!dataTable) return;\n",
              "\n",
              "        const docLinkHtml = 'Like what you see? Visit the ' +\n",
              "          '<a target=\"_blank\" href=https://colab.research.google.com/notebooks/data_table.ipynb>data table notebook</a>'\n",
              "          + ' to learn more about interactive tables.';\n",
              "        element.innerHTML = '';\n",
              "        dataTable['output_type'] = 'display_data';\n",
              "        await google.colab.output.renderOutput(dataTable, element);\n",
              "        const docLink = document.createElement('div');\n",
              "        docLink.innerHTML = docLinkHtml;\n",
              "        element.appendChild(docLink);\n",
              "      }\n",
              "    </script>\n",
              "  </div>\n",
              "\n",
              "\n",
              "    <div id=\"df-8ee7d215-0227-4852-a72d-dbc4a7b12ec2\">\n",
              "      <button class=\"colab-df-quickchart\" onclick=\"quickchart('df-8ee7d215-0227-4852-a72d-dbc4a7b12ec2')\"\n",
              "                title=\"Suggest charts\"\n",
              "                style=\"display:none;\">\n",
              "\n",
              "<svg xmlns=\"http://www.w3.org/2000/svg\" height=\"24px\"viewBox=\"0 0 24 24\"\n",
              "     width=\"24px\">\n",
              "    <g>\n",
              "        <path d=\"M19 3H5c-1.1 0-2 .9-2 2v14c0 1.1.9 2 2 2h14c1.1 0 2-.9 2-2V5c0-1.1-.9-2-2-2zM9 17H7v-7h2v7zm4 0h-2V7h2v10zm4 0h-2v-4h2v4z\"/>\n",
              "    </g>\n",
              "</svg>\n",
              "      </button>\n",
              "\n",
              "<style>\n",
              "  .colab-df-quickchart {\n",
              "      --bg-color: #E8F0FE;\n",
              "      --fill-color: #1967D2;\n",
              "      --hover-bg-color: #E2EBFA;\n",
              "      --hover-fill-color: #174EA6;\n",
              "      --disabled-fill-color: #AAA;\n",
              "      --disabled-bg-color: #DDD;\n",
              "  }\n",
              "\n",
              "  [theme=dark] .colab-df-quickchart {\n",
              "      --bg-color: #3B4455;\n",
              "      --fill-color: #D2E3FC;\n",
              "      --hover-bg-color: #434B5C;\n",
              "      --hover-fill-color: #FFFFFF;\n",
              "      --disabled-bg-color: #3B4455;\n",
              "      --disabled-fill-color: #666;\n",
              "  }\n",
              "\n",
              "  .colab-df-quickchart {\n",
              "    background-color: var(--bg-color);\n",
              "    border: none;\n",
              "    border-radius: 50%;\n",
              "    cursor: pointer;\n",
              "    display: none;\n",
              "    fill: var(--fill-color);\n",
              "    height: 32px;\n",
              "    padding: 0;\n",
              "    width: 32px;\n",
              "  }\n",
              "\n",
              "  .colab-df-quickchart:hover {\n",
              "    background-color: var(--hover-bg-color);\n",
              "    box-shadow: 0 1px 2px rgba(60, 64, 67, 0.3), 0 1px 3px 1px rgba(60, 64, 67, 0.15);\n",
              "    fill: var(--button-hover-fill-color);\n",
              "  }\n",
              "\n",
              "  .colab-df-quickchart-complete:disabled,\n",
              "  .colab-df-quickchart-complete:disabled:hover {\n",
              "    background-color: var(--disabled-bg-color);\n",
              "    fill: var(--disabled-fill-color);\n",
              "    box-shadow: none;\n",
              "  }\n",
              "\n",
              "  .colab-df-spinner {\n",
              "    border: 2px solid var(--fill-color);\n",
              "    border-color: transparent;\n",
              "    border-bottom-color: var(--fill-color);\n",
              "    animation:\n",
              "      spin 1s steps(1) infinite;\n",
              "  }\n",
              "\n",
              "  @keyframes spin {\n",
              "    0% {\n",
              "      border-color: transparent;\n",
              "      border-bottom-color: var(--fill-color);\n",
              "      border-left-color: var(--fill-color);\n",
              "    }\n",
              "    20% {\n",
              "      border-color: transparent;\n",
              "      border-left-color: var(--fill-color);\n",
              "      border-top-color: var(--fill-color);\n",
              "    }\n",
              "    30% {\n",
              "      border-color: transparent;\n",
              "      border-left-color: var(--fill-color);\n",
              "      border-top-color: var(--fill-color);\n",
              "      border-right-color: var(--fill-color);\n",
              "    }\n",
              "    40% {\n",
              "      border-color: transparent;\n",
              "      border-right-color: var(--fill-color);\n",
              "      border-top-color: var(--fill-color);\n",
              "    }\n",
              "    60% {\n",
              "      border-color: transparent;\n",
              "      border-right-color: var(--fill-color);\n",
              "    }\n",
              "    80% {\n",
              "      border-color: transparent;\n",
              "      border-right-color: var(--fill-color);\n",
              "      border-bottom-color: var(--fill-color);\n",
              "    }\n",
              "    90% {\n",
              "      border-color: transparent;\n",
              "      border-bottom-color: var(--fill-color);\n",
              "    }\n",
              "  }\n",
              "</style>\n",
              "\n",
              "      <script>\n",
              "        async function quickchart(key) {\n",
              "          const quickchartButtonEl =\n",
              "            document.querySelector('#' + key + ' button');\n",
              "          quickchartButtonEl.disabled = true;  // To prevent multiple clicks.\n",
              "          quickchartButtonEl.classList.add('colab-df-spinner');\n",
              "          try {\n",
              "            const charts = await google.colab.kernel.invokeFunction(\n",
              "                'suggestCharts', [key], {});\n",
              "          } catch (error) {\n",
              "            console.error('Error during call to suggestCharts:', error);\n",
              "          }\n",
              "          quickchartButtonEl.classList.remove('colab-df-spinner');\n",
              "          quickchartButtonEl.classList.add('colab-df-quickchart-complete');\n",
              "        }\n",
              "        (() => {\n",
              "          let quickchartButtonEl =\n",
              "            document.querySelector('#df-8ee7d215-0227-4852-a72d-dbc4a7b12ec2 button');\n",
              "          quickchartButtonEl.style.display =\n",
              "            google.colab.kernel.accessAllowed ? 'block' : 'none';\n",
              "        })();\n",
              "      </script>\n",
              "    </div>\n",
              "\n",
              "    </div>\n",
              "  </div>\n"
            ],
            "application/vnd.google.colaboratory.intrinsic+json": {
              "type": "dataframe"
            }
          },
          "metadata": {},
          "execution_count": 17
        }
      ]
    },
    {
      "cell_type": "markdown",
      "source": [
        "🥼 If have your own features and they are in the same table format (especially the number of text samples), you can still load them with\n",
        "```\n",
        "exp.features_load(filename = 'features.csv')\n",
        "```\n",
        "Alternatively, if you have them stored in a variable as _Pandas_ `DataFrame`,\n",
        "you can simply put it into the `exp` (without unnecessary computing `exp.extract_features()`):\n",
        "```\n",
        "exp.feature_dataframe = your_df\n",
        "```"
      ],
      "metadata": {
        "id": "aS8ezsoG7vJc"
      }
    },
    {
      "cell_type": "markdown",
      "source": [
        "### 🏋️‍♀️ Training a classifier\n",
        "\n",
        "Everything's ready to feed the classifier, train it to distinguish between the authors and then explain how it is doing that."
      ],
      "metadata": {
        "id": "FbgkvbyM6j3o"
      }
    },
    {
      "cell_type": "markdown",
      "source": [
        "In fact, we are going to train several classifiers on different data subsets to be able to assess reliability of the pipeline.\n",
        "\n",
        "The standard technique for that is cross-validation. You can simply divide the dataset into *k* equal sized sets of samples, train on *k-1* and test the results on the one that was left out.\n",
        "\n",
        "![K-fold](https://scikit-learn.org/stable/_images/sphx_glr_plot_cv_indices_006.png)\n",
        "\n",
        "If your classes have unequal numbers of samples, stratification might be advisable.\n",
        "\n",
        "![stratified K-fold](https://scikit-learn.org/stable/_images/sphx_glr_plot_cv_indices_009.png)"
      ],
      "metadata": {
        "id": "IJ0R16j4bvnb"
      }
    },
    {
      "cell_type": "markdown",
      "source": [
        "Like before, the default settings are defined in `exp.default_cv_scheme` and `exp.default_classifier_scheme`,\n",
        "and the currently used settings are stored in `exp.cv_scheme` and `exp.classifier_scheme`, which you can modify.\n",
        "\n",
        "⚠️ Not all the settings are used for a given `cv_method`.\n",
        "\n",
        "🥼 The parameters come from the [scikit-learn](https://scikit-learn.org/stable/modules/cross_validation.html) package. If you want to make some fancy settings, check their documentation.\n"
      ],
      "metadata": {
        "id": "T9Pd7f8K-8cG"
      }
    },
    {
      "cell_type": "code",
      "source": [
        "exp.cv_scheme"
      ],
      "metadata": {
        "colab": {
          "base_uri": "https://localhost:8080/"
        },
        "id": "5nc3_l0z-a0i",
        "outputId": "e944d435-244a-41ff-dbe1-6cc1ef085808"
      },
      "execution_count": 18,
      "outputs": [
        {
          "output_type": "execute_result",
          "data": {
            "text/plain": [
              "{'cv_method': 'StratifiedKFold',\n",
              " 'n_repeats': 10,\n",
              " 'n_splits': 10,\n",
              " 'shuffle': True,\n",
              " 'n_groups': 2,\n",
              " 'p': 2,\n",
              " 'test_fold': [1, 0, 1, 1, 0],\n",
              " 'test_size': 0.2,\n",
              " 'train_size': 0.2,\n",
              " 'random_state': None,\n",
              " 'val_fraction': 0.25,\n",
              " 'scoring': {'acc': {'func': <function sklearn.metrics._classification.accuracy_score(y_true, y_pred, *, normalize=True, sample_weight=None)>},\n",
              "  'f1': {'func': <function sklearn.metrics._classification.fbeta_score(y_true, y_pred, *, beta, labels=None, pos_label=1, average='binary', sample_weight=None, zero_division='warn')>,\n",
              "   'params': {'beta': 1, 'average': 'macro'}}}}"
            ]
          },
          "metadata": {},
          "execution_count": 18
        }
      ]
    },
    {
      "cell_type": "code",
      "source": [
        "exp.cv_scheme['val_fraction'] = 0. # There's a bug that I need to fix. Here is the current workaround.\n",
        "exp.cv_scheme['n_repeats'] = 1"
      ],
      "metadata": {
        "id": "qQC3qkvs-cZ_"
      },
      "execution_count": 19,
      "outputs": []
    },
    {
      "cell_type": "code",
      "source": [
        "exp.classify(save_to_file=True)"
      ],
      "metadata": {
        "colab": {
          "base_uri": "https://localhost:8080/",
          "height": 931,
          "referenced_widgets": [
            "186fd44425ff4e30b676eb68d92b7390",
            "5f58068fa44047b2a78c4d80037da15b",
            "8a951fedd7634b79a90863bf3460706b",
            "dfb5280d082446779591b3bcb82cca47",
            "ec597782bbb542c681c1b68064e79808",
            "352c0d7a6ed94ae394999cf4c4bbdd06",
            "b02225a162fe4ef0bc22416cff946a98",
            "2d4fa1a57b1c4edfaee388c511b7ade0",
            "ada7766858f7464a900090da3c55cf1e",
            "36ccba9051a0441e9b91d0698749238d",
            "9324c6fe0747476a9ea0482262935214",
            "f9fa7da04c59418ead1397111049a7e0",
            "1f3ea229e749466bb1718ab4a6f9bd02",
            "c9ad962154754c39ba7bb31fb796d792",
            "da8218d2ac954b3083f407b800ca1c18",
            "d8ed0be0d4df40aeb8fc35663b0136fc",
            "b75fbb483d9c49e4878b4d93c9c9eeb6",
            "34bee3a00e324242b4daee5cfeb303c4",
            "d865f9d5e77b42f4a3d2d7ea23c8e1a1",
            "f1f8eec5ae6c4f0685d9e0ca61a811bd",
            "dfb45c278e7d42e7805bebdc5d0e5184",
            "69a5eb499eb94ce288f4d00c8ffee032"
          ]
        },
        "id": "Zd9kGxVi-PVK",
        "outputId": "f5ed4b94-4e40-4688-aa5b-1229fc6da33e"
      },
      "execution_count": 20,
      "outputs": [
        {
          "output_type": "stream",
          "name": "stdout",
          "text": [
            "Proceeding with 2 classes.\n",
            "Proceeding with StratifiedKFold cross-validation.\n"
          ]
        },
        {
          "output_type": "display_data",
          "data": {
            "text/plain": [
              "  0%|          | 0/1 [00:00<?, ?it/s]"
            ],
            "application/vnd.jupyter.widget-view+json": {
              "version_major": 2,
              "version_minor": 0,
              "model_id": "186fd44425ff4e30b676eb68d92b7390"
            }
          },
          "metadata": {}
        },
        {
          "output_type": "stream",
          "name": "stdout",
          "text": [
            "'val_fraction' setting results in 0.0 validation samples. No nested validation will be performed.\n",
            "Train:315, Val:0, Test:36\n"
          ]
        },
        {
          "output_type": "stream",
          "name": "stderr",
          "text": [
            "/usr/local/lib/python3.11/dist-packages/lightgbm/engine.py:204: UserWarning: Found `num_iterations` in params. Will use it instead of argument\n",
            "  _log_warning(f\"Found `{alias}` in params. Will use it instead of argument\")\n"
          ]
        },
        {
          "output_type": "stream",
          "name": "stdout",
          "text": [
            "'val_fraction' setting results in 0.0 validation samples. No nested validation will be performed.\n",
            "Train:316, Val:0, Test:35\n"
          ]
        },
        {
          "output_type": "stream",
          "name": "stderr",
          "text": [
            "/usr/local/lib/python3.11/dist-packages/lightgbm/engine.py:204: UserWarning: Found `num_iterations` in params. Will use it instead of argument\n",
            "  _log_warning(f\"Found `{alias}` in params. Will use it instead of argument\")\n"
          ]
        },
        {
          "output_type": "stream",
          "name": "stdout",
          "text": [
            "'val_fraction' setting results in 0.0 validation samples. No nested validation will be performed.\n",
            "Train:316, Val:0, Test:35\n"
          ]
        },
        {
          "output_type": "stream",
          "name": "stderr",
          "text": [
            "/usr/local/lib/python3.11/dist-packages/lightgbm/engine.py:204: UserWarning: Found `num_iterations` in params. Will use it instead of argument\n",
            "  _log_warning(f\"Found `{alias}` in params. Will use it instead of argument\")\n"
          ]
        },
        {
          "output_type": "stream",
          "name": "stdout",
          "text": [
            "'val_fraction' setting results in 0.0 validation samples. No nested validation will be performed.\n",
            "Train:316, Val:0, Test:35\n"
          ]
        },
        {
          "output_type": "stream",
          "name": "stderr",
          "text": [
            "/usr/local/lib/python3.11/dist-packages/lightgbm/engine.py:204: UserWarning: Found `num_iterations` in params. Will use it instead of argument\n",
            "  _log_warning(f\"Found `{alias}` in params. Will use it instead of argument\")\n"
          ]
        },
        {
          "output_type": "stream",
          "name": "stdout",
          "text": [
            "'val_fraction' setting results in 0.0 validation samples. No nested validation will be performed.\n",
            "Train:316, Val:0, Test:35\n"
          ]
        },
        {
          "output_type": "stream",
          "name": "stderr",
          "text": [
            "/usr/local/lib/python3.11/dist-packages/lightgbm/engine.py:204: UserWarning: Found `num_iterations` in params. Will use it instead of argument\n",
            "  _log_warning(f\"Found `{alias}` in params. Will use it instead of argument\")\n"
          ]
        },
        {
          "output_type": "stream",
          "name": "stdout",
          "text": [
            "'val_fraction' setting results in 0.0 validation samples. No nested validation will be performed.\n",
            "Train:316, Val:0, Test:35\n"
          ]
        },
        {
          "output_type": "stream",
          "name": "stderr",
          "text": [
            "/usr/local/lib/python3.11/dist-packages/lightgbm/engine.py:204: UserWarning: Found `num_iterations` in params. Will use it instead of argument\n",
            "  _log_warning(f\"Found `{alias}` in params. Will use it instead of argument\")\n"
          ]
        },
        {
          "output_type": "stream",
          "name": "stdout",
          "text": [
            "'val_fraction' setting results in 0.0 validation samples. No nested validation will be performed.\n",
            "Train:316, Val:0, Test:35\n"
          ]
        },
        {
          "output_type": "stream",
          "name": "stderr",
          "text": [
            "/usr/local/lib/python3.11/dist-packages/lightgbm/engine.py:204: UserWarning: Found `num_iterations` in params. Will use it instead of argument\n",
            "  _log_warning(f\"Found `{alias}` in params. Will use it instead of argument\")\n"
          ]
        },
        {
          "output_type": "stream",
          "name": "stdout",
          "text": [
            "'val_fraction' setting results in 0.0 validation samples. No nested validation will be performed.\n",
            "Train:316, Val:0, Test:35\n"
          ]
        },
        {
          "output_type": "stream",
          "name": "stderr",
          "text": [
            "/usr/local/lib/python3.11/dist-packages/lightgbm/engine.py:204: UserWarning: Found `num_iterations` in params. Will use it instead of argument\n",
            "  _log_warning(f\"Found `{alias}` in params. Will use it instead of argument\")\n"
          ]
        },
        {
          "output_type": "stream",
          "name": "stdout",
          "text": [
            "'val_fraction' setting results in 0.0 validation samples. No nested validation will be performed.\n",
            "Train:316, Val:0, Test:35\n"
          ]
        },
        {
          "output_type": "stream",
          "name": "stderr",
          "text": [
            "/usr/local/lib/python3.11/dist-packages/lightgbm/engine.py:204: UserWarning: Found `num_iterations` in params. Will use it instead of argument\n",
            "  _log_warning(f\"Found `{alias}` in params. Will use it instead of argument\")\n"
          ]
        },
        {
          "output_type": "stream",
          "name": "stdout",
          "text": [
            "'val_fraction' setting results in 0.0 validation samples. No nested validation will be performed.\n",
            "Train:316, Val:0, Test:35\n"
          ]
        },
        {
          "output_type": "stream",
          "name": "stderr",
          "text": [
            "/usr/local/lib/python3.11/dist-packages/lightgbm/engine.py:204: UserWarning: Found `num_iterations` in params. Will use it instead of argument\n",
            "  _log_warning(f\"Found `{alias}` in params. Will use it instead of argument\")\n"
          ]
        },
        {
          "output_type": "display_data",
          "data": {
            "text/plain": [
              "  0%|          | 0/10 [00:00<?, ?it/s]"
            ],
            "application/vnd.jupyter.widget-view+json": {
              "version_major": 2,
              "version_minor": 0,
              "model_id": "f9fa7da04c59418ead1397111049a7e0"
            }
          },
          "metadata": {}
        },
        {
          "output_type": "stream",
          "name": "stdout",
          "text": [
            "Accuracy [0-1, higher better]: \t0.97 \t Baseline value:  0.57\n",
            "F1 [0-1, higher better]: \t\t0.97 \t Baseline value:  0.36\n",
            "Scores saved as explain_example1/subsamples_ts_200/scores_class-class.pkl.\n",
            "Classifiers saved as explain_example1/subsamples_ts_200/classifiers_class-class.pkl.\n",
            "Classifiers saved as booster_*.txt.\n",
            "Classifier parameters saved as 'explain_example1/subsamples_ts_200/config_classifier_scheme.json'. It can be reloaded with '.load_params_classifier(filename)'.\n",
            "Cross-validation parameters saved as 'explain_example1/subsamples_ts_200/config_cv_scheme.pkl'. It can be reloaded with '.load_params_cv(filename)'.\n"
          ]
        }
      ]
    },
    {
      "cell_type": "markdown",
      "source": [
        "Let's check if the classifier is actually able to correctly attribute the samples to the authors (this is the result averaged over cross-validation folds and repetitions):"
      ],
      "metadata": {
        "id": "Jg9XDsBhAASr"
      }
    },
    {
      "cell_type": "code",
      "source": [
        "exp.scores.print_scores()"
      ],
      "metadata": {
        "colab": {
          "base_uri": "https://localhost:8080/"
        },
        "id": "nLj4IG06_xHz",
        "outputId": "30ea6ca7-1ef5-4e77-e7cc-ab7ffad566af"
      },
      "execution_count": 21,
      "outputs": [
        {
          "output_type": "stream",
          "name": "stdout",
          "text": [
            "Accuracy [0-1, higher better]: \t0.97 \t Baseline value:  0.57\n",
            "F1 [0-1, higher better]: \t\t0.97 \t Baseline value:  0.36\n"
          ]
        }
      ]
    },
    {
      "cell_type": "markdown",
      "source": [
        "If you need to scrutinize the classification decision for individual samples for some reason (e.g., find which segments have been classified erroneously)"
      ],
      "metadata": {
        "id": "qN7bzNfiFerC"
      }
    },
    {
      "cell_type": "code",
      "source": [
        "exp.scores.df_preds\n",
        "# exp.scores.df_preds[exp.scores.df_preds.errors > 0] # Uncomment this, to see only the classification errors."
      ],
      "metadata": {
        "colab": {
          "base_uri": "https://localhost:8080/",
          "height": 423
        },
        "id": "5E5cpElXE36N",
        "outputId": "7e66e58a-81cc-4c23-e822-e719f58f494f"
      },
      "execution_count": 22,
      "outputs": [
        {
          "output_type": "execute_result",
          "data": {
            "text/plain": [
              "    y_true y_pred                    y_prob  errors\n",
              "0    [0.0]  [0.0]     [0.07282403704550454]       0\n",
              "1    [0.0]  [0.0]   [9.498140132744466e-05]       0\n",
              "2    [0.0]  [0.0]    [0.003088608724657928]       0\n",
              "3    [0.0]  [0.0]  [0.00037338613886552305]       0\n",
              "4    [0.0]  [0.0]   [3.818497023038702e-05]       0\n",
              "..     ...    ...                       ...     ...\n",
              "346  [1.0]  [1.0]      [0.9988269767653039]       0\n",
              "347  [1.0]  [1.0]      [0.9999997641374291]       0\n",
              "348  [1.0]  [1.0]       [0.986095512446467]       0\n",
              "349  [1.0]  [1.0]      [0.9994090940402185]       0\n",
              "350  [1.0]  [1.0]      [0.9758183582617425]       0\n",
              "\n",
              "[351 rows x 4 columns]"
            ],
            "text/html": [
              "\n",
              "  <div id=\"df-29152c6a-2919-4c84-bbcf-03f5c736edb6\" class=\"colab-df-container\">\n",
              "    <div>\n",
              "<style scoped>\n",
              "    .dataframe tbody tr th:only-of-type {\n",
              "        vertical-align: middle;\n",
              "    }\n",
              "\n",
              "    .dataframe tbody tr th {\n",
              "        vertical-align: top;\n",
              "    }\n",
              "\n",
              "    .dataframe thead th {\n",
              "        text-align: right;\n",
              "    }\n",
              "</style>\n",
              "<table border=\"1\" class=\"dataframe\">\n",
              "  <thead>\n",
              "    <tr style=\"text-align: right;\">\n",
              "      <th></th>\n",
              "      <th>y_true</th>\n",
              "      <th>y_pred</th>\n",
              "      <th>y_prob</th>\n",
              "      <th>errors</th>\n",
              "    </tr>\n",
              "  </thead>\n",
              "  <tbody>\n",
              "    <tr>\n",
              "      <th>0</th>\n",
              "      <td>[0.0]</td>\n",
              "      <td>[0.0]</td>\n",
              "      <td>[0.07282403704550454]</td>\n",
              "      <td>0</td>\n",
              "    </tr>\n",
              "    <tr>\n",
              "      <th>1</th>\n",
              "      <td>[0.0]</td>\n",
              "      <td>[0.0]</td>\n",
              "      <td>[9.498140132744466e-05]</td>\n",
              "      <td>0</td>\n",
              "    </tr>\n",
              "    <tr>\n",
              "      <th>2</th>\n",
              "      <td>[0.0]</td>\n",
              "      <td>[0.0]</td>\n",
              "      <td>[0.003088608724657928]</td>\n",
              "      <td>0</td>\n",
              "    </tr>\n",
              "    <tr>\n",
              "      <th>3</th>\n",
              "      <td>[0.0]</td>\n",
              "      <td>[0.0]</td>\n",
              "      <td>[0.00037338613886552305]</td>\n",
              "      <td>0</td>\n",
              "    </tr>\n",
              "    <tr>\n",
              "      <th>4</th>\n",
              "      <td>[0.0]</td>\n",
              "      <td>[0.0]</td>\n",
              "      <td>[3.818497023038702e-05]</td>\n",
              "      <td>0</td>\n",
              "    </tr>\n",
              "    <tr>\n",
              "      <th>...</th>\n",
              "      <td>...</td>\n",
              "      <td>...</td>\n",
              "      <td>...</td>\n",
              "      <td>...</td>\n",
              "    </tr>\n",
              "    <tr>\n",
              "      <th>346</th>\n",
              "      <td>[1.0]</td>\n",
              "      <td>[1.0]</td>\n",
              "      <td>[0.9988269767653039]</td>\n",
              "      <td>0</td>\n",
              "    </tr>\n",
              "    <tr>\n",
              "      <th>347</th>\n",
              "      <td>[1.0]</td>\n",
              "      <td>[1.0]</td>\n",
              "      <td>[0.9999997641374291]</td>\n",
              "      <td>0</td>\n",
              "    </tr>\n",
              "    <tr>\n",
              "      <th>348</th>\n",
              "      <td>[1.0]</td>\n",
              "      <td>[1.0]</td>\n",
              "      <td>[0.986095512446467]</td>\n",
              "      <td>0</td>\n",
              "    </tr>\n",
              "    <tr>\n",
              "      <th>349</th>\n",
              "      <td>[1.0]</td>\n",
              "      <td>[1.0]</td>\n",
              "      <td>[0.9994090940402185]</td>\n",
              "      <td>0</td>\n",
              "    </tr>\n",
              "    <tr>\n",
              "      <th>350</th>\n",
              "      <td>[1.0]</td>\n",
              "      <td>[1.0]</td>\n",
              "      <td>[0.9758183582617425]</td>\n",
              "      <td>0</td>\n",
              "    </tr>\n",
              "  </tbody>\n",
              "</table>\n",
              "<p>351 rows × 4 columns</p>\n",
              "</div>\n",
              "    <div class=\"colab-df-buttons\">\n",
              "\n",
              "  <div class=\"colab-df-container\">\n",
              "    <button class=\"colab-df-convert\" onclick=\"convertToInteractive('df-29152c6a-2919-4c84-bbcf-03f5c736edb6')\"\n",
              "            title=\"Convert this dataframe to an interactive table.\"\n",
              "            style=\"display:none;\">\n",
              "\n",
              "  <svg xmlns=\"http://www.w3.org/2000/svg\" height=\"24px\" viewBox=\"0 -960 960 960\">\n",
              "    <path d=\"M120-120v-720h720v720H120Zm60-500h600v-160H180v160Zm220 220h160v-160H400v160Zm0 220h160v-160H400v160ZM180-400h160v-160H180v160Zm440 0h160v-160H620v160ZM180-180h160v-160H180v160Zm440 0h160v-160H620v160Z\"/>\n",
              "  </svg>\n",
              "    </button>\n",
              "\n",
              "  <style>\n",
              "    .colab-df-container {\n",
              "      display:flex;\n",
              "      gap: 12px;\n",
              "    }\n",
              "\n",
              "    .colab-df-convert {\n",
              "      background-color: #E8F0FE;\n",
              "      border: none;\n",
              "      border-radius: 50%;\n",
              "      cursor: pointer;\n",
              "      display: none;\n",
              "      fill: #1967D2;\n",
              "      height: 32px;\n",
              "      padding: 0 0 0 0;\n",
              "      width: 32px;\n",
              "    }\n",
              "\n",
              "    .colab-df-convert:hover {\n",
              "      background-color: #E2EBFA;\n",
              "      box-shadow: 0px 1px 2px rgba(60, 64, 67, 0.3), 0px 1px 3px 1px rgba(60, 64, 67, 0.15);\n",
              "      fill: #174EA6;\n",
              "    }\n",
              "\n",
              "    .colab-df-buttons div {\n",
              "      margin-bottom: 4px;\n",
              "    }\n",
              "\n",
              "    [theme=dark] .colab-df-convert {\n",
              "      background-color: #3B4455;\n",
              "      fill: #D2E3FC;\n",
              "    }\n",
              "\n",
              "    [theme=dark] .colab-df-convert:hover {\n",
              "      background-color: #434B5C;\n",
              "      box-shadow: 0px 1px 3px 1px rgba(0, 0, 0, 0.15);\n",
              "      filter: drop-shadow(0px 1px 2px rgba(0, 0, 0, 0.3));\n",
              "      fill: #FFFFFF;\n",
              "    }\n",
              "  </style>\n",
              "\n",
              "    <script>\n",
              "      const buttonEl =\n",
              "        document.querySelector('#df-29152c6a-2919-4c84-bbcf-03f5c736edb6 button.colab-df-convert');\n",
              "      buttonEl.style.display =\n",
              "        google.colab.kernel.accessAllowed ? 'block' : 'none';\n",
              "\n",
              "      async function convertToInteractive(key) {\n",
              "        const element = document.querySelector('#df-29152c6a-2919-4c84-bbcf-03f5c736edb6');\n",
              "        const dataTable =\n",
              "          await google.colab.kernel.invokeFunction('convertToInteractive',\n",
              "                                                    [key], {});\n",
              "        if (!dataTable) return;\n",
              "\n",
              "        const docLinkHtml = 'Like what you see? Visit the ' +\n",
              "          '<a target=\"_blank\" href=https://colab.research.google.com/notebooks/data_table.ipynb>data table notebook</a>'\n",
              "          + ' to learn more about interactive tables.';\n",
              "        element.innerHTML = '';\n",
              "        dataTable['output_type'] = 'display_data';\n",
              "        await google.colab.output.renderOutput(dataTable, element);\n",
              "        const docLink = document.createElement('div');\n",
              "        docLink.innerHTML = docLinkHtml;\n",
              "        element.appendChild(docLink);\n",
              "      }\n",
              "    </script>\n",
              "  </div>\n",
              "\n",
              "\n",
              "    <div id=\"df-55bcb643-d55a-4c15-9907-a57a9e4d7332\">\n",
              "      <button class=\"colab-df-quickchart\" onclick=\"quickchart('df-55bcb643-d55a-4c15-9907-a57a9e4d7332')\"\n",
              "                title=\"Suggest charts\"\n",
              "                style=\"display:none;\">\n",
              "\n",
              "<svg xmlns=\"http://www.w3.org/2000/svg\" height=\"24px\"viewBox=\"0 0 24 24\"\n",
              "     width=\"24px\">\n",
              "    <g>\n",
              "        <path d=\"M19 3H5c-1.1 0-2 .9-2 2v14c0 1.1.9 2 2 2h14c1.1 0 2-.9 2-2V5c0-1.1-.9-2-2-2zM9 17H7v-7h2v7zm4 0h-2V7h2v10zm4 0h-2v-4h2v4z\"/>\n",
              "    </g>\n",
              "</svg>\n",
              "      </button>\n",
              "\n",
              "<style>\n",
              "  .colab-df-quickchart {\n",
              "      --bg-color: #E8F0FE;\n",
              "      --fill-color: #1967D2;\n",
              "      --hover-bg-color: #E2EBFA;\n",
              "      --hover-fill-color: #174EA6;\n",
              "      --disabled-fill-color: #AAA;\n",
              "      --disabled-bg-color: #DDD;\n",
              "  }\n",
              "\n",
              "  [theme=dark] .colab-df-quickchart {\n",
              "      --bg-color: #3B4455;\n",
              "      --fill-color: #D2E3FC;\n",
              "      --hover-bg-color: #434B5C;\n",
              "      --hover-fill-color: #FFFFFF;\n",
              "      --disabled-bg-color: #3B4455;\n",
              "      --disabled-fill-color: #666;\n",
              "  }\n",
              "\n",
              "  .colab-df-quickchart {\n",
              "    background-color: var(--bg-color);\n",
              "    border: none;\n",
              "    border-radius: 50%;\n",
              "    cursor: pointer;\n",
              "    display: none;\n",
              "    fill: var(--fill-color);\n",
              "    height: 32px;\n",
              "    padding: 0;\n",
              "    width: 32px;\n",
              "  }\n",
              "\n",
              "  .colab-df-quickchart:hover {\n",
              "    background-color: var(--hover-bg-color);\n",
              "    box-shadow: 0 1px 2px rgba(60, 64, 67, 0.3), 0 1px 3px 1px rgba(60, 64, 67, 0.15);\n",
              "    fill: var(--button-hover-fill-color);\n",
              "  }\n",
              "\n",
              "  .colab-df-quickchart-complete:disabled,\n",
              "  .colab-df-quickchart-complete:disabled:hover {\n",
              "    background-color: var(--disabled-bg-color);\n",
              "    fill: var(--disabled-fill-color);\n",
              "    box-shadow: none;\n",
              "  }\n",
              "\n",
              "  .colab-df-spinner {\n",
              "    border: 2px solid var(--fill-color);\n",
              "    border-color: transparent;\n",
              "    border-bottom-color: var(--fill-color);\n",
              "    animation:\n",
              "      spin 1s steps(1) infinite;\n",
              "  }\n",
              "\n",
              "  @keyframes spin {\n",
              "    0% {\n",
              "      border-color: transparent;\n",
              "      border-bottom-color: var(--fill-color);\n",
              "      border-left-color: var(--fill-color);\n",
              "    }\n",
              "    20% {\n",
              "      border-color: transparent;\n",
              "      border-left-color: var(--fill-color);\n",
              "      border-top-color: var(--fill-color);\n",
              "    }\n",
              "    30% {\n",
              "      border-color: transparent;\n",
              "      border-left-color: var(--fill-color);\n",
              "      border-top-color: var(--fill-color);\n",
              "      border-right-color: var(--fill-color);\n",
              "    }\n",
              "    40% {\n",
              "      border-color: transparent;\n",
              "      border-right-color: var(--fill-color);\n",
              "      border-top-color: var(--fill-color);\n",
              "    }\n",
              "    60% {\n",
              "      border-color: transparent;\n",
              "      border-right-color: var(--fill-color);\n",
              "    }\n",
              "    80% {\n",
              "      border-color: transparent;\n",
              "      border-right-color: var(--fill-color);\n",
              "      border-bottom-color: var(--fill-color);\n",
              "    }\n",
              "    90% {\n",
              "      border-color: transparent;\n",
              "      border-bottom-color: var(--fill-color);\n",
              "    }\n",
              "  }\n",
              "</style>\n",
              "\n",
              "      <script>\n",
              "        async function quickchart(key) {\n",
              "          const quickchartButtonEl =\n",
              "            document.querySelector('#' + key + ' button');\n",
              "          quickchartButtonEl.disabled = true;  // To prevent multiple clicks.\n",
              "          quickchartButtonEl.classList.add('colab-df-spinner');\n",
              "          try {\n",
              "            const charts = await google.colab.kernel.invokeFunction(\n",
              "                'suggestCharts', [key], {});\n",
              "          } catch (error) {\n",
              "            console.error('Error during call to suggestCharts:', error);\n",
              "          }\n",
              "          quickchartButtonEl.classList.remove('colab-df-spinner');\n",
              "          quickchartButtonEl.classList.add('colab-df-quickchart-complete');\n",
              "        }\n",
              "        (() => {\n",
              "          let quickchartButtonEl =\n",
              "            document.querySelector('#df-55bcb643-d55a-4c15-9907-a57a9e4d7332 button');\n",
              "          quickchartButtonEl.style.display =\n",
              "            google.colab.kernel.accessAllowed ? 'block' : 'none';\n",
              "        })();\n",
              "      </script>\n",
              "    </div>\n",
              "\n",
              "    </div>\n",
              "  </div>\n"
            ],
            "application/vnd.google.colaboratory.intrinsic+json": {
              "type": "dataframe",
              "summary": "{\n  \"name\": \"# exp\",\n  \"rows\": 351,\n  \"fields\": [\n    {\n      \"column\": \"y_true\",\n      \"properties\": {\n        \"dtype\": \"object\",\n        \"semantic_type\": \"\",\n        \"description\": \"\"\n      }\n    },\n    {\n      \"column\": \"y_pred\",\n      \"properties\": {\n        \"dtype\": \"object\",\n        \"semantic_type\": \"\",\n        \"description\": \"\"\n      }\n    },\n    {\n      \"column\": \"y_prob\",\n      \"properties\": {\n        \"dtype\": \"object\",\n        \"semantic_type\": \"\",\n        \"description\": \"\"\n      }\n    },\n    {\n      \"column\": \"errors\",\n      \"properties\": {\n        \"dtype\": \"number\",\n        \"std\": 0,\n        \"min\": 0,\n        \"max\": 1,\n        \"num_unique_values\": 2,\n        \"samples\": [\n          1,\n          0\n        ],\n        \"semantic_type\": \"\",\n        \"description\": \"\"\n      }\n    }\n  ]\n}"
            }
          },
          "metadata": {},
          "execution_count": 22
        }
      ]
    },
    {
      "cell_type": "markdown",
      "source": [
        "Both the classifier itself\n",
        "```\n",
        "exp.classifiers_load(postfix='_class-class')\n",
        "```\n",
        "and the scores\n",
        "```\n",
        "exp.scores_load(postfix='_class-class')\n",
        "```\n",
        "are saved and can be reloaded for further inspection or for inference using the trained model.\n",
        "\n",
        "The `postfix` is just a string added to the filename, in case you are going to train several classifiers based on different labels (e.g., 'author', 'genre' and 'narration type')."
      ],
      "metadata": {
        "id": "iCx14wdjAQsg"
      }
    },
    {
      "cell_type": "markdown",
      "source": [
        "### 💡 Explaining the classification and visualising the explanations (SHAP-based)\n",
        "\n",
        "Now, let's take the trained classifier and use the [SHapley Additive exPlanations library](https://shap.readthedocs.io/en/latest/) to compute the importance of features that contributed to the decision about attributing authorship to the text samples."
      ],
      "metadata": {
        "id": "LjsW5fm4Aprq"
      }
    },
    {
      "cell_type": "code",
      "source": [
        "exp.explain(save_to_file=True)"
      ],
      "metadata": {
        "colab": {
          "base_uri": "https://localhost:8080/",
          "height": 66,
          "referenced_widgets": [
            "3826b811cfc24e76adaa72beaeccaca5",
            "03c5d0d031e846458c6223a99ae907b2",
            "1202c05d860c4dc7b3aa6d4183dafc8a",
            "416c6788ac6b4fcab083c12cbea25a9d",
            "487f7c59846f4d72aa0b75e0ca3077cd",
            "2db7ca075b6343ac804e490df56b8f6d",
            "16c6d2a5830b4cfc81ca83baefb32b10",
            "8c43201e89ab4a3a88462b8bfab61077",
            "63cb13c4dfa9497cbbc57855966a6557",
            "d31bf4ac2fb440b1a091fd624f00718b",
            "7fb8cbcd20964e77864c96b82be0c7b6"
          ]
        },
        "id": "nAw1SGIa70Vs",
        "outputId": "0b3d5ff4-b27d-4284-857d-3dc080f5a245"
      },
      "execution_count": 23,
      "outputs": [
        {
          "output_type": "display_data",
          "data": {
            "text/plain": [
              "  0%|          | 0/10 [00:00<?, ?it/s]"
            ],
            "application/vnd.jupyter.widget-view+json": {
              "version_major": 2,
              "version_minor": 0,
              "model_id": "3826b811cfc24e76adaa72beaeccaca5"
            }
          },
          "metadata": {}
        },
        {
          "output_type": "stream",
          "name": "stdout",
          "text": [
            "Explanations saved as explain_example1/subsamples_ts_200/explanations_class-class.pkl.\n"
          ]
        }
      ]
    },
    {
      "cell_type": "markdown",
      "source": [
        "As before, you can save and load the explanations by\n",
        "```\n",
        "exp.explanations_load(postfix='_class-class')\n",
        "```\n",
        "\n",
        "⚠️ Note that this file can get big, too. Consequently, writing to it and reading it may be slow at the moment.\n",
        "\n",
        "\n",
        "We have used cross-validation not just to get a better estimation of classifier performance, but to obtain average explanations -- hopefully, more robust to fluctuations in the dataset:"
      ],
      "metadata": {
        "id": "vjFZ7ZOo8AmA"
      }
    },
    {
      "cell_type": "code",
      "source": [
        "exp.explanations.df_shap_average.head(4)"
      ],
      "metadata": {
        "id": "owNlB6248eT8",
        "colab": {
          "base_uri": "https://localhost:8080/",
          "height": 241
        },
        "outputId": "c67a3bce-a67e-457f-e9ac-35a10146b59f"
      },
      "execution_count": 24,
      "outputs": [
        {
          "output_type": "execute_result",
          "data": {
            "text/plain": [
              "     aby_13  ach_13  agent_13  albo_13  ale_13  ale nie_13  ani_13  aż_13  \\\n",
              "0 -0.597101     0.0       0.0      0.0     0.0         0.0     0.0    0.0   \n",
              "1 -0.605252     0.0       0.0      0.0     0.0         0.0     0.0    0.0   \n",
              "2 -0.669822     0.0       0.0      0.0     0.0         0.0     0.0    0.0   \n",
              "3 -0.586668     0.0       0.0      0.0     0.0         0.0     0.0    0.0   \n",
              "\n",
              "   bardzo_13    bez_13  ...  wschodnioindyjskiej_61  wtajemniczy_61  \\\n",
              "0  -0.213150  0.000000  ...                     0.0             0.0   \n",
              "1  -0.198592  0.154212  ...                     0.0             0.0   \n",
              "2  -0.225847  0.000000  ...                     0.0             0.0   \n",
              "3   0.937534  0.000000  ...                     0.0             0.0   \n",
              "\n",
              "   wygraża_61  wylornetkowałem_61  zamorskiego_61  Ósma_61  ósmej_61  Łódź_61  \\\n",
              "0         0.0                 0.0             0.0      0.0       0.0      0.0   \n",
              "1         0.0                 0.0             0.0      0.0       0.0      0.0   \n",
              "2         0.0                 0.0             0.0      0.0       0.0      0.0   \n",
              "3         0.0                 0.0             0.0      0.0       0.0      0.0   \n",
              "\n",
              "   Śródziemnego_61  Śródziemnym_61  \n",
              "0              0.0             0.0  \n",
              "1              0.0             0.0  \n",
              "2              0.0             0.0  \n",
              "3              0.0             0.0  \n",
              "\n",
              "[4 rows x 2317 columns]"
            ],
            "text/html": [
              "\n",
              "  <div id=\"df-f7b93311-5399-4e4e-9875-4c93fe4feed0\" class=\"colab-df-container\">\n",
              "    <div>\n",
              "<style scoped>\n",
              "    .dataframe tbody tr th:only-of-type {\n",
              "        vertical-align: middle;\n",
              "    }\n",
              "\n",
              "    .dataframe tbody tr th {\n",
              "        vertical-align: top;\n",
              "    }\n",
              "\n",
              "    .dataframe thead th {\n",
              "        text-align: right;\n",
              "    }\n",
              "</style>\n",
              "<table border=\"1\" class=\"dataframe\">\n",
              "  <thead>\n",
              "    <tr style=\"text-align: right;\">\n",
              "      <th></th>\n",
              "      <th>aby_13</th>\n",
              "      <th>ach_13</th>\n",
              "      <th>agent_13</th>\n",
              "      <th>albo_13</th>\n",
              "      <th>ale_13</th>\n",
              "      <th>ale nie_13</th>\n",
              "      <th>ani_13</th>\n",
              "      <th>aż_13</th>\n",
              "      <th>bardzo_13</th>\n",
              "      <th>bez_13</th>\n",
              "      <th>...</th>\n",
              "      <th>wschodnioindyjskiej_61</th>\n",
              "      <th>wtajemniczy_61</th>\n",
              "      <th>wygraża_61</th>\n",
              "      <th>wylornetkowałem_61</th>\n",
              "      <th>zamorskiego_61</th>\n",
              "      <th>Ósma_61</th>\n",
              "      <th>ósmej_61</th>\n",
              "      <th>Łódź_61</th>\n",
              "      <th>Śródziemnego_61</th>\n",
              "      <th>Śródziemnym_61</th>\n",
              "    </tr>\n",
              "  </thead>\n",
              "  <tbody>\n",
              "    <tr>\n",
              "      <th>0</th>\n",
              "      <td>-0.597101</td>\n",
              "      <td>0.0</td>\n",
              "      <td>0.0</td>\n",
              "      <td>0.0</td>\n",
              "      <td>0.0</td>\n",
              "      <td>0.0</td>\n",
              "      <td>0.0</td>\n",
              "      <td>0.0</td>\n",
              "      <td>-0.213150</td>\n",
              "      <td>0.000000</td>\n",
              "      <td>...</td>\n",
              "      <td>0.0</td>\n",
              "      <td>0.0</td>\n",
              "      <td>0.0</td>\n",
              "      <td>0.0</td>\n",
              "      <td>0.0</td>\n",
              "      <td>0.0</td>\n",
              "      <td>0.0</td>\n",
              "      <td>0.0</td>\n",
              "      <td>0.0</td>\n",
              "      <td>0.0</td>\n",
              "    </tr>\n",
              "    <tr>\n",
              "      <th>1</th>\n",
              "      <td>-0.605252</td>\n",
              "      <td>0.0</td>\n",
              "      <td>0.0</td>\n",
              "      <td>0.0</td>\n",
              "      <td>0.0</td>\n",
              "      <td>0.0</td>\n",
              "      <td>0.0</td>\n",
              "      <td>0.0</td>\n",
              "      <td>-0.198592</td>\n",
              "      <td>0.154212</td>\n",
              "      <td>...</td>\n",
              "      <td>0.0</td>\n",
              "      <td>0.0</td>\n",
              "      <td>0.0</td>\n",
              "      <td>0.0</td>\n",
              "      <td>0.0</td>\n",
              "      <td>0.0</td>\n",
              "      <td>0.0</td>\n",
              "      <td>0.0</td>\n",
              "      <td>0.0</td>\n",
              "      <td>0.0</td>\n",
              "    </tr>\n",
              "    <tr>\n",
              "      <th>2</th>\n",
              "      <td>-0.669822</td>\n",
              "      <td>0.0</td>\n",
              "      <td>0.0</td>\n",
              "      <td>0.0</td>\n",
              "      <td>0.0</td>\n",
              "      <td>0.0</td>\n",
              "      <td>0.0</td>\n",
              "      <td>0.0</td>\n",
              "      <td>-0.225847</td>\n",
              "      <td>0.000000</td>\n",
              "      <td>...</td>\n",
              "      <td>0.0</td>\n",
              "      <td>0.0</td>\n",
              "      <td>0.0</td>\n",
              "      <td>0.0</td>\n",
              "      <td>0.0</td>\n",
              "      <td>0.0</td>\n",
              "      <td>0.0</td>\n",
              "      <td>0.0</td>\n",
              "      <td>0.0</td>\n",
              "      <td>0.0</td>\n",
              "    </tr>\n",
              "    <tr>\n",
              "      <th>3</th>\n",
              "      <td>-0.586668</td>\n",
              "      <td>0.0</td>\n",
              "      <td>0.0</td>\n",
              "      <td>0.0</td>\n",
              "      <td>0.0</td>\n",
              "      <td>0.0</td>\n",
              "      <td>0.0</td>\n",
              "      <td>0.0</td>\n",
              "      <td>0.937534</td>\n",
              "      <td>0.000000</td>\n",
              "      <td>...</td>\n",
              "      <td>0.0</td>\n",
              "      <td>0.0</td>\n",
              "      <td>0.0</td>\n",
              "      <td>0.0</td>\n",
              "      <td>0.0</td>\n",
              "      <td>0.0</td>\n",
              "      <td>0.0</td>\n",
              "      <td>0.0</td>\n",
              "      <td>0.0</td>\n",
              "      <td>0.0</td>\n",
              "    </tr>\n",
              "  </tbody>\n",
              "</table>\n",
              "<p>4 rows × 2317 columns</p>\n",
              "</div>\n",
              "    <div class=\"colab-df-buttons\">\n",
              "\n",
              "  <div class=\"colab-df-container\">\n",
              "    <button class=\"colab-df-convert\" onclick=\"convertToInteractive('df-f7b93311-5399-4e4e-9875-4c93fe4feed0')\"\n",
              "            title=\"Convert this dataframe to an interactive table.\"\n",
              "            style=\"display:none;\">\n",
              "\n",
              "  <svg xmlns=\"http://www.w3.org/2000/svg\" height=\"24px\" viewBox=\"0 -960 960 960\">\n",
              "    <path d=\"M120-120v-720h720v720H120Zm60-500h600v-160H180v160Zm220 220h160v-160H400v160Zm0 220h160v-160H400v160ZM180-400h160v-160H180v160Zm440 0h160v-160H620v160ZM180-180h160v-160H180v160Zm440 0h160v-160H620v160Z\"/>\n",
              "  </svg>\n",
              "    </button>\n",
              "\n",
              "  <style>\n",
              "    .colab-df-container {\n",
              "      display:flex;\n",
              "      gap: 12px;\n",
              "    }\n",
              "\n",
              "    .colab-df-convert {\n",
              "      background-color: #E8F0FE;\n",
              "      border: none;\n",
              "      border-radius: 50%;\n",
              "      cursor: pointer;\n",
              "      display: none;\n",
              "      fill: #1967D2;\n",
              "      height: 32px;\n",
              "      padding: 0 0 0 0;\n",
              "      width: 32px;\n",
              "    }\n",
              "\n",
              "    .colab-df-convert:hover {\n",
              "      background-color: #E2EBFA;\n",
              "      box-shadow: 0px 1px 2px rgba(60, 64, 67, 0.3), 0px 1px 3px 1px rgba(60, 64, 67, 0.15);\n",
              "      fill: #174EA6;\n",
              "    }\n",
              "\n",
              "    .colab-df-buttons div {\n",
              "      margin-bottom: 4px;\n",
              "    }\n",
              "\n",
              "    [theme=dark] .colab-df-convert {\n",
              "      background-color: #3B4455;\n",
              "      fill: #D2E3FC;\n",
              "    }\n",
              "\n",
              "    [theme=dark] .colab-df-convert:hover {\n",
              "      background-color: #434B5C;\n",
              "      box-shadow: 0px 1px 3px 1px rgba(0, 0, 0, 0.15);\n",
              "      filter: drop-shadow(0px 1px 2px rgba(0, 0, 0, 0.3));\n",
              "      fill: #FFFFFF;\n",
              "    }\n",
              "  </style>\n",
              "\n",
              "    <script>\n",
              "      const buttonEl =\n",
              "        document.querySelector('#df-f7b93311-5399-4e4e-9875-4c93fe4feed0 button.colab-df-convert');\n",
              "      buttonEl.style.display =\n",
              "        google.colab.kernel.accessAllowed ? 'block' : 'none';\n",
              "\n",
              "      async function convertToInteractive(key) {\n",
              "        const element = document.querySelector('#df-f7b93311-5399-4e4e-9875-4c93fe4feed0');\n",
              "        const dataTable =\n",
              "          await google.colab.kernel.invokeFunction('convertToInteractive',\n",
              "                                                    [key], {});\n",
              "        if (!dataTable) return;\n",
              "\n",
              "        const docLinkHtml = 'Like what you see? Visit the ' +\n",
              "          '<a target=\"_blank\" href=https://colab.research.google.com/notebooks/data_table.ipynb>data table notebook</a>'\n",
              "          + ' to learn more about interactive tables.';\n",
              "        element.innerHTML = '';\n",
              "        dataTable['output_type'] = 'display_data';\n",
              "        await google.colab.output.renderOutput(dataTable, element);\n",
              "        const docLink = document.createElement('div');\n",
              "        docLink.innerHTML = docLinkHtml;\n",
              "        element.appendChild(docLink);\n",
              "      }\n",
              "    </script>\n",
              "  </div>\n",
              "\n",
              "\n",
              "    <div id=\"df-f8f375b6-f6ea-45d2-99b4-7f66edeac9af\">\n",
              "      <button class=\"colab-df-quickchart\" onclick=\"quickchart('df-f8f375b6-f6ea-45d2-99b4-7f66edeac9af')\"\n",
              "                title=\"Suggest charts\"\n",
              "                style=\"display:none;\">\n",
              "\n",
              "<svg xmlns=\"http://www.w3.org/2000/svg\" height=\"24px\"viewBox=\"0 0 24 24\"\n",
              "     width=\"24px\">\n",
              "    <g>\n",
              "        <path d=\"M19 3H5c-1.1 0-2 .9-2 2v14c0 1.1.9 2 2 2h14c1.1 0 2-.9 2-2V5c0-1.1-.9-2-2-2zM9 17H7v-7h2v7zm4 0h-2V7h2v10zm4 0h-2v-4h2v4z\"/>\n",
              "    </g>\n",
              "</svg>\n",
              "      </button>\n",
              "\n",
              "<style>\n",
              "  .colab-df-quickchart {\n",
              "      --bg-color: #E8F0FE;\n",
              "      --fill-color: #1967D2;\n",
              "      --hover-bg-color: #E2EBFA;\n",
              "      --hover-fill-color: #174EA6;\n",
              "      --disabled-fill-color: #AAA;\n",
              "      --disabled-bg-color: #DDD;\n",
              "  }\n",
              "\n",
              "  [theme=dark] .colab-df-quickchart {\n",
              "      --bg-color: #3B4455;\n",
              "      --fill-color: #D2E3FC;\n",
              "      --hover-bg-color: #434B5C;\n",
              "      --hover-fill-color: #FFFFFF;\n",
              "      --disabled-bg-color: #3B4455;\n",
              "      --disabled-fill-color: #666;\n",
              "  }\n",
              "\n",
              "  .colab-df-quickchart {\n",
              "    background-color: var(--bg-color);\n",
              "    border: none;\n",
              "    border-radius: 50%;\n",
              "    cursor: pointer;\n",
              "    display: none;\n",
              "    fill: var(--fill-color);\n",
              "    height: 32px;\n",
              "    padding: 0;\n",
              "    width: 32px;\n",
              "  }\n",
              "\n",
              "  .colab-df-quickchart:hover {\n",
              "    background-color: var(--hover-bg-color);\n",
              "    box-shadow: 0 1px 2px rgba(60, 64, 67, 0.3), 0 1px 3px 1px rgba(60, 64, 67, 0.15);\n",
              "    fill: var(--button-hover-fill-color);\n",
              "  }\n",
              "\n",
              "  .colab-df-quickchart-complete:disabled,\n",
              "  .colab-df-quickchart-complete:disabled:hover {\n",
              "    background-color: var(--disabled-bg-color);\n",
              "    fill: var(--disabled-fill-color);\n",
              "    box-shadow: none;\n",
              "  }\n",
              "\n",
              "  .colab-df-spinner {\n",
              "    border: 2px solid var(--fill-color);\n",
              "    border-color: transparent;\n",
              "    border-bottom-color: var(--fill-color);\n",
              "    animation:\n",
              "      spin 1s steps(1) infinite;\n",
              "  }\n",
              "\n",
              "  @keyframes spin {\n",
              "    0% {\n",
              "      border-color: transparent;\n",
              "      border-bottom-color: var(--fill-color);\n",
              "      border-left-color: var(--fill-color);\n",
              "    }\n",
              "    20% {\n",
              "      border-color: transparent;\n",
              "      border-left-color: var(--fill-color);\n",
              "      border-top-color: var(--fill-color);\n",
              "    }\n",
              "    30% {\n",
              "      border-color: transparent;\n",
              "      border-left-color: var(--fill-color);\n",
              "      border-top-color: var(--fill-color);\n",
              "      border-right-color: var(--fill-color);\n",
              "    }\n",
              "    40% {\n",
              "      border-color: transparent;\n",
              "      border-right-color: var(--fill-color);\n",
              "      border-top-color: var(--fill-color);\n",
              "    }\n",
              "    60% {\n",
              "      border-color: transparent;\n",
              "      border-right-color: var(--fill-color);\n",
              "    }\n",
              "    80% {\n",
              "      border-color: transparent;\n",
              "      border-right-color: var(--fill-color);\n",
              "      border-bottom-color: var(--fill-color);\n",
              "    }\n",
              "    90% {\n",
              "      border-color: transparent;\n",
              "      border-bottom-color: var(--fill-color);\n",
              "    }\n",
              "  }\n",
              "</style>\n",
              "\n",
              "      <script>\n",
              "        async function quickchart(key) {\n",
              "          const quickchartButtonEl =\n",
              "            document.querySelector('#' + key + ' button');\n",
              "          quickchartButtonEl.disabled = true;  // To prevent multiple clicks.\n",
              "          quickchartButtonEl.classList.add('colab-df-spinner');\n",
              "          try {\n",
              "            const charts = await google.colab.kernel.invokeFunction(\n",
              "                'suggestCharts', [key], {});\n",
              "          } catch (error) {\n",
              "            console.error('Error during call to suggestCharts:', error);\n",
              "          }\n",
              "          quickchartButtonEl.classList.remove('colab-df-spinner');\n",
              "          quickchartButtonEl.classList.add('colab-df-quickchart-complete');\n",
              "        }\n",
              "        (() => {\n",
              "          let quickchartButtonEl =\n",
              "            document.querySelector('#df-f8f375b6-f6ea-45d2-99b4-7f66edeac9af button');\n",
              "          quickchartButtonEl.style.display =\n",
              "            google.colab.kernel.accessAllowed ? 'block' : 'none';\n",
              "        })();\n",
              "      </script>\n",
              "    </div>\n",
              "\n",
              "    </div>\n",
              "  </div>\n"
            ],
            "application/vnd.google.colaboratory.intrinsic+json": {
              "type": "dataframe"
            }
          },
          "metadata": {},
          "execution_count": 24
        }
      ]
    },
    {
      "cell_type": "markdown",
      "source": [
        "You can get a rough description of the types of visualisation in the `text_visualise` module, like below:\n",
        "\n",
        "🥼 SHAP library has got even more types of graphs, but currently they are not connected to the stylometric pipeline.  "
      ],
      "metadata": {
        "id": "fPTQffTn9bTh"
      }
    },
    {
      "cell_type": "code",
      "source": [
        "from cl_explainable_stylo import text_visualise\n",
        "help(text_visualise)"
      ],
      "metadata": {
        "id": "wtUhRXSa9cfa",
        "outputId": "ee185535-24fb-4602-c2ca-ea4a8f543309",
        "colab": {
          "base_uri": "https://localhost:8080/"
        }
      },
      "execution_count": 25,
      "outputs": [
        {
          "output_type": "stream",
          "name": "stdout",
          "text": [
            "Help on module cl_explainable_stylo.text_visualise in cl_explainable_stylo:\n",
            "\n",
            "NAME\n",
            "    cl_explainable_stylo.text_visualise\n",
            "\n",
            "DESCRIPTION\n",
            "    This module provides wrapper functions for presenting and plotting classification results and their explanations.\n",
            "    The modules you might need to run first are 'preprocess_spacy.py' module, to first load and preprocess the texts,\n",
            "    'feature_extraction.py' module, to extract interesting textual features, and 'text_classify.py', to classify texts using these features.\n",
            "    \n",
            "    It includes functions to ...\n",
            "    \n",
            "    Author: Jeremi K. Ochab\n",
            "    Date: June 27, 2023\n",
            "\n",
            "FUNCTIONS\n",
            "    match_lextype(doc, feature_values, lextype=10, option='feature_type')\n",
            "    \n",
            "    plot_group_summary(shap_values, feature_names, metadata, group_by, max_display=10, color=None, axis_color='#333333', show=True, color_legend=True, color_legend_label=None, filename='', title='')\n",
            "        Create a SHAP beeswarm plot, colored by feature values when they are provided.\n",
            "        Parameters\n",
            "        ----------\n",
            "        shap_values : Explanation\n",
            "            This is an :class:`.Explanation` object containing a matrix of SHAP values\n",
            "            (# samples x # features).\n",
            "        max_display : int\n",
            "            How many top features to include in the plot (default is 10, or 7 for\n",
            "            interaction plots).\n",
            "        show : bool\n",
            "            Whether ``matplotlib.pyplot.show()`` is called before returning.\n",
            "            Setting this to ``False`` allows the plot\n",
            "            to be customized further after it has been created.\n",
            "        color_legend : bool\n",
            "            Whether to draw the color legend.\n",
            "        Notes\n",
            "        --------\n",
            "        Abdriged and modified from <https://github.com/slundberg/shap/blob/master/shap/plots/_beeswarm.py>.\n",
            "    \n",
            "    plot_summary(explanations, feature_dataframe, show=True, max_display=20, filename='', title='')\n",
            "    \n",
            "    plot_text(explanations, show=True, max_display=20, filename='', title='')\n",
            "\n",
            "DATA\n",
            "    colormaps = <matplotlib.cm.ColormapRegistry object>\n",
            "    labels = {'FEATURE': 'Feature %s', 'FEATURE_VALUE': 'Feature value', '...\n",
            "\n",
            "FILE\n",
            "    /content/Wshop-ExplainableStylo/cl_explainable_stylo/text_visualise.py\n",
            "\n",
            "\n"
          ]
        }
      ]
    },
    {
      "cell_type": "code",
      "source": [
        "exp.plot_summary()"
      ],
      "metadata": {
        "id": "w2eFpFtV9nTw",
        "outputId": "8f50fc4e-c09f-4e3e-b833-3cc3f2caa752",
        "colab": {
          "base_uri": "https://localhost:8080/",
          "height": 724
        }
      },
      "execution_count": 26,
      "outputs": [
        {
          "output_type": "stream",
          "name": "stderr",
          "text": [
            "/content/Wshop-ExplainableStylo/cl_explainable_stylo/text_visualise.py:40: FutureWarning: The NumPy global RNG was seeded by calling `np.random.seed`. In a future version this function will no longer use the global RNG. Pass `rng` explicitly to opt-in to the new behaviour and silence this warning.\n",
            "  shap.summary_plot(explanations, feature_dataframe, show = False, max_display = max_display)\n",
            "/usr/local/lib/python3.11/dist-packages/shap/plots/_beeswarm.py:1153: UserWarning: Tight layout not applied. The left and right margins cannot be made large enough to accommodate all Axes decorations.\n",
            "  pl.tight_layout()\n"
          ]
        },
        {
          "output_type": "display_data",
          "data": {
            "text/plain": [
              "<Figure size 800x950 with 2 Axes>"
            ],
            "image/png": "[encoded data removed]"
          },
          "metadata": {}
        }
      ]
    },
    {
      "cell_type": "code",
      "source": [
        "exp.plot_group_summary('author')"
      ],
      "metadata": {
        "id": "BiaNO-4o9rgP",
        "outputId": "b40ed5bf-a01d-4705-8c89-57189e62899e",
        "colab": {
          "base_uri": "https://localhost:8080/",
          "height": 465
        }
      },
      "execution_count": 27,
      "outputs": [
        {
          "output_type": "stream",
          "name": "stderr",
          "text": [
            "/content/Wshop-ExplainableStylo/cl_explainable_stylo/text_visualise.py:151: UserWarning: Tight layout not applied. The left and right margins cannot be made large enough to accommodate all Axes decorations.\n",
            "  plt.tight_layout()\n"
          ]
        },
        {
          "output_type": "display_data",
          "data": {
            "text/plain": [
              "<Figure size 640x480 with 1 Axes>"
            ],
            "image/png": "[encoded data removed]"
          },
          "metadata": {}
        }
      ]
    },
    {
      "cell_type": "code",
      "source": [
        "exp.plot_text(8)"
      ],
      "metadata": {
        "id": "9da_tDgo9uYw",
        "outputId": "ec2a5405-0260-453d-fea3-7ea3c62598f1",
        "colab": {
          "base_uri": "https://localhost:8080/",
          "height": 799
        }
      },
      "execution_count": 28,
      "outputs": [
        {
          "output_type": "display_data",
          "data": {
            "text/plain": [
              "<Figure size 800x1150 with 3 Axes>"
            ],
            "image/png": "[encoded data removed]"
          },
          "metadata": {}
        }
      ]
    },
    {
      "cell_type": "code",
      "source": [
        "# exp.plot_group_texts('class',group='dukaj') # not working at the moment"
      ],
      "metadata": {
        "id": "PyLzFgsg9yLM"
      },
      "execution_count": 29,
      "outputs": []
    },
    {
      "cell_type": "markdown",
      "source": [
        "Finally, if you would like to see these features highlighted in a given text, set the `index` of the sample that you want to look at, and the SHAP percentiles to limit the number of features shown.\n",
        "\n",
        "Run the cells below."
      ],
      "metadata": {
        "id": "_L5SR43cZhmR"
      }
    },
    {
      "cell_type": "code",
      "source": [
        "gorny_percentyl = 0.99 # features indicating class 0\n",
        "dolny_percentyl = 0.01 # features indicating class 1\n",
        "index = 8"
      ],
      "metadata": {
        "id": "g3WLDk2MU2Rs"
      },
      "execution_count": 54,
      "outputs": []
    },
    {
      "cell_type": "code",
      "source": [
        "import re\n",
        "import numpy as np\n",
        "from cl_explainable_stylo import feature_extraction, shared_module, text_visualise\n",
        "\n",
        "df_wiz = pd.DataFrame({'shap': exp.explanations.shap_average[index],'freq':exp.explanations.shap_cv[index][0].data,'feature_names':exp.feature_names,\n",
        "                       'lextypes': [int(re.search(r\"_\\d{2}$\", f).group()[1:]) for f in exp.feature_names],# [int(f.split('_')[-1]) for f in feature_names]\n",
        "                       'feature_types':[feature_extraction.dic_to_lextypes[int(re.search(r\"_\\d{2}$\", f).group()[1:])] for f in exp.feature_names]})# ZAKŁADAJĄC, ŻE MAM 1000 CECH Z KAŻDEGO RODZAJU\n",
        "df_wiz['shap_pct']=df_wiz['shap'].rank(pct=True).round(2)\n",
        "\n",
        "# WYBIERZ N NAJMOCNIEJSZYCH CECH\n",
        "# najwieksze = pd.merge(df_wiz.nlargest(100,'shap').round(decimals=2),\n",
        "#                      df_wiz.nsmallest(100,'shap').round(decimals=2),how='outer')\n",
        "# WYBIERZ N NAJMOCNIEJSZYCH CECH DANEGO TEKSTU\n",
        "feat_largest = np.argsort(-np.abs(exp.explanations.shap_average[index]))[0:9]\n",
        "najwieksze = df_wiz[df_wiz.feature_names.isin( np.array(exp.feature_names)[feat_largest] )].round(decimals=2)\n",
        "# WYBIERZ NAJMOCNIEJSZE CECHY WG PERCENTYLI\n",
        "# najwieksze = pd.merge(df_wiz[df_wiz['shap_pct']>gorny_percentyl].round(decimals=2),\n",
        "#                      df_wiz[df_wiz['shap_pct']<dolny_percentyl].round(decimals=2),how='outer')\n",
        "# WYBIERZ POJEDYNCZĄ CECHĘ\n",
        "# najwieksze  = df_wiz.sort_values('shap',ascending=False).iloc[cecha:cecha+1].round(decimals=2)\n",
        "\n",
        "najwieksze = najwieksze.reset_index()\n",
        "\n",
        "# ATTRIBUTES: https://spacy.io/api/matcher#patterns\n",
        "# Działa dla:\n",
        "# ['LEMMA','POS','MORPH','LOWER','ORTH','D2-LOWER','D2-LEMMA']\n",
        "doc = shared_module.nlp(exp.docs_subsampled[index].text)\n",
        "doc.spans['ALL'] = list()\n",
        "# for lt in feature_scheme['features']:\n",
        "#     # print(lt)\n",
        "#     match_lextype(doc.doc,feature_values=najwieksze,lextype=lt)\n",
        "#     doc.spans['ALL'].extend(doc.spans[str(lt)])\n",
        "for i, row in najwieksze.iterrows():\n",
        "    text_visualise.match_lextype(doc.doc,feature_values=row,lextype=row['lextypes'],option='feature')\n",
        "    doc.spans['ALL'].extend(doc.spans[row['feature_names'].split('_')[0]])\n",
        "\n",
        "#     Dodać Span.set_extension z wartością SHAP? Można związać z tym jakiś wektor...\n",
        "\n",
        "import spacy\n",
        "from spacy import displacy\n",
        "# https://spacy.io/api/top-level#displacy.render\n",
        "# https://spacy.io/usage/visualizers\n",
        "from matplotlib import pyplot as plt\n",
        "# import matplotlib as mpl\n",
        "# https://stackoverflow.com/questions/68765137/displacy-custom-colors-for-custom-entities-using-displacy\n",
        "from matplotlib.colors import to_hex\n",
        "from matplotlib import colormaps, colorbar\n",
        "\n",
        "# TO DO: POPRAW ZAKRES WARTOŚCI, PODAJ ETYKIETY KLAS NA GRANICACH\n",
        "def plot_colormap(pallete,plot = True):\n",
        "    if plot == True:\n",
        "        fig, ax = plt.subplots(figsize=(10,0.5))\n",
        "        col_map = plt.get_cmap(pallete)\n",
        "        colorbar.ColorbarBase(ax, cmap=col_map, orientation = 'horizontal')\n",
        "        return plt.show(fig)\n",
        "    else:\n",
        "        return None\n",
        "\n",
        "def choose_color(option,features):\n",
        "    colors = {}\n",
        "    if option == 'shap':\n",
        "        # POKOLORUJ WEDŁUG PERCENTYLI\n",
        "        # pallete = shap.plots.colors.red_blue # używana w SHAP beeswarm plot\n",
        "        pallete = 'PiYG' # zielone: SHAP>0, fuksja: SHAP<0, jasne: bliskie zera\n",
        "        plot_colormap(pallete,plot = True)\n",
        "\n",
        "        for sh in features['shap'].unique():\n",
        "            c = features[features['shap']==sh]['shap_pct'].mean()\n",
        "            for _, row in features[features['shap']==sh].iterrows():\n",
        "                colors[str(row['lextypes'])+'-'+feature_extraction.dic_to_lextypes[row['lextypes']]+' '+str(sh)] = to_hex(colormaps[pallete](c))\n",
        "    elif option == 'feature_types':\n",
        "        # POKOLORUJ WEDŁUG TYPU CECHY\n",
        "        pallete = 'Set3'#'tab10'\n",
        "        plot_colormap(pallete,plot = False)\n",
        "        # for lt in ['LEMMA','POS','MORPH','LOWER','D2-LOWER','D2-LEMMA']:\n",
        "        for i, lt in enumerate(features['lextypes']):\n",
        "            for _, row in features[features['lextypes']==lt].iterrows():\n",
        "                colors[str(row['lextypes'])+'-'+feature_extraction.dic_to_lextypes[row['lextypes']]+' '+str(row['shap'])] = to_hex(colormaps[pallete](i))\n",
        "    elif option == 'feature_names':\n",
        "        # POKOLORUJ WEDŁUG NAZWY CECHY\n",
        "        pallete = 'Set3'#'tab10'\n",
        "        plot_colormap(pallete,plot = False)\n",
        "        for i, row in features.iterrows():\n",
        "            colors[row['feature_names'].split('_')[0]+' '+str(row['shap'])] = to_hex(colormaps[pallete](i))\n",
        "    else:\n",
        "        print('\"option\" must be one of: \"shap\", \"feature_types\" or \"feature_names\".')\n",
        "        return\n",
        "    return colors\n",
        "\n",
        "html = displacy.render(doc, style=\"span\",options= {\"spans_key\":'ALL','colors':choose_color(option = 'feature_names',features = najwieksze)},page=True,jupyter = True)"
      ],
      "metadata": {
        "id": "wxjUX_c8Ujqj",
        "outputId": "b70ec260-d67e-4024-c404-e886f87508ae",
        "colab": {
          "base_uri": "https://localhost:8080/",
          "height": 367
        }
      },
      "execution_count": 53,
      "outputs": [
        {
          "output_type": "error",
          "ename": "TypeError",
          "evalue": "list indices must be integers or slices, not str",
          "traceback": [
            "\u001b[0;31m---------------------------------------------------------------------------\u001b[0m",
            "\u001b[0;31mTypeError\u001b[0m                                 Traceback (most recent call last)",
            "\u001b[0;32m<ipython-input-53-2444731490>\u001b[0m in \u001b[0;36m<cell line: 0>\u001b[0;34m()\u001b[0m\n\u001b[1;32m     50\u001b[0m     \u001b[0;32mreturn\u001b[0m \u001b[0mcolors\u001b[0m\u001b[0;34m\u001b[0m\u001b[0;34m\u001b[0m\u001b[0m\n\u001b[1;32m     51\u001b[0m \u001b[0;34m\u001b[0m\u001b[0m\n\u001b[0;32m---> 52\u001b[0;31m \u001b[0mdisplacy\u001b[0m\u001b[0;34m.\u001b[0m\u001b[0mrender\u001b[0m\u001b[0;34m(\u001b[0m\u001b[0mdoc\u001b[0m\u001b[0;34m,\u001b[0m \u001b[0mstyle\u001b[0m\u001b[0;34m=\u001b[0m\u001b[0;34m\"span\"\u001b[0m\u001b[0;34m,\u001b[0m\u001b[0moptions\u001b[0m\u001b[0;34m=\u001b[0m \u001b[0;34m{\u001b[0m\u001b[0;34m\"spans_key\"\u001b[0m\u001b[0;34m:\u001b[0m\u001b[0;34m'ALL'\u001b[0m\u001b[0;34m,\u001b[0m\u001b[0;34m'colors'\u001b[0m\u001b[0;34m:\u001b[0m\u001b[0mchoose_color\u001b[0m\u001b[0;34m(\u001b[0m\u001b[0moption\u001b[0m \u001b[0;34m=\u001b[0m \u001b[0;34m'feature_types'\u001b[0m\u001b[0;34m,\u001b[0m\u001b[0mfeatures\u001b[0m \u001b[0;34m=\u001b[0m \u001b[0mexp\u001b[0m\u001b[0;34m.\u001b[0m\u001b[0mfeature_scheme\u001b[0m\u001b[0;34m[\u001b[0m\u001b[0;34m'features'\u001b[0m\u001b[0;34m]\u001b[0m\u001b[0;34m)\u001b[0m\u001b[0;34m}\u001b[0m\u001b[0;34m,\u001b[0m\u001b[0mpage\u001b[0m\u001b[0;34m=\u001b[0m\u001b[0;32mTrue\u001b[0m\u001b[0;34m)\u001b[0m\u001b[0;34m\u001b[0m\u001b[0;34m\u001b[0m\u001b[0m\n\u001b[0m\u001b[1;32m     53\u001b[0m \u001b[0;31m# html = displacy.render(doc, style=\"span\",options= {\"spans_key\":'ALL','colors':choose_color(option = 'feature_names',features = najwieksze)},page=True,jupyter = True)\u001b[0m\u001b[0;34m\u001b[0m\u001b[0;34m\u001b[0m\u001b[0m\n",
            "\u001b[0;32m<ipython-input-53-2444731490>\u001b[0m in \u001b[0;36mchoose_color\u001b[0;34m(option, features)\u001b[0m\n\u001b[1;32m     36\u001b[0m         \u001b[0mplot_colormap\u001b[0m\u001b[0;34m(\u001b[0m\u001b[0mpallete\u001b[0m\u001b[0;34m,\u001b[0m\u001b[0mplot\u001b[0m \u001b[0;34m=\u001b[0m \u001b[0;32mFalse\u001b[0m\u001b[0;34m)\u001b[0m\u001b[0;34m\u001b[0m\u001b[0;34m\u001b[0m\u001b[0m\n\u001b[1;32m     37\u001b[0m         \u001b[0;31m# for lt in ['LEMMA','POS','MORPH','LOWER','D2-LOWER','D2-LEMMA']:\u001b[0m\u001b[0;34m\u001b[0m\u001b[0;34m\u001b[0m\u001b[0m\n\u001b[0;32m---> 38\u001b[0;31m         \u001b[0;32mfor\u001b[0m \u001b[0mi\u001b[0m\u001b[0;34m,\u001b[0m \u001b[0mlt\u001b[0m \u001b[0;32min\u001b[0m \u001b[0menumerate\u001b[0m\u001b[0;34m(\u001b[0m\u001b[0mfeatures\u001b[0m\u001b[0;34m[\u001b[0m\u001b[0;34m'lextypes'\u001b[0m\u001b[0;34m]\u001b[0m\u001b[0;34m)\u001b[0m\u001b[0;34m:\u001b[0m\u001b[0;34m\u001b[0m\u001b[0;34m\u001b[0m\u001b[0m\n\u001b[0m\u001b[1;32m     39\u001b[0m             \u001b[0;32mfor\u001b[0m \u001b[0m_\u001b[0m\u001b[0;34m,\u001b[0m \u001b[0mrow\u001b[0m \u001b[0;32min\u001b[0m \u001b[0mfeatures\u001b[0m\u001b[0;34m[\u001b[0m\u001b[0mfeatures\u001b[0m\u001b[0;34m[\u001b[0m\u001b[0;34m'lextypes'\u001b[0m\u001b[0;34m]\u001b[0m\u001b[0;34m==\u001b[0m\u001b[0mlt\u001b[0m\u001b[0;34m]\u001b[0m\u001b[0;34m.\u001b[0m\u001b[0miterrows\u001b[0m\u001b[0;34m(\u001b[0m\u001b[0;34m)\u001b[0m\u001b[0;34m:\u001b[0m\u001b[0;34m\u001b[0m\u001b[0;34m\u001b[0m\u001b[0m\n\u001b[1;32m     40\u001b[0m                 \u001b[0mcolors\u001b[0m\u001b[0;34m[\u001b[0m\u001b[0mstr\u001b[0m\u001b[0;34m(\u001b[0m\u001b[0mrow\u001b[0m\u001b[0;34m[\u001b[0m\u001b[0;34m'lextypes'\u001b[0m\u001b[0;34m]\u001b[0m\u001b[0;34m)\u001b[0m\u001b[0;34m+\u001b[0m\u001b[0;34m'-'\u001b[0m\u001b[0;34m+\u001b[0m\u001b[0mfeature_extraction\u001b[0m\u001b[0;34m.\u001b[0m\u001b[0mdic_to_lextypes\u001b[0m\u001b[0;34m[\u001b[0m\u001b[0mrow\u001b[0m\u001b[0;34m[\u001b[0m\u001b[0;34m'lextypes'\u001b[0m\u001b[0;34m]\u001b[0m\u001b[0;34m]\u001b[0m\u001b[0;34m+\u001b[0m\u001b[0;34m' '\u001b[0m\u001b[0;34m+\u001b[0m\u001b[0mstr\u001b[0m\u001b[0;34m(\u001b[0m\u001b[0mrow\u001b[0m\u001b[0;34m[\u001b[0m\u001b[0;34m'shap'\u001b[0m\u001b[0;34m]\u001b[0m\u001b[0;34m)\u001b[0m\u001b[0;34m]\u001b[0m \u001b[0;34m=\u001b[0m \u001b[0mto_hex\u001b[0m\u001b[0;34m(\u001b[0m\u001b[0mcolormaps\u001b[0m\u001b[0;34m[\u001b[0m\u001b[0mpallete\u001b[0m\u001b[0;34m]\u001b[0m\u001b[0;34m(\u001b[0m\u001b[0mi\u001b[0m\u001b[0;34m)\u001b[0m\u001b[0;34m)\u001b[0m\u001b[0;34m\u001b[0m\u001b[0;34m\u001b[0m\u001b[0m\n",
            "\u001b[0;31mTypeError\u001b[0m: list indices must be integers or slices, not str"
          ]
        }
      ]
    },
    {
      "cell_type": "markdown",
      "metadata": {
        "id": "JJLTRw_ctkoL"
      },
      "source": [
        "## 🧪 Your Playground\n",
        "\n",
        "You can now run your own analyses using functions from `cl_explainable_stylo`, loading texts and experimenting with stylistic explainability."
      ]
    }
  ],
  "metadata": {
    "kernelspec": {
      "display_name": "Python 3",
      "language": "python",
      "name": "python3"
    },
    "language_info": {
      "name": "python",
      "version": "3.x"
    },
    "colab": {
      "provenance": []
    },
    "widgets": {
      "application/vnd.jupyter.widget-state+json": {
        "4437c02e0d574084854360b457d0b529": {
          "model_module": "@jupyter-widgets/controls",
          "model_name": "HBoxModel",
          "model_module_version": "1.5.0",
          "state": {
            "_dom_classes": [],
            "_model_module": "@jupyter-widgets/controls",
            "_model_module_version": "1.5.0",
            "_model_name": "HBoxModel",
            "_view_count": null,
            "_view_module": "@jupyter-widgets/controls",
            "_view_module_version": "1.5.0",
            "_view_name": "HBoxView",
            "box_style": "",
            "children": [
              "IPY_MODEL_2c7edefebfe74fa5b52c29a2cdd5b249",
              "IPY_MODEL_32a259a0f5b94b09b3b9fa59c49a4457",
              "IPY_MODEL_bb792715903e444e82554aad0d4a78bb"
            ],
            "layout": "IPY_MODEL_bfb1f755d1de460bb9ab9f5c63ed0b89"
          }
        },
        "2c7edefebfe74fa5b52c29a2cdd5b249": {
          "model_module": "@jupyter-widgets/controls",
          "model_name": "HTMLModel",
          "model_module_version": "1.5.0",
          "state": {
            "_dom_classes": [],
            "_model_module": "@jupyter-widgets/controls",
            "_model_module_version": "1.5.0",
            "_model_name": "HTMLModel",
            "_view_count": null,
            "_view_module": "@jupyter-widgets/controls",
            "_view_module_version": "1.5.0",
            "_view_name": "HTMLView",
            "description": "",
            "description_tooltip": null,
            "layout": "IPY_MODEL_8b66615719f74cd4b6fbdada46875bf3",
            "placeholder": "​",
            "style": "IPY_MODEL_8e3228c327964dc287eb076e20e21b64",
            "value": ""
          }
        },
        "32a259a0f5b94b09b3b9fa59c49a4457": {
          "model_module": "@jupyter-widgets/controls",
          "model_name": "FloatProgressModel",
          "model_module_version": "1.5.0",
          "state": {
            "_dom_classes": [],
            "_model_module": "@jupyter-widgets/controls",
            "_model_module_version": "1.5.0",
            "_model_name": "FloatProgressModel",
            "_view_count": null,
            "_view_module": "@jupyter-widgets/controls",
            "_view_module_version": "1.5.0",
            "_view_name": "ProgressView",
            "bar_style": "success",
            "description": "",
            "description_tooltip": null,
            "layout": "IPY_MODEL_bf7ea878ee81423b99934fe529b6e07d",
            "max": 1,
            "min": 0,
            "orientation": "horizontal",
            "style": "IPY_MODEL_d23186dbe8094e88a6bf62829c3c7d79",
            "value": 1
          }
        },
        "bb792715903e444e82554aad0d4a78bb": {
          "model_module": "@jupyter-widgets/controls",
          "model_name": "HTMLModel",
          "model_module_version": "1.5.0",
          "state": {
            "_dom_classes": [],
            "_model_module": "@jupyter-widgets/controls",
            "_model_module_version": "1.5.0",
            "_model_name": "HTMLModel",
            "_view_count": null,
            "_view_module": "@jupyter-widgets/controls",
            "_view_module_version": "1.5.0",
            "_view_name": "HTMLView",
            "description": "",
            "description_tooltip": null,
            "layout": "IPY_MODEL_a4f49f418d07407a853c0b2c9c2dfe9f",
            "placeholder": "​",
            "style": "IPY_MODEL_99df5b736a4847b2b00f314505e957ae",
            "value": " 2/? [00:00&lt;00:00, 58.84it/s]"
          }
        },
        "bfb1f755d1de460bb9ab9f5c63ed0b89": {
          "model_module": "@jupyter-widgets/base",
          "model_name": "LayoutModel",
          "model_module_version": "1.2.0",
          "state": {
            "_model_module": "@jupyter-widgets/base",
            "_model_module_version": "1.2.0",
            "_model_name": "LayoutModel",
            "_view_count": null,
            "_view_module": "@jupyter-widgets/base",
            "_view_module_version": "1.2.0",
            "_view_name": "LayoutView",
            "align_content": null,
            "align_items": null,
            "align_self": null,
            "border": null,
            "bottom": null,
            "display": null,
            "flex": null,
            "flex_flow": null,
            "grid_area": null,
            "grid_auto_columns": null,
            "grid_auto_flow": null,
            "grid_auto_rows": null,
            "grid_column": null,
            "grid_gap": null,
            "grid_row": null,
            "grid_template_areas": null,
            "grid_template_columns": null,
            "grid_template_rows": null,
            "height": null,
            "justify_content": null,
            "justify_items": null,
            "left": null,
            "margin": null,
            "max_height": null,
            "max_width": null,
            "min_height": null,
            "min_width": null,
            "object_fit": null,
            "object_position": null,
            "order": null,
            "overflow": null,
            "overflow_x": null,
            "overflow_y": null,
            "padding": null,
            "right": null,
            "top": null,
            "visibility": null,
            "width": null
          }
        },
        "8b66615719f74cd4b6fbdada46875bf3": {
          "model_module": "@jupyter-widgets/base",
          "model_name": "LayoutModel",
          "model_module_version": "1.2.0",
          "state": {
            "_model_module": "@jupyter-widgets/base",
            "_model_module_version": "1.2.0",
            "_model_name": "LayoutModel",
            "_view_count": null,
            "_view_module": "@jupyter-widgets/base",
            "_view_module_version": "1.2.0",
            "_view_name": "LayoutView",
            "align_content": null,
            "align_items": null,
            "align_self": null,
            "border": null,
            "bottom": null,
            "display": null,
            "flex": null,
            "flex_flow": null,
            "grid_area": null,
            "grid_auto_columns": null,
            "grid_auto_flow": null,
            "grid_auto_rows": null,
            "grid_column": null,
            "grid_gap": null,
            "grid_row": null,
            "grid_template_areas": null,
            "grid_template_columns": null,
            "grid_template_rows": null,
            "height": null,
            "justify_content": null,
            "justify_items": null,
            "left": null,
            "margin": null,
            "max_height": null,
            "max_width": null,
            "min_height": null,
            "min_width": null,
            "object_fit": null,
            "object_position": null,
            "order": null,
            "overflow": null,
            "overflow_x": null,
            "overflow_y": null,
            "padding": null,
            "right": null,
            "top": null,
            "visibility": null,
            "width": null
          }
        },
        "8e3228c327964dc287eb076e20e21b64": {
          "model_module": "@jupyter-widgets/controls",
          "model_name": "DescriptionStyleModel",
          "model_module_version": "1.5.0",
          "state": {
            "_model_module": "@jupyter-widgets/controls",
            "_model_module_version": "1.5.0",
            "_model_name": "DescriptionStyleModel",
            "_view_count": null,
            "_view_module": "@jupyter-widgets/base",
            "_view_module_version": "1.2.0",
            "_view_name": "StyleView",
            "description_width": ""
          }
        },
        "bf7ea878ee81423b99934fe529b6e07d": {
          "model_module": "@jupyter-widgets/base",
          "model_name": "LayoutModel",
          "model_module_version": "1.2.0",
          "state": {
            "_model_module": "@jupyter-widgets/base",
            "_model_module_version": "1.2.0",
            "_model_name": "LayoutModel",
            "_view_count": null,
            "_view_module": "@jupyter-widgets/base",
            "_view_module_version": "1.2.0",
            "_view_name": "LayoutView",
            "align_content": null,
            "align_items": null,
            "align_self": null,
            "border": null,
            "bottom": null,
            "display": null,
            "flex": null,
            "flex_flow": null,
            "grid_area": null,
            "grid_auto_columns": null,
            "grid_auto_flow": null,
            "grid_auto_rows": null,
            "grid_column": null,
            "grid_gap": null,
            "grid_row": null,
            "grid_template_areas": null,
            "grid_template_columns": null,
            "grid_template_rows": null,
            "height": null,
            "justify_content": null,
            "justify_items": null,
            "left": null,
            "margin": null,
            "max_height": null,
            "max_width": null,
            "min_height": null,
            "min_width": null,
            "object_fit": null,
            "object_position": null,
            "order": null,
            "overflow": null,
            "overflow_x": null,
            "overflow_y": null,
            "padding": null,
            "right": null,
            "top": null,
            "visibility": null,
            "width": "20px"
          }
        },
        "d23186dbe8094e88a6bf62829c3c7d79": {
          "model_module": "@jupyter-widgets/controls",
          "model_name": "ProgressStyleModel",
          "model_module_version": "1.5.0",
          "state": {
            "_model_module": "@jupyter-widgets/controls",
            "_model_module_version": "1.5.0",
            "_model_name": "ProgressStyleModel",
            "_view_count": null,
            "_view_module": "@jupyter-widgets/base",
            "_view_module_version": "1.2.0",
            "_view_name": "StyleView",
            "bar_color": null,
            "description_width": ""
          }
        },
        "a4f49f418d07407a853c0b2c9c2dfe9f": {
          "model_module": "@jupyter-widgets/base",
          "model_name": "LayoutModel",
          "model_module_version": "1.2.0",
          "state": {
            "_model_module": "@jupyter-widgets/base",
            "_model_module_version": "1.2.0",
            "_model_name": "LayoutModel",
            "_view_count": null,
            "_view_module": "@jupyter-widgets/base",
            "_view_module_version": "1.2.0",
            "_view_name": "LayoutView",
            "align_content": null,
            "align_items": null,
            "align_self": null,
            "border": null,
            "bottom": null,
            "display": null,
            "flex": null,
            "flex_flow": null,
            "grid_area": null,
            "grid_auto_columns": null,
            "grid_auto_flow": null,
            "grid_auto_rows": null,
            "grid_column": null,
            "grid_gap": null,
            "grid_row": null,
            "grid_template_areas": null,
            "grid_template_columns": null,
            "grid_template_rows": null,
            "height": null,
            "justify_content": null,
            "justify_items": null,
            "left": null,
            "margin": null,
            "max_height": null,
            "max_width": null,
            "min_height": null,
            "min_width": null,
            "object_fit": null,
            "object_position": null,
            "order": null,
            "overflow": null,
            "overflow_x": null,
            "overflow_y": null,
            "padding": null,
            "right": null,
            "top": null,
            "visibility": null,
            "width": null
          }
        },
        "99df5b736a4847b2b00f314505e957ae": {
          "model_module": "@jupyter-widgets/controls",
          "model_name": "DescriptionStyleModel",
          "model_module_version": "1.5.0",
          "state": {
            "_model_module": "@jupyter-widgets/controls",
            "_model_module_version": "1.5.0",
            "_model_name": "DescriptionStyleModel",
            "_view_count": null,
            "_view_module": "@jupyter-widgets/base",
            "_view_module_version": "1.2.0",
            "_view_name": "StyleView",
            "description_width": ""
          }
        },
        "21c49226c1114594a50555f1587ac261": {
          "model_module": "@jupyter-widgets/controls",
          "model_name": "HBoxModel",
          "model_module_version": "1.5.0",
          "state": {
            "_dom_classes": [],
            "_model_module": "@jupyter-widgets/controls",
            "_model_module_version": "1.5.0",
            "_model_name": "HBoxModel",
            "_view_count": null,
            "_view_module": "@jupyter-widgets/controls",
            "_view_module_version": "1.5.0",
            "_view_name": "HBoxView",
            "box_style": "",
            "children": [
              "IPY_MODEL_229ed3a8ae034ed8a57da0d6276b8af4",
              "IPY_MODEL_7e4d5a66453c487daf9b84bbd0fc193e",
              "IPY_MODEL_d60c0dcbf3ba414583b1cc3455edbd95"
            ],
            "layout": "IPY_MODEL_fc4dd44a6513405cae5f482b24dc9d6b"
          }
        },
        "229ed3a8ae034ed8a57da0d6276b8af4": {
          "model_module": "@jupyter-widgets/controls",
          "model_name": "HTMLModel",
          "model_module_version": "1.5.0",
          "state": {
            "_dom_classes": [],
            "_model_module": "@jupyter-widgets/controls",
            "_model_module_version": "1.5.0",
            "_model_name": "HTMLModel",
            "_view_count": null,
            "_view_module": "@jupyter-widgets/controls",
            "_view_module_version": "1.5.0",
            "_view_name": "HTMLView",
            "description": "",
            "description_tooltip": null,
            "layout": "IPY_MODEL_4c92ddc0900b42dda62dcdf77970fd1e",
            "placeholder": "​",
            "style": "IPY_MODEL_fa2342c3651c4fcbba2282da3c4ac4de",
            "value": ""
          }
        },
        "7e4d5a66453c487daf9b84bbd0fc193e": {
          "model_module": "@jupyter-widgets/controls",
          "model_name": "FloatProgressModel",
          "model_module_version": "1.5.0",
          "state": {
            "_dom_classes": [],
            "_model_module": "@jupyter-widgets/controls",
            "_model_module_version": "1.5.0",
            "_model_name": "FloatProgressModel",
            "_view_count": null,
            "_view_module": "@jupyter-widgets/controls",
            "_view_module_version": "1.5.0",
            "_view_name": "ProgressView",
            "bar_style": "success",
            "description": "",
            "description_tooltip": null,
            "layout": "IPY_MODEL_82947e27f1e240cc943587d1913a9ae5",
            "max": 1,
            "min": 0,
            "orientation": "horizontal",
            "style": "IPY_MODEL_a4a31b9711344952a1fdd6284eafb4c0",
            "value": 1
          }
        },
        "d60c0dcbf3ba414583b1cc3455edbd95": {
          "model_module": "@jupyter-widgets/controls",
          "model_name": "HTMLModel",
          "model_module_version": "1.5.0",
          "state": {
            "_dom_classes": [],
            "_model_module": "@jupyter-widgets/controls",
            "_model_module_version": "1.5.0",
            "_model_name": "HTMLModel",
            "_view_count": null,
            "_view_module": "@jupyter-widgets/controls",
            "_view_module_version": "1.5.0",
            "_view_name": "HTMLView",
            "description": "",
            "description_tooltip": null,
            "layout": "IPY_MODEL_bd034588aa10493887fda57da1485641",
            "placeholder": "​",
            "style": "IPY_MODEL_e188e00be22c47bcad12e86c0a6a1d8e",
            "value": " 2/? [00:18&lt;00:00, 18.23s/it]"
          }
        },
        "fc4dd44a6513405cae5f482b24dc9d6b": {
          "model_module": "@jupyter-widgets/base",
          "model_name": "LayoutModel",
          "model_module_version": "1.2.0",
          "state": {
            "_model_module": "@jupyter-widgets/base",
            "_model_module_version": "1.2.0",
            "_model_name": "LayoutModel",
            "_view_count": null,
            "_view_module": "@jupyter-widgets/base",
            "_view_module_version": "1.2.0",
            "_view_name": "LayoutView",
            "align_content": null,
            "align_items": null,
            "align_self": null,
            "border": null,
            "bottom": null,
            "display": null,
            "flex": null,
            "flex_flow": null,
            "grid_area": null,
            "grid_auto_columns": null,
            "grid_auto_flow": null,
            "grid_auto_rows": null,
            "grid_column": null,
            "grid_gap": null,
            "grid_row": null,
            "grid_template_areas": null,
            "grid_template_columns": null,
            "grid_template_rows": null,
            "height": null,
            "justify_content": null,
            "justify_items": null,
            "left": null,
            "margin": null,
            "max_height": null,
            "max_width": null,
            "min_height": null,
            "min_width": null,
            "object_fit": null,
            "object_position": null,
            "order": null,
            "overflow": null,
            "overflow_x": null,
            "overflow_y": null,
            "padding": null,
            "right": null,
            "top": null,
            "visibility": null,
            "width": null
          }
        },
        "4c92ddc0900b42dda62dcdf77970fd1e": {
          "model_module": "@jupyter-widgets/base",
          "model_name": "LayoutModel",
          "model_module_version": "1.2.0",
          "state": {
            "_model_module": "@jupyter-widgets/base",
            "_model_module_version": "1.2.0",
            "_model_name": "LayoutModel",
            "_view_count": null,
            "_view_module": "@jupyter-widgets/base",
            "_view_module_version": "1.2.0",
            "_view_name": "LayoutView",
            "align_content": null,
            "align_items": null,
            "align_self": null,
            "border": null,
            "bottom": null,
            "display": null,
            "flex": null,
            "flex_flow": null,
            "grid_area": null,
            "grid_auto_columns": null,
            "grid_auto_flow": null,
            "grid_auto_rows": null,
            "grid_column": null,
            "grid_gap": null,
            "grid_row": null,
            "grid_template_areas": null,
            "grid_template_columns": null,
            "grid_template_rows": null,
            "height": null,
            "justify_content": null,
            "justify_items": null,
            "left": null,
            "margin": null,
            "max_height": null,
            "max_width": null,
            "min_height": null,
            "min_width": null,
            "object_fit": null,
            "object_position": null,
            "order": null,
            "overflow": null,
            "overflow_x": null,
            "overflow_y": null,
            "padding": null,
            "right": null,
            "top": null,
            "visibility": null,
            "width": null
          }
        },
        "fa2342c3651c4fcbba2282da3c4ac4de": {
          "model_module": "@jupyter-widgets/controls",
          "model_name": "DescriptionStyleModel",
          "model_module_version": "1.5.0",
          "state": {
            "_model_module": "@jupyter-widgets/controls",
            "_model_module_version": "1.5.0",
            "_model_name": "DescriptionStyleModel",
            "_view_count": null,
            "_view_module": "@jupyter-widgets/base",
            "_view_module_version": "1.2.0",
            "_view_name": "StyleView",
            "description_width": ""
          }
        },
        "82947e27f1e240cc943587d1913a9ae5": {
          "model_module": "@jupyter-widgets/base",
          "model_name": "LayoutModel",
          "model_module_version": "1.2.0",
          "state": {
            "_model_module": "@jupyter-widgets/base",
            "_model_module_version": "1.2.0",
            "_model_name": "LayoutModel",
            "_view_count": null,
            "_view_module": "@jupyter-widgets/base",
            "_view_module_version": "1.2.0",
            "_view_name": "LayoutView",
            "align_content": null,
            "align_items": null,
            "align_self": null,
            "border": null,
            "bottom": null,
            "display": null,
            "flex": null,
            "flex_flow": null,
            "grid_area": null,
            "grid_auto_columns": null,
            "grid_auto_flow": null,
            "grid_auto_rows": null,
            "grid_column": null,
            "grid_gap": null,
            "grid_row": null,
            "grid_template_areas": null,
            "grid_template_columns": null,
            "grid_template_rows": null,
            "height": null,
            "justify_content": null,
            "justify_items": null,
            "left": null,
            "margin": null,
            "max_height": null,
            "max_width": null,
            "min_height": null,
            "min_width": null,
            "object_fit": null,
            "object_position": null,
            "order": null,
            "overflow": null,
            "overflow_x": null,
            "overflow_y": null,
            "padding": null,
            "right": null,
            "top": null,
            "visibility": null,
            "width": "20px"
          }
        },
        "a4a31b9711344952a1fdd6284eafb4c0": {
          "model_module": "@jupyter-widgets/controls",
          "model_name": "ProgressStyleModel",
          "model_module_version": "1.5.0",
          "state": {
            "_model_module": "@jupyter-widgets/controls",
            "_model_module_version": "1.5.0",
            "_model_name": "ProgressStyleModel",
            "_view_count": null,
            "_view_module": "@jupyter-widgets/base",
            "_view_module_version": "1.2.0",
            "_view_name": "StyleView",
            "bar_color": null,
            "description_width": ""
          }
        },
        "bd034588aa10493887fda57da1485641": {
          "model_module": "@jupyter-widgets/base",
          "model_name": "LayoutModel",
          "model_module_version": "1.2.0",
          "state": {
            "_model_module": "@jupyter-widgets/base",
            "_model_module_version": "1.2.0",
            "_model_name": "LayoutModel",
            "_view_count": null,
            "_view_module": "@jupyter-widgets/base",
            "_view_module_version": "1.2.0",
            "_view_name": "LayoutView",
            "align_content": null,
            "align_items": null,
            "align_self": null,
            "border": null,
            "bottom": null,
            "display": null,
            "flex": null,
            "flex_flow": null,
            "grid_area": null,
            "grid_auto_columns": null,
            "grid_auto_flow": null,
            "grid_auto_rows": null,
            "grid_column": null,
            "grid_gap": null,
            "grid_row": null,
            "grid_template_areas": null,
            "grid_template_columns": null,
            "grid_template_rows": null,
            "height": null,
            "justify_content": null,
            "justify_items": null,
            "left": null,
            "margin": null,
            "max_height": null,
            "max_width": null,
            "min_height": null,
            "min_width": null,
            "object_fit": null,
            "object_position": null,
            "order": null,
            "overflow": null,
            "overflow_x": null,
            "overflow_y": null,
            "padding": null,
            "right": null,
            "top": null,
            "visibility": null,
            "width": null
          }
        },
        "e188e00be22c47bcad12e86c0a6a1d8e": {
          "model_module": "@jupyter-widgets/controls",
          "model_name": "DescriptionStyleModel",
          "model_module_version": "1.5.0",
          "state": {
            "_model_module": "@jupyter-widgets/controls",
            "_model_module_version": "1.5.0",
            "_model_name": "DescriptionStyleModel",
            "_view_count": null,
            "_view_module": "@jupyter-widgets/base",
            "_view_module_version": "1.2.0",
            "_view_name": "StyleView",
            "description_width": ""
          }
        },
        "7c0c79405214470eac3ef1ff9eb908a6": {
          "model_module": "@jupyter-widgets/controls",
          "model_name": "HBoxModel",
          "model_module_version": "1.5.0",
          "state": {
            "_dom_classes": [],
            "_model_module": "@jupyter-widgets/controls",
            "_model_module_version": "1.5.0",
            "_model_name": "HBoxModel",
            "_view_count": null,
            "_view_module": "@jupyter-widgets/controls",
            "_view_module_version": "1.5.0",
            "_view_name": "HBoxView",
            "box_style": "",
            "children": [
              "IPY_MODEL_4a82187b035e4a8f83832a2c3b9f718b",
              "IPY_MODEL_19da3cadd1fe4189abf66f6f949f6daf",
              "IPY_MODEL_90d3972042b24ca19ca4a5ca9cbac122"
            ],
            "layout": "IPY_MODEL_e12a79ed64544aac9866d2383b148b1f"
          }
        },
        "4a82187b035e4a8f83832a2c3b9f718b": {
          "model_module": "@jupyter-widgets/controls",
          "model_name": "HTMLModel",
          "model_module_version": "1.5.0",
          "state": {
            "_dom_classes": [],
            "_model_module": "@jupyter-widgets/controls",
            "_model_module_version": "1.5.0",
            "_model_name": "HTMLModel",
            "_view_count": null,
            "_view_module": "@jupyter-widgets/controls",
            "_view_module_version": "1.5.0",
            "_view_name": "HTMLView",
            "description": "",
            "description_tooltip": null,
            "layout": "IPY_MODEL_b2dd716b8a994051a858e022fa73a749",
            "placeholder": "​",
            "style": "IPY_MODEL_84b572ae49e7451581021333dd6beb0c",
            "value": "100%"
          }
        },
        "19da3cadd1fe4189abf66f6f949f6daf": {
          "model_module": "@jupyter-widgets/controls",
          "model_name": "FloatProgressModel",
          "model_module_version": "1.5.0",
          "state": {
            "_dom_classes": [],
            "_model_module": "@jupyter-widgets/controls",
            "_model_module_version": "1.5.0",
            "_model_name": "FloatProgressModel",
            "_view_count": null,
            "_view_module": "@jupyter-widgets/controls",
            "_view_module_version": "1.5.0",
            "_view_name": "ProgressView",
            "bar_style": "success",
            "description": "",
            "description_tooltip": null,
            "layout": "IPY_MODEL_5d5ab0a5fdd74dc9910a2584e83bfdc4",
            "max": 2,
            "min": 0,
            "orientation": "horizontal",
            "style": "IPY_MODEL_13a56bb9447a40c3b2c4256b17e4d85e",
            "value": 2
          }
        },
        "90d3972042b24ca19ca4a5ca9cbac122": {
          "model_module": "@jupyter-widgets/controls",
          "model_name": "HTMLModel",
          "model_module_version": "1.5.0",
          "state": {
            "_dom_classes": [],
            "_model_module": "@jupyter-widgets/controls",
            "_model_module_version": "1.5.0",
            "_model_name": "HTMLModel",
            "_view_count": null,
            "_view_module": "@jupyter-widgets/controls",
            "_view_module_version": "1.5.0",
            "_view_name": "HTMLView",
            "description": "",
            "description_tooltip": null,
            "layout": "IPY_MODEL_298fa76f8d084c76bfb0723b6ed6617e",
            "placeholder": "​",
            "style": "IPY_MODEL_1b7fabb3cb994a0ea36edf9bef042683",
            "value": " 2/2 [00:04&lt;00:00,  2.24s/it]"
          }
        },
        "e12a79ed64544aac9866d2383b148b1f": {
          "model_module": "@jupyter-widgets/base",
          "model_name": "LayoutModel",
          "model_module_version": "1.2.0",
          "state": {
            "_model_module": "@jupyter-widgets/base",
            "_model_module_version": "1.2.0",
            "_model_name": "LayoutModel",
            "_view_count": null,
            "_view_module": "@jupyter-widgets/base",
            "_view_module_version": "1.2.0",
            "_view_name": "LayoutView",
            "align_content": null,
            "align_items": null,
            "align_self": null,
            "border": null,
            "bottom": null,
            "display": null,
            "flex": null,
            "flex_flow": null,
            "grid_area": null,
            "grid_auto_columns": null,
            "grid_auto_flow": null,
            "grid_auto_rows": null,
            "grid_column": null,
            "grid_gap": null,
            "grid_row": null,
            "grid_template_areas": null,
            "grid_template_columns": null,
            "grid_template_rows": null,
            "height": null,
            "justify_content": null,
            "justify_items": null,
            "left": null,
            "margin": null,
            "max_height": null,
            "max_width": null,
            "min_height": null,
            "min_width": null,
            "object_fit": null,
            "object_position": null,
            "order": null,
            "overflow": null,
            "overflow_x": null,
            "overflow_y": null,
            "padding": null,
            "right": null,
            "top": null,
            "visibility": null,
            "width": null
          }
        },
        "b2dd716b8a994051a858e022fa73a749": {
          "model_module": "@jupyter-widgets/base",
          "model_name": "LayoutModel",
          "model_module_version": "1.2.0",
          "state": {
            "_model_module": "@jupyter-widgets/base",
            "_model_module_version": "1.2.0",
            "_model_name": "LayoutModel",
            "_view_count": null,
            "_view_module": "@jupyter-widgets/base",
            "_view_module_version": "1.2.0",
            "_view_name": "LayoutView",
            "align_content": null,
            "align_items": null,
            "align_self": null,
            "border": null,
            "bottom": null,
            "display": null,
            "flex": null,
            "flex_flow": null,
            "grid_area": null,
            "grid_auto_columns": null,
            "grid_auto_flow": null,
            "grid_auto_rows": null,
            "grid_column": null,
            "grid_gap": null,
            "grid_row": null,
            "grid_template_areas": null,
            "grid_template_columns": null,
            "grid_template_rows": null,
            "height": null,
            "justify_content": null,
            "justify_items": null,
            "left": null,
            "margin": null,
            "max_height": null,
            "max_width": null,
            "min_height": null,
            "min_width": null,
            "object_fit": null,
            "object_position": null,
            "order": null,
            "overflow": null,
            "overflow_x": null,
            "overflow_y": null,
            "padding": null,
            "right": null,
            "top": null,
            "visibility": null,
            "width": null
          }
        },
        "84b572ae49e7451581021333dd6beb0c": {
          "model_module": "@jupyter-widgets/controls",
          "model_name": "DescriptionStyleModel",
          "model_module_version": "1.5.0",
          "state": {
            "_model_module": "@jupyter-widgets/controls",
            "_model_module_version": "1.5.0",
            "_model_name": "DescriptionStyleModel",
            "_view_count": null,
            "_view_module": "@jupyter-widgets/base",
            "_view_module_version": "1.2.0",
            "_view_name": "StyleView",
            "description_width": ""
          }
        },
        "5d5ab0a5fdd74dc9910a2584e83bfdc4": {
          "model_module": "@jupyter-widgets/base",
          "model_name": "LayoutModel",
          "model_module_version": "1.2.0",
          "state": {
            "_model_module": "@jupyter-widgets/base",
            "_model_module_version": "1.2.0",
            "_model_name": "LayoutModel",
            "_view_count": null,
            "_view_module": "@jupyter-widgets/base",
            "_view_module_version": "1.2.0",
            "_view_name": "LayoutView",
            "align_content": null,
            "align_items": null,
            "align_self": null,
            "border": null,
            "bottom": null,
            "display": null,
            "flex": null,
            "flex_flow": null,
            "grid_area": null,
            "grid_auto_columns": null,
            "grid_auto_flow": null,
            "grid_auto_rows": null,
            "grid_column": null,
            "grid_gap": null,
            "grid_row": null,
            "grid_template_areas": null,
            "grid_template_columns": null,
            "grid_template_rows": null,
            "height": null,
            "justify_content": null,
            "justify_items": null,
            "left": null,
            "margin": null,
            "max_height": null,
            "max_width": null,
            "min_height": null,
            "min_width": null,
            "object_fit": null,
            "object_position": null,
            "order": null,
            "overflow": null,
            "overflow_x": null,
            "overflow_y": null,
            "padding": null,
            "right": null,
            "top": null,
            "visibility": null,
            "width": null
          }
        },
        "13a56bb9447a40c3b2c4256b17e4d85e": {
          "model_module": "@jupyter-widgets/controls",
          "model_name": "ProgressStyleModel",
          "model_module_version": "1.5.0",
          "state": {
            "_model_module": "@jupyter-widgets/controls",
            "_model_module_version": "1.5.0",
            "_model_name": "ProgressStyleModel",
            "_view_count": null,
            "_view_module": "@jupyter-widgets/base",
            "_view_module_version": "1.2.0",
            "_view_name": "StyleView",
            "bar_color": null,
            "description_width": ""
          }
        },
        "298fa76f8d084c76bfb0723b6ed6617e": {
          "model_module": "@jupyter-widgets/base",
          "model_name": "LayoutModel",
          "model_module_version": "1.2.0",
          "state": {
            "_model_module": "@jupyter-widgets/base",
            "_model_module_version": "1.2.0",
            "_model_name": "LayoutModel",
            "_view_count": null,
            "_view_module": "@jupyter-widgets/base",
            "_view_module_version": "1.2.0",
            "_view_name": "LayoutView",
            "align_content": null,
            "align_items": null,
            "align_self": null,
            "border": null,
            "bottom": null,
            "display": null,
            "flex": null,
            "flex_flow": null,
            "grid_area": null,
            "grid_auto_columns": null,
            "grid_auto_flow": null,
            "grid_auto_rows": null,
            "grid_column": null,
            "grid_gap": null,
            "grid_row": null,
            "grid_template_areas": null,
            "grid_template_columns": null,
            "grid_template_rows": null,
            "height": null,
            "justify_content": null,
            "justify_items": null,
            "left": null,
            "margin": null,
            "max_height": null,
            "max_width": null,
            "min_height": null,
            "min_width": null,
            "object_fit": null,
            "object_position": null,
            "order": null,
            "overflow": null,
            "overflow_x": null,
            "overflow_y": null,
            "padding": null,
            "right": null,
            "top": null,
            "visibility": null,
            "width": null
          }
        },
        "1b7fabb3cb994a0ea36edf9bef042683": {
          "model_module": "@jupyter-widgets/controls",
          "model_name": "DescriptionStyleModel",
          "model_module_version": "1.5.0",
          "state": {
            "_model_module": "@jupyter-widgets/controls",
            "_model_module_version": "1.5.0",
            "_model_name": "DescriptionStyleModel",
            "_view_count": null,
            "_view_module": "@jupyter-widgets/base",
            "_view_module_version": "1.2.0",
            "_view_name": "StyleView",
            "description_width": ""
          }
        },
        "58b061aa78a845888eaec057baac143a": {
          "model_module": "@jupyter-widgets/controls",
          "model_name": "HBoxModel",
          "model_module_version": "1.5.0",
          "state": {
            "_dom_classes": [],
            "_model_module": "@jupyter-widgets/controls",
            "_model_module_version": "1.5.0",
            "_model_name": "HBoxModel",
            "_view_count": null,
            "_view_module": "@jupyter-widgets/controls",
            "_view_module_version": "1.5.0",
            "_view_name": "HBoxView",
            "box_style": "",
            "children": [
              "IPY_MODEL_8a9f3ddd3dd345a2a61ec783587755d3",
              "IPY_MODEL_3db45d31c5614da1a363e07b363e9c6f",
              "IPY_MODEL_f8923c3eea2443ba91046a9ce392a2ee"
            ],
            "layout": "IPY_MODEL_e7ace7d6f0064486843d1e40e0c2b858"
          }
        },
        "8a9f3ddd3dd345a2a61ec783587755d3": {
          "model_module": "@jupyter-widgets/controls",
          "model_name": "HTMLModel",
          "model_module_version": "1.5.0",
          "state": {
            "_dom_classes": [],
            "_model_module": "@jupyter-widgets/controls",
            "_model_module_version": "1.5.0",
            "_model_name": "HTMLModel",
            "_view_count": null,
            "_view_module": "@jupyter-widgets/controls",
            "_view_module_version": "1.5.0",
            "_view_name": "HTMLView",
            "description": "",
            "description_tooltip": null,
            "layout": "IPY_MODEL_469d8ba991b443508580df5bef7c2a27",
            "placeholder": "​",
            "style": "IPY_MODEL_c3f7948cc545450ebf6d46a2f16888d7",
            "value": "100%"
          }
        },
        "3db45d31c5614da1a363e07b363e9c6f": {
          "model_module": "@jupyter-widgets/controls",
          "model_name": "FloatProgressModel",
          "model_module_version": "1.5.0",
          "state": {
            "_dom_classes": [],
            "_model_module": "@jupyter-widgets/controls",
            "_model_module_version": "1.5.0",
            "_model_name": "FloatProgressModel",
            "_view_count": null,
            "_view_module": "@jupyter-widgets/controls",
            "_view_module_version": "1.5.0",
            "_view_name": "ProgressView",
            "bar_style": "success",
            "description": "",
            "description_tooltip": null,
            "layout": "IPY_MODEL_69a351a2a80f4b85b62cbf5dc2b66889",
            "max": 5,
            "min": 0,
            "orientation": "horizontal",
            "style": "IPY_MODEL_1d8c7e11660443659afbdd04a70534b0",
            "value": 5
          }
        },
        "f8923c3eea2443ba91046a9ce392a2ee": {
          "model_module": "@jupyter-widgets/controls",
          "model_name": "HTMLModel",
          "model_module_version": "1.5.0",
          "state": {
            "_dom_classes": [],
            "_model_module": "@jupyter-widgets/controls",
            "_model_module_version": "1.5.0",
            "_model_name": "HTMLModel",
            "_view_count": null,
            "_view_module": "@jupyter-widgets/controls",
            "_view_module_version": "1.5.0",
            "_view_name": "HTMLView",
            "description": "",
            "description_tooltip": null,
            "layout": "IPY_MODEL_f9d19699ebc04e4aa47bef7f00562fc3",
            "placeholder": "​",
            "style": "IPY_MODEL_0480216714af485996bb134a6c4e60fe",
            "value": " 5/5 [00:49&lt;00:00,  9.00s/it]"
          }
        },
        "e7ace7d6f0064486843d1e40e0c2b858": {
          "model_module": "@jupyter-widgets/base",
          "model_name": "LayoutModel",
          "model_module_version": "1.2.0",
          "state": {
            "_model_module": "@jupyter-widgets/base",
            "_model_module_version": "1.2.0",
            "_model_name": "LayoutModel",
            "_view_count": null,
            "_view_module": "@jupyter-widgets/base",
            "_view_module_version": "1.2.0",
            "_view_name": "LayoutView",
            "align_content": null,
            "align_items": null,
            "align_self": null,
            "border": null,
            "bottom": null,
            "display": null,
            "flex": null,
            "flex_flow": null,
            "grid_area": null,
            "grid_auto_columns": null,
            "grid_auto_flow": null,
            "grid_auto_rows": null,
            "grid_column": null,
            "grid_gap": null,
            "grid_row": null,
            "grid_template_areas": null,
            "grid_template_columns": null,
            "grid_template_rows": null,
            "height": null,
            "justify_content": null,
            "justify_items": null,
            "left": null,
            "margin": null,
            "max_height": null,
            "max_width": null,
            "min_height": null,
            "min_width": null,
            "object_fit": null,
            "object_position": null,
            "order": null,
            "overflow": null,
            "overflow_x": null,
            "overflow_y": null,
            "padding": null,
            "right": null,
            "top": null,
            "visibility": null,
            "width": null
          }
        },
        "469d8ba991b443508580df5bef7c2a27": {
          "model_module": "@jupyter-widgets/base",
          "model_name": "LayoutModel",
          "model_module_version": "1.2.0",
          "state": {
            "_model_module": "@jupyter-widgets/base",
            "_model_module_version": "1.2.0",
            "_model_name": "LayoutModel",
            "_view_count": null,
            "_view_module": "@jupyter-widgets/base",
            "_view_module_version": "1.2.0",
            "_view_name": "LayoutView",
            "align_content": null,
            "align_items": null,
            "align_self": null,
            "border": null,
            "bottom": null,
            "display": null,
            "flex": null,
            "flex_flow": null,
            "grid_area": null,
            "grid_auto_columns": null,
            "grid_auto_flow": null,
            "grid_auto_rows": null,
            "grid_column": null,
            "grid_gap": null,
            "grid_row": null,
            "grid_template_areas": null,
            "grid_template_columns": null,
            "grid_template_rows": null,
            "height": null,
            "justify_content": null,
            "justify_items": null,
            "left": null,
            "margin": null,
            "max_height": null,
            "max_width": null,
            "min_height": null,
            "min_width": null,
            "object_fit": null,
            "object_position": null,
            "order": null,
            "overflow": null,
            "overflow_x": null,
            "overflow_y": null,
            "padding": null,
            "right": null,
            "top": null,
            "visibility": null,
            "width": null
          }
        },
        "c3f7948cc545450ebf6d46a2f16888d7": {
          "model_module": "@jupyter-widgets/controls",
          "model_name": "DescriptionStyleModel",
          "model_module_version": "1.5.0",
          "state": {
            "_model_module": "@jupyter-widgets/controls",
            "_model_module_version": "1.5.0",
            "_model_name": "DescriptionStyleModel",
            "_view_count": null,
            "_view_module": "@jupyter-widgets/base",
            "_view_module_version": "1.2.0",
            "_view_name": "StyleView",
            "description_width": ""
          }
        },
        "69a351a2a80f4b85b62cbf5dc2b66889": {
          "model_module": "@jupyter-widgets/base",
          "model_name": "LayoutModel",
          "model_module_version": "1.2.0",
          "state": {
            "_model_module": "@jupyter-widgets/base",
            "_model_module_version": "1.2.0",
            "_model_name": "LayoutModel",
            "_view_count": null,
            "_view_module": "@jupyter-widgets/base",
            "_view_module_version": "1.2.0",
            "_view_name": "LayoutView",
            "align_content": null,
            "align_items": null,
            "align_self": null,
            "border": null,
            "bottom": null,
            "display": null,
            "flex": null,
            "flex_flow": null,
            "grid_area": null,
            "grid_auto_columns": null,
            "grid_auto_flow": null,
            "grid_auto_rows": null,
            "grid_column": null,
            "grid_gap": null,
            "grid_row": null,
            "grid_template_areas": null,
            "grid_template_columns": null,
            "grid_template_rows": null,
            "height": null,
            "justify_content": null,
            "justify_items": null,
            "left": null,
            "margin": null,
            "max_height": null,
            "max_width": null,
            "min_height": null,
            "min_width": null,
            "object_fit": null,
            "object_position": null,
            "order": null,
            "overflow": null,
            "overflow_x": null,
            "overflow_y": null,
            "padding": null,
            "right": null,
            "top": null,
            "visibility": null,
            "width": null
          }
        },
        "1d8c7e11660443659afbdd04a70534b0": {
          "model_module": "@jupyter-widgets/controls",
          "model_name": "ProgressStyleModel",
          "model_module_version": "1.5.0",
          "state": {
            "_model_module": "@jupyter-widgets/controls",
            "_model_module_version": "1.5.0",
            "_model_name": "ProgressStyleModel",
            "_view_count": null,
            "_view_module": "@jupyter-widgets/base",
            "_view_module_version": "1.2.0",
            "_view_name": "StyleView",
            "bar_color": null,
            "description_width": ""
          }
        },
        "f9d19699ebc04e4aa47bef7f00562fc3": {
          "model_module": "@jupyter-widgets/base",
          "model_name": "LayoutModel",
          "model_module_version": "1.2.0",
          "state": {
            "_model_module": "@jupyter-widgets/base",
            "_model_module_version": "1.2.0",
            "_model_name": "LayoutModel",
            "_view_count": null,
            "_view_module": "@jupyter-widgets/base",
            "_view_module_version": "1.2.0",
            "_view_name": "LayoutView",
            "align_content": null,
            "align_items": null,
            "align_self": null,
            "border": null,
            "bottom": null,
            "display": null,
            "flex": null,
            "flex_flow": null,
            "grid_area": null,
            "grid_auto_columns": null,
            "grid_auto_flow": null,
            "grid_auto_rows": null,
            "grid_column": null,
            "grid_gap": null,
            "grid_row": null,
            "grid_template_areas": null,
            "grid_template_columns": null,
            "grid_template_rows": null,
            "height": null,
            "justify_content": null,
            "justify_items": null,
            "left": null,
            "margin": null,
            "max_height": null,
            "max_width": null,
            "min_height": null,
            "min_width": null,
            "object_fit": null,
            "object_position": null,
            "order": null,
            "overflow": null,
            "overflow_x": null,
            "overflow_y": null,
            "padding": null,
            "right": null,
            "top": null,
            "visibility": null,
            "width": null
          }
        },
        "0480216714af485996bb134a6c4e60fe": {
          "model_module": "@jupyter-widgets/controls",
          "model_name": "DescriptionStyleModel",
          "model_module_version": "1.5.0",
          "state": {
            "_model_module": "@jupyter-widgets/controls",
            "_model_module_version": "1.5.0",
            "_model_name": "DescriptionStyleModel",
            "_view_count": null,
            "_view_module": "@jupyter-widgets/base",
            "_view_module_version": "1.2.0",
            "_view_name": "StyleView",
            "description_width": ""
          }
        },
        "186fd44425ff4e30b676eb68d92b7390": {
          "model_module": "@jupyter-widgets/controls",
          "model_name": "HBoxModel",
          "model_module_version": "1.5.0",
          "state": {
            "_dom_classes": [],
            "_model_module": "@jupyter-widgets/controls",
            "_model_module_version": "1.5.0",
            "_model_name": "HBoxModel",
            "_view_count": null,
            "_view_module": "@jupyter-widgets/controls",
            "_view_module_version": "1.5.0",
            "_view_name": "HBoxView",
            "box_style": "",
            "children": [
              "IPY_MODEL_5f58068fa44047b2a78c4d80037da15b",
              "IPY_MODEL_8a951fedd7634b79a90863bf3460706b",
              "IPY_MODEL_dfb5280d082446779591b3bcb82cca47"
            ],
            "layout": "IPY_MODEL_ec597782bbb542c681c1b68064e79808"
          }
        },
        "5f58068fa44047b2a78c4d80037da15b": {
          "model_module": "@jupyter-widgets/controls",
          "model_name": "HTMLModel",
          "model_module_version": "1.5.0",
          "state": {
            "_dom_classes": [],
            "_model_module": "@jupyter-widgets/controls",
            "_model_module_version": "1.5.0",
            "_model_name": "HTMLModel",
            "_view_count": null,
            "_view_module": "@jupyter-widgets/controls",
            "_view_module_version": "1.5.0",
            "_view_name": "HTMLView",
            "description": "",
            "description_tooltip": null,
            "layout": "IPY_MODEL_352c0d7a6ed94ae394999cf4c4bbdd06",
            "placeholder": "​",
            "style": "IPY_MODEL_b02225a162fe4ef0bc22416cff946a98",
            "value": "100%"
          }
        },
        "8a951fedd7634b79a90863bf3460706b": {
          "model_module": "@jupyter-widgets/controls",
          "model_name": "FloatProgressModel",
          "model_module_version": "1.5.0",
          "state": {
            "_dom_classes": [],
            "_model_module": "@jupyter-widgets/controls",
            "_model_module_version": "1.5.0",
            "_model_name": "FloatProgressModel",
            "_view_count": null,
            "_view_module": "@jupyter-widgets/controls",
            "_view_module_version": "1.5.0",
            "_view_name": "ProgressView",
            "bar_style": "success",
            "description": "",
            "description_tooltip": null,
            "layout": "IPY_MODEL_2d4fa1a57b1c4edfaee388c511b7ade0",
            "max": 1,
            "min": 0,
            "orientation": "horizontal",
            "style": "IPY_MODEL_ada7766858f7464a900090da3c55cf1e",
            "value": 1
          }
        },
        "dfb5280d082446779591b3bcb82cca47": {
          "model_module": "@jupyter-widgets/controls",
          "model_name": "HTMLModel",
          "model_module_version": "1.5.0",
          "state": {
            "_dom_classes": [],
            "_model_module": "@jupyter-widgets/controls",
            "_model_module_version": "1.5.0",
            "_model_name": "HTMLModel",
            "_view_count": null,
            "_view_module": "@jupyter-widgets/controls",
            "_view_module_version": "1.5.0",
            "_view_name": "HTMLView",
            "description": "",
            "description_tooltip": null,
            "layout": "IPY_MODEL_36ccba9051a0441e9b91d0698749238d",
            "placeholder": "​",
            "style": "IPY_MODEL_9324c6fe0747476a9ea0482262935214",
            "value": " 1/1 [00:13&lt;00:00, 13.05s/it]"
          }
        },
        "ec597782bbb542c681c1b68064e79808": {
          "model_module": "@jupyter-widgets/base",
          "model_name": "LayoutModel",
          "model_module_version": "1.2.0",
          "state": {
            "_model_module": "@jupyter-widgets/base",
            "_model_module_version": "1.2.0",
            "_model_name": "LayoutModel",
            "_view_count": null,
            "_view_module": "@jupyter-widgets/base",
            "_view_module_version": "1.2.0",
            "_view_name": "LayoutView",
            "align_content": null,
            "align_items": null,
            "align_self": null,
            "border": null,
            "bottom": null,
            "display": null,
            "flex": null,
            "flex_flow": null,
            "grid_area": null,
            "grid_auto_columns": null,
            "grid_auto_flow": null,
            "grid_auto_rows": null,
            "grid_column": null,
            "grid_gap": null,
            "grid_row": null,
            "grid_template_areas": null,
            "grid_template_columns": null,
            "grid_template_rows": null,
            "height": null,
            "justify_content": null,
            "justify_items": null,
            "left": null,
            "margin": null,
            "max_height": null,
            "max_width": null,
            "min_height": null,
            "min_width": null,
            "object_fit": null,
            "object_position": null,
            "order": null,
            "overflow": null,
            "overflow_x": null,
            "overflow_y": null,
            "padding": null,
            "right": null,
            "top": null,
            "visibility": null,
            "width": null
          }
        },
        "352c0d7a6ed94ae394999cf4c4bbdd06": {
          "model_module": "@jupyter-widgets/base",
          "model_name": "LayoutModel",
          "model_module_version": "1.2.0",
          "state": {
            "_model_module": "@jupyter-widgets/base",
            "_model_module_version": "1.2.0",
            "_model_name": "LayoutModel",
            "_view_count": null,
            "_view_module": "@jupyter-widgets/base",
            "_view_module_version": "1.2.0",
            "_view_name": "LayoutView",
            "align_content": null,
            "align_items": null,
            "align_self": null,
            "border": null,
            "bottom": null,
            "display": null,
            "flex": null,
            "flex_flow": null,
            "grid_area": null,
            "grid_auto_columns": null,
            "grid_auto_flow": null,
            "grid_auto_rows": null,
            "grid_column": null,
            "grid_gap": null,
            "grid_row": null,
            "grid_template_areas": null,
            "grid_template_columns": null,
            "grid_template_rows": null,
            "height": null,
            "justify_content": null,
            "justify_items": null,
            "left": null,
            "margin": null,
            "max_height": null,
            "max_width": null,
            "min_height": null,
            "min_width": null,
            "object_fit": null,
            "object_position": null,
            "order": null,
            "overflow": null,
            "overflow_x": null,
            "overflow_y": null,
            "padding": null,
            "right": null,
            "top": null,
            "visibility": null,
            "width": null
          }
        },
        "b02225a162fe4ef0bc22416cff946a98": {
          "model_module": "@jupyter-widgets/controls",
          "model_name": "DescriptionStyleModel",
          "model_module_version": "1.5.0",
          "state": {
            "_model_module": "@jupyter-widgets/controls",
            "_model_module_version": "1.5.0",
            "_model_name": "DescriptionStyleModel",
            "_view_count": null,
            "_view_module": "@jupyter-widgets/base",
            "_view_module_version": "1.2.0",
            "_view_name": "StyleView",
            "description_width": ""
          }
        },
        "2d4fa1a57b1c4edfaee388c511b7ade0": {
          "model_module": "@jupyter-widgets/base",
          "model_name": "LayoutModel",
          "model_module_version": "1.2.0",
          "state": {
            "_model_module": "@jupyter-widgets/base",
            "_model_module_version": "1.2.0",
            "_model_name": "LayoutModel",
            "_view_count": null,
            "_view_module": "@jupyter-widgets/base",
            "_view_module_version": "1.2.0",
            "_view_name": "LayoutView",
            "align_content": null,
            "align_items": null,
            "align_self": null,
            "border": null,
            "bottom": null,
            "display": null,
            "flex": null,
            "flex_flow": null,
            "grid_area": null,
            "grid_auto_columns": null,
            "grid_auto_flow": null,
            "grid_auto_rows": null,
            "grid_column": null,
            "grid_gap": null,
            "grid_row": null,
            "grid_template_areas": null,
            "grid_template_columns": null,
            "grid_template_rows": null,
            "height": null,
            "justify_content": null,
            "justify_items": null,
            "left": null,
            "margin": null,
            "max_height": null,
            "max_width": null,
            "min_height": null,
            "min_width": null,
            "object_fit": null,
            "object_position": null,
            "order": null,
            "overflow": null,
            "overflow_x": null,
            "overflow_y": null,
            "padding": null,
            "right": null,
            "top": null,
            "visibility": null,
            "width": null
          }
        },
        "ada7766858f7464a900090da3c55cf1e": {
          "model_module": "@jupyter-widgets/controls",
          "model_name": "ProgressStyleModel",
          "model_module_version": "1.5.0",
          "state": {
            "_model_module": "@jupyter-widgets/controls",
            "_model_module_version": "1.5.0",
            "_model_name": "ProgressStyleModel",
            "_view_count": null,
            "_view_module": "@jupyter-widgets/base",
            "_view_module_version": "1.2.0",
            "_view_name": "StyleView",
            "bar_color": null,
            "description_width": ""
          }
        },
        "36ccba9051a0441e9b91d0698749238d": {
          "model_module": "@jupyter-widgets/base",
          "model_name": "LayoutModel",
          "model_module_version": "1.2.0",
          "state": {
            "_model_module": "@jupyter-widgets/base",
            "_model_module_version": "1.2.0",
            "_model_name": "LayoutModel",
            "_view_count": null,
            "_view_module": "@jupyter-widgets/base",
            "_view_module_version": "1.2.0",
            "_view_name": "LayoutView",
            "align_content": null,
            "align_items": null,
            "align_self": null,
            "border": null,
            "bottom": null,
            "display": null,
            "flex": null,
            "flex_flow": null,
            "grid_area": null,
            "grid_auto_columns": null,
            "grid_auto_flow": null,
            "grid_auto_rows": null,
            "grid_column": null,
            "grid_gap": null,
            "grid_row": null,
            "grid_template_areas": null,
            "grid_template_columns": null,
            "grid_template_rows": null,
            "height": null,
            "justify_content": null,
            "justify_items": null,
            "left": null,
            "margin": null,
            "max_height": null,
            "max_width": null,
            "min_height": null,
            "min_width": null,
            "object_fit": null,
            "object_position": null,
            "order": null,
            "overflow": null,
            "overflow_x": null,
            "overflow_y": null,
            "padding": null,
            "right": null,
            "top": null,
            "visibility": null,
            "width": null
          }
        },
        "9324c6fe0747476a9ea0482262935214": {
          "model_module": "@jupyter-widgets/controls",
          "model_name": "DescriptionStyleModel",
          "model_module_version": "1.5.0",
          "state": {
            "_model_module": "@jupyter-widgets/controls",
            "_model_module_version": "1.5.0",
            "_model_name": "DescriptionStyleModel",
            "_view_count": null,
            "_view_module": "@jupyter-widgets/base",
            "_view_module_version": "1.2.0",
            "_view_name": "StyleView",
            "description_width": ""
          }
        },
        "f9fa7da04c59418ead1397111049a7e0": {
          "model_module": "@jupyter-widgets/controls",
          "model_name": "HBoxModel",
          "model_module_version": "1.5.0",
          "state": {
            "_dom_classes": [],
            "_model_module": "@jupyter-widgets/controls",
            "_model_module_version": "1.5.0",
            "_model_name": "HBoxModel",
            "_view_count": null,
            "_view_module": "@jupyter-widgets/controls",
            "_view_module_version": "1.5.0",
            "_view_name": "HBoxView",
            "box_style": "",
            "children": [
              "IPY_MODEL_1f3ea229e749466bb1718ab4a6f9bd02",
              "IPY_MODEL_c9ad962154754c39ba7bb31fb796d792",
              "IPY_MODEL_da8218d2ac954b3083f407b800ca1c18"
            ],
            "layout": "IPY_MODEL_d8ed0be0d4df40aeb8fc35663b0136fc"
          }
        },
        "1f3ea229e749466bb1718ab4a6f9bd02": {
          "model_module": "@jupyter-widgets/controls",
          "model_name": "HTMLModel",
          "model_module_version": "1.5.0",
          "state": {
            "_dom_classes": [],
            "_model_module": "@jupyter-widgets/controls",
            "_model_module_version": "1.5.0",
            "_model_name": "HTMLModel",
            "_view_count": null,
            "_view_module": "@jupyter-widgets/controls",
            "_view_module_version": "1.5.0",
            "_view_name": "HTMLView",
            "description": "",
            "description_tooltip": null,
            "layout": "IPY_MODEL_b75fbb483d9c49e4878b4d93c9c9eeb6",
            "placeholder": "​",
            "style": "IPY_MODEL_34bee3a00e324242b4daee5cfeb303c4",
            "value": "100%"
          }
        },
        "c9ad962154754c39ba7bb31fb796d792": {
          "model_module": "@jupyter-widgets/controls",
          "model_name": "FloatProgressModel",
          "model_module_version": "1.5.0",
          "state": {
            "_dom_classes": [],
            "_model_module": "@jupyter-widgets/controls",
            "_model_module_version": "1.5.0",
            "_model_name": "FloatProgressModel",
            "_view_count": null,
            "_view_module": "@jupyter-widgets/controls",
            "_view_module_version": "1.5.0",
            "_view_name": "ProgressView",
            "bar_style": "success",
            "description": "",
            "description_tooltip": null,
            "layout": "IPY_MODEL_d865f9d5e77b42f4a3d2d7ea23c8e1a1",
            "max": 10,
            "min": 0,
            "orientation": "horizontal",
            "style": "IPY_MODEL_f1f8eec5ae6c4f0685d9e0ca61a811bd",
            "value": 10
          }
        },
        "da8218d2ac954b3083f407b800ca1c18": {
          "model_module": "@jupyter-widgets/controls",
          "model_name": "HTMLModel",
          "model_module_version": "1.5.0",
          "state": {
            "_dom_classes": [],
            "_model_module": "@jupyter-widgets/controls",
            "_model_module_version": "1.5.0",
            "_model_name": "HTMLModel",
            "_view_count": null,
            "_view_module": "@jupyter-widgets/controls",
            "_view_module_version": "1.5.0",
            "_view_name": "HTMLView",
            "description": "",
            "description_tooltip": null,
            "layout": "IPY_MODEL_dfb45c278e7d42e7805bebdc5d0e5184",
            "placeholder": "​",
            "style": "IPY_MODEL_69a5eb499eb94ce288f4d00c8ffee032",
            "value": " 10/10 [00:00&lt;00:00, 30.64it/s]"
          }
        },
        "d8ed0be0d4df40aeb8fc35663b0136fc": {
          "model_module": "@jupyter-widgets/base",
          "model_name": "LayoutModel",
          "model_module_version": "1.2.0",
          "state": {
            "_model_module": "@jupyter-widgets/base",
            "_model_module_version": "1.2.0",
            "_model_name": "LayoutModel",
            "_view_count": null,
            "_view_module": "@jupyter-widgets/base",
            "_view_module_version": "1.2.0",
            "_view_name": "LayoutView",
            "align_content": null,
            "align_items": null,
            "align_self": null,
            "border": null,
            "bottom": null,
            "display": null,
            "flex": null,
            "flex_flow": null,
            "grid_area": null,
            "grid_auto_columns": null,
            "grid_auto_flow": null,
            "grid_auto_rows": null,
            "grid_column": null,
            "grid_gap": null,
            "grid_row": null,
            "grid_template_areas": null,
            "grid_template_columns": null,
            "grid_template_rows": null,
            "height": null,
            "justify_content": null,
            "justify_items": null,
            "left": null,
            "margin": null,
            "max_height": null,
            "max_width": null,
            "min_height": null,
            "min_width": null,
            "object_fit": null,
            "object_position": null,
            "order": null,
            "overflow": null,
            "overflow_x": null,
            "overflow_y": null,
            "padding": null,
            "right": null,
            "top": null,
            "visibility": null,
            "width": null
          }
        },
        "b75fbb483d9c49e4878b4d93c9c9eeb6": {
          "model_module": "@jupyter-widgets/base",
          "model_name": "LayoutModel",
          "model_module_version": "1.2.0",
          "state": {
            "_model_module": "@jupyter-widgets/base",
            "_model_module_version": "1.2.0",
            "_model_name": "LayoutModel",
            "_view_count": null,
            "_view_module": "@jupyter-widgets/base",
            "_view_module_version": "1.2.0",
            "_view_name": "LayoutView",
            "align_content": null,
            "align_items": null,
            "align_self": null,
            "border": null,
            "bottom": null,
            "display": null,
            "flex": null,
            "flex_flow": null,
            "grid_area": null,
            "grid_auto_columns": null,
            "grid_auto_flow": null,
            "grid_auto_rows": null,
            "grid_column": null,
            "grid_gap": null,
            "grid_row": null,
            "grid_template_areas": null,
            "grid_template_columns": null,
            "grid_template_rows": null,
            "height": null,
            "justify_content": null,
            "justify_items": null,
            "left": null,
            "margin": null,
            "max_height": null,
            "max_width": null,
            "min_height": null,
            "min_width": null,
            "object_fit": null,
            "object_position": null,
            "order": null,
            "overflow": null,
            "overflow_x": null,
            "overflow_y": null,
            "padding": null,
            "right": null,
            "top": null,
            "visibility": null,
            "width": null
          }
        },
        "34bee3a00e324242b4daee5cfeb303c4": {
          "model_module": "@jupyter-widgets/controls",
          "model_name": "DescriptionStyleModel",
          "model_module_version": "1.5.0",
          "state": {
            "_model_module": "@jupyter-widgets/controls",
            "_model_module_version": "1.5.0",
            "_model_name": "DescriptionStyleModel",
            "_view_count": null,
            "_view_module": "@jupyter-widgets/base",
            "_view_module_version": "1.2.0",
            "_view_name": "StyleView",
            "description_width": ""
          }
        },
        "d865f9d5e77b42f4a3d2d7ea23c8e1a1": {
          "model_module": "@jupyter-widgets/base",
          "model_name": "LayoutModel",
          "model_module_version": "1.2.0",
          "state": {
            "_model_module": "@jupyter-widgets/base",
            "_model_module_version": "1.2.0",
            "_model_name": "LayoutModel",
            "_view_count": null,
            "_view_module": "@jupyter-widgets/base",
            "_view_module_version": "1.2.0",
            "_view_name": "LayoutView",
            "align_content": null,
            "align_items": null,
            "align_self": null,
            "border": null,
            "bottom": null,
            "display": null,
            "flex": null,
            "flex_flow": null,
            "grid_area": null,
            "grid_auto_columns": null,
            "grid_auto_flow": null,
            "grid_auto_rows": null,
            "grid_column": null,
            "grid_gap": null,
            "grid_row": null,
            "grid_template_areas": null,
            "grid_template_columns": null,
            "grid_template_rows": null,
            "height": null,
            "justify_content": null,
            "justify_items": null,
            "left": null,
            "margin": null,
            "max_height": null,
            "max_width": null,
            "min_height": null,
            "min_width": null,
            "object_fit": null,
            "object_position": null,
            "order": null,
            "overflow": null,
            "overflow_x": null,
            "overflow_y": null,
            "padding": null,
            "right": null,
            "top": null,
            "visibility": null,
            "width": null
          }
        },
        "f1f8eec5ae6c4f0685d9e0ca61a811bd": {
          "model_module": "@jupyter-widgets/controls",
          "model_name": "ProgressStyleModel",
          "model_module_version": "1.5.0",
          "state": {
            "_model_module": "@jupyter-widgets/controls",
            "_model_module_version": "1.5.0",
            "_model_name": "ProgressStyleModel",
            "_view_count": null,
            "_view_module": "@jupyter-widgets/base",
            "_view_module_version": "1.2.0",
            "_view_name": "StyleView",
            "bar_color": null,
            "description_width": ""
          }
        },
        "dfb45c278e7d42e7805bebdc5d0e5184": {
          "model_module": "@jupyter-widgets/base",
          "model_name": "LayoutModel",
          "model_module_version": "1.2.0",
          "state": {
            "_model_module": "@jupyter-widgets/base",
            "_model_module_version": "1.2.0",
            "_model_name": "LayoutModel",
            "_view_count": null,
            "_view_module": "@jupyter-widgets/base",
            "_view_module_version": "1.2.0",
            "_view_name": "LayoutView",
            "align_content": null,
            "align_items": null,
            "align_self": null,
            "border": null,
            "bottom": null,
            "display": null,
            "flex": null,
            "flex_flow": null,
            "grid_area": null,
            "grid_auto_columns": null,
            "grid_auto_flow": null,
            "grid_auto_rows": null,
            "grid_column": null,
            "grid_gap": null,
            "grid_row": null,
            "grid_template_areas": null,
            "grid_template_columns": null,
            "grid_template_rows": null,
            "height": null,
            "justify_content": null,
            "justify_items": null,
            "left": null,
            "margin": null,
            "max_height": null,
            "max_width": null,
            "min_height": null,
            "min_width": null,
            "object_fit": null,
            "object_position": null,
            "order": null,
            "overflow": null,
            "overflow_x": null,
            "overflow_y": null,
            "padding": null,
            "right": null,
            "top": null,
            "visibility": null,
            "width": null
          }
        },
        "69a5eb499eb94ce288f4d00c8ffee032": {
          "model_module": "@jupyter-widgets/controls",
          "model_name": "DescriptionStyleModel",
          "model_module_version": "1.5.0",
          "state": {
            "_model_module": "@jupyter-widgets/controls",
            "_model_module_version": "1.5.0",
            "_model_name": "DescriptionStyleModel",
            "_view_count": null,
            "_view_module": "@jupyter-widgets/base",
            "_view_module_version": "1.2.0",
            "_view_name": "StyleView",
            "description_width": ""
          }
        },
        "3826b811cfc24e76adaa72beaeccaca5": {
          "model_module": "@jupyter-widgets/controls",
          "model_name": "HBoxModel",
          "model_module_version": "1.5.0",
          "state": {
            "_dom_classes": [],
            "_model_module": "@jupyter-widgets/controls",
            "_model_module_version": "1.5.0",
            "_model_name": "HBoxModel",
            "_view_count": null,
            "_view_module": "@jupyter-widgets/controls",
            "_view_module_version": "1.5.0",
            "_view_name": "HBoxView",
            "box_style": "",
            "children": [
              "IPY_MODEL_03c5d0d031e846458c6223a99ae907b2",
              "IPY_MODEL_1202c05d860c4dc7b3aa6d4183dafc8a",
              "IPY_MODEL_416c6788ac6b4fcab083c12cbea25a9d"
            ],
            "layout": "IPY_MODEL_487f7c59846f4d72aa0b75e0ca3077cd"
          }
        },
        "03c5d0d031e846458c6223a99ae907b2": {
          "model_module": "@jupyter-widgets/controls",
          "model_name": "HTMLModel",
          "model_module_version": "1.5.0",
          "state": {
            "_dom_classes": [],
            "_model_module": "@jupyter-widgets/controls",
            "_model_module_version": "1.5.0",
            "_model_name": "HTMLModel",
            "_view_count": null,
            "_view_module": "@jupyter-widgets/controls",
            "_view_module_version": "1.5.0",
            "_view_name": "HTMLView",
            "description": "",
            "description_tooltip": null,
            "layout": "IPY_MODEL_2db7ca075b6343ac804e490df56b8f6d",
            "placeholder": "​",
            "style": "IPY_MODEL_16c6d2a5830b4cfc81ca83baefb32b10",
            "value": "100%"
          }
        },
        "1202c05d860c4dc7b3aa6d4183dafc8a": {
          "model_module": "@jupyter-widgets/controls",
          "model_name": "FloatProgressModel",
          "model_module_version": "1.5.0",
          "state": {
            "_dom_classes": [],
            "_model_module": "@jupyter-widgets/controls",
            "_model_module_version": "1.5.0",
            "_model_name": "FloatProgressModel",
            "_view_count": null,
            "_view_module": "@jupyter-widgets/controls",
            "_view_module_version": "1.5.0",
            "_view_name": "ProgressView",
            "bar_style": "success",
            "description": "",
            "description_tooltip": null,
            "layout": "IPY_MODEL_8c43201e89ab4a3a88462b8bfab61077",
            "max": 10,
            "min": 0,
            "orientation": "horizontal",
            "style": "IPY_MODEL_63cb13c4dfa9497cbbc57855966a6557",
            "value": 10
          }
        },
        "416c6788ac6b4fcab083c12cbea25a9d": {
          "model_module": "@jupyter-widgets/controls",
          "model_name": "HTMLModel",
          "model_module_version": "1.5.0",
          "state": {
            "_dom_classes": [],
            "_model_module": "@jupyter-widgets/controls",
            "_model_module_version": "1.5.0",
            "_model_name": "HTMLModel",
            "_view_count": null,
            "_view_module": "@jupyter-widgets/controls",
            "_view_module_version": "1.5.0",
            "_view_name": "HTMLView",
            "description": "",
            "description_tooltip": null,
            "layout": "IPY_MODEL_d31bf4ac2fb440b1a091fd624f00718b",
            "placeholder": "​",
            "style": "IPY_MODEL_7fb8cbcd20964e77864c96b82be0c7b6",
            "value": " 10/10 [00:11&lt;00:00,  1.04it/s]"
          }
        },
        "487f7c59846f4d72aa0b75e0ca3077cd": {
          "model_module": "@jupyter-widgets/base",
          "model_name": "LayoutModel",
          "model_module_version": "1.2.0",
          "state": {
            "_model_module": "@jupyter-widgets/base",
            "_model_module_version": "1.2.0",
            "_model_name": "LayoutModel",
            "_view_count": null,
            "_view_module": "@jupyter-widgets/base",
            "_view_module_version": "1.2.0",
            "_view_name": "LayoutView",
            "align_content": null,
            "align_items": null,
            "align_self": null,
            "border": null,
            "bottom": null,
            "display": null,
            "flex": null,
            "flex_flow": null,
            "grid_area": null,
            "grid_auto_columns": null,
            "grid_auto_flow": null,
            "grid_auto_rows": null,
            "grid_column": null,
            "grid_gap": null,
            "grid_row": null,
            "grid_template_areas": null,
            "grid_template_columns": null,
            "grid_template_rows": null,
            "height": null,
            "justify_content": null,
            "justify_items": null,
            "left": null,
            "margin": null,
            "max_height": null,
            "max_width": null,
            "min_height": null,
            "min_width": null,
            "object_fit": null,
            "object_position": null,
            "order": null,
            "overflow": null,
            "overflow_x": null,
            "overflow_y": null,
            "padding": null,
            "right": null,
            "top": null,
            "visibility": null,
            "width": null
          }
        },
        "2db7ca075b6343ac804e490df56b8f6d": {
          "model_module": "@jupyter-widgets/base",
          "model_name": "LayoutModel",
          "model_module_version": "1.2.0",
          "state": {
            "_model_module": "@jupyter-widgets/base",
            "_model_module_version": "1.2.0",
            "_model_name": "LayoutModel",
            "_view_count": null,
            "_view_module": "@jupyter-widgets/base",
            "_view_module_version": "1.2.0",
            "_view_name": "LayoutView",
            "align_content": null,
            "align_items": null,
            "align_self": null,
            "border": null,
            "bottom": null,
            "display": null,
            "flex": null,
            "flex_flow": null,
            "grid_area": null,
            "grid_auto_columns": null,
            "grid_auto_flow": null,
            "grid_auto_rows": null,
            "grid_column": null,
            "grid_gap": null,
            "grid_row": null,
            "grid_template_areas": null,
            "grid_template_columns": null,
            "grid_template_rows": null,
            "height": null,
            "justify_content": null,
            "justify_items": null,
            "left": null,
            "margin": null,
            "max_height": null,
            "max_width": null,
            "min_height": null,
            "min_width": null,
            "object_fit": null,
            "object_position": null,
            "order": null,
            "overflow": null,
            "overflow_x": null,
            "overflow_y": null,
            "padding": null,
            "right": null,
            "top": null,
            "visibility": null,
            "width": null
          }
        },
        "16c6d2a5830b4cfc81ca83baefb32b10": {
          "model_module": "@jupyter-widgets/controls",
          "model_name": "DescriptionStyleModel",
          "model_module_version": "1.5.0",
          "state": {
            "_model_module": "@jupyter-widgets/controls",
            "_model_module_version": "1.5.0",
            "_model_name": "DescriptionStyleModel",
            "_view_count": null,
            "_view_module": "@jupyter-widgets/base",
            "_view_module_version": "1.2.0",
            "_view_name": "StyleView",
            "description_width": ""
          }
        },
        "8c43201e89ab4a3a88462b8bfab61077": {
          "model_module": "@jupyter-widgets/base",
          "model_name": "LayoutModel",
          "model_module_version": "1.2.0",
          "state": {
            "_model_module": "@jupyter-widgets/base",
            "_model_module_version": "1.2.0",
            "_model_name": "LayoutModel",
            "_view_count": null,
            "_view_module": "@jupyter-widgets/base",
            "_view_module_version": "1.2.0",
            "_view_name": "LayoutView",
            "align_content": null,
            "align_items": null,
            "align_self": null,
            "border": null,
            "bottom": null,
            "display": null,
            "flex": null,
            "flex_flow": null,
            "grid_area": null,
            "grid_auto_columns": null,
            "grid_auto_flow": null,
            "grid_auto_rows": null,
            "grid_column": null,
            "grid_gap": null,
            "grid_row": null,
            "grid_template_areas": null,
            "grid_template_columns": null,
            "grid_template_rows": null,
            "height": null,
            "justify_content": null,
            "justify_items": null,
            "left": null,
            "margin": null,
            "max_height": null,
            "max_width": null,
            "min_height": null,
            "min_width": null,
            "object_fit": null,
            "object_position": null,
            "order": null,
            "overflow": null,
            "overflow_x": null,
            "overflow_y": null,
            "padding": null,
            "right": null,
            "top": null,
            "visibility": null,
            "width": null
          }
        },
        "63cb13c4dfa9497cbbc57855966a6557": {
          "model_module": "@jupyter-widgets/controls",
          "model_name": "ProgressStyleModel",
          "model_module_version": "1.5.0",
          "state": {
            "_model_module": "@jupyter-widgets/controls",
            "_model_module_version": "1.5.0",
            "_model_name": "ProgressStyleModel",
            "_view_count": null,
            "_view_module": "@jupyter-widgets/base",
            "_view_module_version": "1.2.0",
            "_view_name": "StyleView",
            "bar_color": null,
            "description_width": ""
          }
        },
        "d31bf4ac2fb440b1a091fd624f00718b": {
          "model_module": "@jupyter-widgets/base",
          "model_name": "LayoutModel",
          "model_module_version": "1.2.0",
          "state": {
            "_model_module": "@jupyter-widgets/base",
            "_model_module_version": "1.2.0",
            "_model_name": "LayoutModel",
            "_view_count": null,
            "_view_module": "@jupyter-widgets/base",
            "_view_module_version": "1.2.0",
            "_view_name": "LayoutView",
            "align_content": null,
            "align_items": null,
            "align_self": null,
            "border": null,
            "bottom": null,
            "display": null,
            "flex": null,
            "flex_flow": null,
            "grid_area": null,
            "grid_auto_columns": null,
            "grid_auto_flow": null,
            "grid_auto_rows": null,
            "grid_column": null,
            "grid_gap": null,
            "grid_row": null,
            "grid_template_areas": null,
            "grid_template_columns": null,
            "grid_template_rows": null,
            "height": null,
            "justify_content": null,
            "justify_items": null,
            "left": null,
            "margin": null,
            "max_height": null,
            "max_width": null,
            "min_height": null,
            "min_width": null,
            "object_fit": null,
            "object_position": null,
            "order": null,
            "overflow": null,
            "overflow_x": null,
            "overflow_y": null,
            "padding": null,
            "right": null,
            "top": null,
            "visibility": null,
            "width": null
          }
        },
        "7fb8cbcd20964e77864c96b82be0c7b6": {
          "model_module": "@jupyter-widgets/controls",
          "model_name": "DescriptionStyleModel",
          "model_module_version": "1.5.0",
          "state": {
            "_model_module": "@jupyter-widgets/controls",
            "_model_module_version": "1.5.0",
            "_model_name": "DescriptionStyleModel",
            "_view_count": null,
            "_view_module": "@jupyter-widgets/base",
            "_view_module_version": "1.2.0",
            "_view_name": "StyleView",
            "description_width": ""
          }
        }
      }
    }
  },
  "nbformat": 4,
  "nbformat_minor": 0
}