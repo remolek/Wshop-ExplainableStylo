{
  "cells": [
    {
      "cell_type": "markdown",
      "metadata": {
        "id": "tt-GoYWDtkn4"
      },
      "source": [
        "# 📘 Explainable Stylo Workshop Notebook\n",
        "\n",
        "Welcome to the Colab notebook for the **Explainable Stylo Workshop**.\n",
        "\n",
        "This notebook helps you:\n",
        "- Load the [`cl_explainable_stylo`](https://github.com/remolek/Wshop-ExplainableStylo) package from GitHub\n",
        "- Prepare to work with textual data stored in folders like `example1/`, `example2/`\n",
        "- Understand how to explore and use the package interactively\n"
      ]
    },
    {
      "cell_type": "code",
      "execution_count": null,
      "metadata": {
        "colab": {
          "base_uri": "https://localhost:8080/"
        },
        "id": "dv2Y-eswtkn7",
        "outputId": "25120ede-fc4d-4bc6-ad5e-6a7ff1273d66"
      },
      "outputs": [
        {
          "output_type": "stream",
          "name": "stdout",
          "text": [
            "Cloning into 'Wshop-ExplainableStylo'...\n",
            "remote: Enumerating objects: 154, done.\u001b[K\n",
            "remote: Counting objects: 100% (154/154), done.\u001b[K\n",
            "remote: Compressing objects: 100% (129/129), done.\u001b[K\n",
            "remote: Total 154 (delta 66), reused 61 (delta 19), pack-reused 0 (from 0)\u001b[K\n",
            "Receiving objects: 100% (154/154), 1.60 MiB | 9.46 MiB/s, done.\n",
            "Resolving deltas: 100% (66/66), done.\n",
            "/content/Wshop-ExplainableStylo\n"
          ]
        }
      ],
      "source": [
        "# 🔧 Setup: Clone the repository and install the package\n",
        "import os\n",
        "\n",
        "# Clone the repo only if it's not already cloned\n",
        "if not os.path.exists(\"Wshop-ExplainableStylo\"):\n",
        "    !git clone https://github.com/remolek/Wshop-ExplainableStylo.git\n",
        "%cd Wshop-ExplainableStylo"
      ]
    },
    {
      "cell_type": "markdown",
      "source": [
        "\n",
        "The main logic of the pipeline is to follow:\n",
        "\n",
        "<img src=\"https://github.com/remolek/Wshop-ExplainableStylo/blob/main/notebooks/flowchart2.png?raw=1\" width=\"400\">"
      ],
      "metadata": {
        "id": "RC7cgarGP_90"
      }
    },
    {
      "cell_type": "markdown",
      "metadata": {
        "id": "TwZh5jlLtkn-"
      },
      "source": [
        "## 📦 Import the Package\n",
        "\n",
        "Now that the package is downloaded, you can import its modules and use them in the notebook.\n",
        "The `base` module below contains the main class which is a wrapper for most of the other functions.\n"
      ]
    },
    {
      "cell_type": "code",
      "execution_count": null,
      "metadata": {
        "id": "kP2KdpGbtkoA"
      },
      "outputs": [],
      "source": [
        "# Import a module from cl_explainable_stylo\n",
        "from cl_explainable_stylo import base\n",
        "\n",
        "# Help or test it\n",
        "# help(example_loader)"
      ]
    },
    {
      "cell_type": "code",
      "source": [
        "help(base)"
      ],
      "metadata": {
        "collapsed": true,
        "colab": {
          "base_uri": "https://localhost:8080/"
        },
        "id": "wvO1u7tTx9kU",
        "outputId": "05af2743-2dd6-4077-af4d-f2c59b6c2d41"
      },
      "execution_count": null,
      "outputs": [
        {
          "output_type": "stream",
          "name": "stdout",
          "text": [
            "Help on module cl_explainable_stylo.base in cl_explainable_stylo:\n",
            "\n",
            "NAME\n",
            "    cl_explainable_stylo.base - This module defines a base class 'explain_style' providing a pipeline for preprocessing texts (currently by Spacy), extracting their features, classifying them with LGBM, explaining the classifiers with SHAP and visualising the results.\n",
            "\n",
            "DESCRIPTION\n",
            "    To initialize the class you need a .json file with metadata of the form, minimally:\n",
            "    {\"experiment_name\":\"...\",\n",
            "    \"labels\": [\"filename\", \"class\"],\n",
            "    \"files\":\n",
            "            {\"filename\": [\"path_to_file1.txt\",\"path_to_file2.txt\"],\n",
            "            \"class\": [\"file1_class\", \"file2_class\"]}\n",
            "     }\n",
            "    \n",
            "    Author: Jeremi K. Ochab\n",
            "    Date: August 14, 2023\n",
            "\n",
            "CLASSES\n",
            "    builtins.object\n",
            "        explain_style\n",
            "    \n",
            "    class explain_style(builtins.object)\n",
            "     |  explain_style(metadata_json, manual=True)\n",
            "     |  \n",
            "     |  Methods defined here:\n",
            "     |  \n",
            "     |  __init__(self, metadata_json, manual=True)\n",
            "     |      Initialize self.  See help(type(self)) for accurate signature.\n",
            "     |  \n",
            "     |  classifiers_load(self, filename=None, postfix=None)\n",
            "     |  \n",
            "     |  classifiers_save(self, filename=None, postfix=None, overwrite=False)\n",
            "     |  \n",
            "     |  classify(self, class_category='class', class_regrouping=[], group_category=None, save_to_file=False)\n",
            "     |  \n",
            "     |  docs_load(self, filename=None)\n",
            "     |      #----- Saving&loading important class instance attributes \n",
            "     |      # TO DO: niejednoznaczne ładowanie dokumentów po subsamplingu. Jeśli się załaduje, to do .docs, czy .docs_subsampled? Wtedy czy .subsample_scheme powinno być zmienione? Potem jeśli docs_subsampled istnieją, to one są klasyfikowane.\n",
            "     |  \n",
            "     |  docs_save(self, docs=None, filename=None, precheck=False, overwrite=False)\n",
            "     |  \n",
            "     |  explain(self, models=None, minimize_data_use=True, save_to_file=False)\n",
            "     |  \n",
            "     |  explanations_load(self, filename=None, postfix=None)\n",
            "     |  \n",
            "     |  explanations_save(self, filename=None, postfix=None, overwrite=False)\n",
            "     |  \n",
            "     |  extract_features(self, feature_scheme=None, feature_list=None, save_to_file=False)\n",
            "     |  \n",
            "     |  features_load(self, filename=None)\n",
            "     |  \n",
            "     |  features_save(self, filename=None, overwrite=False)\n",
            "     |  \n",
            "     |  load_init(self, filename)\n",
            "     |      # TO DO: szczegółowy config ładowany/zapisywany do jednego jsona, czy do kilku osobnych?\n",
            "     |      # Lepiej do jednego, żeby zapisać np. metadane typu data, nazwa eksperymentu, jakaś notatka? itp.\n",
            "     |  \n",
            "     |  load_params_classifier(self, filename=None)\n",
            "     |  \n",
            "     |  load_params_cv(self, filename=None)\n",
            "     |  \n",
            "     |  load_params_feature(self, filename=None)\n",
            "     |  \n",
            "     |  load_params_preproc(self, filename=None)\n",
            "     |  \n",
            "     |  load_params_subsample(self, filename=None)\n",
            "     |  \n",
            "     |  plot_group_summary(self, group_by, max_display=20, show=True, color_legend=True, filename='SHAP_group_all', title='', file_ext='.png')\n",
            "     |  \n",
            "     |  plot_group_texts(self, group_by, group=None, show=True, max_display=20, filename='SHAP_group_', title='', file_ext='.png')\n",
            "     |      group = None - plot all groups (e.g., authors)\n",
            "     |      group = 'GroupName', group = 0 - plot a selected group\n",
            "     |  \n",
            "     |  plot_summary(self, group_by=None, show=True, max_display=20, filename='SHAP_wszystkie', title='', file_ext='.png')\n",
            "     |  \n",
            "     |  plot_text(self, index, show=True, max_display=20, filename=None, title=None, file_ext='.png')\n",
            "     |      # TO DO: czy 'author' ma się pojawić\n",
            "     |      # TO DO: tytuł ma podawać też numer próbki\n",
            "     |  \n",
            "     |  save_config(self, filename=None)\n",
            "     |  \n",
            "     |  save_params_classifier(self, filename=None)\n",
            "     |  \n",
            "     |  save_params_cv(self, filename=None)\n",
            "     |      # TO DO: zapisyanie scoring (funkcje pythona) jest niemożliwe do jsona\n",
            "     |  \n",
            "     |  save_params_feature(self, filename=None)\n",
            "     |  \n",
            "     |  save_params_preproc(self, filename=None)\n",
            "     |  \n",
            "     |  save_params_subsample(self, filename=None)\n",
            "     |  \n",
            "     |  scores_load(self, filename=None, postfix=None)\n",
            "     |  \n",
            "     |  scores_save(self, filename=None, postfix=None, overwrite=False)\n",
            "     |  \n",
            "     |  texts_load(self, from_variable=None, metadata=None)\n",
            "     |      #----- Workhorse methods\n",
            "     |  \n",
            "     |  texts_preprocess(self, texts=None, model=None, filename=None, labels=None, save_to_file=True)\n",
            "     |  \n",
            "     |  texts_subsample(self, subsample_scheme=None, save_to_file=False)\n",
            "     |  \n",
            "     |  ----------------------------------------------------------------------\n",
            "     |  Data descriptors defined here:\n",
            "     |  \n",
            "     |  __dict__\n",
            "     |      dictionary for instance variables\n",
            "     |  \n",
            "     |  __weakref__\n",
            "     |      list of weak references to the object\n",
            "     |  \n",
            "     |  ----------------------------------------------------------------------\n",
            "     |  Data and other attributes defined here:\n",
            "     |  \n",
            "     |  default_classifier_scheme = {'bagging_fraction': 0.8, 'bagging_freq': ...\n",
            "     |  \n",
            "     |  default_cv_scheme = {'cv_method': 'StratifiedKFold', 'n_groups': 2, 'n...\n",
            "     |  \n",
            "     |  default_feature_scheme = {'features': [13, 23, 32, 52, 61], 'max_cull_...\n",
            "     |  \n",
            "     |  default_preproc_scheme = {'model': 'pl_core_news_lg'}\n",
            "     |  \n",
            "     |  default_subsample_scheme = {'sample_length': 800, 'sample_type': 'none...\n",
            "\n",
            "FILE\n",
            "    /content/Wshop-ExplainableStylo/cl_explainable_stylo/base.py\n",
            "\n",
            "\n"
          ]
        }
      ]
    },
    {
      "cell_type": "markdown",
      "metadata": {
        "id": "IGQ59GhXtkoC"
      },
      "source": [
        "## 📁 Example1: two translations\n",
        "\n",
        "Let's start with a simple example of comparing two translations of Joseph Conrad's *Heart of Darkness* into Polish, by Aniela Zagórska (1930) and Jacek Dukaj (2017)."
      ]
    },
    {
      "cell_type": "code",
      "execution_count": null,
      "metadata": {
        "colab": {
          "base_uri": "https://localhost:8080/"
        },
        "id": "yDw2Vwk1tkoE",
        "outputId": "ae55499e-183b-44a9-b967-0cb9f7974778"
      },
      "outputs": [
        {
          "output_type": "stream",
          "name": "stdout",
          "text": [
            "\n",
            "📁 example1 contains 2 .txt files:\n",
            "  📄 Dukaj.txt\n",
            "    Preview:\n",
            "    SERCE CIEMNOŚCI Jacek Dukaj ISBN 978-83-08-06606-5   Wszelka sztuka przemawia przede wszystkim do zmysłów. I także artysta słowa pisanego musi przemaw...\n",
            "  📄 Zagórska.txt\n",
            "    Preview:\n",
            "    Tytuł oryginału: Heart of Darkness Przełożyła: Aniela Zagórska ISBN: 978-83-7779-308-4   I  Jacht krążowniczy „Nellie” obrócił się na kotwicy bez najl...\n"
          ]
        }
      ],
      "source": [
        "import os\n",
        "from glob import glob\n",
        "\n",
        "# 🔍 Find all folders starting with \"example\"\n",
        "# example_dirs = sorted([d for d in os.listdir() if d.startswith(\"example\") and os.path.isdir(d)])\n",
        "# print(f\"Detected folders: {example_dirs}\")\n",
        "\n",
        "# Find and preview all .txt files inside each folder\n",
        "folder = 'example1'\n",
        "txt_files = sorted(glob(os.path.join(folder, \"*/*.txt\")))\n",
        "print(f\"\\n📁 {folder} contains {len(txt_files)} .txt files:\")\n",
        "for path in txt_files:\n",
        "    print(f\"  📄 {os.path.basename(path)}\")\n",
        "    with open(path, \"r\", encoding=\"utf-8\") as f:\n",
        "        preview = f.read(200).strip().replace(\"\\n\", \" \")\n",
        "    print(f\"    Preview:\\n    {preview[:150]}{'...' if len(preview) > 150 else ''}\")"
      ]
    },
    {
      "cell_type": "markdown",
      "source": [
        "### 📄 Text loading and processing"
      ],
      "metadata": {
        "id": "pbt86KGInF-Z"
      }
    },
    {
      "cell_type": "markdown",
      "source": [
        "Before we have prepared a small `.json` file, containing the basic metadata for our first experiment (at this point it might seem a bit redundant)."
      ],
      "metadata": {
        "id": "FSZswEwR1IL1"
      }
    },
    {
      "cell_type": "code",
      "source": [
        "import json\n",
        "from IPython.display import JSON, display\n",
        "\n",
        "# Load the JSON\n",
        "with open('example1/init_metadata.json', 'r', encoding='utf-8') as f:\n",
        "    data = json.load(f)\n",
        "\n",
        "# Display an interactive JSON tree (in Jupyter lab only)\n",
        "display(JSON(data))\n"
      ],
      "metadata": {
        "colab": {
          "base_uri": "https://localhost:8080/",
          "height": 486
        },
        "id": "liyDJB-p1734",
        "outputId": "d25ff391-d045-4a06-890a-c4f48a46dc3e"
      },
      "execution_count": null,
      "outputs": [
        {
          "output_type": "display_data",
          "data": {
            "text/plain": [
              "<IPython.core.display.JSON object>"
            ],
            "application/json": {
              "experiment_name": "example1",
              "labels": [
                "filename",
                "class",
                "author"
              ],
              "files": {
                "filename": [
                  "example1/dukaj/Dukaj.txt",
                  "example1/zagórska/Zagórska.txt"
                ],
                "class": [
                  "dukaj",
                  "zagórska"
                ],
                "author": [
                  "Dukaj",
                  "Zagórska"
                ]
              },
              "preproc_scheme": null,
              "feature_scheme": null,
              "subsample_scheme": null,
              "classifier_params": null,
              "cv_scheme": null
            }
          },
          "metadata": {
            "application/json": {
              "expanded": false,
              "root": "root"
            }
          }
        }
      ]
    },
    {
      "cell_type": "markdown",
      "source": [
        "With these metadata we will initialize the experiment. All the text, results, etc. will be stored in one variable `exp`."
      ],
      "metadata": {
        "id": "I9897X_y4QcS"
      }
    },
    {
      "cell_type": "code",
      "source": [
        "exp = base.explain_style('example1/init_metadata.json',manual = True)"
      ],
      "metadata": {
        "colab": {
          "base_uri": "https://localhost:8080/"
        },
        "id": "yHw5I7ZLv-KL",
        "outputId": "afaefff2-2404-4591-ee7e-d2a1ac838438"
      },
      "execution_count": null,
      "outputs": [
        {
          "output_type": "stream",
          "name": "stdout",
          "text": [
            "Initialisation metadata loaded from example1/init_metadata.json.\n",
            "Available text labels ['filename', 'class', 'author'].\n",
            "Predefined text classes ['dukaj', 'zagórska'].\n",
            "You are in manual mode. The next steps would be to run in sequence '.texts_load()', '.texts_preprocess()', '.texts_subsample()', '.extract_features()', '.classify()', '.explain()', and then any of the '.plot_...()' methods. If you would like to change the parameters provided in metadata or set by default  ('preproc_scheme', 'subsample_scheme', 'feature_scheme', 'cv_scheme', 'classifier_scheme'), please, load them via '.load_parameter_name()' to avoid incosistent file naming and config saving.\n"
          ]
        }
      ]
    },
    {
      "cell_type": "markdown",
      "source": [
        "Let's follow the instructions and load the text files by calling the method `.texts_load()` on our all-embracing `exp`. After that they will be stored in `exp.texts` (to be exact, these are going to be tuples of text and its metadata)."
      ],
      "metadata": {
        "id": "hvmWI6GX5sjC"
      }
    },
    {
      "cell_type": "code",
      "source": [
        "exp.texts_load()"
      ],
      "metadata": {
        "colab": {
          "base_uri": "https://localhost:8080/",
          "height": 66,
          "referenced_widgets": [
            "c6875c6ff25e4548a1b3cee16b408f50",
            "f1c4670753f64a569540602c13a2270c",
            "37c6884fbe1842e7a4e10b324e4161d4",
            "d3587e3b2f2b4f94b7b36d4afbd0cf65",
            "eb3f8d1c624e4c23bea12f1bd4eb64a1",
            "091a3e9c05444581ade1cfcb6ed36c28",
            "82e59c7d7ce54647b83280d2c2b7e20e",
            "51319fcfff5449d88a9650d639e3021a",
            "0e64696a6bc64e47ade00be1dbcfb5f4",
            "593344b30867430586242d22c4c692b2",
            "4492ce1d2a0344cdb40314282c47f36e"
          ]
        },
        "id": "-t5q7piB4IsJ",
        "outputId": "80b6b184-3e11-41fb-8c0b-d49a79a4b370"
      },
      "execution_count": null,
      "outputs": [
        {
          "output_type": "stream",
          "name": "stdout",
          "text": [
            "List of labels used: '['filename', 'class', 'author']'.\n"
          ]
        },
        {
          "output_type": "display_data",
          "data": {
            "text/plain": [
              "0it [00:00, ?it/s]"
            ],
            "application/vnd.jupyter.widget-view+json": {
              "version_major": 2,
              "version_minor": 0,
              "model_id": "c6875c6ff25e4548a1b3cee16b408f50"
            }
          },
          "metadata": {}
        }
      ]
    },
    {
      "cell_type": "markdown",
      "source": [
        "If you have not run spaCy in this notebook before, it will ask your permission to install a language model. It may take a minute to download and install the model. Afterwards, the text processing will commence.\n",
        "\n",
        "[⏱️ Session lifespan in GoogleColab might be from idle ~90 min. to ~12 hrs code running. Every time after the session is over and you start the environment again, all the packages and models need to be loaded again too]."
      ],
      "metadata": {
        "id": "zW9D91ZD6xQT"
      }
    },
    {
      "cell_type": "code",
      "source": [
        "exp.texts_preprocess()"
      ],
      "metadata": {
        "colab": {
          "base_uri": "https://localhost:8080/",
          "height": 327,
          "referenced_widgets": [
            "8af5e06fe6d0484bbb612930c80b4146",
            "2acb737cf4074680a70560723769f890",
            "b2f29336d0ec4fc980b940b8227a846d",
            "3ed0f6ca4de04a198c8b84517a6653c0",
            "b7ac3a299414402dab98dc9ff9556134",
            "2d04a1df57d1426a8b8a7d8e7d74d244",
            "12a89fab2eed442ea4106e166b887165",
            "21d030fd90f44680bd082220f2a40330",
            "2f1cffbf398f41e086d28fd43ab46880",
            "4c22b42413a748c68ac778c7e55a1230",
            "f1928e728da24d92b35f86cf2bad8cb5"
          ]
        },
        "id": "_VH5xQTm6rby",
        "outputId": "5f5ff5c9-ddb2-47c0-cb52-7e25d4a8b535"
      },
      "execution_count": null,
      "outputs": [
        {
          "output_type": "stream",
          "name": "stdout",
          "text": [
            "Default folder 'explain_example1/subsamples_none_800' created.\n",
            "Labels ['filename', 'class', 'author'] will be now accessible in documents via 'document._.label'.\n",
            "Checking if the model is available...\n",
            "The pl_core_news_lg is available from Spacy models.\n",
            "Spacy model not installed.\n",
            " Would you like to install it now: [y/n]y\n",
            "\u001b[38;5;2m✔ Download and installation successful\u001b[0m\n",
            "You can now load the package via spacy.load('pl_core_news_lg')\n",
            "\u001b[38;5;3m⚠ Restart to reload dependencies\u001b[0m\n",
            "If you are in a Jupyter or Colab notebook, you may need to restart Python in\n",
            "order to load all the package's dependencies. You can do this by selecting the\n",
            "'Restart kernel' or 'Restart runtime' option.\n",
            "Number of documents provided: 2.\n"
          ]
        },
        {
          "output_type": "display_data",
          "data": {
            "text/plain": [
              "0it [00:00, ?it/s]"
            ],
            "application/vnd.jupyter.widget-view+json": {
              "version_major": 2,
              "version_minor": 0,
              "model_id": "8af5e06fe6d0484bbb612930c80b4146"
            }
          },
          "metadata": {}
        },
        {
          "output_type": "stream",
          "name": "stdout",
          "text": [
            "Documents saved as explain_example1/subsamples_none_800/docs.spacy.\n",
            "They can be reloaded with '.docs_load(filename)'.\n",
            "Preprocessing parameters saved as 'explain_example1/subsamples_none_800/config_preproc_scheme.json'. It can be reloaded with '.load_params_preproc(filename)'.\n"
          ]
        }
      ]
    },
    {
      "cell_type": "markdown",
      "source": [
        "If you are running the code locally, you will notice some new\n",
        "\n",
        "*   folders, e.g., `explain_example1/` - referring to the given experiment\n",
        "*   subfolders, e.g., `subsamples_none_800` - referring to some preprocessing parameters related to segmenting the texts into smaller chunks\n",
        "*   config files, e.g., `config_*.json` - containing Python dictionaries listing all the settings and parameters (currently the default ones)\n",
        "*   data files, e.g., `docs.spacy` - texts already processed by spaCy\n",
        "\n",
        "They are supposed to store for your later reference the processing steps you have taken and allow you reloading intermediate steps of the analysis."
      ],
      "metadata": {
        "id": "dAFUdsK37enU"
      }
    },
    {
      "cell_type": "markdown",
      "source": [
        "Now, you have your `exp.docs` ready in memory. But let's assume that you are working on your own laptop and want to reload them tomorrow...\n",
        "```\n",
        "exp.docs_load(filename = 'docs.spacy')\n",
        "# This looks for 'docs.spacy' in your experiment's directory 'explain_example1/subsamples_none_800/'\n",
        "# This is a default name, so you do not need to indicate the filename:\n",
        "# exp.docs_load()\n",
        "```"
      ],
      "metadata": {
        "id": "4aFivAiWnuAT"
      }
    },
    {
      "cell_type": "code",
      "source": [
        "print(f\"You've got {len(exp.docs)} texts ready.\\n\"\n",
        "f\"The first author is {exp.docs[0]._.author}, and the second {exp.docs[1]._.author}.\")"
      ],
      "metadata": {
        "colab": {
          "base_uri": "https://localhost:8080/"
        },
        "id": "vzdP5M_lo_-9",
        "outputId": "84c50a0b-d5f1-49cd-9a39-1d6befb3107e"
      },
      "execution_count": null,
      "outputs": [
        {
          "output_type": "stream",
          "name": "stdout",
          "text": [
            "You've got 2 texts ready.\n",
            "The first author is Dukaj, and the second Zagórska.\n"
          ]
        }
      ]
    },
    {
      "cell_type": "markdown",
      "source": [
        "This is rather few texts per author. The classifier won't have much to go on with later.\n",
        "\n",
        "So let's 🪓🪓🪓 these beautiful pieces of literature into smaller chunks to get more samples.\n",
        "\n",
        "Currently implemented choices of `sample_type` are:\n",
        "- `'none'` - no chunking\n",
        "- `'t'` - segments defined by their number of tokens\n",
        "- `'s'` - segments defined by their number of sentences (as defined by spaCy)\n",
        "- `'ts'` - segments defined by their number of tokens, but make sure they don't cut sentences in half."
      ],
      "metadata": {
        "id": "DdEr__ISqxhl"
      }
    },
    {
      "cell_type": "code",
      "source": [
        "exp.subsample_scheme = {'sample_type': 'ts', 'sample_length': 200}\n",
        "exp.texts_subsample()\n",
        "print(f\"Samples 1-150 are {exp.docs_subsampled[0]._.author}'s, and 151-351 are {exp.docs_subsampled[170]._.author}'s.\")"
      ],
      "metadata": {
        "colab": {
          "base_uri": "https://localhost:8080/",
          "height": 101,
          "referenced_widgets": [
            "256430329ce9491f8198776dd835d14f",
            "d24628a93d6846398a312234de0f557d",
            "80dcbda9217e4eb8abd44fa4c07dba90",
            "9528aa231fb242bf835a6f29aba125ed",
            "bb496a7323c24c379fc34f4cda157266",
            "906ccf2d39624837a6e56d64f2065a2e",
            "51f81ebb7bd74d68bc7d859d00bf448a",
            "bcf6e229d4224223911bd4090acf8721",
            "2b52fcd5d19f481689b77eab9c6f6fdb",
            "8a0451f8f712454c935c3ede4177619a",
            "9bc43fb990eb4ded811b80ca7056c725"
          ]
        },
        "id": "f8NG7t0zqxLL",
        "outputId": "c514639a-71e4-427a-94c8-f45fa9b9b75f"
      },
      "execution_count": null,
      "outputs": [
        {
          "output_type": "stream",
          "name": "stdout",
          "text": [
            "'subsample_scheme' changed to '{'sample_type': 'ts', 'sample_length': 200}'.\n"
          ]
        },
        {
          "output_type": "display_data",
          "data": {
            "text/plain": [
              "  0%|          | 0/2 [00:00<?, ?it/s]"
            ],
            "application/vnd.jupyter.widget-view+json": {
              "version_major": 2,
              "version_minor": 0,
              "model_id": "256430329ce9491f8198776dd835d14f"
            }
          },
          "metadata": {}
        },
        {
          "output_type": "stream",
          "name": "stdout",
          "text": [
            "Number of text samples produced: 351.\n",
            "Samples 1-150 are Dukaj's, and 151-351 are Zagórska's.\n"
          ]
        }
      ]
    },
    {
      "cell_type": "markdown",
      "source": [
        "### 🔬 Feature extraction"
      ],
      "metadata": {
        "id": "hEj7qB5yxhov"
      }
    },
    {
      "cell_type": "markdown",
      "source": [
        "This is how our text samples look now:"
      ],
      "metadata": {
        "id": "M66ruMp2zDAD"
      }
    },
    {
      "cell_type": "code",
      "source": [
        "from IPython.display import display, HTML\n",
        "sample = exp.docs_subsampled[153]\n",
        "display(HTML(f\"<pre style='white-space:pre-wrap'>{sample}</pre>\"))"
      ],
      "metadata": {
        "colab": {
          "base_uri": "https://localhost:8080/",
          "height": 138
        },
        "id": "SO5_Y1POquNq",
        "outputId": "3d3cf21f-02be-45c1-b693-5f8444c01e91"
      },
      "execution_count": null,
      "outputs": [
        {
          "output_type": "display_data",
          "data": {
            "text/plain": [
              "<IPython.core.display.HTML object>"
            ],
            "text/html": [
              "<pre style='white-space:pre-wrap'>Stara rzeka, rozlana szeroko, wypoczywała bez ruchu u schyłku dnia – po całych wiekach dzielnej służby u rasy zaludniającej jej brzegi – rozpostarta spokojnie w swej godności wodnego szlaku, wiodącego do najdalszych krańców ziemi. Nie patrzyliśmy na czcigodną rzekę przelotnym spojrzeniem krótkiego dnia, który zjawia się i odchodzi na zawsze, ale widzieliśmy ją w dostojnym świetle trwałych wspomnień. I zaiste, nic łatwiejszego dla ludzi, którzy – jak to się mówi – „poświęcili się morzu” z szacunkiem i przywiązaniem, niż wywołać wielkiego ducha przeszłości na przymorskim obszarze Tamizy. Przypływ i odpływ biegną tam i z powrotem w nieustającej służbie, przepełnione wspomnieniami o okrętach i ludziach, których niosły ku domowemu wytchnieniu lub ku walkom na morzach. Prądy te znały wszystkich mężów, którymi szczyci się naród, i służyły im wszystkim – od sir Francisa Drake’a do sir Johna Franklina – rycerzom utytułowanym lub nie, wielkim, błędnym rycerzom morza. </pre>"
            ]
          },
          "metadata": {}
        }
      ]
    },
    {
      "cell_type": "markdown",
      "source": [
        "But spaCy gives you plenty of annotation, e.g.:"
      ],
      "metadata": {
        "id": "rawn65zrzIRK"
      }
    },
    {
      "cell_type": "code",
      "source": [
        "print(f\"Lemmas: {[token.lemma_ for token in sample[-20:]]}\")\n",
        "print(f\"Categories of named entities: {[token.ent_type_ for token in sample[-20:]]}\")\n",
        "print(f\"Part-of-speech tags: {[token.pos_ for token in sample[-20:]]}\")\n",
        "print(f\"Dependency tags: {[token.dep_ for token in sample[-20:]]}\")"
      ],
      "metadata": {
        "colab": {
          "base_uri": "https://localhost:8080/"
        },
        "id": "ETT4cvwxzjQ1",
        "outputId": "c8cdc0ff-72df-4c3a-eeef-47c9799eda45"
      },
      "execution_count": null,
      "outputs": [
        {
          "output_type": "stream",
          "name": "stdout",
          "text": [
            "Lemmas: ['Francis', 'Drake', '’', 'a', 'do', 'sir', 'John', 'Franklin', '–', 'rycerz', 'utytułowany', 'lub', 'nie', ',', 'wielki', ',', 'błędny', 'rycerz', 'morze', '.']\n",
            "Categories of named entities: ['persName', 'persName', '', '', '', '', 'persName', 'persName', '', '', '', '', '', '', '', '', '', '', '', '']\n",
            "Part-of-speech tags: ['PROPN', 'PROPN', 'PROPN', 'PROPN', 'ADP', 'NOUN', 'PROPN', 'PROPN', 'PUNCT', 'NOUN', 'ADJ', 'CCONJ', 'PART', 'PUNCT', 'ADJ', 'PUNCT', 'ADJ', 'NOUN', 'NOUN', 'PUNCT']\n",
            "Dependency tags: ['appos', 'flat', 'punct', 'fixed', 'case', 'nmod', 'appos', 'flat', 'punct', 'appos', 'amod', 'cc', 'conj', 'punct', 'amod', 'punct', 'conj', 'conj', 'nmod', 'punct']\n"
          ]
        }
      ]
    },
    {
      "cell_type": "markdown",
      "source": [
        "You can utilise many of these as features for the classifier, and later as features that will explain differences between text styles.\n",
        "\n",
        "A longer list is given below (in the `feature_extraction` module of our package):"
      ],
      "metadata": {
        "id": "bPhA9tME1WYg"
      }
    },
    {
      "cell_type": "code",
      "source": [
        "from cl_explainable_stylo import feature_extraction\n",
        "help(feature_extraction.count_features)"
      ],
      "metadata": {
        "colab": {
          "base_uri": "https://localhost:8080/"
        },
        "id": "dqt_3kDn1b9d",
        "outputId": "74d75526-8e42-4603-f9be-325702edad6a"
      },
      "execution_count": null,
      "outputs": [
        {
          "output_type": "stream",
          "name": "stdout",
          "text": [
            "Help on function count_features in module cl_explainable_stylo.feature_extraction:\n",
            "\n",
            "count_features(docs, feature_scheme={'features': [13, 23, 30, 52], 'max_features': 1000, 'n_grams_word': (1, 3), 'n_grams_pos': (1, 3), 'n_grams_dep': (1, 3), 'n_grams_morph': (1, 1), 'min_cull_word': 0.0, 'max_cull_word': 1.0, 'min_cull_d2': 0.0, 'max_cull_d2': 1.0, 'remove_duplicates': True}, verbose=0, tqdm_propagate=False)\n",
            "    Count the features in the given documents.\n",
            "    \n",
            "    Parameters\n",
            "    ----------\n",
            "    docs : spacy.tokens.doc.Doc or spacy.tokens.span.Span or list\n",
            "        A single `spacy.tokens.doc.Doc` object or `spacy.tokens.span.Span` or a list of such objects representing the documents.\n",
            "    features : int or list\n",
            "        A single integer or a list of integers representing the features to count.\n",
            "    max_features : int, optional\n",
            "        The maximum number of features to consider (default is 1000).\n",
            "    n_grams_word : tuple, optional\n",
            "        The n-gram range for word features (default is (1, 3)).\n",
            "    n_grams_pos : tuple, optional\n",
            "        The n-gram range for POS features (default is (1, 3)).\n",
            "    n_grams_dep : tuple, optional\n",
            "        The n-gram range for dependency features (default is (1, 3)).\n",
            "    n_grams_morph : tuple, optional\n",
            "        The n-gram range for morphological features (default is (1, 1)).\n",
            "    min_cull_word : int, optional\n",
            "        The minimum document frequency threshold for token (word/lemma) features (default is 0). Ignores features that have a document frequency strictly lower than the given threshold.\n",
            "    max_cull_word : int, optional\n",
            "        The maximum document frequency threshold for token (word/lemma) features (default is 1). Ignores features that have a document frequency strictly higher than the given threshold.\n",
            "    min_cull_d2 : int, optional\n",
            "        The minimum document frequency threshold for dependency features (default is 0).\n",
            "    max_cull_d2 : int, optional\n",
            "        The maximum document frequency threshold for dependency features (default is 1).\n",
            "    remove_duplicates : bool, optional\n",
            "        Remove feature duplicates resulting from different feature types (default is True).\n",
            "    verbose : int, optional\n",
            "        Verbosity level (0: all messages, 1: warnings, 2: no messages) (default is 0).\n",
            "    tqdm_propagate : bool, optional\n",
            "        Display tqdm progress bars for functions called from within count_features (default is False).\n",
            "    \n",
            "    Returns\n",
            "    -------\n",
            "    tuple\n",
            "        A tuple containing the feature names and the feature matrix.\n",
            "        - feature_names : list\n",
            "            A list of feature names formatted as 'FeatureName_FeatureTypeID'.\n",
            "        - dfX : pandas.DataFrame\n",
            "            A DataFrame representing the feature matrix.\n",
            "    \n",
            "    Notes\n",
            "    -----\n",
            "    The function supports counting the same types of features as `choose_features()`.\n",
            "    Available feature IDs and their corresponding types:\n",
            "    - Tokens:\n",
            "        - 10: Select all words.\n",
            "        - 11: Select all lemmas.\n",
            "        - 12: Select non-NER words, replacing named entities with their entity type.\n",
            "        - 13: Select non-NER lemmas.\n",
            "    - Token N-grams, dependency-based:\n",
            "        - 20: Select all words and punctuation (excluding numerals) in dependency-based bigrams.\n",
            "        - 21: Select all lemmas in dependency-based bigrams.\n",
            "        - 22: Select non-NER words in dependency-based bigrams, replacing named entities with their entity type.\n",
            "        - 23: Select non-NER lemmas in dependency-based bigrams, replacing named entities with their entity type.\n",
            "    - Part-of-speech tags:\n",
            "        - 30: Select all parts of speech.\n",
            "        - 31: Select parts of speech without punctuation.\n",
            "        - 32: Select parts of speech without 'SPACE'.\n",
            "    - Dependency-based tags:\n",
            "        - 40: Select dependency labels without punctuation.\n",
            "    - Morphology annotation:\n",
            "        - 50: Select morphology annotations with punctuation.\n",
            "        - 52: Select non-NER morphology annotations, replacing named entities with their entity type.\n",
            "    - Named entities:\n",
            "        - 60: Select NER types.\n",
            "        - 61: Select all named entities.\n",
            "    - Invalid feature IDs will be skipped, and a warning message will be displayed if `verbose` is set to 0 or 1.\n",
            "    \n",
            "    Example situation where removing duplicates might be needed:\n",
            "    - Suppose that in a given corpus the feature 'PronType=Prs|Reflex=Yes_50' is always realised with 'się_10' (word) and the corresponding 'się_11' (lemma). These three features will be reduced to one.\n",
            "    - A specific POS 5-gram has only one corresponding word 5-gram realisation.\n",
            "\n"
          ]
        }
      ]
    },
    {
      "cell_type": "markdown",
      "source": [
        "You choose from the above the ones that you consider potentially useful.\n",
        "\n",
        "The default settings are defined in `exp.default_feature_scheme`,\n",
        "and the currently used settings are stored in `exp.feature_scheme`, which you can modify.\n",
        "\n",
        "🥼 Currently, the pipeline is implemented to work with _spaCy_.  If have your own annotations, you have to extract them as features on your own. But you can still use them in later steps."
      ],
      "metadata": {
        "id": "mmEKedXg2NJv"
      }
    },
    {
      "cell_type": "code",
      "source": [
        "exp.default_feature_scheme"
      ],
      "metadata": {
        "colab": {
          "base_uri": "https://localhost:8080/"
        },
        "id": "9MT4IukH2Kno",
        "outputId": "a658a023-4ad4-44eb-f1ef-269b379d78eb"
      },
      "execution_count": null,
      "outputs": [
        {
          "output_type": "execute_result",
          "data": {
            "text/plain": [
              "{'features': [13, 23, 32, 52, 61],\n",
              " 'max_features': 1000,\n",
              " 'n_grams_word': (1, 3),\n",
              " 'n_grams_pos': (1, 3),\n",
              " 'n_grams_dep': (1, 3),\n",
              " 'n_grams_morph': (1, 1),\n",
              " 'min_cull_word': 0.0,\n",
              " 'max_cull_word': 1.0,\n",
              " 'min_cull_d2': 0.0,\n",
              " 'max_cull_d2': 1.0,\n",
              " 'remove_duplicates': False}"
            ]
          },
          "metadata": {},
          "execution_count": 14
        }
      ]
    },
    {
      "cell_type": "code",
      "source": [
        "exp.feature_scheme['max_features']=500\n",
        "exp.feature_scheme"
      ],
      "metadata": {
        "colab": {
          "base_uri": "https://localhost:8080/"
        },
        "id": "88RjKvUJ21Gg",
        "outputId": "0c424117-6973-4763-ca0f-70615887f814"
      },
      "execution_count": null,
      "outputs": [
        {
          "output_type": "execute_result",
          "data": {
            "text/plain": [
              "{'features': [13, 23, 32, 52, 61],\n",
              " 'max_features': 500,\n",
              " 'n_grams_word': (1, 3),\n",
              " 'n_grams_pos': (1, 3),\n",
              " 'n_grams_dep': (1, 3),\n",
              " 'n_grams_morph': (1, 1),\n",
              " 'min_cull_word': 0.0,\n",
              " 'max_cull_word': 1.0,\n",
              " 'min_cull_d2': 0.0,\n",
              " 'max_cull_d2': 1.0,\n",
              " 'remove_duplicates': False}"
            ]
          },
          "metadata": {},
          "execution_count": 15
        }
      ]
    },
    {
      "cell_type": "markdown",
      "source": [
        "Now, let the machine do some heavy lifting for us:"
      ],
      "metadata": {
        "id": "uRyFphvt3Vdr"
      }
    },
    {
      "cell_type": "code",
      "source": [
        "exp.extract_features(save_to_file=True)"
      ],
      "metadata": {
        "colab": {
          "base_uri": "https://localhost:8080/",
          "height": 243,
          "referenced_widgets": [
            "be10c6b65cb647379636d21e9a3a2f6f",
            "c61882e662574aaeba2bdc1603e27ae2",
            "516d450b4d724792a5c32cb832c7f168",
            "36a49c395ff743a0b62a4da7f66df251",
            "43d37f86d9bb405a820c6bbdd3b29df8",
            "3d764631f2e94c08bb8586e065b813a2",
            "3ecc4138e3e340b186a9f1ffe363e56c",
            "3d269db4d5b94ea4af1079ce779747ac",
            "a50df7b70c0245a5bf4a03463e61e8c5",
            "53a085b34743499caebc0af7e059398b",
            "7657d843e44b437db1aa4df60614a887"
          ]
        },
        "id": "4KaEAA3o3Zpb",
        "outputId": "d73404bd-da13-472b-85a5-7990271c3719"
      },
      "execution_count": null,
      "outputs": [
        {
          "output_type": "stream",
          "name": "stdout",
          "text": [
            "Number of documents provided: 351.\n",
            "Features to be extracted: [13, 23, 32, 52, 61].\n"
          ]
        },
        {
          "output_type": "display_data",
          "data": {
            "text/plain": [
              "  0%|          | 0/5 [00:00<?, ?it/s]"
            ],
            "application/vnd.jupyter.widget-view+json": {
              "version_major": 2,
              "version_minor": 0,
              "model_id": "be10c6b65cb647379636d21e9a3a2f6f"
            }
          },
          "metadata": {}
        },
        {
          "output_type": "stream",
          "name": "stdout",
          "text": [
            "-- Extracting non-NER lemmas (replacing named entities with their entity type).\n",
            "-- Extracting dependency-based non-NER lemma bigrams (including punctuation, excluding numerals, replacing named entities with their entity type).\n",
            "-- Extracting all parts of speech (no punctuation).\n",
            "-- Extracting morphology annotations with punctuation (replacing named entities with their entity type).\n",
            "-- Extracting all named entities.\n",
            "Default folder 'explain_example1/subsamples_ts_200' created.\n",
            "Feature extraction parameters saved as 'explain_example1/subsamples_ts_200/config_feature_scheme.json'. It can be reloaded with '.load_params_feature(filename)'.\n",
            "'.feature_dataframe' saved as 'explain_example1/subsamples_ts_200/features.csv'. It can be reloaded with '.features_load(filename)'.\n"
          ]
        }
      ]
    },
    {
      "cell_type": "markdown",
      "source": [
        "The table (samples x features) is going to be saved as a `.csv` file, which can later be reloaded with\n",
        "```\n",
        "exp.features_load(filename = 'features.csv')\n",
        "```\n",
        "Our all-encompassing variable `exp` now contains also that table `exp.feature_dataframe` encoded as a _Pandas_ `DataFrame`.\n",
        "\n",
        "⚠️ It can grow rather **BIG**, ~100 MB and more, depending on the size of your corpus and the number of features.\n",
        "\n",
        "⚠️ The folder for storage is named after the subsampling settings: `subsamples_ts_200`. If you make multiple experiments with different subsampling settings, they are going to be stored separately. If you make experiments with different `.feature_scheme` settings, they might overwrite or produce `features_1.csv`, `features_2.csv`, etc. (with corresponding `config_*_1.json`, `config_*_2.json`, ..., files).\n"
      ],
      "metadata": {
        "id": "tmGgFLfD3e7P"
      }
    },
    {
      "cell_type": "code",
      "source": [
        "exp.feature_dataframe"
      ],
      "metadata": {
        "colab": {
          "base_uri": "https://localhost:8080/",
          "height": 461
        },
        "id": "0P1ZfvFC3dsv",
        "outputId": "66fbf025-3085-443b-9557-2d85055294d1"
      },
      "execution_count": null,
      "outputs": [
        {
          "output_type": "execute_result",
          "data": {
            "text/plain": [
              "     aby_13  ach_13  agent_13  albo_13  ale_13  ale nie_13  ani_13  aż_13  \\\n",
              "0       0.0     0.0       0.0      0.0     0.0         0.0     0.0    1.0   \n",
              "1       0.0     0.0       0.0      0.0     0.0         0.0     1.0    0.0   \n",
              "2       0.0     0.0       0.0      0.0     0.0         0.0     0.0    0.0   \n",
              "3       0.0     0.0       0.0      0.0     1.0         0.0     0.0    0.0   \n",
              "4       0.0     0.0       0.0      1.0     0.0         0.0     0.0    0.0   \n",
              "..      ...     ...       ...      ...     ...         ...     ...    ...   \n",
              "346     0.0     0.0       0.0      0.0     1.0         0.0     0.0    0.0   \n",
              "347     2.0     0.0       0.0      0.0     0.0         0.0     0.0    0.0   \n",
              "348     0.0     0.0       0.0      0.0     2.0         0.0     0.0    0.0   \n",
              "349     0.0     1.0       0.0      0.0     1.0         0.0     0.0    0.0   \n",
              "350     3.0     0.0       0.0      0.0     1.0         0.0     0.0    1.0   \n",
              "\n",
              "     bardzo_13  bez_13  ...  wschodnioindyjskiej_61  wtajemniczy_61  \\\n",
              "0          0.0     0.0  ...                     0.0             0.0   \n",
              "1          0.0     1.0  ...                     0.0             0.0   \n",
              "2          0.0     0.0  ...                     0.0             0.0   \n",
              "3          1.0     0.0  ...                     0.0             0.0   \n",
              "4          0.0     0.0  ...                     0.0             0.0   \n",
              "..         ...     ...  ...                     ...             ...   \n",
              "346        0.0     0.0  ...                     0.0             0.0   \n",
              "347        3.0     0.0  ...                     0.0             0.0   \n",
              "348        0.0     0.0  ...                     0.0             0.0   \n",
              "349        1.0     0.0  ...                     0.0             0.0   \n",
              "350        0.0     0.0  ...                     0.0             0.0   \n",
              "\n",
              "     wygraża_61  wylornetkowałem_61  zamorskiego_61  Ósma_61  ósmej_61  \\\n",
              "0           0.0                 0.0             0.0      0.0       0.0   \n",
              "1           0.0                 0.0             0.0      0.0       0.0   \n",
              "2           0.0                 0.0             0.0      0.0       0.0   \n",
              "3           0.0                 0.0             0.0      0.0       0.0   \n",
              "4           0.0                 0.0             0.0      0.0       0.0   \n",
              "..          ...                 ...             ...      ...       ...   \n",
              "346         0.0                 0.0             0.0      0.0       0.0   \n",
              "347         0.0                 0.0             0.0      0.0       0.0   \n",
              "348         0.0                 0.0             0.0      0.0       0.0   \n",
              "349         0.0                 0.0             0.0      0.0       0.0   \n",
              "350         0.0                 0.0             0.0      0.0       0.0   \n",
              "\n",
              "     Łódź_61  Śródziemnego_61  Śródziemnym_61  \n",
              "0        0.0              0.0             0.0  \n",
              "1        0.0              0.0             0.0  \n",
              "2        0.0              0.0             0.0  \n",
              "3        0.0              1.0             0.0  \n",
              "4        0.0              0.0             0.0  \n",
              "..       ...              ...             ...  \n",
              "346      0.0              0.0             0.0  \n",
              "347      0.0              0.0             0.0  \n",
              "348      0.0              0.0             0.0  \n",
              "349      0.0              0.0             0.0  \n",
              "350      0.0              0.0             0.0  \n",
              "\n",
              "[351 rows x 2317 columns]"
            ],
            "text/html": [
              "\n",
              "  <div id=\"df-3b106023-480b-47d7-938f-787f6413d726\" class=\"colab-df-container\">\n",
              "    <div>\n",
              "<style scoped>\n",
              "    .dataframe tbody tr th:only-of-type {\n",
              "        vertical-align: middle;\n",
              "    }\n",
              "\n",
              "    .dataframe tbody tr th {\n",
              "        vertical-align: top;\n",
              "    }\n",
              "\n",
              "    .dataframe thead th {\n",
              "        text-align: right;\n",
              "    }\n",
              "</style>\n",
              "<table border=\"1\" class=\"dataframe\">\n",
              "  <thead>\n",
              "    <tr style=\"text-align: right;\">\n",
              "      <th></th>\n",
              "      <th>aby_13</th>\n",
              "      <th>ach_13</th>\n",
              "      <th>agent_13</th>\n",
              "      <th>albo_13</th>\n",
              "      <th>ale_13</th>\n",
              "      <th>ale nie_13</th>\n",
              "      <th>ani_13</th>\n",
              "      <th>aż_13</th>\n",
              "      <th>bardzo_13</th>\n",
              "      <th>bez_13</th>\n",
              "      <th>...</th>\n",
              "      <th>wschodnioindyjskiej_61</th>\n",
              "      <th>wtajemniczy_61</th>\n",
              "      <th>wygraża_61</th>\n",
              "      <th>wylornetkowałem_61</th>\n",
              "      <th>zamorskiego_61</th>\n",
              "      <th>Ósma_61</th>\n",
              "      <th>ósmej_61</th>\n",
              "      <th>Łódź_61</th>\n",
              "      <th>Śródziemnego_61</th>\n",
              "      <th>Śródziemnym_61</th>\n",
              "    </tr>\n",
              "  </thead>\n",
              "  <tbody>\n",
              "    <tr>\n",
              "      <th>0</th>\n",
              "      <td>0.0</td>\n",
              "      <td>0.0</td>\n",
              "      <td>0.0</td>\n",
              "      <td>0.0</td>\n",
              "      <td>0.0</td>\n",
              "      <td>0.0</td>\n",
              "      <td>0.0</td>\n",
              "      <td>1.0</td>\n",
              "      <td>0.0</td>\n",
              "      <td>0.0</td>\n",
              "      <td>...</td>\n",
              "      <td>0.0</td>\n",
              "      <td>0.0</td>\n",
              "      <td>0.0</td>\n",
              "      <td>0.0</td>\n",
              "      <td>0.0</td>\n",
              "      <td>0.0</td>\n",
              "      <td>0.0</td>\n",
              "      <td>0.0</td>\n",
              "      <td>0.0</td>\n",
              "      <td>0.0</td>\n",
              "    </tr>\n",
              "    <tr>\n",
              "      <th>1</th>\n",
              "      <td>0.0</td>\n",
              "      <td>0.0</td>\n",
              "      <td>0.0</td>\n",
              "      <td>0.0</td>\n",
              "      <td>0.0</td>\n",
              "      <td>0.0</td>\n",
              "      <td>1.0</td>\n",
              "      <td>0.0</td>\n",
              "      <td>0.0</td>\n",
              "      <td>1.0</td>\n",
              "      <td>...</td>\n",
              "      <td>0.0</td>\n",
              "      <td>0.0</td>\n",
              "      <td>0.0</td>\n",
              "      <td>0.0</td>\n",
              "      <td>0.0</td>\n",
              "      <td>0.0</td>\n",
              "      <td>0.0</td>\n",
              "      <td>0.0</td>\n",
              "      <td>0.0</td>\n",
              "      <td>0.0</td>\n",
              "    </tr>\n",
              "    <tr>\n",
              "      <th>2</th>\n",
              "      <td>0.0</td>\n",
              "      <td>0.0</td>\n",
              "      <td>0.0</td>\n",
              "      <td>0.0</td>\n",
              "      <td>0.0</td>\n",
              "      <td>0.0</td>\n",
              "      <td>0.0</td>\n",
              "      <td>0.0</td>\n",
              "      <td>0.0</td>\n",
              "      <td>0.0</td>\n",
              "      <td>...</td>\n",
              "      <td>0.0</td>\n",
              "      <td>0.0</td>\n",
              "      <td>0.0</td>\n",
              "      <td>0.0</td>\n",
              "      <td>0.0</td>\n",
              "      <td>0.0</td>\n",
              "      <td>0.0</td>\n",
              "      <td>0.0</td>\n",
              "      <td>0.0</td>\n",
              "      <td>0.0</td>\n",
              "    </tr>\n",
              "    <tr>\n",
              "      <th>3</th>\n",
              "      <td>0.0</td>\n",
              "      <td>0.0</td>\n",
              "      <td>0.0</td>\n",
              "      <td>0.0</td>\n",
              "      <td>1.0</td>\n",
              "      <td>0.0</td>\n",
              "      <td>0.0</td>\n",
              "      <td>0.0</td>\n",
              "      <td>1.0</td>\n",
              "      <td>0.0</td>\n",
              "      <td>...</td>\n",
              "      <td>0.0</td>\n",
              "      <td>0.0</td>\n",
              "      <td>0.0</td>\n",
              "      <td>0.0</td>\n",
              "      <td>0.0</td>\n",
              "      <td>0.0</td>\n",
              "      <td>0.0</td>\n",
              "      <td>0.0</td>\n",
              "      <td>1.0</td>\n",
              "      <td>0.0</td>\n",
              "    </tr>\n",
              "    <tr>\n",
              "      <th>4</th>\n",
              "      <td>0.0</td>\n",
              "      <td>0.0</td>\n",
              "      <td>0.0</td>\n",
              "      <td>1.0</td>\n",
              "      <td>0.0</td>\n",
              "      <td>0.0</td>\n",
              "      <td>0.0</td>\n",
              "      <td>0.0</td>\n",
              "      <td>0.0</td>\n",
              "      <td>0.0</td>\n",
              "      <td>...</td>\n",
              "      <td>0.0</td>\n",
              "      <td>0.0</td>\n",
              "      <td>0.0</td>\n",
              "      <td>0.0</td>\n",
              "      <td>0.0</td>\n",
              "      <td>0.0</td>\n",
              "      <td>0.0</td>\n",
              "      <td>0.0</td>\n",
              "      <td>0.0</td>\n",
              "      <td>0.0</td>\n",
              "    </tr>\n",
              "    <tr>\n",
              "      <th>...</th>\n",
              "      <td>...</td>\n",
              "      <td>...</td>\n",
              "      <td>...</td>\n",
              "      <td>...</td>\n",
              "      <td>...</td>\n",
              "      <td>...</td>\n",
              "      <td>...</td>\n",
              "      <td>...</td>\n",
              "      <td>...</td>\n",
              "      <td>...</td>\n",
              "      <td>...</td>\n",
              "      <td>...</td>\n",
              "      <td>...</td>\n",
              "      <td>...</td>\n",
              "      <td>...</td>\n",
              "      <td>...</td>\n",
              "      <td>...</td>\n",
              "      <td>...</td>\n",
              "      <td>...</td>\n",
              "      <td>...</td>\n",
              "      <td>...</td>\n",
              "    </tr>\n",
              "    <tr>\n",
              "      <th>346</th>\n",
              "      <td>0.0</td>\n",
              "      <td>0.0</td>\n",
              "      <td>0.0</td>\n",
              "      <td>0.0</td>\n",
              "      <td>1.0</td>\n",
              "      <td>0.0</td>\n",
              "      <td>0.0</td>\n",
              "      <td>0.0</td>\n",
              "      <td>0.0</td>\n",
              "      <td>0.0</td>\n",
              "      <td>...</td>\n",
              "      <td>0.0</td>\n",
              "      <td>0.0</td>\n",
              "      <td>0.0</td>\n",
              "      <td>0.0</td>\n",
              "      <td>0.0</td>\n",
              "      <td>0.0</td>\n",
              "      <td>0.0</td>\n",
              "      <td>0.0</td>\n",
              "      <td>0.0</td>\n",
              "      <td>0.0</td>\n",
              "    </tr>\n",
              "    <tr>\n",
              "      <th>347</th>\n",
              "      <td>2.0</td>\n",
              "      <td>0.0</td>\n",
              "      <td>0.0</td>\n",
              "      <td>0.0</td>\n",
              "      <td>0.0</td>\n",
              "      <td>0.0</td>\n",
              "      <td>0.0</td>\n",
              "      <td>0.0</td>\n",
              "      <td>3.0</td>\n",
              "      <td>0.0</td>\n",
              "      <td>...</td>\n",
              "      <td>0.0</td>\n",
              "      <td>0.0</td>\n",
              "      <td>0.0</td>\n",
              "      <td>0.0</td>\n",
              "      <td>0.0</td>\n",
              "      <td>0.0</td>\n",
              "      <td>0.0</td>\n",
              "      <td>0.0</td>\n",
              "      <td>0.0</td>\n",
              "      <td>0.0</td>\n",
              "    </tr>\n",
              "    <tr>\n",
              "      <th>348</th>\n",
              "      <td>0.0</td>\n",
              "      <td>0.0</td>\n",
              "      <td>0.0</td>\n",
              "      <td>0.0</td>\n",
              "      <td>2.0</td>\n",
              "      <td>0.0</td>\n",
              "      <td>0.0</td>\n",
              "      <td>0.0</td>\n",
              "      <td>0.0</td>\n",
              "      <td>0.0</td>\n",
              "      <td>...</td>\n",
              "      <td>0.0</td>\n",
              "      <td>0.0</td>\n",
              "      <td>0.0</td>\n",
              "      <td>0.0</td>\n",
              "      <td>0.0</td>\n",
              "      <td>0.0</td>\n",
              "      <td>0.0</td>\n",
              "      <td>0.0</td>\n",
              "      <td>0.0</td>\n",
              "      <td>0.0</td>\n",
              "    </tr>\n",
              "    <tr>\n",
              "      <th>349</th>\n",
              "      <td>0.0</td>\n",
              "      <td>1.0</td>\n",
              "      <td>0.0</td>\n",
              "      <td>0.0</td>\n",
              "      <td>1.0</td>\n",
              "      <td>0.0</td>\n",
              "      <td>0.0</td>\n",
              "      <td>0.0</td>\n",
              "      <td>1.0</td>\n",
              "      <td>0.0</td>\n",
              "      <td>...</td>\n",
              "      <td>0.0</td>\n",
              "      <td>0.0</td>\n",
              "      <td>0.0</td>\n",
              "      <td>0.0</td>\n",
              "      <td>0.0</td>\n",
              "      <td>0.0</td>\n",
              "      <td>0.0</td>\n",
              "      <td>0.0</td>\n",
              "      <td>0.0</td>\n",
              "      <td>0.0</td>\n",
              "    </tr>\n",
              "    <tr>\n",
              "      <th>350</th>\n",
              "      <td>3.0</td>\n",
              "      <td>0.0</td>\n",
              "      <td>0.0</td>\n",
              "      <td>0.0</td>\n",
              "      <td>1.0</td>\n",
              "      <td>0.0</td>\n",
              "      <td>0.0</td>\n",
              "      <td>1.0</td>\n",
              "      <td>0.0</td>\n",
              "      <td>0.0</td>\n",
              "      <td>...</td>\n",
              "      <td>0.0</td>\n",
              "      <td>0.0</td>\n",
              "      <td>0.0</td>\n",
              "      <td>0.0</td>\n",
              "      <td>0.0</td>\n",
              "      <td>0.0</td>\n",
              "      <td>0.0</td>\n",
              "      <td>0.0</td>\n",
              "      <td>0.0</td>\n",
              "      <td>0.0</td>\n",
              "    </tr>\n",
              "  </tbody>\n",
              "</table>\n",
              "<p>351 rows × 2317 columns</p>\n",
              "</div>\n",
              "    <div class=\"colab-df-buttons\">\n",
              "\n",
              "  <div class=\"colab-df-container\">\n",
              "    <button class=\"colab-df-convert\" onclick=\"convertToInteractive('df-3b106023-480b-47d7-938f-787f6413d726')\"\n",
              "            title=\"Convert this dataframe to an interactive table.\"\n",
              "            style=\"display:none;\">\n",
              "\n",
              "  <svg xmlns=\"http://www.w3.org/2000/svg\" height=\"24px\" viewBox=\"0 -960 960 960\">\n",
              "    <path d=\"M120-120v-720h720v720H120Zm60-500h600v-160H180v160Zm220 220h160v-160H400v160Zm0 220h160v-160H400v160ZM180-400h160v-160H180v160Zm440 0h160v-160H620v160ZM180-180h160v-160H180v160Zm440 0h160v-160H620v160Z\"/>\n",
              "  </svg>\n",
              "    </button>\n",
              "\n",
              "  <style>\n",
              "    .colab-df-container {\n",
              "      display:flex;\n",
              "      gap: 12px;\n",
              "    }\n",
              "\n",
              "    .colab-df-convert {\n",
              "      background-color: #E8F0FE;\n",
              "      border: none;\n",
              "      border-radius: 50%;\n",
              "      cursor: pointer;\n",
              "      display: none;\n",
              "      fill: #1967D2;\n",
              "      height: 32px;\n",
              "      padding: 0 0 0 0;\n",
              "      width: 32px;\n",
              "    }\n",
              "\n",
              "    .colab-df-convert:hover {\n",
              "      background-color: #E2EBFA;\n",
              "      box-shadow: 0px 1px 2px rgba(60, 64, 67, 0.3), 0px 1px 3px 1px rgba(60, 64, 67, 0.15);\n",
              "      fill: #174EA6;\n",
              "    }\n",
              "\n",
              "    .colab-df-buttons div {\n",
              "      margin-bottom: 4px;\n",
              "    }\n",
              "\n",
              "    [theme=dark] .colab-df-convert {\n",
              "      background-color: #3B4455;\n",
              "      fill: #D2E3FC;\n",
              "    }\n",
              "\n",
              "    [theme=dark] .colab-df-convert:hover {\n",
              "      background-color: #434B5C;\n",
              "      box-shadow: 0px 1px 3px 1px rgba(0, 0, 0, 0.15);\n",
              "      filter: drop-shadow(0px 1px 2px rgba(0, 0, 0, 0.3));\n",
              "      fill: #FFFFFF;\n",
              "    }\n",
              "  </style>\n",
              "\n",
              "    <script>\n",
              "      const buttonEl =\n",
              "        document.querySelector('#df-3b106023-480b-47d7-938f-787f6413d726 button.colab-df-convert');\n",
              "      buttonEl.style.display =\n",
              "        google.colab.kernel.accessAllowed ? 'block' : 'none';\n",
              "\n",
              "      async function convertToInteractive(key) {\n",
              "        const element = document.querySelector('#df-3b106023-480b-47d7-938f-787f6413d726');\n",
              "        const dataTable =\n",
              "          await google.colab.kernel.invokeFunction('convertToInteractive',\n",
              "                                                    [key], {});\n",
              "        if (!dataTable) return;\n",
              "\n",
              "        const docLinkHtml = 'Like what you see? Visit the ' +\n",
              "          '<a target=\"_blank\" href=https://colab.research.google.com/notebooks/data_table.ipynb>data table notebook</a>'\n",
              "          + ' to learn more about interactive tables.';\n",
              "        element.innerHTML = '';\n",
              "        dataTable['output_type'] = 'display_data';\n",
              "        await google.colab.output.renderOutput(dataTable, element);\n",
              "        const docLink = document.createElement('div');\n",
              "        docLink.innerHTML = docLinkHtml;\n",
              "        element.appendChild(docLink);\n",
              "      }\n",
              "    </script>\n",
              "  </div>\n",
              "\n",
              "\n",
              "    <div id=\"df-e08d4837-4f19-4c6a-86f8-8a309dd54dce\">\n",
              "      <button class=\"colab-df-quickchart\" onclick=\"quickchart('df-e08d4837-4f19-4c6a-86f8-8a309dd54dce')\"\n",
              "                title=\"Suggest charts\"\n",
              "                style=\"display:none;\">\n",
              "\n",
              "<svg xmlns=\"http://www.w3.org/2000/svg\" height=\"24px\"viewBox=\"0 0 24 24\"\n",
              "     width=\"24px\">\n",
              "    <g>\n",
              "        <path d=\"M19 3H5c-1.1 0-2 .9-2 2v14c0 1.1.9 2 2 2h14c1.1 0 2-.9 2-2V5c0-1.1-.9-2-2-2zM9 17H7v-7h2v7zm4 0h-2V7h2v10zm4 0h-2v-4h2v4z\"/>\n",
              "    </g>\n",
              "</svg>\n",
              "      </button>\n",
              "\n",
              "<style>\n",
              "  .colab-df-quickchart {\n",
              "      --bg-color: #E8F0FE;\n",
              "      --fill-color: #1967D2;\n",
              "      --hover-bg-color: #E2EBFA;\n",
              "      --hover-fill-color: #174EA6;\n",
              "      --disabled-fill-color: #AAA;\n",
              "      --disabled-bg-color: #DDD;\n",
              "  }\n",
              "\n",
              "  [theme=dark] .colab-df-quickchart {\n",
              "      --bg-color: #3B4455;\n",
              "      --fill-color: #D2E3FC;\n",
              "      --hover-bg-color: #434B5C;\n",
              "      --hover-fill-color: #FFFFFF;\n",
              "      --disabled-bg-color: #3B4455;\n",
              "      --disabled-fill-color: #666;\n",
              "  }\n",
              "\n",
              "  .colab-df-quickchart {\n",
              "    background-color: var(--bg-color);\n",
              "    border: none;\n",
              "    border-radius: 50%;\n",
              "    cursor: pointer;\n",
              "    display: none;\n",
              "    fill: var(--fill-color);\n",
              "    height: 32px;\n",
              "    padding: 0;\n",
              "    width: 32px;\n",
              "  }\n",
              "\n",
              "  .colab-df-quickchart:hover {\n",
              "    background-color: var(--hover-bg-color);\n",
              "    box-shadow: 0 1px 2px rgba(60, 64, 67, 0.3), 0 1px 3px 1px rgba(60, 64, 67, 0.15);\n",
              "    fill: var(--button-hover-fill-color);\n",
              "  }\n",
              "\n",
              "  .colab-df-quickchart-complete:disabled,\n",
              "  .colab-df-quickchart-complete:disabled:hover {\n",
              "    background-color: var(--disabled-bg-color);\n",
              "    fill: var(--disabled-fill-color);\n",
              "    box-shadow: none;\n",
              "  }\n",
              "\n",
              "  .colab-df-spinner {\n",
              "    border: 2px solid var(--fill-color);\n",
              "    border-color: transparent;\n",
              "    border-bottom-color: var(--fill-color);\n",
              "    animation:\n",
              "      spin 1s steps(1) infinite;\n",
              "  }\n",
              "\n",
              "  @keyframes spin {\n",
              "    0% {\n",
              "      border-color: transparent;\n",
              "      border-bottom-color: var(--fill-color);\n",
              "      border-left-color: var(--fill-color);\n",
              "    }\n",
              "    20% {\n",
              "      border-color: transparent;\n",
              "      border-left-color: var(--fill-color);\n",
              "      border-top-color: var(--fill-color);\n",
              "    }\n",
              "    30% {\n",
              "      border-color: transparent;\n",
              "      border-left-color: var(--fill-color);\n",
              "      border-top-color: var(--fill-color);\n",
              "      border-right-color: var(--fill-color);\n",
              "    }\n",
              "    40% {\n",
              "      border-color: transparent;\n",
              "      border-right-color: var(--fill-color);\n",
              "      border-top-color: var(--fill-color);\n",
              "    }\n",
              "    60% {\n",
              "      border-color: transparent;\n",
              "      border-right-color: var(--fill-color);\n",
              "    }\n",
              "    80% {\n",
              "      border-color: transparent;\n",
              "      border-right-color: var(--fill-color);\n",
              "      border-bottom-color: var(--fill-color);\n",
              "    }\n",
              "    90% {\n",
              "      border-color: transparent;\n",
              "      border-bottom-color: var(--fill-color);\n",
              "    }\n",
              "  }\n",
              "</style>\n",
              "\n",
              "      <script>\n",
              "        async function quickchart(key) {\n",
              "          const quickchartButtonEl =\n",
              "            document.querySelector('#' + key + ' button');\n",
              "          quickchartButtonEl.disabled = true;  // To prevent multiple clicks.\n",
              "          quickchartButtonEl.classList.add('colab-df-spinner');\n",
              "          try {\n",
              "            const charts = await google.colab.kernel.invokeFunction(\n",
              "                'suggestCharts', [key], {});\n",
              "          } catch (error) {\n",
              "            console.error('Error during call to suggestCharts:', error);\n",
              "          }\n",
              "          quickchartButtonEl.classList.remove('colab-df-spinner');\n",
              "          quickchartButtonEl.classList.add('colab-df-quickchart-complete');\n",
              "        }\n",
              "        (() => {\n",
              "          let quickchartButtonEl =\n",
              "            document.querySelector('#df-e08d4837-4f19-4c6a-86f8-8a309dd54dce button');\n",
              "          quickchartButtonEl.style.display =\n",
              "            google.colab.kernel.accessAllowed ? 'block' : 'none';\n",
              "        })();\n",
              "      </script>\n",
              "    </div>\n",
              "\n",
              "    </div>\n",
              "  </div>\n"
            ],
            "application/vnd.google.colaboratory.intrinsic+json": {
              "type": "dataframe"
            }
          },
          "metadata": {},
          "execution_count": 17
        }
      ]
    },
    {
      "cell_type": "markdown",
      "source": [
        "🥼 If have your own features and they are in the same table format (especially the number of text samples), you can still load them with\n",
        "```\n",
        "exp.features_load(filename = 'features.csv')\n",
        "```\n",
        "Alternatively, if you have them stored in a variable as _Pandas_ `DataFrame`,\n",
        "you can simply put it into the `exp` (without unnecessary computing `exp.extract_features()`):\n",
        "```\n",
        "exp.feature_dataframe = your_df\n",
        "```"
      ],
      "metadata": {
        "id": "aS8ezsoG7vJc"
      }
    },
    {
      "cell_type": "markdown",
      "source": [
        "### 🏋️‍♀️ Training a classifier\n",
        "\n",
        "Everything's ready to feed the classifier, train it to distinguish between the authors and then explain how it is doing that."
      ],
      "metadata": {
        "id": "FbgkvbyM6j3o"
      }
    },
    {
      "cell_type": "markdown",
      "source": [
        "In fact, we are going to train several classifiers on different data subsets to be able to assess reliability of the pipeline.\n",
        "\n",
        "The standard technique for that is cross-validation. You can simply divide the dataset into *k* equal sized sets of samples, train on *k-1* and test the results on the one that was left out.\n",
        "\n",
        "![K-fold](https://scikit-learn.org/stable/_images/sphx_glr_plot_cv_indices_006.png)\n",
        "\n",
        "If your classes have unequal numbers of samples, stratification might be advisable.\n",
        "\n",
        "![stratified K-fold](https://scikit-learn.org/stable/_images/sphx_glr_plot_cv_indices_009.png)"
      ],
      "metadata": {
        "id": "IJ0R16j4bvnb"
      }
    },
    {
      "cell_type": "markdown",
      "source": [
        "Like before, the default settings are defined in `exp.default_cv_scheme` and `exp.default_classifier_scheme`,\n",
        "and the currently used settings are stored in `exp.cv_scheme` and `exp.classifier_scheme`, which you can modify.\n",
        "\n",
        "⚠️ Not all the settings are used for a given `cv_method`."
      ],
      "metadata": {
        "id": "T9Pd7f8K-8cG"
      }
    },
    {
      "cell_type": "code",
      "source": [
        "exp.cv_scheme"
      ],
      "metadata": {
        "colab": {
          "base_uri": "https://localhost:8080/"
        },
        "id": "5nc3_l0z-a0i",
        "outputId": "08aa1690-ae41-4a6b-af5a-64869db2e6e4"
      },
      "execution_count": null,
      "outputs": [
        {
          "output_type": "execute_result",
          "data": {
            "text/plain": [
              "{'cv_method': 'StratifiedKFold',\n",
              " 'n_repeats': 10,\n",
              " 'n_splits': 10,\n",
              " 'shuffle': True,\n",
              " 'n_groups': 2,\n",
              " 'p': 2,\n",
              " 'test_fold': [1, 0, 1, 1, 0],\n",
              " 'test_size': 0.2,\n",
              " 'train_size': 0.2,\n",
              " 'random_state': None,\n",
              " 'val_fraction': 0.25,\n",
              " 'scoring': {'acc': {'func': <function sklearn.metrics._classification.accuracy_score(y_true, y_pred, *, normalize=True, sample_weight=None)>},\n",
              "  'f1': {'func': <function sklearn.metrics._classification.fbeta_score(y_true, y_pred, *, beta, labels=None, pos_label=1, average='binary', sample_weight=None, zero_division='warn')>,\n",
              "   'params': {'beta': 1, 'average': 'macro'}}}}"
            ]
          },
          "metadata": {},
          "execution_count": 18
        }
      ]
    },
    {
      "cell_type": "code",
      "source": [
        "exp.cv_scheme['val_fraction'] = 0. # There's a bug that I need to fix. Here is the current workaround.\n",
        "exp.cv_scheme['n_repeats'] = 1"
      ],
      "metadata": {
        "id": "qQC3qkvs-cZ_"
      },
      "execution_count": null,
      "outputs": []
    },
    {
      "cell_type": "code",
      "source": [
        "exp.classify(save_to_file=True)"
      ],
      "metadata": {
        "colab": {
          "base_uri": "https://localhost:8080/",
          "height": 931,
          "referenced_widgets": [
            "9faab3dac5b44014912cedce279c27f6",
            "b6e86eb21bfc414f9cbf3b7e2cd02afa",
            "8ce29e0c85204108b9382e14940ec846",
            "cba4296c634e45778bc488e1e6f00538",
            "0d7f44013aa84ee4be7f89e0b1fc8639",
            "8cbeb6e6f5964f0c993ce2f473c6da88",
            "22c62429afe44235a469be13db0432ef",
            "c7da7af30ea94069bdb7f91cde25967b",
            "ff5c93eecf8d4166ab3442fd65fa982d",
            "cac256b4030b4e5a8dace4825201f997",
            "df013682d2c046c7bad3f37a05b7a739",
            "aa37ca59929e49438ae572e25b6cd9d3",
            "05f1d23b56214cb2b4094d41fe13ab7a",
            "0646ec6ba55e477c849b489b19738211",
            "c297ac09f4cd4cb889300a74f5d8914b",
            "1d3275b006574cf6be170832f59fdec9",
            "f67664a11e7c44c48ae11d155f2002d8",
            "c3659b60139148fcb57746b31d98780d",
            "8691ccc8b76e4f71a548b132b3dbe736",
            "fd507ae204804d1698ae3e4fd2d9ff79",
            "a45fb876e598459891d0874fe5fbc345",
            "f22ff38f63df4171a063a42bcb444fd8"
          ]
        },
        "id": "Zd9kGxVi-PVK",
        "outputId": "5d12e219-e5c1-4b85-ec19-3b52903b0b68"
      },
      "execution_count": null,
      "outputs": [
        {
          "output_type": "stream",
          "name": "stdout",
          "text": [
            "Proceeding with 2 classes.\n",
            "Proceeding with StratifiedKFold cross-validation.\n"
          ]
        },
        {
          "output_type": "display_data",
          "data": {
            "text/plain": [
              "  0%|          | 0/1 [00:00<?, ?it/s]"
            ],
            "application/vnd.jupyter.widget-view+json": {
              "version_major": 2,
              "version_minor": 0,
              "model_id": "9faab3dac5b44014912cedce279c27f6"
            }
          },
          "metadata": {}
        },
        {
          "output_type": "stream",
          "name": "stdout",
          "text": [
            "'val_fraction' setting results in 0.0 validation samples. No nested validation will be performed.\n",
            "Train:315, Val:0, Test:36\n"
          ]
        },
        {
          "output_type": "stream",
          "name": "stderr",
          "text": [
            "/usr/local/lib/python3.11/dist-packages/lightgbm/engine.py:204: UserWarning: Found `num_iterations` in params. Will use it instead of argument\n",
            "  _log_warning(f\"Found `{alias}` in params. Will use it instead of argument\")\n"
          ]
        },
        {
          "output_type": "stream",
          "name": "stdout",
          "text": [
            "'val_fraction' setting results in 0.0 validation samples. No nested validation will be performed.\n",
            "Train:316, Val:0, Test:35\n"
          ]
        },
        {
          "output_type": "stream",
          "name": "stderr",
          "text": [
            "/usr/local/lib/python3.11/dist-packages/lightgbm/engine.py:204: UserWarning: Found `num_iterations` in params. Will use it instead of argument\n",
            "  _log_warning(f\"Found `{alias}` in params. Will use it instead of argument\")\n"
          ]
        },
        {
          "output_type": "stream",
          "name": "stdout",
          "text": [
            "'val_fraction' setting results in 0.0 validation samples. No nested validation will be performed.\n",
            "Train:316, Val:0, Test:35\n"
          ]
        },
        {
          "output_type": "stream",
          "name": "stderr",
          "text": [
            "/usr/local/lib/python3.11/dist-packages/lightgbm/engine.py:204: UserWarning: Found `num_iterations` in params. Will use it instead of argument\n",
            "  _log_warning(f\"Found `{alias}` in params. Will use it instead of argument\")\n"
          ]
        },
        {
          "output_type": "stream",
          "name": "stdout",
          "text": [
            "'val_fraction' setting results in 0.0 validation samples. No nested validation will be performed.\n",
            "Train:316, Val:0, Test:35\n"
          ]
        },
        {
          "output_type": "stream",
          "name": "stderr",
          "text": [
            "/usr/local/lib/python3.11/dist-packages/lightgbm/engine.py:204: UserWarning: Found `num_iterations` in params. Will use it instead of argument\n",
            "  _log_warning(f\"Found `{alias}` in params. Will use it instead of argument\")\n"
          ]
        },
        {
          "output_type": "stream",
          "name": "stdout",
          "text": [
            "'val_fraction' setting results in 0.0 validation samples. No nested validation will be performed.\n",
            "Train:316, Val:0, Test:35\n"
          ]
        },
        {
          "output_type": "stream",
          "name": "stderr",
          "text": [
            "/usr/local/lib/python3.11/dist-packages/lightgbm/engine.py:204: UserWarning: Found `num_iterations` in params. Will use it instead of argument\n",
            "  _log_warning(f\"Found `{alias}` in params. Will use it instead of argument\")\n"
          ]
        },
        {
          "output_type": "stream",
          "name": "stdout",
          "text": [
            "'val_fraction' setting results in 0.0 validation samples. No nested validation will be performed.\n",
            "Train:316, Val:0, Test:35\n"
          ]
        },
        {
          "output_type": "stream",
          "name": "stderr",
          "text": [
            "/usr/local/lib/python3.11/dist-packages/lightgbm/engine.py:204: UserWarning: Found `num_iterations` in params. Will use it instead of argument\n",
            "  _log_warning(f\"Found `{alias}` in params. Will use it instead of argument\")\n"
          ]
        },
        {
          "output_type": "stream",
          "name": "stdout",
          "text": [
            "'val_fraction' setting results in 0.0 validation samples. No nested validation will be performed.\n",
            "Train:316, Val:0, Test:35\n"
          ]
        },
        {
          "output_type": "stream",
          "name": "stderr",
          "text": [
            "/usr/local/lib/python3.11/dist-packages/lightgbm/engine.py:204: UserWarning: Found `num_iterations` in params. Will use it instead of argument\n",
            "  _log_warning(f\"Found `{alias}` in params. Will use it instead of argument\")\n"
          ]
        },
        {
          "output_type": "stream",
          "name": "stdout",
          "text": [
            "'val_fraction' setting results in 0.0 validation samples. No nested validation will be performed.\n",
            "Train:316, Val:0, Test:35\n"
          ]
        },
        {
          "output_type": "stream",
          "name": "stderr",
          "text": [
            "/usr/local/lib/python3.11/dist-packages/lightgbm/engine.py:204: UserWarning: Found `num_iterations` in params. Will use it instead of argument\n",
            "  _log_warning(f\"Found `{alias}` in params. Will use it instead of argument\")\n"
          ]
        },
        {
          "output_type": "stream",
          "name": "stdout",
          "text": [
            "'val_fraction' setting results in 0.0 validation samples. No nested validation will be performed.\n",
            "Train:316, Val:0, Test:35\n"
          ]
        },
        {
          "output_type": "stream",
          "name": "stderr",
          "text": [
            "/usr/local/lib/python3.11/dist-packages/lightgbm/engine.py:204: UserWarning: Found `num_iterations` in params. Will use it instead of argument\n",
            "  _log_warning(f\"Found `{alias}` in params. Will use it instead of argument\")\n"
          ]
        },
        {
          "output_type": "stream",
          "name": "stdout",
          "text": [
            "'val_fraction' setting results in 0.0 validation samples. No nested validation will be performed.\n",
            "Train:316, Val:0, Test:35\n"
          ]
        },
        {
          "output_type": "stream",
          "name": "stderr",
          "text": [
            "/usr/local/lib/python3.11/dist-packages/lightgbm/engine.py:204: UserWarning: Found `num_iterations` in params. Will use it instead of argument\n",
            "  _log_warning(f\"Found `{alias}` in params. Will use it instead of argument\")\n"
          ]
        },
        {
          "output_type": "display_data",
          "data": {
            "text/plain": [
              "  0%|          | 0/10 [00:00<?, ?it/s]"
            ],
            "application/vnd.jupyter.widget-view+json": {
              "version_major": 2,
              "version_minor": 0,
              "model_id": "aa37ca59929e49438ae572e25b6cd9d3"
            }
          },
          "metadata": {}
        },
        {
          "output_type": "stream",
          "name": "stdout",
          "text": [
            "Accuracy [0-1, higher better]: \t0.97 \t Baseline value:  0.57\n",
            "F1 [0-1, higher better]: \t\t0.97 \t Baseline value:  0.36\n",
            "Scores saved as explain_example1/subsamples_ts_200/scores_class-class.pkl.\n",
            "Classifiers saved as explain_example1/subsamples_ts_200/classifiers_class-class.pkl.\n",
            "Classifiers saved as booster_*.txt.\n",
            "Classifier parameters saved as 'explain_example1/subsamples_ts_200/config_classifier_scheme.json'. It can be reloaded with '.load_params_classifier(filename)'.\n",
            "Cross-validation parameters saved as 'explain_example1/subsamples_ts_200/config_cv_scheme.pkl'. It can be reloaded with '.load_params_cv(filename)'.\n"
          ]
        }
      ]
    },
    {
      "cell_type": "markdown",
      "source": [
        "Let's check if the classifier is actually able to correctly attribute the samples to the authors (this is the result averaged over cross-validation folds and repetitions):"
      ],
      "metadata": {
        "id": "Jg9XDsBhAASr"
      }
    },
    {
      "cell_type": "code",
      "source": [
        "exp.scores.print_scores()"
      ],
      "metadata": {
        "colab": {
          "base_uri": "https://localhost:8080/"
        },
        "id": "nLj4IG06_xHz",
        "outputId": "2bfb5db0-e4e1-4c8f-bccb-795e50679bd7"
      },
      "execution_count": null,
      "outputs": [
        {
          "output_type": "stream",
          "name": "stdout",
          "text": [
            "Accuracy [0-1, higher better]: \t0.97 \t Baseline value:  0.57\n",
            "F1 [0-1, higher better]: \t\t0.97 \t Baseline value:  0.36\n"
          ]
        }
      ]
    },
    {
      "cell_type": "markdown",
      "source": [
        "If you need to scrutinize the classification decision for individual samples for some reason (e.g., find which segments have been classified erroneously)"
      ],
      "metadata": {
        "id": "qN7bzNfiFerC"
      }
    },
    {
      "cell_type": "code",
      "source": [
        "exp.scores.df_preds\n",
        "# exp.scores.df_preds[exp.scores.df_preds.errors > 0] # Uncomment this, to see only the classification errors."
      ],
      "metadata": {
        "colab": {
          "base_uri": "https://localhost:8080/",
          "height": 423
        },
        "id": "5E5cpElXE36N",
        "outputId": "c3300868-a66e-4fa4-b694-0f0bc8bdc0e7"
      },
      "execution_count": null,
      "outputs": [
        {
          "output_type": "execute_result",
          "data": {
            "text/plain": [
              "    y_true y_pred                    y_prob  errors\n",
              "0    [1.0]  [1.0]      [0.9271759629544954]       0\n",
              "1    [1.0]  [1.0]      [0.9999050185986726]       0\n",
              "2    [1.0]  [1.0]      [0.9969113912753421]       0\n",
              "3    [1.0]  [1.0]      [0.9996266138611345]       0\n",
              "4    [1.0]  [1.0]      [0.9999618150297696]       0\n",
              "..     ...    ...                       ...     ...\n",
              "346  [0.0]  [0.0]    [0.001173023234696149]       0\n",
              "347  [0.0]  [0.0]  [2.3586257093304104e-07]       0\n",
              "348  [0.0]  [0.0]    [0.013904487553533034]       0\n",
              "349  [0.0]  [0.0]   [0.0005909059597815475]       0\n",
              "350  [0.0]  [0.0]    [0.024181641738257435]       0\n",
              "\n",
              "[351 rows x 4 columns]"
            ],
            "text/html": [
              "\n",
              "  <div id=\"df-8c715e2e-e46d-41f6-b7d1-3f6298b0a8a7\" class=\"colab-df-container\">\n",
              "    <div>\n",
              "<style scoped>\n",
              "    .dataframe tbody tr th:only-of-type {\n",
              "        vertical-align: middle;\n",
              "    }\n",
              "\n",
              "    .dataframe tbody tr th {\n",
              "        vertical-align: top;\n",
              "    }\n",
              "\n",
              "    .dataframe thead th {\n",
              "        text-align: right;\n",
              "    }\n",
              "</style>\n",
              "<table border=\"1\" class=\"dataframe\">\n",
              "  <thead>\n",
              "    <tr style=\"text-align: right;\">\n",
              "      <th></th>\n",
              "      <th>y_true</th>\n",
              "      <th>y_pred</th>\n",
              "      <th>y_prob</th>\n",
              "      <th>errors</th>\n",
              "    </tr>\n",
              "  </thead>\n",
              "  <tbody>\n",
              "    <tr>\n",
              "      <th>0</th>\n",
              "      <td>[1.0]</td>\n",
              "      <td>[1.0]</td>\n",
              "      <td>[0.9271759629544954]</td>\n",
              "      <td>0</td>\n",
              "    </tr>\n",
              "    <tr>\n",
              "      <th>1</th>\n",
              "      <td>[1.0]</td>\n",
              "      <td>[1.0]</td>\n",
              "      <td>[0.9999050185986726]</td>\n",
              "      <td>0</td>\n",
              "    </tr>\n",
              "    <tr>\n",
              "      <th>2</th>\n",
              "      <td>[1.0]</td>\n",
              "      <td>[1.0]</td>\n",
              "      <td>[0.9969113912753421]</td>\n",
              "      <td>0</td>\n",
              "    </tr>\n",
              "    <tr>\n",
              "      <th>3</th>\n",
              "      <td>[1.0]</td>\n",
              "      <td>[1.0]</td>\n",
              "      <td>[0.9996266138611345]</td>\n",
              "      <td>0</td>\n",
              "    </tr>\n",
              "    <tr>\n",
              "      <th>4</th>\n",
              "      <td>[1.0]</td>\n",
              "      <td>[1.0]</td>\n",
              "      <td>[0.9999618150297696]</td>\n",
              "      <td>0</td>\n",
              "    </tr>\n",
              "    <tr>\n",
              "      <th>...</th>\n",
              "      <td>...</td>\n",
              "      <td>...</td>\n",
              "      <td>...</td>\n",
              "      <td>...</td>\n",
              "    </tr>\n",
              "    <tr>\n",
              "      <th>346</th>\n",
              "      <td>[0.0]</td>\n",
              "      <td>[0.0]</td>\n",
              "      <td>[0.001173023234696149]</td>\n",
              "      <td>0</td>\n",
              "    </tr>\n",
              "    <tr>\n",
              "      <th>347</th>\n",
              "      <td>[0.0]</td>\n",
              "      <td>[0.0]</td>\n",
              "      <td>[2.3586257093304104e-07]</td>\n",
              "      <td>0</td>\n",
              "    </tr>\n",
              "    <tr>\n",
              "      <th>348</th>\n",
              "      <td>[0.0]</td>\n",
              "      <td>[0.0]</td>\n",
              "      <td>[0.013904487553533034]</td>\n",
              "      <td>0</td>\n",
              "    </tr>\n",
              "    <tr>\n",
              "      <th>349</th>\n",
              "      <td>[0.0]</td>\n",
              "      <td>[0.0]</td>\n",
              "      <td>[0.0005909059597815475]</td>\n",
              "      <td>0</td>\n",
              "    </tr>\n",
              "    <tr>\n",
              "      <th>350</th>\n",
              "      <td>[0.0]</td>\n",
              "      <td>[0.0]</td>\n",
              "      <td>[0.024181641738257435]</td>\n",
              "      <td>0</td>\n",
              "    </tr>\n",
              "  </tbody>\n",
              "</table>\n",
              "<p>351 rows × 4 columns</p>\n",
              "</div>\n",
              "    <div class=\"colab-df-buttons\">\n",
              "\n",
              "  <div class=\"colab-df-container\">\n",
              "    <button class=\"colab-df-convert\" onclick=\"convertToInteractive('df-8c715e2e-e46d-41f6-b7d1-3f6298b0a8a7')\"\n",
              "            title=\"Convert this dataframe to an interactive table.\"\n",
              "            style=\"display:none;\">\n",
              "\n",
              "  <svg xmlns=\"http://www.w3.org/2000/svg\" height=\"24px\" viewBox=\"0 -960 960 960\">\n",
              "    <path d=\"M120-120v-720h720v720H120Zm60-500h600v-160H180v160Zm220 220h160v-160H400v160Zm0 220h160v-160H400v160ZM180-400h160v-160H180v160Zm440 0h160v-160H620v160ZM180-180h160v-160H180v160Zm440 0h160v-160H620v160Z\"/>\n",
              "  </svg>\n",
              "    </button>\n",
              "\n",
              "  <style>\n",
              "    .colab-df-container {\n",
              "      display:flex;\n",
              "      gap: 12px;\n",
              "    }\n",
              "\n",
              "    .colab-df-convert {\n",
              "      background-color: #E8F0FE;\n",
              "      border: none;\n",
              "      border-radius: 50%;\n",
              "      cursor: pointer;\n",
              "      display: none;\n",
              "      fill: #1967D2;\n",
              "      height: 32px;\n",
              "      padding: 0 0 0 0;\n",
              "      width: 32px;\n",
              "    }\n",
              "\n",
              "    .colab-df-convert:hover {\n",
              "      background-color: #E2EBFA;\n",
              "      box-shadow: 0px 1px 2px rgba(60, 64, 67, 0.3), 0px 1px 3px 1px rgba(60, 64, 67, 0.15);\n",
              "      fill: #174EA6;\n",
              "    }\n",
              "\n",
              "    .colab-df-buttons div {\n",
              "      margin-bottom: 4px;\n",
              "    }\n",
              "\n",
              "    [theme=dark] .colab-df-convert {\n",
              "      background-color: #3B4455;\n",
              "      fill: #D2E3FC;\n",
              "    }\n",
              "\n",
              "    [theme=dark] .colab-df-convert:hover {\n",
              "      background-color: #434B5C;\n",
              "      box-shadow: 0px 1px 3px 1px rgba(0, 0, 0, 0.15);\n",
              "      filter: drop-shadow(0px 1px 2px rgba(0, 0, 0, 0.3));\n",
              "      fill: #FFFFFF;\n",
              "    }\n",
              "  </style>\n",
              "\n",
              "    <script>\n",
              "      const buttonEl =\n",
              "        document.querySelector('#df-8c715e2e-e46d-41f6-b7d1-3f6298b0a8a7 button.colab-df-convert');\n",
              "      buttonEl.style.display =\n",
              "        google.colab.kernel.accessAllowed ? 'block' : 'none';\n",
              "\n",
              "      async function convertToInteractive(key) {\n",
              "        const element = document.querySelector('#df-8c715e2e-e46d-41f6-b7d1-3f6298b0a8a7');\n",
              "        const dataTable =\n",
              "          await google.colab.kernel.invokeFunction('convertToInteractive',\n",
              "                                                    [key], {});\n",
              "        if (!dataTable) return;\n",
              "\n",
              "        const docLinkHtml = 'Like what you see? Visit the ' +\n",
              "          '<a target=\"_blank\" href=https://colab.research.google.com/notebooks/data_table.ipynb>data table notebook</a>'\n",
              "          + ' to learn more about interactive tables.';\n",
              "        element.innerHTML = '';\n",
              "        dataTable['output_type'] = 'display_data';\n",
              "        await google.colab.output.renderOutput(dataTable, element);\n",
              "        const docLink = document.createElement('div');\n",
              "        docLink.innerHTML = docLinkHtml;\n",
              "        element.appendChild(docLink);\n",
              "      }\n",
              "    </script>\n",
              "  </div>\n",
              "\n",
              "\n",
              "    <div id=\"df-faecb97e-8076-44be-becd-02fd6de5c976\">\n",
              "      <button class=\"colab-df-quickchart\" onclick=\"quickchart('df-faecb97e-8076-44be-becd-02fd6de5c976')\"\n",
              "                title=\"Suggest charts\"\n",
              "                style=\"display:none;\">\n",
              "\n",
              "<svg xmlns=\"http://www.w3.org/2000/svg\" height=\"24px\"viewBox=\"0 0 24 24\"\n",
              "     width=\"24px\">\n",
              "    <g>\n",
              "        <path d=\"M19 3H5c-1.1 0-2 .9-2 2v14c0 1.1.9 2 2 2h14c1.1 0 2-.9 2-2V5c0-1.1-.9-2-2-2zM9 17H7v-7h2v7zm4 0h-2V7h2v10zm4 0h-2v-4h2v4z\"/>\n",
              "    </g>\n",
              "</svg>\n",
              "      </button>\n",
              "\n",
              "<style>\n",
              "  .colab-df-quickchart {\n",
              "      --bg-color: #E8F0FE;\n",
              "      --fill-color: #1967D2;\n",
              "      --hover-bg-color: #E2EBFA;\n",
              "      --hover-fill-color: #174EA6;\n",
              "      --disabled-fill-color: #AAA;\n",
              "      --disabled-bg-color: #DDD;\n",
              "  }\n",
              "\n",
              "  [theme=dark] .colab-df-quickchart {\n",
              "      --bg-color: #3B4455;\n",
              "      --fill-color: #D2E3FC;\n",
              "      --hover-bg-color: #434B5C;\n",
              "      --hover-fill-color: #FFFFFF;\n",
              "      --disabled-bg-color: #3B4455;\n",
              "      --disabled-fill-color: #666;\n",
              "  }\n",
              "\n",
              "  .colab-df-quickchart {\n",
              "    background-color: var(--bg-color);\n",
              "    border: none;\n",
              "    border-radius: 50%;\n",
              "    cursor: pointer;\n",
              "    display: none;\n",
              "    fill: var(--fill-color);\n",
              "    height: 32px;\n",
              "    padding: 0;\n",
              "    width: 32px;\n",
              "  }\n",
              "\n",
              "  .colab-df-quickchart:hover {\n",
              "    background-color: var(--hover-bg-color);\n",
              "    box-shadow: 0 1px 2px rgba(60, 64, 67, 0.3), 0 1px 3px 1px rgba(60, 64, 67, 0.15);\n",
              "    fill: var(--button-hover-fill-color);\n",
              "  }\n",
              "\n",
              "  .colab-df-quickchart-complete:disabled,\n",
              "  .colab-df-quickchart-complete:disabled:hover {\n",
              "    background-color: var(--disabled-bg-color);\n",
              "    fill: var(--disabled-fill-color);\n",
              "    box-shadow: none;\n",
              "  }\n",
              "\n",
              "  .colab-df-spinner {\n",
              "    border: 2px solid var(--fill-color);\n",
              "    border-color: transparent;\n",
              "    border-bottom-color: var(--fill-color);\n",
              "    animation:\n",
              "      spin 1s steps(1) infinite;\n",
              "  }\n",
              "\n",
              "  @keyframes spin {\n",
              "    0% {\n",
              "      border-color: transparent;\n",
              "      border-bottom-color: var(--fill-color);\n",
              "      border-left-color: var(--fill-color);\n",
              "    }\n",
              "    20% {\n",
              "      border-color: transparent;\n",
              "      border-left-color: var(--fill-color);\n",
              "      border-top-color: var(--fill-color);\n",
              "    }\n",
              "    30% {\n",
              "      border-color: transparent;\n",
              "      border-left-color: var(--fill-color);\n",
              "      border-top-color: var(--fill-color);\n",
              "      border-right-color: var(--fill-color);\n",
              "    }\n",
              "    40% {\n",
              "      border-color: transparent;\n",
              "      border-right-color: var(--fill-color);\n",
              "      border-top-color: var(--fill-color);\n",
              "    }\n",
              "    60% {\n",
              "      border-color: transparent;\n",
              "      border-right-color: var(--fill-color);\n",
              "    }\n",
              "    80% {\n",
              "      border-color: transparent;\n",
              "      border-right-color: var(--fill-color);\n",
              "      border-bottom-color: var(--fill-color);\n",
              "    }\n",
              "    90% {\n",
              "      border-color: transparent;\n",
              "      border-bottom-color: var(--fill-color);\n",
              "    }\n",
              "  }\n",
              "</style>\n",
              "\n",
              "      <script>\n",
              "        async function quickchart(key) {\n",
              "          const quickchartButtonEl =\n",
              "            document.querySelector('#' + key + ' button');\n",
              "          quickchartButtonEl.disabled = true;  // To prevent multiple clicks.\n",
              "          quickchartButtonEl.classList.add('colab-df-spinner');\n",
              "          try {\n",
              "            const charts = await google.colab.kernel.invokeFunction(\n",
              "                'suggestCharts', [key], {});\n",
              "          } catch (error) {\n",
              "            console.error('Error during call to suggestCharts:', error);\n",
              "          }\n",
              "          quickchartButtonEl.classList.remove('colab-df-spinner');\n",
              "          quickchartButtonEl.classList.add('colab-df-quickchart-complete');\n",
              "        }\n",
              "        (() => {\n",
              "          let quickchartButtonEl =\n",
              "            document.querySelector('#df-faecb97e-8076-44be-becd-02fd6de5c976 button');\n",
              "          quickchartButtonEl.style.display =\n",
              "            google.colab.kernel.accessAllowed ? 'block' : 'none';\n",
              "        })();\n",
              "      </script>\n",
              "    </div>\n",
              "\n",
              "    </div>\n",
              "  </div>\n"
            ],
            "application/vnd.google.colaboratory.intrinsic+json": {
              "type": "dataframe",
              "summary": "{\n  \"name\": \"# exp\",\n  \"rows\": 351,\n  \"fields\": [\n    {\n      \"column\": \"y_true\",\n      \"properties\": {\n        \"dtype\": \"object\",\n        \"semantic_type\": \"\",\n        \"description\": \"\"\n      }\n    },\n    {\n      \"column\": \"y_pred\",\n      \"properties\": {\n        \"dtype\": \"object\",\n        \"semantic_type\": \"\",\n        \"description\": \"\"\n      }\n    },\n    {\n      \"column\": \"y_prob\",\n      \"properties\": {\n        \"dtype\": \"object\",\n        \"semantic_type\": \"\",\n        \"description\": \"\"\n      }\n    },\n    {\n      \"column\": \"errors\",\n      \"properties\": {\n        \"dtype\": \"number\",\n        \"std\": 0,\n        \"min\": 0,\n        \"max\": 1,\n        \"num_unique_values\": 2,\n        \"samples\": [\n          1,\n          0\n        ],\n        \"semantic_type\": \"\",\n        \"description\": \"\"\n      }\n    }\n  ]\n}"
            }
          },
          "metadata": {},
          "execution_count": 22
        }
      ]
    },
    {
      "cell_type": "markdown",
      "source": [
        "Both the classifier itself\n",
        "```\n",
        "exp.classifiers_load(postfix='_class-class')\n",
        "```\n",
        "and the scores\n",
        "```\n",
        "exp.scores_load(postfix='_class-class')\n",
        "```\n",
        "are saved and can be reloaded for further inspection or for inference using the trained model.\n",
        "\n",
        "The `postfix` is just a string added to the filename, in case you are going to train several classifiers based on different labels (e.g., 'author', 'genre' and 'narration type')."
      ],
      "metadata": {
        "id": "iCx14wdjAQsg"
      }
    },
    {
      "cell_type": "markdown",
      "source": [
        "### 💡 Explaining the classification and visualising the explanations (SHAP-based)\n",
        "\n",
        "Now, let's take the trained classifier and use the [SHapley Additive exPlanations library](https://shap.readthedocs.io/en/latest/) to compute the importance of features that contributed to the decision about attributing authorship to the text samples."
      ],
      "metadata": {
        "id": "LjsW5fm4Aprq"
      }
    },
    {
      "cell_type": "code",
      "source": [
        "exp.explain(save_to_file=True)"
      ],
      "metadata": {
        "colab": {
          "base_uri": "https://localhost:8080/",
          "height": 66,
          "referenced_widgets": [
            "11041c03f1824ecea0e72ce0a9fd353b",
            "1d53c8b760a942409ea2ad8e040ddc74",
            "b8271e4063bd4f7282584762f03bb75d",
            "20c3d6738d9340b28fa2c7ff7bb76605",
            "86df3cb2faa14b88b5754c02891e244c",
            "51ddb221a7254dc78c4f1ec76d3667ac",
            "93af1b74cae848c69b69cc475b689fee",
            "1e490c3890b943a4b0f87a2d0c42d104",
            "accc428cfc244e109ae99f026d52ef35",
            "dcff0383ebf34f2087ff7207ab3e7596",
            "fb45bec1ece94653924f3e3f6fc28823"
          ]
        },
        "id": "nAw1SGIa70Vs",
        "outputId": "3d3cff5b-c766-4f98-af65-09db22cb6973"
      },
      "execution_count": null,
      "outputs": [
        {
          "output_type": "display_data",
          "data": {
            "text/plain": [
              "  0%|          | 0/10 [00:00<?, ?it/s]"
            ],
            "application/vnd.jupyter.widget-view+json": {
              "version_major": 2,
              "version_minor": 0,
              "model_id": "11041c03f1824ecea0e72ce0a9fd353b"
            }
          },
          "metadata": {}
        },
        {
          "output_type": "stream",
          "name": "stdout",
          "text": [
            "Explanations saved as explain_example1/subsamples_ts_200/explanations_class-class.pkl.\n"
          ]
        }
      ]
    },
    {
      "cell_type": "markdown",
      "source": [
        "As before, you can save and load the explanations by\n",
        "```\n",
        "exp.explanations_load(postfix='_class-class')\n",
        "```\n",
        "\n",
        "⚠️ Note that this file can get big, too. Consequently, writing to it and reading it may be slow at the moment.\n",
        "\n",
        "\n",
        "We have used cross-validation not just to get a better estimation of classifier performance, but to obtain average explanations -- hopefully, more robust to fluctuations in the dataset:"
      ],
      "metadata": {
        "id": "vjFZ7ZOo8AmA"
      }
    },
    {
      "cell_type": "code",
      "source": [
        "exp.explanations.df_shap_average.head(4)"
      ],
      "metadata": {
        "id": "owNlB6248eT8",
        "colab": {
          "base_uri": "https://localhost:8080/",
          "height": 241
        },
        "outputId": "f2105548-a2c4-43ee-9c4f-d17c038230e8"
      },
      "execution_count": null,
      "outputs": [
        {
          "output_type": "execute_result",
          "data": {
            "text/plain": [
              "     aby_13  ach_13  agent_13  albo_13  ale_13  ale nie_13  ani_13  aż_13  \\\n",
              "0  0.597101     0.0       0.0      0.0     0.0         0.0     0.0    0.0   \n",
              "1  0.605252     0.0       0.0      0.0     0.0         0.0     0.0    0.0   \n",
              "2  0.669822     0.0       0.0      0.0     0.0         0.0     0.0    0.0   \n",
              "3  0.586668     0.0       0.0      0.0     0.0         0.0     0.0    0.0   \n",
              "\n",
              "   bardzo_13    bez_13  ...  wschodnioindyjskiej_61  wtajemniczy_61  \\\n",
              "0   0.213150  0.000000  ...                     0.0             0.0   \n",
              "1   0.198592 -0.154212  ...                     0.0             0.0   \n",
              "2   0.225847  0.000000  ...                     0.0             0.0   \n",
              "3  -0.937534  0.000000  ...                     0.0             0.0   \n",
              "\n",
              "   wygraża_61  wylornetkowałem_61  zamorskiego_61  Ósma_61  ósmej_61  Łódź_61  \\\n",
              "0         0.0                 0.0             0.0      0.0       0.0      0.0   \n",
              "1         0.0                 0.0             0.0      0.0       0.0      0.0   \n",
              "2         0.0                 0.0             0.0      0.0       0.0      0.0   \n",
              "3         0.0                 0.0             0.0      0.0       0.0      0.0   \n",
              "\n",
              "   Śródziemnego_61  Śródziemnym_61  \n",
              "0              0.0             0.0  \n",
              "1              0.0             0.0  \n",
              "2              0.0             0.0  \n",
              "3              0.0             0.0  \n",
              "\n",
              "[4 rows x 2317 columns]"
            ],
            "text/html": [
              "\n",
              "  <div id=\"df-d7f4787a-8820-4909-b719-37ab34490ea5\" class=\"colab-df-container\">\n",
              "    <div>\n",
              "<style scoped>\n",
              "    .dataframe tbody tr th:only-of-type {\n",
              "        vertical-align: middle;\n",
              "    }\n",
              "\n",
              "    .dataframe tbody tr th {\n",
              "        vertical-align: top;\n",
              "    }\n",
              "\n",
              "    .dataframe thead th {\n",
              "        text-align: right;\n",
              "    }\n",
              "</style>\n",
              "<table border=\"1\" class=\"dataframe\">\n",
              "  <thead>\n",
              "    <tr style=\"text-align: right;\">\n",
              "      <th></th>\n",
              "      <th>aby_13</th>\n",
              "      <th>ach_13</th>\n",
              "      <th>agent_13</th>\n",
              "      <th>albo_13</th>\n",
              "      <th>ale_13</th>\n",
              "      <th>ale nie_13</th>\n",
              "      <th>ani_13</th>\n",
              "      <th>aż_13</th>\n",
              "      <th>bardzo_13</th>\n",
              "      <th>bez_13</th>\n",
              "      <th>...</th>\n",
              "      <th>wschodnioindyjskiej_61</th>\n",
              "      <th>wtajemniczy_61</th>\n",
              "      <th>wygraża_61</th>\n",
              "      <th>wylornetkowałem_61</th>\n",
              "      <th>zamorskiego_61</th>\n",
              "      <th>Ósma_61</th>\n",
              "      <th>ósmej_61</th>\n",
              "      <th>Łódź_61</th>\n",
              "      <th>Śródziemnego_61</th>\n",
              "      <th>Śródziemnym_61</th>\n",
              "    </tr>\n",
              "  </thead>\n",
              "  <tbody>\n",
              "    <tr>\n",
              "      <th>0</th>\n",
              "      <td>0.597101</td>\n",
              "      <td>0.0</td>\n",
              "      <td>0.0</td>\n",
              "      <td>0.0</td>\n",
              "      <td>0.0</td>\n",
              "      <td>0.0</td>\n",
              "      <td>0.0</td>\n",
              "      <td>0.0</td>\n",
              "      <td>0.213150</td>\n",
              "      <td>0.000000</td>\n",
              "      <td>...</td>\n",
              "      <td>0.0</td>\n",
              "      <td>0.0</td>\n",
              "      <td>0.0</td>\n",
              "      <td>0.0</td>\n",
              "      <td>0.0</td>\n",
              "      <td>0.0</td>\n",
              "      <td>0.0</td>\n",
              "      <td>0.0</td>\n",
              "      <td>0.0</td>\n",
              "      <td>0.0</td>\n",
              "    </tr>\n",
              "    <tr>\n",
              "      <th>1</th>\n",
              "      <td>0.605252</td>\n",
              "      <td>0.0</td>\n",
              "      <td>0.0</td>\n",
              "      <td>0.0</td>\n",
              "      <td>0.0</td>\n",
              "      <td>0.0</td>\n",
              "      <td>0.0</td>\n",
              "      <td>0.0</td>\n",
              "      <td>0.198592</td>\n",
              "      <td>-0.154212</td>\n",
              "      <td>...</td>\n",
              "      <td>0.0</td>\n",
              "      <td>0.0</td>\n",
              "      <td>0.0</td>\n",
              "      <td>0.0</td>\n",
              "      <td>0.0</td>\n",
              "      <td>0.0</td>\n",
              "      <td>0.0</td>\n",
              "      <td>0.0</td>\n",
              "      <td>0.0</td>\n",
              "      <td>0.0</td>\n",
              "    </tr>\n",
              "    <tr>\n",
              "      <th>2</th>\n",
              "      <td>0.669822</td>\n",
              "      <td>0.0</td>\n",
              "      <td>0.0</td>\n",
              "      <td>0.0</td>\n",
              "      <td>0.0</td>\n",
              "      <td>0.0</td>\n",
              "      <td>0.0</td>\n",
              "      <td>0.0</td>\n",
              "      <td>0.225847</td>\n",
              "      <td>0.000000</td>\n",
              "      <td>...</td>\n",
              "      <td>0.0</td>\n",
              "      <td>0.0</td>\n",
              "      <td>0.0</td>\n",
              "      <td>0.0</td>\n",
              "      <td>0.0</td>\n",
              "      <td>0.0</td>\n",
              "      <td>0.0</td>\n",
              "      <td>0.0</td>\n",
              "      <td>0.0</td>\n",
              "      <td>0.0</td>\n",
              "    </tr>\n",
              "    <tr>\n",
              "      <th>3</th>\n",
              "      <td>0.586668</td>\n",
              "      <td>0.0</td>\n",
              "      <td>0.0</td>\n",
              "      <td>0.0</td>\n",
              "      <td>0.0</td>\n",
              "      <td>0.0</td>\n",
              "      <td>0.0</td>\n",
              "      <td>0.0</td>\n",
              "      <td>-0.937534</td>\n",
              "      <td>0.000000</td>\n",
              "      <td>...</td>\n",
              "      <td>0.0</td>\n",
              "      <td>0.0</td>\n",
              "      <td>0.0</td>\n",
              "      <td>0.0</td>\n",
              "      <td>0.0</td>\n",
              "      <td>0.0</td>\n",
              "      <td>0.0</td>\n",
              "      <td>0.0</td>\n",
              "      <td>0.0</td>\n",
              "      <td>0.0</td>\n",
              "    </tr>\n",
              "  </tbody>\n",
              "</table>\n",
              "<p>4 rows × 2317 columns</p>\n",
              "</div>\n",
              "    <div class=\"colab-df-buttons\">\n",
              "\n",
              "  <div class=\"colab-df-container\">\n",
              "    <button class=\"colab-df-convert\" onclick=\"convertToInteractive('df-d7f4787a-8820-4909-b719-37ab34490ea5')\"\n",
              "            title=\"Convert this dataframe to an interactive table.\"\n",
              "            style=\"display:none;\">\n",
              "\n",
              "  <svg xmlns=\"http://www.w3.org/2000/svg\" height=\"24px\" viewBox=\"0 -960 960 960\">\n",
              "    <path d=\"M120-120v-720h720v720H120Zm60-500h600v-160H180v160Zm220 220h160v-160H400v160Zm0 220h160v-160H400v160ZM180-400h160v-160H180v160Zm440 0h160v-160H620v160ZM180-180h160v-160H180v160Zm440 0h160v-160H620v160Z\"/>\n",
              "  </svg>\n",
              "    </button>\n",
              "\n",
              "  <style>\n",
              "    .colab-df-container {\n",
              "      display:flex;\n",
              "      gap: 12px;\n",
              "    }\n",
              "\n",
              "    .colab-df-convert {\n",
              "      background-color: #E8F0FE;\n",
              "      border: none;\n",
              "      border-radius: 50%;\n",
              "      cursor: pointer;\n",
              "      display: none;\n",
              "      fill: #1967D2;\n",
              "      height: 32px;\n",
              "      padding: 0 0 0 0;\n",
              "      width: 32px;\n",
              "    }\n",
              "\n",
              "    .colab-df-convert:hover {\n",
              "      background-color: #E2EBFA;\n",
              "      box-shadow: 0px 1px 2px rgba(60, 64, 67, 0.3), 0px 1px 3px 1px rgba(60, 64, 67, 0.15);\n",
              "      fill: #174EA6;\n",
              "    }\n",
              "\n",
              "    .colab-df-buttons div {\n",
              "      margin-bottom: 4px;\n",
              "    }\n",
              "\n",
              "    [theme=dark] .colab-df-convert {\n",
              "      background-color: #3B4455;\n",
              "      fill: #D2E3FC;\n",
              "    }\n",
              "\n",
              "    [theme=dark] .colab-df-convert:hover {\n",
              "      background-color: #434B5C;\n",
              "      box-shadow: 0px 1px 3px 1px rgba(0, 0, 0, 0.15);\n",
              "      filter: drop-shadow(0px 1px 2px rgba(0, 0, 0, 0.3));\n",
              "      fill: #FFFFFF;\n",
              "    }\n",
              "  </style>\n",
              "\n",
              "    <script>\n",
              "      const buttonEl =\n",
              "        document.querySelector('#df-d7f4787a-8820-4909-b719-37ab34490ea5 button.colab-df-convert');\n",
              "      buttonEl.style.display =\n",
              "        google.colab.kernel.accessAllowed ? 'block' : 'none';\n",
              "\n",
              "      async function convertToInteractive(key) {\n",
              "        const element = document.querySelector('#df-d7f4787a-8820-4909-b719-37ab34490ea5');\n",
              "        const dataTable =\n",
              "          await google.colab.kernel.invokeFunction('convertToInteractive',\n",
              "                                                    [key], {});\n",
              "        if (!dataTable) return;\n",
              "\n",
              "        const docLinkHtml = 'Like what you see? Visit the ' +\n",
              "          '<a target=\"_blank\" href=https://colab.research.google.com/notebooks/data_table.ipynb>data table notebook</a>'\n",
              "          + ' to learn more about interactive tables.';\n",
              "        element.innerHTML = '';\n",
              "        dataTable['output_type'] = 'display_data';\n",
              "        await google.colab.output.renderOutput(dataTable, element);\n",
              "        const docLink = document.createElement('div');\n",
              "        docLink.innerHTML = docLinkHtml;\n",
              "        element.appendChild(docLink);\n",
              "      }\n",
              "    </script>\n",
              "  </div>\n",
              "\n",
              "\n",
              "    <div id=\"df-3a7b2840-6235-4f83-859b-57d9a0285a76\">\n",
              "      <button class=\"colab-df-quickchart\" onclick=\"quickchart('df-3a7b2840-6235-4f83-859b-57d9a0285a76')\"\n",
              "                title=\"Suggest charts\"\n",
              "                style=\"display:none;\">\n",
              "\n",
              "<svg xmlns=\"http://www.w3.org/2000/svg\" height=\"24px\"viewBox=\"0 0 24 24\"\n",
              "     width=\"24px\">\n",
              "    <g>\n",
              "        <path d=\"M19 3H5c-1.1 0-2 .9-2 2v14c0 1.1.9 2 2 2h14c1.1 0 2-.9 2-2V5c0-1.1-.9-2-2-2zM9 17H7v-7h2v7zm4 0h-2V7h2v10zm4 0h-2v-4h2v4z\"/>\n",
              "    </g>\n",
              "</svg>\n",
              "      </button>\n",
              "\n",
              "<style>\n",
              "  .colab-df-quickchart {\n",
              "      --bg-color: #E8F0FE;\n",
              "      --fill-color: #1967D2;\n",
              "      --hover-bg-color: #E2EBFA;\n",
              "      --hover-fill-color: #174EA6;\n",
              "      --disabled-fill-color: #AAA;\n",
              "      --disabled-bg-color: #DDD;\n",
              "  }\n",
              "\n",
              "  [theme=dark] .colab-df-quickchart {\n",
              "      --bg-color: #3B4455;\n",
              "      --fill-color: #D2E3FC;\n",
              "      --hover-bg-color: #434B5C;\n",
              "      --hover-fill-color: #FFFFFF;\n",
              "      --disabled-bg-color: #3B4455;\n",
              "      --disabled-fill-color: #666;\n",
              "  }\n",
              "\n",
              "  .colab-df-quickchart {\n",
              "    background-color: var(--bg-color);\n",
              "    border: none;\n",
              "    border-radius: 50%;\n",
              "    cursor: pointer;\n",
              "    display: none;\n",
              "    fill: var(--fill-color);\n",
              "    height: 32px;\n",
              "    padding: 0;\n",
              "    width: 32px;\n",
              "  }\n",
              "\n",
              "  .colab-df-quickchart:hover {\n",
              "    background-color: var(--hover-bg-color);\n",
              "    box-shadow: 0 1px 2px rgba(60, 64, 67, 0.3), 0 1px 3px 1px rgba(60, 64, 67, 0.15);\n",
              "    fill: var(--button-hover-fill-color);\n",
              "  }\n",
              "\n",
              "  .colab-df-quickchart-complete:disabled,\n",
              "  .colab-df-quickchart-complete:disabled:hover {\n",
              "    background-color: var(--disabled-bg-color);\n",
              "    fill: var(--disabled-fill-color);\n",
              "    box-shadow: none;\n",
              "  }\n",
              "\n",
              "  .colab-df-spinner {\n",
              "    border: 2px solid var(--fill-color);\n",
              "    border-color: transparent;\n",
              "    border-bottom-color: var(--fill-color);\n",
              "    animation:\n",
              "      spin 1s steps(1) infinite;\n",
              "  }\n",
              "\n",
              "  @keyframes spin {\n",
              "    0% {\n",
              "      border-color: transparent;\n",
              "      border-bottom-color: var(--fill-color);\n",
              "      border-left-color: var(--fill-color);\n",
              "    }\n",
              "    20% {\n",
              "      border-color: transparent;\n",
              "      border-left-color: var(--fill-color);\n",
              "      border-top-color: var(--fill-color);\n",
              "    }\n",
              "    30% {\n",
              "      border-color: transparent;\n",
              "      border-left-color: var(--fill-color);\n",
              "      border-top-color: var(--fill-color);\n",
              "      border-right-color: var(--fill-color);\n",
              "    }\n",
              "    40% {\n",
              "      border-color: transparent;\n",
              "      border-right-color: var(--fill-color);\n",
              "      border-top-color: var(--fill-color);\n",
              "    }\n",
              "    60% {\n",
              "      border-color: transparent;\n",
              "      border-right-color: var(--fill-color);\n",
              "    }\n",
              "    80% {\n",
              "      border-color: transparent;\n",
              "      border-right-color: var(--fill-color);\n",
              "      border-bottom-color: var(--fill-color);\n",
              "    }\n",
              "    90% {\n",
              "      border-color: transparent;\n",
              "      border-bottom-color: var(--fill-color);\n",
              "    }\n",
              "  }\n",
              "</style>\n",
              "\n",
              "      <script>\n",
              "        async function quickchart(key) {\n",
              "          const quickchartButtonEl =\n",
              "            document.querySelector('#' + key + ' button');\n",
              "          quickchartButtonEl.disabled = true;  // To prevent multiple clicks.\n",
              "          quickchartButtonEl.classList.add('colab-df-spinner');\n",
              "          try {\n",
              "            const charts = await google.colab.kernel.invokeFunction(\n",
              "                'suggestCharts', [key], {});\n",
              "          } catch (error) {\n",
              "            console.error('Error during call to suggestCharts:', error);\n",
              "          }\n",
              "          quickchartButtonEl.classList.remove('colab-df-spinner');\n",
              "          quickchartButtonEl.classList.add('colab-df-quickchart-complete');\n",
              "        }\n",
              "        (() => {\n",
              "          let quickchartButtonEl =\n",
              "            document.querySelector('#df-3a7b2840-6235-4f83-859b-57d9a0285a76 button');\n",
              "          quickchartButtonEl.style.display =\n",
              "            google.colab.kernel.accessAllowed ? 'block' : 'none';\n",
              "        })();\n",
              "      </script>\n",
              "    </div>\n",
              "\n",
              "    </div>\n",
              "  </div>\n"
            ],
            "application/vnd.google.colaboratory.intrinsic+json": {
              "type": "dataframe"
            }
          },
          "metadata": {},
          "execution_count": 24
        }
      ]
    },
    {
      "cell_type": "markdown",
      "source": [
        "You can get a rough description of the types of visualisation in the `text_visualise` module, like below:\n",
        "\n",
        "🥼 SHAP library has got even more types of graphs, but currently they are not connected to the stylometric pipeline.  "
      ],
      "metadata": {
        "id": "fPTQffTn9bTh"
      }
    },
    {
      "cell_type": "code",
      "source": [
        "from cl_explainable_stylo import text_visualise\n",
        "help(text_visualise)"
      ],
      "metadata": {
        "id": "wtUhRXSa9cfa",
        "outputId": "bc8364a2-e5a7-4915-cf85-ee8095ee008c",
        "colab": {
          "base_uri": "https://localhost:8080/"
        }
      },
      "execution_count": null,
      "outputs": [
        {
          "output_type": "stream",
          "name": "stdout",
          "text": [
            "Help on module cl_explainable_stylo.text_visualise in cl_explainable_stylo:\n",
            "\n",
            "NAME\n",
            "    cl_explainable_stylo.text_visualise\n",
            "\n",
            "DESCRIPTION\n",
            "    This module provides wrapper functions for presenting and plotting classification results and their explanations.\n",
            "    The modules you might need to run first are 'preprocess_spacy.py' module, to first load and preprocess the texts,\n",
            "    'feature_extraction.py' module, to extract interesting textual features, and 'text_classify.py', to classify texts using these features.\n",
            "    \n",
            "    It includes functions to ...\n",
            "    \n",
            "    Author: Jeremi K. Ochab\n",
            "    Date: June 27, 2023\n",
            "\n",
            "FUNCTIONS\n",
            "    match_lextype(doc, feature_values, lextype=10, option='feature_type')\n",
            "    \n",
            "    plot_group_summary(shap_values, feature_names, metadata, group_by, max_display=10, color=None, axis_color='#333333', show=True, color_legend=True, color_legend_label=None, filename='', title='')\n",
            "        Create a SHAP beeswarm plot, colored by feature values when they are provided.\n",
            "        Parameters\n",
            "        ----------\n",
            "        shap_values : Explanation\n",
            "            This is an :class:`.Explanation` object containing a matrix of SHAP values\n",
            "            (# samples x # features).\n",
            "        max_display : int\n",
            "            How many top features to include in the plot (default is 10, or 7 for\n",
            "            interaction plots).\n",
            "        show : bool\n",
            "            Whether ``matplotlib.pyplot.show()`` is called before returning.\n",
            "            Setting this to ``False`` allows the plot\n",
            "            to be customized further after it has been created.\n",
            "        color_legend : bool\n",
            "            Whether to draw the color legend.\n",
            "        Notes\n",
            "        --------\n",
            "        Abdriged and modified from <https://github.com/slundberg/shap/blob/master/shap/plots/_beeswarm.py>.\n",
            "    \n",
            "    plot_summary(explanations, feature_dataframe, show=True, max_display=20, filename='', title='')\n",
            "    \n",
            "    plot_text(explanations, show=True, max_display=20, filename='', title='')\n",
            "\n",
            "DATA\n",
            "    colormaps = <matplotlib.cm.ColormapRegistry object>\n",
            "    labels = {'FEATURE': 'Feature %s', 'FEATURE_VALUE': 'Feature value', '...\n",
            "\n",
            "FILE\n",
            "    /content/Wshop-ExplainableStylo/cl_explainable_stylo/text_visualise.py\n",
            "\n",
            "\n"
          ]
        }
      ]
    },
    {
      "cell_type": "code",
      "source": [
        "exp.plot_summary()"
      ],
      "metadata": {
        "id": "w2eFpFtV9nTw",
        "outputId": "2d61d1cb-12da-41f3-e7ac-1c96b322b53c",
        "colab": {
          "base_uri": "https://localhost:8080/",
          "height": 724
        }
      },
      "execution_count": null,
      "outputs": [
        {
          "output_type": "stream",
          "name": "stderr",
          "text": [
            "/content/Wshop-ExplainableStylo/cl_explainable_stylo/text_visualise.py:40: FutureWarning: The NumPy global RNG was seeded by calling `np.random.seed`. In a future version this function will no longer use the global RNG. Pass `rng` explicitly to opt-in to the new behaviour and silence this warning.\n",
            "  shap.summary_plot(explanations, feature_dataframe, show = False, max_display = max_display)\n",
            "/usr/local/lib/python3.11/dist-packages/shap/plots/_beeswarm.py:1153: UserWarning: Tight layout not applied. The left and right margins cannot be made large enough to accommodate all Axes decorations.\n",
            "  pl.tight_layout()\n"
          ]
        },
        {
          "output_type": "display_data",
          "data": {
            "text/plain": [
              "<Figure size 800x950 with 2 Axes>"
            ],
            "image/png": "[encoded data removed]"
          },
          "metadata": {}
        }
      ]
    },
    {
      "cell_type": "code",
      "source": [
        "exp.plot_group_summary('author')"
      ],
      "metadata": {
        "id": "BiaNO-4o9rgP",
        "outputId": "8ce10151-5356-4c3a-cdd5-8dca7364e4e3",
        "colab": {
          "base_uri": "https://localhost:8080/",
          "height": 466
        }
      },
      "execution_count": null,
      "outputs": [
        {
          "output_type": "stream",
          "name": "stderr",
          "text": [
            "/content/Wshop-ExplainableStylo/cl_explainable_stylo/text_visualise.py:151: UserWarning: Tight layout not applied. The left and right margins cannot be made large enough to accommodate all Axes decorations.\n",
            "  plt.tight_layout()\n"
          ]
        },
        {
          "output_type": "display_data",
          "data": {
            "text/plain": [
              "<Figure size 640x480 with 1 Axes>"
            ],
            "image/png": "[encoded data removed]"
          },
          "metadata": {}
        }
      ]
    },
    {
      "cell_type": "code",
      "source": [
        "exp.plot_text(8)"
      ],
      "metadata": {
        "id": "9da_tDgo9uYw",
        "outputId": "582c0005-d0a8-4be6-c61d-734f0a6c1aae",
        "colab": {
          "base_uri": "https://localhost:8080/",
          "height": 826
        }
      },
      "execution_count": null,
      "outputs": [
        {
          "output_type": "display_data",
          "data": {
            "text/plain": [
              "<Figure size 800x1150 with 3 Axes>"
            ],
            "image/png": "[encoded data removed]"
          },
          "metadata": {}
        }
      ]
    },
    {
      "cell_type": "code",
      "source": [
        "# exp.plot_group_texts('class',group='dukaj') # not working at the moment"
      ],
      "metadata": {
        "id": "PyLzFgsg9yLM",
        "outputId": "ee8d718e-3a69-453f-8fde-6cfc47f60395",
        "colab": {
          "base_uri": "https://localhost:8080/",
          "height": 304
        }
      },
      "execution_count": null,
      "outputs": [
        {
          "output_type": "stream",
          "name": "stdout",
          "text": [
            "Proceeding with 2 classes.\n"
          ]
        },
        {
          "output_type": "error",
          "ename": "IndexError",
          "evalue": "list index out of range",
          "traceback": [
            "\u001b[0;31m---------------------------------------------------------------------------\u001b[0m",
            "\u001b[0;31mIndexError\u001b[0m                                Traceback (most recent call last)",
            "\u001b[0;32m<ipython-input-30-1170957379>\u001b[0m in \u001b[0;36m<cell line: 0>\u001b[0;34m()\u001b[0m\n\u001b[0;32m----> 1\u001b[0;31m \u001b[0mexp\u001b[0m\u001b[0;34m.\u001b[0m\u001b[0mplot_group_texts\u001b[0m\u001b[0;34m(\u001b[0m\u001b[0;34m'class'\u001b[0m\u001b[0;34m,\u001b[0m\u001b[0mgroup\u001b[0m\u001b[0;34m=\u001b[0m\u001b[0;34m'dukaj'\u001b[0m\u001b[0;34m)\u001b[0m \u001b[0;31m# not working at the moment\u001b[0m\u001b[0;34m\u001b[0m\u001b[0;34m\u001b[0m\u001b[0m\n\u001b[0m",
            "\u001b[0;32m/content/Wshop-ExplainableStylo/cl_explainable_stylo/base.py\u001b[0m in \u001b[0;36mplot_group_texts\u001b[0;34m(self, group_by, group, show, max_display, filename, title, file_ext)\u001b[0m\n\u001b[1;32m    690\u001b[0m                 \u001b[0mtitle_errors\u001b[0m \u001b[0;34m=\u001b[0m \u001b[0mmetadata_df\u001b[0m\u001b[0;34m[\u001b[0m\u001b[0mmetadata_df\u001b[0m\u001b[0;34m[\u001b[0m\u001b[0mgroup_by\u001b[0m\u001b[0;34m]\u001b[0m \u001b[0;34m==\u001b[0m \u001b[0mgroupsD\u001b[0m\u001b[0;34m[\u001b[0m\u001b[0mi\u001b[0m\u001b[0;34m]\u001b[0m\u001b[0;34m[\u001b[0m\u001b[0;36m0\u001b[0m\u001b[0;34m]\u001b[0m\u001b[0;34m]\u001b[0m\u001b[0;34m[\u001b[0m\u001b[0;34m'errors'\u001b[0m\u001b[0;34m]\u001b[0m\u001b[0;34m.\u001b[0m\u001b[0mmean\u001b[0m\u001b[0;34m(\u001b[0m\u001b[0;34m)\u001b[0m\u001b[0;34m\u001b[0m\u001b[0;34m\u001b[0m\u001b[0m\n\u001b[1;32m    691\u001b[0m                 \u001b[0mtitle\u001b[0m \u001b[0;34m=\u001b[0m \u001b[0;34m\"Uśredniony wkład cech dla {}=={},\\n błędów klasyfikacji: {:.2f}/{}\"\u001b[0m\u001b[0;34m.\u001b[0m\u001b[0mformat\u001b[0m\u001b[0;34m(\u001b[0m\u001b[0mgroup_by\u001b[0m\u001b[0;34m,\u001b[0m\u001b[0mgroupsD\u001b[0m\u001b[0;34m[\u001b[0m\u001b[0mi\u001b[0m\u001b[0;34m]\u001b[0m\u001b[0;34m[\u001b[0m\u001b[0;36m0\u001b[0m\u001b[0;34m]\u001b[0m\u001b[0;34m,\u001b[0m\u001b[0mtitle_errors\u001b[0m\u001b[0;34m,\u001b[0m\u001b[0mself\u001b[0m\u001b[0;34m.\u001b[0m\u001b[0mcv_scheme\u001b[0m\u001b[0;34m[\u001b[0m\u001b[0;34m'n_repeats'\u001b[0m\u001b[0;34m]\u001b[0m\u001b[0;34m)\u001b[0m\u001b[0;34m\u001b[0m\u001b[0;34m\u001b[0m\u001b[0m\n\u001b[0;32m--> 692\u001b[0;31m             \u001b[0mtemp\u001b[0m \u001b[0;34m=\u001b[0m \u001b[0mself\u001b[0m\u001b[0;34m.\u001b[0m\u001b[0mexplanations\u001b[0m\u001b[0;34m.\u001b[0m\u001b[0mcompute_text_group\u001b[0m\u001b[0;34m(\u001b[0m\u001b[0mi\u001b[0m\u001b[0;34m,\u001b[0m\u001b[0mfeature_dataframe\u001b[0m\u001b[0;34m)\u001b[0m\u001b[0;34m\u001b[0m\u001b[0;34m\u001b[0m\u001b[0m\n\u001b[0m\u001b[1;32m    693\u001b[0m             \u001b[0mtemp\u001b[0m\u001b[0;34m.\u001b[0m\u001b[0mfeature_names\u001b[0m \u001b[0;34m=\u001b[0m \u001b[0mself\u001b[0m\u001b[0;34m.\u001b[0m\u001b[0mfeature_names_waterfall\u001b[0m\u001b[0;34m\u001b[0m\u001b[0;34m\u001b[0m\u001b[0m\n\u001b[1;32m    694\u001b[0m             \u001b[0;31m# shap.plots.waterfall(temp, show = False, max_display = liczba_cech)\u001b[0m\u001b[0;34m\u001b[0m\u001b[0;34m\u001b[0m\u001b[0m\n",
            "\u001b[0;32m/content/Wshop-ExplainableStylo/cl_explainable_stylo/text_classify.py\u001b[0m in \u001b[0;36mcompute_text_group\u001b[0;34m(self, index, feature_dataframe, groups)\u001b[0m\n\u001b[1;32m    536\u001b[0m         \u001b[0;32melse\u001b[0m\u001b[0;34m:\u001b[0m\u001b[0;34m\u001b[0m\u001b[0;34m\u001b[0m\u001b[0m\n\u001b[1;32m    537\u001b[0m             \u001b[0mself\u001b[0m\u001b[0;34m.\u001b[0m\u001b[0mcompute_group\u001b[0m\u001b[0;34m(\u001b[0m\u001b[0mgroups\u001b[0m\u001b[0;34m)\u001b[0m\u001b[0;34m\u001b[0m\u001b[0;34m\u001b[0m\u001b[0m\n\u001b[0;32m--> 538\u001b[0;31m         text_explanations = shap._explanation.Explanation(self.shap_group[index],\n\u001b[0m\u001b[1;32m    539\u001b[0m                                                           \u001b[0mbase_values\u001b[0m\u001b[0;34m=\u001b[0m\u001b[0mself\u001b[0m\u001b[0;34m.\u001b[0m\u001b[0mshap_group_base\u001b[0m\u001b[0;34m[\u001b[0m\u001b[0mindex\u001b[0m\u001b[0;34m]\u001b[0m\u001b[0;34m,\u001b[0m\u001b[0;34m\u001b[0m\u001b[0;34m\u001b[0m\u001b[0m\n\u001b[1;32m    540\u001b[0m                                                           \u001b[0mdata\u001b[0m\u001b[0;34m=\u001b[0m\u001b[0mfeature_dataframe\u001b[0m\u001b[0;34m.\u001b[0m\u001b[0mgroupby\u001b[0m\u001b[0;34m(\u001b[0m\u001b[0mby\u001b[0m\u001b[0;34m=\u001b[0m\u001b[0mgroups\u001b[0m\u001b[0;34m)\u001b[0m\u001b[0;34m.\u001b[0m\u001b[0mmean\u001b[0m\u001b[0;34m(\u001b[0m\u001b[0;34m)\u001b[0m\u001b[0;34m.\u001b[0m\u001b[0miloc\u001b[0m\u001b[0;34m[\u001b[0m\u001b[0mindex\u001b[0m\u001b[0;34m]\u001b[0m\u001b[0;34m,\u001b[0m\u001b[0;34m\u001b[0m\u001b[0;34m\u001b[0m\u001b[0m\n",
            "\u001b[0;31mIndexError\u001b[0m: list index out of range"
          ]
        }
      ]
    },
    {
      "cell_type": "markdown",
      "metadata": {
        "id": "JJLTRw_ctkoL"
      },
      "source": [
        "## 🧪 Your Playground\n",
        "\n",
        "You can now run your own analyses using functions from `cl_explainable_stylo`, loading texts and experimenting with stylistic explainability."
      ]
    },
    {
      "cell_type": "code",
      "execution_count": null,
      "metadata": {
        "id": "4EB16pIgtkoO"
      },
      "outputs": [],
      "source": [
        "# Write your own code here!\n",
        "# For example, analyze loaded text, vectorize it, or explain features\n",
        "# from cl_explainable_stylo import analyze_text\n",
        "\n",
        "# results = analyze_text(text)\n",
        "# print(results)"
      ]
    }
  ],
  "metadata": {
    "kernelspec": {
      "display_name": "Python 3",
      "language": "python",
      "name": "python3"
    },
    "language_info": {
      "name": "python",
      "version": "3.x"
    },
    "colab": {
      "provenance": []
    },
    "widgets": {
      "application/vnd.jupyter.widget-state+json": {
        "c6875c6ff25e4548a1b3cee16b408f50": {
          "model_module": "@jupyter-widgets/controls",
          "model_name": "HBoxModel",
          "model_module_version": "1.5.0",
          "state": {
            "_dom_classes": [],
            "_model_module": "@jupyter-widgets/controls",
            "_model_module_version": "1.5.0",
            "_model_name": "HBoxModel",
            "_view_count": null,
            "_view_module": "@jupyter-widgets/controls",
            "_view_module_version": "1.5.0",
            "_view_name": "HBoxView",
            "box_style": "",
            "children": [
              "IPY_MODEL_f1c4670753f64a569540602c13a2270c",
              "IPY_MODEL_37c6884fbe1842e7a4e10b324e4161d4",
              "IPY_MODEL_d3587e3b2f2b4f94b7b36d4afbd0cf65"
            ],
            "layout": "IPY_MODEL_eb3f8d1c624e4c23bea12f1bd4eb64a1"
          }
        },
        "f1c4670753f64a569540602c13a2270c": {
          "model_module": "@jupyter-widgets/controls",
          "model_name": "HTMLModel",
          "model_module_version": "1.5.0",
          "state": {
            "_dom_classes": [],
            "_model_module": "@jupyter-widgets/controls",
            "_model_module_version": "1.5.0",
            "_model_name": "HTMLModel",
            "_view_count": null,
            "_view_module": "@jupyter-widgets/controls",
            "_view_module_version": "1.5.0",
            "_view_name": "HTMLView",
            "description": "",
            "description_tooltip": null,
            "layout": "IPY_MODEL_091a3e9c05444581ade1cfcb6ed36c28",
            "placeholder": "​",
            "style": "IPY_MODEL_82e59c7d7ce54647b83280d2c2b7e20e",
            "value": ""
          }
        },
        "37c6884fbe1842e7a4e10b324e4161d4": {
          "model_module": "@jupyter-widgets/controls",
          "model_name": "FloatProgressModel",
          "model_module_version": "1.5.0",
          "state": {
            "_dom_classes": [],
            "_model_module": "@jupyter-widgets/controls",
            "_model_module_version": "1.5.0",
            "_model_name": "FloatProgressModel",
            "_view_count": null,
            "_view_module": "@jupyter-widgets/controls",
            "_view_module_version": "1.5.0",
            "_view_name": "ProgressView",
            "bar_style": "success",
            "description": "",
            "description_tooltip": null,
            "layout": "IPY_MODEL_51319fcfff5449d88a9650d639e3021a",
            "max": 1,
            "min": 0,
            "orientation": "horizontal",
            "style": "IPY_MODEL_0e64696a6bc64e47ade00be1dbcfb5f4",
            "value": 1
          }
        },
        "d3587e3b2f2b4f94b7b36d4afbd0cf65": {
          "model_module": "@jupyter-widgets/controls",
          "model_name": "HTMLModel",
          "model_module_version": "1.5.0",
          "state": {
            "_dom_classes": [],
            "_model_module": "@jupyter-widgets/controls",
            "_model_module_version": "1.5.0",
            "_model_name": "HTMLModel",
            "_view_count": null,
            "_view_module": "@jupyter-widgets/controls",
            "_view_module_version": "1.5.0",
            "_view_name": "HTMLView",
            "description": "",
            "description_tooltip": null,
            "layout": "IPY_MODEL_593344b30867430586242d22c4c692b2",
            "placeholder": "​",
            "style": "IPY_MODEL_4492ce1d2a0344cdb40314282c47f36e",
            "value": " 2/? [00:00&lt;00:00, 157.12it/s]"
          }
        },
        "eb3f8d1c624e4c23bea12f1bd4eb64a1": {
          "model_module": "@jupyter-widgets/base",
          "model_name": "LayoutModel",
          "model_module_version": "1.2.0",
          "state": {
            "_model_module": "@jupyter-widgets/base",
            "_model_module_version": "1.2.0",
            "_model_name": "LayoutModel",
            "_view_count": null,
            "_view_module": "@jupyter-widgets/base",
            "_view_module_version": "1.2.0",
            "_view_name": "LayoutView",
            "align_content": null,
            "align_items": null,
            "align_self": null,
            "border": null,
            "bottom": null,
            "display": null,
            "flex": null,
            "flex_flow": null,
            "grid_area": null,
            "grid_auto_columns": null,
            "grid_auto_flow": null,
            "grid_auto_rows": null,
            "grid_column": null,
            "grid_gap": null,
            "grid_row": null,
            "grid_template_areas": null,
            "grid_template_columns": null,
            "grid_template_rows": null,
            "height": null,
            "justify_content": null,
            "justify_items": null,
            "left": null,
            "margin": null,
            "max_height": null,
            "max_width": null,
            "min_height": null,
            "min_width": null,
            "object_fit": null,
            "object_position": null,
            "order": null,
            "overflow": null,
            "overflow_x": null,
            "overflow_y": null,
            "padding": null,
            "right": null,
            "top": null,
            "visibility": null,
            "width": null
          }
        },
        "091a3e9c05444581ade1cfcb6ed36c28": {
          "model_module": "@jupyter-widgets/base",
          "model_name": "LayoutModel",
          "model_module_version": "1.2.0",
          "state": {
            "_model_module": "@jupyter-widgets/base",
            "_model_module_version": "1.2.0",
            "_model_name": "LayoutModel",
            "_view_count": null,
            "_view_module": "@jupyter-widgets/base",
            "_view_module_version": "1.2.0",
            "_view_name": "LayoutView",
            "align_content": null,
            "align_items": null,
            "align_self": null,
            "border": null,
            "bottom": null,
            "display": null,
            "flex": null,
            "flex_flow": null,
            "grid_area": null,
            "grid_auto_columns": null,
            "grid_auto_flow": null,
            "grid_auto_rows": null,
            "grid_column": null,
            "grid_gap": null,
            "grid_row": null,
            "grid_template_areas": null,
            "grid_template_columns": null,
            "grid_template_rows": null,
            "height": null,
            "justify_content": null,
            "justify_items": null,
            "left": null,
            "margin": null,
            "max_height": null,
            "max_width": null,
            "min_height": null,
            "min_width": null,
            "object_fit": null,
            "object_position": null,
            "order": null,
            "overflow": null,
            "overflow_x": null,
            "overflow_y": null,
            "padding": null,
            "right": null,
            "top": null,
            "visibility": null,
            "width": null
          }
        },
        "82e59c7d7ce54647b83280d2c2b7e20e": {
          "model_module": "@jupyter-widgets/controls",
          "model_name": "DescriptionStyleModel",
          "model_module_version": "1.5.0",
          "state": {
            "_model_module": "@jupyter-widgets/controls",
            "_model_module_version": "1.5.0",
            "_model_name": "DescriptionStyleModel",
            "_view_count": null,
            "_view_module": "@jupyter-widgets/base",
            "_view_module_version": "1.2.0",
            "_view_name": "StyleView",
            "description_width": ""
          }
        },
        "51319fcfff5449d88a9650d639e3021a": {
          "model_module": "@jupyter-widgets/base",
          "model_name": "LayoutModel",
          "model_module_version": "1.2.0",
          "state": {
            "_model_module": "@jupyter-widgets/base",
            "_model_module_version": "1.2.0",
            "_model_name": "LayoutModel",
            "_view_count": null,
            "_view_module": "@jupyter-widgets/base",
            "_view_module_version": "1.2.0",
            "_view_name": "LayoutView",
            "align_content": null,
            "align_items": null,
            "align_self": null,
            "border": null,
            "bottom": null,
            "display": null,
            "flex": null,
            "flex_flow": null,
            "grid_area": null,
            "grid_auto_columns": null,
            "grid_auto_flow": null,
            "grid_auto_rows": null,
            "grid_column": null,
            "grid_gap": null,
            "grid_row": null,
            "grid_template_areas": null,
            "grid_template_columns": null,
            "grid_template_rows": null,
            "height": null,
            "justify_content": null,
            "justify_items": null,
            "left": null,
            "margin": null,
            "max_height": null,
            "max_width": null,
            "min_height": null,
            "min_width": null,
            "object_fit": null,
            "object_position": null,
            "order": null,
            "overflow": null,
            "overflow_x": null,
            "overflow_y": null,
            "padding": null,
            "right": null,
            "top": null,
            "visibility": null,
            "width": "20px"
          }
        },
        "0e64696a6bc64e47ade00be1dbcfb5f4": {
          "model_module": "@jupyter-widgets/controls",
          "model_name": "ProgressStyleModel",
          "model_module_version": "1.5.0",
          "state": {
            "_model_module": "@jupyter-widgets/controls",
            "_model_module_version": "1.5.0",
            "_model_name": "ProgressStyleModel",
            "_view_count": null,
            "_view_module": "@jupyter-widgets/base",
            "_view_module_version": "1.2.0",
            "_view_name": "StyleView",
            "bar_color": null,
            "description_width": ""
          }
        },
        "593344b30867430586242d22c4c692b2": {
          "model_module": "@jupyter-widgets/base",
          "model_name": "LayoutModel",
          "model_module_version": "1.2.0",
          "state": {
            "_model_module": "@jupyter-widgets/base",
            "_model_module_version": "1.2.0",
            "_model_name": "LayoutModel",
            "_view_count": null,
            "_view_module": "@jupyter-widgets/base",
            "_view_module_version": "1.2.0",
            "_view_name": "LayoutView",
            "align_content": null,
            "align_items": null,
            "align_self": null,
            "border": null,
            "bottom": null,
            "display": null,
            "flex": null,
            "flex_flow": null,
            "grid_area": null,
            "grid_auto_columns": null,
            "grid_auto_flow": null,
            "grid_auto_rows": null,
            "grid_column": null,
            "grid_gap": null,
            "grid_row": null,
            "grid_template_areas": null,
            "grid_template_columns": null,
            "grid_template_rows": null,
            "height": null,
            "justify_content": null,
            "justify_items": null,
            "left": null,
            "margin": null,
            "max_height": null,
            "max_width": null,
            "min_height": null,
            "min_width": null,
            "object_fit": null,
            "object_position": null,
            "order": null,
            "overflow": null,
            "overflow_x": null,
            "overflow_y": null,
            "padding": null,
            "right": null,
            "top": null,
            "visibility": null,
            "width": null
          }
        },
        "4492ce1d2a0344cdb40314282c47f36e": {
          "model_module": "@jupyter-widgets/controls",
          "model_name": "DescriptionStyleModel",
          "model_module_version": "1.5.0",
          "state": {
            "_model_module": "@jupyter-widgets/controls",
            "_model_module_version": "1.5.0",
            "_model_name": "DescriptionStyleModel",
            "_view_count": null,
            "_view_module": "@jupyter-widgets/base",
            "_view_module_version": "1.2.0",
            "_view_name": "StyleView",
            "description_width": ""
          }
        },
        "8af5e06fe6d0484bbb612930c80b4146": {
          "model_module": "@jupyter-widgets/controls",
          "model_name": "HBoxModel",
          "model_module_version": "1.5.0",
          "state": {
            "_dom_classes": [],
            "_model_module": "@jupyter-widgets/controls",
            "_model_module_version": "1.5.0",
            "_model_name": "HBoxModel",
            "_view_count": null,
            "_view_module": "@jupyter-widgets/controls",
            "_view_module_version": "1.5.0",
            "_view_name": "HBoxView",
            "box_style": "",
            "children": [
              "IPY_MODEL_2acb737cf4074680a70560723769f890",
              "IPY_MODEL_b2f29336d0ec4fc980b940b8227a846d",
              "IPY_MODEL_3ed0f6ca4de04a198c8b84517a6653c0"
            ],
            "layout": "IPY_MODEL_b7ac3a299414402dab98dc9ff9556134"
          }
        },
        "2acb737cf4074680a70560723769f890": {
          "model_module": "@jupyter-widgets/controls",
          "model_name": "HTMLModel",
          "model_module_version": "1.5.0",
          "state": {
            "_dom_classes": [],
            "_model_module": "@jupyter-widgets/controls",
            "_model_module_version": "1.5.0",
            "_model_name": "HTMLModel",
            "_view_count": null,
            "_view_module": "@jupyter-widgets/controls",
            "_view_module_version": "1.5.0",
            "_view_name": "HTMLView",
            "description": "",
            "description_tooltip": null,
            "layout": "IPY_MODEL_2d04a1df57d1426a8b8a7d8e7d74d244",
            "placeholder": "​",
            "style": "IPY_MODEL_12a89fab2eed442ea4106e166b887165",
            "value": ""
          }
        },
        "b2f29336d0ec4fc980b940b8227a846d": {
          "model_module": "@jupyter-widgets/controls",
          "model_name": "FloatProgressModel",
          "model_module_version": "1.5.0",
          "state": {
            "_dom_classes": [],
            "_model_module": "@jupyter-widgets/controls",
            "_model_module_version": "1.5.0",
            "_model_name": "FloatProgressModel",
            "_view_count": null,
            "_view_module": "@jupyter-widgets/controls",
            "_view_module_version": "1.5.0",
            "_view_name": "ProgressView",
            "bar_style": "success",
            "description": "",
            "description_tooltip": null,
            "layout": "IPY_MODEL_21d030fd90f44680bd082220f2a40330",
            "max": 1,
            "min": 0,
            "orientation": "horizontal",
            "style": "IPY_MODEL_2f1cffbf398f41e086d28fd43ab46880",
            "value": 1
          }
        },
        "3ed0f6ca4de04a198c8b84517a6653c0": {
          "model_module": "@jupyter-widgets/controls",
          "model_name": "HTMLModel",
          "model_module_version": "1.5.0",
          "state": {
            "_dom_classes": [],
            "_model_module": "@jupyter-widgets/controls",
            "_model_module_version": "1.5.0",
            "_model_name": "HTMLModel",
            "_view_count": null,
            "_view_module": "@jupyter-widgets/controls",
            "_view_module_version": "1.5.0",
            "_view_name": "HTMLView",
            "description": "",
            "description_tooltip": null,
            "layout": "IPY_MODEL_4c22b42413a748c68ac778c7e55a1230",
            "placeholder": "​",
            "style": "IPY_MODEL_f1928e728da24d92b35f86cf2bad8cb5",
            "value": " 2/? [00:11&lt;00:00, 11.24s/it]"
          }
        },
        "b7ac3a299414402dab98dc9ff9556134": {
          "model_module": "@jupyter-widgets/base",
          "model_name": "LayoutModel",
          "model_module_version": "1.2.0",
          "state": {
            "_model_module": "@jupyter-widgets/base",
            "_model_module_version": "1.2.0",
            "_model_name": "LayoutModel",
            "_view_count": null,
            "_view_module": "@jupyter-widgets/base",
            "_view_module_version": "1.2.0",
            "_view_name": "LayoutView",
            "align_content": null,
            "align_items": null,
            "align_self": null,
            "border": null,
            "bottom": null,
            "display": null,
            "flex": null,
            "flex_flow": null,
            "grid_area": null,
            "grid_auto_columns": null,
            "grid_auto_flow": null,
            "grid_auto_rows": null,
            "grid_column": null,
            "grid_gap": null,
            "grid_row": null,
            "grid_template_areas": null,
            "grid_template_columns": null,
            "grid_template_rows": null,
            "height": null,
            "justify_content": null,
            "justify_items": null,
            "left": null,
            "margin": null,
            "max_height": null,
            "max_width": null,
            "min_height": null,
            "min_width": null,
            "object_fit": null,
            "object_position": null,
            "order": null,
            "overflow": null,
            "overflow_x": null,
            "overflow_y": null,
            "padding": null,
            "right": null,
            "top": null,
            "visibility": null,
            "width": null
          }
        },
        "2d04a1df57d1426a8b8a7d8e7d74d244": {
          "model_module": "@jupyter-widgets/base",
          "model_name": "LayoutModel",
          "model_module_version": "1.2.0",
          "state": {
            "_model_module": "@jupyter-widgets/base",
            "_model_module_version": "1.2.0",
            "_model_name": "LayoutModel",
            "_view_count": null,
            "_view_module": "@jupyter-widgets/base",
            "_view_module_version": "1.2.0",
            "_view_name": "LayoutView",
            "align_content": null,
            "align_items": null,
            "align_self": null,
            "border": null,
            "bottom": null,
            "display": null,
            "flex": null,
            "flex_flow": null,
            "grid_area": null,
            "grid_auto_columns": null,
            "grid_auto_flow": null,
            "grid_auto_rows": null,
            "grid_column": null,
            "grid_gap": null,
            "grid_row": null,
            "grid_template_areas": null,
            "grid_template_columns": null,
            "grid_template_rows": null,
            "height": null,
            "justify_content": null,
            "justify_items": null,
            "left": null,
            "margin": null,
            "max_height": null,
            "max_width": null,
            "min_height": null,
            "min_width": null,
            "object_fit": null,
            "object_position": null,
            "order": null,
            "overflow": null,
            "overflow_x": null,
            "overflow_y": null,
            "padding": null,
            "right": null,
            "top": null,
            "visibility": null,
            "width": null
          }
        },
        "12a89fab2eed442ea4106e166b887165": {
          "model_module": "@jupyter-widgets/controls",
          "model_name": "DescriptionStyleModel",
          "model_module_version": "1.5.0",
          "state": {
            "_model_module": "@jupyter-widgets/controls",
            "_model_module_version": "1.5.0",
            "_model_name": "DescriptionStyleModel",
            "_view_count": null,
            "_view_module": "@jupyter-widgets/base",
            "_view_module_version": "1.2.0",
            "_view_name": "StyleView",
            "description_width": ""
          }
        },
        "21d030fd90f44680bd082220f2a40330": {
          "model_module": "@jupyter-widgets/base",
          "model_name": "LayoutModel",
          "model_module_version": "1.2.0",
          "state": {
            "_model_module": "@jupyter-widgets/base",
            "_model_module_version": "1.2.0",
            "_model_name": "LayoutModel",
            "_view_count": null,
            "_view_module": "@jupyter-widgets/base",
            "_view_module_version": "1.2.0",
            "_view_name": "LayoutView",
            "align_content": null,
            "align_items": null,
            "align_self": null,
            "border": null,
            "bottom": null,
            "display": null,
            "flex": null,
            "flex_flow": null,
            "grid_area": null,
            "grid_auto_columns": null,
            "grid_auto_flow": null,
            "grid_auto_rows": null,
            "grid_column": null,
            "grid_gap": null,
            "grid_row": null,
            "grid_template_areas": null,
            "grid_template_columns": null,
            "grid_template_rows": null,
            "height": null,
            "justify_content": null,
            "justify_items": null,
            "left": null,
            "margin": null,
            "max_height": null,
            "max_width": null,
            "min_height": null,
            "min_width": null,
            "object_fit": null,
            "object_position": null,
            "order": null,
            "overflow": null,
            "overflow_x": null,
            "overflow_y": null,
            "padding": null,
            "right": null,
            "top": null,
            "visibility": null,
            "width": "20px"
          }
        },
        "2f1cffbf398f41e086d28fd43ab46880": {
          "model_module": "@jupyter-widgets/controls",
          "model_name": "ProgressStyleModel",
          "model_module_version": "1.5.0",
          "state": {
            "_model_module": "@jupyter-widgets/controls",
            "_model_module_version": "1.5.0",
            "_model_name": "ProgressStyleModel",
            "_view_count": null,
            "_view_module": "@jupyter-widgets/base",
            "_view_module_version": "1.2.0",
            "_view_name": "StyleView",
            "bar_color": null,
            "description_width": ""
          }
        },
        "4c22b42413a748c68ac778c7e55a1230": {
          "model_module": "@jupyter-widgets/base",
          "model_name": "LayoutModel",
          "model_module_version": "1.2.0",
          "state": {
            "_model_module": "@jupyter-widgets/base",
            "_model_module_version": "1.2.0",
            "_model_name": "LayoutModel",
            "_view_count": null,
            "_view_module": "@jupyter-widgets/base",
            "_view_module_version": "1.2.0",
            "_view_name": "LayoutView",
            "align_content": null,
            "align_items": null,
            "align_self": null,
            "border": null,
            "bottom": null,
            "display": null,
            "flex": null,
            "flex_flow": null,
            "grid_area": null,
            "grid_auto_columns": null,
            "grid_auto_flow": null,
            "grid_auto_rows": null,
            "grid_column": null,
            "grid_gap": null,
            "grid_row": null,
            "grid_template_areas": null,
            "grid_template_columns": null,
            "grid_template_rows": null,
            "height": null,
            "justify_content": null,
            "justify_items": null,
            "left": null,
            "margin": null,
            "max_height": null,
            "max_width": null,
            "min_height": null,
            "min_width": null,
            "object_fit": null,
            "object_position": null,
            "order": null,
            "overflow": null,
            "overflow_x": null,
            "overflow_y": null,
            "padding": null,
            "right": null,
            "top": null,
            "visibility": null,
            "width": null
          }
        },
        "f1928e728da24d92b35f86cf2bad8cb5": {
          "model_module": "@jupyter-widgets/controls",
          "model_name": "DescriptionStyleModel",
          "model_module_version": "1.5.0",
          "state": {
            "_model_module": "@jupyter-widgets/controls",
            "_model_module_version": "1.5.0",
            "_model_name": "DescriptionStyleModel",
            "_view_count": null,
            "_view_module": "@jupyter-widgets/base",
            "_view_module_version": "1.2.0",
            "_view_name": "StyleView",
            "description_width": ""
          }
        },
        "256430329ce9491f8198776dd835d14f": {
          "model_module": "@jupyter-widgets/controls",
          "model_name": "HBoxModel",
          "model_module_version": "1.5.0",
          "state": {
            "_dom_classes": [],
            "_model_module": "@jupyter-widgets/controls",
            "_model_module_version": "1.5.0",
            "_model_name": "HBoxModel",
            "_view_count": null,
            "_view_module": "@jupyter-widgets/controls",
            "_view_module_version": "1.5.0",
            "_view_name": "HBoxView",
            "box_style": "",
            "children": [
              "IPY_MODEL_d24628a93d6846398a312234de0f557d",
              "IPY_MODEL_80dcbda9217e4eb8abd44fa4c07dba90",
              "IPY_MODEL_9528aa231fb242bf835a6f29aba125ed"
            ],
            "layout": "IPY_MODEL_bb496a7323c24c379fc34f4cda157266"
          }
        },
        "d24628a93d6846398a312234de0f557d": {
          "model_module": "@jupyter-widgets/controls",
          "model_name": "HTMLModel",
          "model_module_version": "1.5.0",
          "state": {
            "_dom_classes": [],
            "_model_module": "@jupyter-widgets/controls",
            "_model_module_version": "1.5.0",
            "_model_name": "HTMLModel",
            "_view_count": null,
            "_view_module": "@jupyter-widgets/controls",
            "_view_module_version": "1.5.0",
            "_view_name": "HTMLView",
            "description": "",
            "description_tooltip": null,
            "layout": "IPY_MODEL_906ccf2d39624837a6e56d64f2065a2e",
            "placeholder": "​",
            "style": "IPY_MODEL_51f81ebb7bd74d68bc7d859d00bf448a",
            "value": "100%"
          }
        },
        "80dcbda9217e4eb8abd44fa4c07dba90": {
          "model_module": "@jupyter-widgets/controls",
          "model_name": "FloatProgressModel",
          "model_module_version": "1.5.0",
          "state": {
            "_dom_classes": [],
            "_model_module": "@jupyter-widgets/controls",
            "_model_module_version": "1.5.0",
            "_model_name": "FloatProgressModel",
            "_view_count": null,
            "_view_module": "@jupyter-widgets/controls",
            "_view_module_version": "1.5.0",
            "_view_name": "ProgressView",
            "bar_style": "success",
            "description": "",
            "description_tooltip": null,
            "layout": "IPY_MODEL_bcf6e229d4224223911bd4090acf8721",
            "max": 2,
            "min": 0,
            "orientation": "horizontal",
            "style": "IPY_MODEL_2b52fcd5d19f481689b77eab9c6f6fdb",
            "value": 2
          }
        },
        "9528aa231fb242bf835a6f29aba125ed": {
          "model_module": "@jupyter-widgets/controls",
          "model_name": "HTMLModel",
          "model_module_version": "1.5.0",
          "state": {
            "_dom_classes": [],
            "_model_module": "@jupyter-widgets/controls",
            "_model_module_version": "1.5.0",
            "_model_name": "HTMLModel",
            "_view_count": null,
            "_view_module": "@jupyter-widgets/controls",
            "_view_module_version": "1.5.0",
            "_view_name": "HTMLView",
            "description": "",
            "description_tooltip": null,
            "layout": "IPY_MODEL_8a0451f8f712454c935c3ede4177619a",
            "placeholder": "​",
            "style": "IPY_MODEL_9bc43fb990eb4ded811b80ca7056c725",
            "value": " 2/2 [00:02&lt;00:00,  1.24s/it]"
          }
        },
        "bb496a7323c24c379fc34f4cda157266": {
          "model_module": "@jupyter-widgets/base",
          "model_name": "LayoutModel",
          "model_module_version": "1.2.0",
          "state": {
            "_model_module": "@jupyter-widgets/base",
            "_model_module_version": "1.2.0",
            "_model_name": "LayoutModel",
            "_view_count": null,
            "_view_module": "@jupyter-widgets/base",
            "_view_module_version": "1.2.0",
            "_view_name": "LayoutView",
            "align_content": null,
            "align_items": null,
            "align_self": null,
            "border": null,
            "bottom": null,
            "display": null,
            "flex": null,
            "flex_flow": null,
            "grid_area": null,
            "grid_auto_columns": null,
            "grid_auto_flow": null,
            "grid_auto_rows": null,
            "grid_column": null,
            "grid_gap": null,
            "grid_row": null,
            "grid_template_areas": null,
            "grid_template_columns": null,
            "grid_template_rows": null,
            "height": null,
            "justify_content": null,
            "justify_items": null,
            "left": null,
            "margin": null,
            "max_height": null,
            "max_width": null,
            "min_height": null,
            "min_width": null,
            "object_fit": null,
            "object_position": null,
            "order": null,
            "overflow": null,
            "overflow_x": null,
            "overflow_y": null,
            "padding": null,
            "right": null,
            "top": null,
            "visibility": null,
            "width": null
          }
        },
        "906ccf2d39624837a6e56d64f2065a2e": {
          "model_module": "@jupyter-widgets/base",
          "model_name": "LayoutModel",
          "model_module_version": "1.2.0",
          "state": {
            "_model_module": "@jupyter-widgets/base",
            "_model_module_version": "1.2.0",
            "_model_name": "LayoutModel",
            "_view_count": null,
            "_view_module": "@jupyter-widgets/base",
            "_view_module_version": "1.2.0",
            "_view_name": "LayoutView",
            "align_content": null,
            "align_items": null,
            "align_self": null,
            "border": null,
            "bottom": null,
            "display": null,
            "flex": null,
            "flex_flow": null,
            "grid_area": null,
            "grid_auto_columns": null,
            "grid_auto_flow": null,
            "grid_auto_rows": null,
            "grid_column": null,
            "grid_gap": null,
            "grid_row": null,
            "grid_template_areas": null,
            "grid_template_columns": null,
            "grid_template_rows": null,
            "height": null,
            "justify_content": null,
            "justify_items": null,
            "left": null,
            "margin": null,
            "max_height": null,
            "max_width": null,
            "min_height": null,
            "min_width": null,
            "object_fit": null,
            "object_position": null,
            "order": null,
            "overflow": null,
            "overflow_x": null,
            "overflow_y": null,
            "padding": null,
            "right": null,
            "top": null,
            "visibility": null,
            "width": null
          }
        },
        "51f81ebb7bd74d68bc7d859d00bf448a": {
          "model_module": "@jupyter-widgets/controls",
          "model_name": "DescriptionStyleModel",
          "model_module_version": "1.5.0",
          "state": {
            "_model_module": "@jupyter-widgets/controls",
            "_model_module_version": "1.5.0",
            "_model_name": "DescriptionStyleModel",
            "_view_count": null,
            "_view_module": "@jupyter-widgets/base",
            "_view_module_version": "1.2.0",
            "_view_name": "StyleView",
            "description_width": ""
          }
        },
        "bcf6e229d4224223911bd4090acf8721": {
          "model_module": "@jupyter-widgets/base",
          "model_name": "LayoutModel",
          "model_module_version": "1.2.0",
          "state": {
            "_model_module": "@jupyter-widgets/base",
            "_model_module_version": "1.2.0",
            "_model_name": "LayoutModel",
            "_view_count": null,
            "_view_module": "@jupyter-widgets/base",
            "_view_module_version": "1.2.0",
            "_view_name": "LayoutView",
            "align_content": null,
            "align_items": null,
            "align_self": null,
            "border": null,
            "bottom": null,
            "display": null,
            "flex": null,
            "flex_flow": null,
            "grid_area": null,
            "grid_auto_columns": null,
            "grid_auto_flow": null,
            "grid_auto_rows": null,
            "grid_column": null,
            "grid_gap": null,
            "grid_row": null,
            "grid_template_areas": null,
            "grid_template_columns": null,
            "grid_template_rows": null,
            "height": null,
            "justify_content": null,
            "justify_items": null,
            "left": null,
            "margin": null,
            "max_height": null,
            "max_width": null,
            "min_height": null,
            "min_width": null,
            "object_fit": null,
            "object_position": null,
            "order": null,
            "overflow": null,
            "overflow_x": null,
            "overflow_y": null,
            "padding": null,
            "right": null,
            "top": null,
            "visibility": null,
            "width": null
          }
        },
        "2b52fcd5d19f481689b77eab9c6f6fdb": {
          "model_module": "@jupyter-widgets/controls",
          "model_name": "ProgressStyleModel",
          "model_module_version": "1.5.0",
          "state": {
            "_model_module": "@jupyter-widgets/controls",
            "_model_module_version": "1.5.0",
            "_model_name": "ProgressStyleModel",
            "_view_count": null,
            "_view_module": "@jupyter-widgets/base",
            "_view_module_version": "1.2.0",
            "_view_name": "StyleView",
            "bar_color": null,
            "description_width": ""
          }
        },
        "8a0451f8f712454c935c3ede4177619a": {
          "model_module": "@jupyter-widgets/base",
          "model_name": "LayoutModel",
          "model_module_version": "1.2.0",
          "state": {
            "_model_module": "@jupyter-widgets/base",
            "_model_module_version": "1.2.0",
            "_model_name": "LayoutModel",
            "_view_count": null,
            "_view_module": "@jupyter-widgets/base",
            "_view_module_version": "1.2.0",
            "_view_name": "LayoutView",
            "align_content": null,
            "align_items": null,
            "align_self": null,
            "border": null,
            "bottom": null,
            "display": null,
            "flex": null,
            "flex_flow": null,
            "grid_area": null,
            "grid_auto_columns": null,
            "grid_auto_flow": null,
            "grid_auto_rows": null,
            "grid_column": null,
            "grid_gap": null,
            "grid_row": null,
            "grid_template_areas": null,
            "grid_template_columns": null,
            "grid_template_rows": null,
            "height": null,
            "justify_content": null,
            "justify_items": null,
            "left": null,
            "margin": null,
            "max_height": null,
            "max_width": null,
            "min_height": null,
            "min_width": null,
            "object_fit": null,
            "object_position": null,
            "order": null,
            "overflow": null,
            "overflow_x": null,
            "overflow_y": null,
            "padding": null,
            "right": null,
            "top": null,
            "visibility": null,
            "width": null
          }
        },
        "9bc43fb990eb4ded811b80ca7056c725": {
          "model_module": "@jupyter-widgets/controls",
          "model_name": "DescriptionStyleModel",
          "model_module_version": "1.5.0",
          "state": {
            "_model_module": "@jupyter-widgets/controls",
            "_model_module_version": "1.5.0",
            "_model_name": "DescriptionStyleModel",
            "_view_count": null,
            "_view_module": "@jupyter-widgets/base",
            "_view_module_version": "1.2.0",
            "_view_name": "StyleView",
            "description_width": ""
          }
        },
        "be10c6b65cb647379636d21e9a3a2f6f": {
          "model_module": "@jupyter-widgets/controls",
          "model_name": "HBoxModel",
          "model_module_version": "1.5.0",
          "state": {
            "_dom_classes": [],
            "_model_module": "@jupyter-widgets/controls",
            "_model_module_version": "1.5.0",
            "_model_name": "HBoxModel",
            "_view_count": null,
            "_view_module": "@jupyter-widgets/controls",
            "_view_module_version": "1.5.0",
            "_view_name": "HBoxView",
            "box_style": "",
            "children": [
              "IPY_MODEL_c61882e662574aaeba2bdc1603e27ae2",
              "IPY_MODEL_516d450b4d724792a5c32cb832c7f168",
              "IPY_MODEL_36a49c395ff743a0b62a4da7f66df251"
            ],
            "layout": "IPY_MODEL_43d37f86d9bb405a820c6bbdd3b29df8"
          }
        },
        "c61882e662574aaeba2bdc1603e27ae2": {
          "model_module": "@jupyter-widgets/controls",
          "model_name": "HTMLModel",
          "model_module_version": "1.5.0",
          "state": {
            "_dom_classes": [],
            "_model_module": "@jupyter-widgets/controls",
            "_model_module_version": "1.5.0",
            "_model_name": "HTMLModel",
            "_view_count": null,
            "_view_module": "@jupyter-widgets/controls",
            "_view_module_version": "1.5.0",
            "_view_name": "HTMLView",
            "description": "",
            "description_tooltip": null,
            "layout": "IPY_MODEL_3d764631f2e94c08bb8586e065b813a2",
            "placeholder": "​",
            "style": "IPY_MODEL_3ecc4138e3e340b186a9f1ffe363e56c",
            "value": "100%"
          }
        },
        "516d450b4d724792a5c32cb832c7f168": {
          "model_module": "@jupyter-widgets/controls",
          "model_name": "FloatProgressModel",
          "model_module_version": "1.5.0",
          "state": {
            "_dom_classes": [],
            "_model_module": "@jupyter-widgets/controls",
            "_model_module_version": "1.5.0",
            "_model_name": "FloatProgressModel",
            "_view_count": null,
            "_view_module": "@jupyter-widgets/controls",
            "_view_module_version": "1.5.0",
            "_view_name": "ProgressView",
            "bar_style": "success",
            "description": "",
            "description_tooltip": null,
            "layout": "IPY_MODEL_3d269db4d5b94ea4af1079ce779747ac",
            "max": 5,
            "min": 0,
            "orientation": "horizontal",
            "style": "IPY_MODEL_a50df7b70c0245a5bf4a03463e61e8c5",
            "value": 5
          }
        },
        "36a49c395ff743a0b62a4da7f66df251": {
          "model_module": "@jupyter-widgets/controls",
          "model_name": "HTMLModel",
          "model_module_version": "1.5.0",
          "state": {
            "_dom_classes": [],
            "_model_module": "@jupyter-widgets/controls",
            "_model_module_version": "1.5.0",
            "_model_name": "HTMLModel",
            "_view_count": null,
            "_view_module": "@jupyter-widgets/controls",
            "_view_module_version": "1.5.0",
            "_view_name": "HTMLView",
            "description": "",
            "description_tooltip": null,
            "layout": "IPY_MODEL_53a085b34743499caebc0af7e059398b",
            "placeholder": "​",
            "style": "IPY_MODEL_7657d843e44b437db1aa4df60614a887",
            "value": " 5/5 [00:32&lt;00:00,  5.52s/it]"
          }
        },
        "43d37f86d9bb405a820c6bbdd3b29df8": {
          "model_module": "@jupyter-widgets/base",
          "model_name": "LayoutModel",
          "model_module_version": "1.2.0",
          "state": {
            "_model_module": "@jupyter-widgets/base",
            "_model_module_version": "1.2.0",
            "_model_name": "LayoutModel",
            "_view_count": null,
            "_view_module": "@jupyter-widgets/base",
            "_view_module_version": "1.2.0",
            "_view_name": "LayoutView",
            "align_content": null,
            "align_items": null,
            "align_self": null,
            "border": null,
            "bottom": null,
            "display": null,
            "flex": null,
            "flex_flow": null,
            "grid_area": null,
            "grid_auto_columns": null,
            "grid_auto_flow": null,
            "grid_auto_rows": null,
            "grid_column": null,
            "grid_gap": null,
            "grid_row": null,
            "grid_template_areas": null,
            "grid_template_columns": null,
            "grid_template_rows": null,
            "height": null,
            "justify_content": null,
            "justify_items": null,
            "left": null,
            "margin": null,
            "max_height": null,
            "max_width": null,
            "min_height": null,
            "min_width": null,
            "object_fit": null,
            "object_position": null,
            "order": null,
            "overflow": null,
            "overflow_x": null,
            "overflow_y": null,
            "padding": null,
            "right": null,
            "top": null,
            "visibility": null,
            "width": null
          }
        },
        "3d764631f2e94c08bb8586e065b813a2": {
          "model_module": "@jupyter-widgets/base",
          "model_name": "LayoutModel",
          "model_module_version": "1.2.0",
          "state": {
            "_model_module": "@jupyter-widgets/base",
            "_model_module_version": "1.2.0",
            "_model_name": "LayoutModel",
            "_view_count": null,
            "_view_module": "@jupyter-widgets/base",
            "_view_module_version": "1.2.0",
            "_view_name": "LayoutView",
            "align_content": null,
            "align_items": null,
            "align_self": null,
            "border": null,
            "bottom": null,
            "display": null,
            "flex": null,
            "flex_flow": null,
            "grid_area": null,
            "grid_auto_columns": null,
            "grid_auto_flow": null,
            "grid_auto_rows": null,
            "grid_column": null,
            "grid_gap": null,
            "grid_row": null,
            "grid_template_areas": null,
            "grid_template_columns": null,
            "grid_template_rows": null,
            "height": null,
            "justify_content": null,
            "justify_items": null,
            "left": null,
            "margin": null,
            "max_height": null,
            "max_width": null,
            "min_height": null,
            "min_width": null,
            "object_fit": null,
            "object_position": null,
            "order": null,
            "overflow": null,
            "overflow_x": null,
            "overflow_y": null,
            "padding": null,
            "right": null,
            "top": null,
            "visibility": null,
            "width": null
          }
        },
        "3ecc4138e3e340b186a9f1ffe363e56c": {
          "model_module": "@jupyter-widgets/controls",
          "model_name": "DescriptionStyleModel",
          "model_module_version": "1.5.0",
          "state": {
            "_model_module": "@jupyter-widgets/controls",
            "_model_module_version": "1.5.0",
            "_model_name": "DescriptionStyleModel",
            "_view_count": null,
            "_view_module": "@jupyter-widgets/base",
            "_view_module_version": "1.2.0",
            "_view_name": "StyleView",
            "description_width": ""
          }
        },
        "3d269db4d5b94ea4af1079ce779747ac": {
          "model_module": "@jupyter-widgets/base",
          "model_name": "LayoutModel",
          "model_module_version": "1.2.0",
          "state": {
            "_model_module": "@jupyter-widgets/base",
            "_model_module_version": "1.2.0",
            "_model_name": "LayoutModel",
            "_view_count": null,
            "_view_module": "@jupyter-widgets/base",
            "_view_module_version": "1.2.0",
            "_view_name": "LayoutView",
            "align_content": null,
            "align_items": null,
            "align_self": null,
            "border": null,
            "bottom": null,
            "display": null,
            "flex": null,
            "flex_flow": null,
            "grid_area": null,
            "grid_auto_columns": null,
            "grid_auto_flow": null,
            "grid_auto_rows": null,
            "grid_column": null,
            "grid_gap": null,
            "grid_row": null,
            "grid_template_areas": null,
            "grid_template_columns": null,
            "grid_template_rows": null,
            "height": null,
            "justify_content": null,
            "justify_items": null,
            "left": null,
            "margin": null,
            "max_height": null,
            "max_width": null,
            "min_height": null,
            "min_width": null,
            "object_fit": null,
            "object_position": null,
            "order": null,
            "overflow": null,
            "overflow_x": null,
            "overflow_y": null,
            "padding": null,
            "right": null,
            "top": null,
            "visibility": null,
            "width": null
          }
        },
        "a50df7b70c0245a5bf4a03463e61e8c5": {
          "model_module": "@jupyter-widgets/controls",
          "model_name": "ProgressStyleModel",
          "model_module_version": "1.5.0",
          "state": {
            "_model_module": "@jupyter-widgets/controls",
            "_model_module_version": "1.5.0",
            "_model_name": "ProgressStyleModel",
            "_view_count": null,
            "_view_module": "@jupyter-widgets/base",
            "_view_module_version": "1.2.0",
            "_view_name": "StyleView",
            "bar_color": null,
            "description_width": ""
          }
        },
        "53a085b34743499caebc0af7e059398b": {
          "model_module": "@jupyter-widgets/base",
          "model_name": "LayoutModel",
          "model_module_version": "1.2.0",
          "state": {
            "_model_module": "@jupyter-widgets/base",
            "_model_module_version": "1.2.0",
            "_model_name": "LayoutModel",
            "_view_count": null,
            "_view_module": "@jupyter-widgets/base",
            "_view_module_version": "1.2.0",
            "_view_name": "LayoutView",
            "align_content": null,
            "align_items": null,
            "align_self": null,
            "border": null,
            "bottom": null,
            "display": null,
            "flex": null,
            "flex_flow": null,
            "grid_area": null,
            "grid_auto_columns": null,
            "grid_auto_flow": null,
            "grid_auto_rows": null,
            "grid_column": null,
            "grid_gap": null,
            "grid_row": null,
            "grid_template_areas": null,
            "grid_template_columns": null,
            "grid_template_rows": null,
            "height": null,
            "justify_content": null,
            "justify_items": null,
            "left": null,
            "margin": null,
            "max_height": null,
            "max_width": null,
            "min_height": null,
            "min_width": null,
            "object_fit": null,
            "object_position": null,
            "order": null,
            "overflow": null,
            "overflow_x": null,
            "overflow_y": null,
            "padding": null,
            "right": null,
            "top": null,
            "visibility": null,
            "width": null
          }
        },
        "7657d843e44b437db1aa4df60614a887": {
          "model_module": "@jupyter-widgets/controls",
          "model_name": "DescriptionStyleModel",
          "model_module_version": "1.5.0",
          "state": {
            "_model_module": "@jupyter-widgets/controls",
            "_model_module_version": "1.5.0",
            "_model_name": "DescriptionStyleModel",
            "_view_count": null,
            "_view_module": "@jupyter-widgets/base",
            "_view_module_version": "1.2.0",
            "_view_name": "StyleView",
            "description_width": ""
          }
        },
        "9faab3dac5b44014912cedce279c27f6": {
          "model_module": "@jupyter-widgets/controls",
          "model_name": "HBoxModel",
          "model_module_version": "1.5.0",
          "state": {
            "_dom_classes": [],
            "_model_module": "@jupyter-widgets/controls",
            "_model_module_version": "1.5.0",
            "_model_name": "HBoxModel",
            "_view_count": null,
            "_view_module": "@jupyter-widgets/controls",
            "_view_module_version": "1.5.0",
            "_view_name": "HBoxView",
            "box_style": "",
            "children": [
              "IPY_MODEL_b6e86eb21bfc414f9cbf3b7e2cd02afa",
              "IPY_MODEL_8ce29e0c85204108b9382e14940ec846",
              "IPY_MODEL_cba4296c634e45778bc488e1e6f00538"
            ],
            "layout": "IPY_MODEL_0d7f44013aa84ee4be7f89e0b1fc8639"
          }
        },
        "b6e86eb21bfc414f9cbf3b7e2cd02afa": {
          "model_module": "@jupyter-widgets/controls",
          "model_name": "HTMLModel",
          "model_module_version": "1.5.0",
          "state": {
            "_dom_classes": [],
            "_model_module": "@jupyter-widgets/controls",
            "_model_module_version": "1.5.0",
            "_model_name": "HTMLModel",
            "_view_count": null,
            "_view_module": "@jupyter-widgets/controls",
            "_view_module_version": "1.5.0",
            "_view_name": "HTMLView",
            "description": "",
            "description_tooltip": null,
            "layout": "IPY_MODEL_8cbeb6e6f5964f0c993ce2f473c6da88",
            "placeholder": "​",
            "style": "IPY_MODEL_22c62429afe44235a469be13db0432ef",
            "value": "100%"
          }
        },
        "8ce29e0c85204108b9382e14940ec846": {
          "model_module": "@jupyter-widgets/controls",
          "model_name": "FloatProgressModel",
          "model_module_version": "1.5.0",
          "state": {
            "_dom_classes": [],
            "_model_module": "@jupyter-widgets/controls",
            "_model_module_version": "1.5.0",
            "_model_name": "FloatProgressModel",
            "_view_count": null,
            "_view_module": "@jupyter-widgets/controls",
            "_view_module_version": "1.5.0",
            "_view_name": "ProgressView",
            "bar_style": "success",
            "description": "",
            "description_tooltip": null,
            "layout": "IPY_MODEL_c7da7af30ea94069bdb7f91cde25967b",
            "max": 1,
            "min": 0,
            "orientation": "horizontal",
            "style": "IPY_MODEL_ff5c93eecf8d4166ab3442fd65fa982d",
            "value": 1
          }
        },
        "cba4296c634e45778bc488e1e6f00538": {
          "model_module": "@jupyter-widgets/controls",
          "model_name": "HTMLModel",
          "model_module_version": "1.5.0",
          "state": {
            "_dom_classes": [],
            "_model_module": "@jupyter-widgets/controls",
            "_model_module_version": "1.5.0",
            "_model_name": "HTMLModel",
            "_view_count": null,
            "_view_module": "@jupyter-widgets/controls",
            "_view_module_version": "1.5.0",
            "_view_name": "HTMLView",
            "description": "",
            "description_tooltip": null,
            "layout": "IPY_MODEL_cac256b4030b4e5a8dace4825201f997",
            "placeholder": "​",
            "style": "IPY_MODEL_df013682d2c046c7bad3f37a05b7a739",
            "value": " 1/1 [00:11&lt;00:00, 11.50s/it]"
          }
        },
        "0d7f44013aa84ee4be7f89e0b1fc8639": {
          "model_module": "@jupyter-widgets/base",
          "model_name": "LayoutModel",
          "model_module_version": "1.2.0",
          "state": {
            "_model_module": "@jupyter-widgets/base",
            "_model_module_version": "1.2.0",
            "_model_name": "LayoutModel",
            "_view_count": null,
            "_view_module": "@jupyter-widgets/base",
            "_view_module_version": "1.2.0",
            "_view_name": "LayoutView",
            "align_content": null,
            "align_items": null,
            "align_self": null,
            "border": null,
            "bottom": null,
            "display": null,
            "flex": null,
            "flex_flow": null,
            "grid_area": null,
            "grid_auto_columns": null,
            "grid_auto_flow": null,
            "grid_auto_rows": null,
            "grid_column": null,
            "grid_gap": null,
            "grid_row": null,
            "grid_template_areas": null,
            "grid_template_columns": null,
            "grid_template_rows": null,
            "height": null,
            "justify_content": null,
            "justify_items": null,
            "left": null,
            "margin": null,
            "max_height": null,
            "max_width": null,
            "min_height": null,
            "min_width": null,
            "object_fit": null,
            "object_position": null,
            "order": null,
            "overflow": null,
            "overflow_x": null,
            "overflow_y": null,
            "padding": null,
            "right": null,
            "top": null,
            "visibility": null,
            "width": null
          }
        },
        "8cbeb6e6f5964f0c993ce2f473c6da88": {
          "model_module": "@jupyter-widgets/base",
          "model_name": "LayoutModel",
          "model_module_version": "1.2.0",
          "state": {
            "_model_module": "@jupyter-widgets/base",
            "_model_module_version": "1.2.0",
            "_model_name": "LayoutModel",
            "_view_count": null,
            "_view_module": "@jupyter-widgets/base",
            "_view_module_version": "1.2.0",
            "_view_name": "LayoutView",
            "align_content": null,
            "align_items": null,
            "align_self": null,
            "border": null,
            "bottom": null,
            "display": null,
            "flex": null,
            "flex_flow": null,
            "grid_area": null,
            "grid_auto_columns": null,
            "grid_auto_flow": null,
            "grid_auto_rows": null,
            "grid_column": null,
            "grid_gap": null,
            "grid_row": null,
            "grid_template_areas": null,
            "grid_template_columns": null,
            "grid_template_rows": null,
            "height": null,
            "justify_content": null,
            "justify_items": null,
            "left": null,
            "margin": null,
            "max_height": null,
            "max_width": null,
            "min_height": null,
            "min_width": null,
            "object_fit": null,
            "object_position": null,
            "order": null,
            "overflow": null,
            "overflow_x": null,
            "overflow_y": null,
            "padding": null,
            "right": null,
            "top": null,
            "visibility": null,
            "width": null
          }
        },
        "22c62429afe44235a469be13db0432ef": {
          "model_module": "@jupyter-widgets/controls",
          "model_name": "DescriptionStyleModel",
          "model_module_version": "1.5.0",
          "state": {
            "_model_module": "@jupyter-widgets/controls",
            "_model_module_version": "1.5.0",
            "_model_name": "DescriptionStyleModel",
            "_view_count": null,
            "_view_module": "@jupyter-widgets/base",
            "_view_module_version": "1.2.0",
            "_view_name": "StyleView",
            "description_width": ""
          }
        },
        "c7da7af30ea94069bdb7f91cde25967b": {
          "model_module": "@jupyter-widgets/base",
          "model_name": "LayoutModel",
          "model_module_version": "1.2.0",
          "state": {
            "_model_module": "@jupyter-widgets/base",
            "_model_module_version": "1.2.0",
            "_model_name": "LayoutModel",
            "_view_count": null,
            "_view_module": "@jupyter-widgets/base",
            "_view_module_version": "1.2.0",
            "_view_name": "LayoutView",
            "align_content": null,
            "align_items": null,
            "align_self": null,
            "border": null,
            "bottom": null,
            "display": null,
            "flex": null,
            "flex_flow": null,
            "grid_area": null,
            "grid_auto_columns": null,
            "grid_auto_flow": null,
            "grid_auto_rows": null,
            "grid_column": null,
            "grid_gap": null,
            "grid_row": null,
            "grid_template_areas": null,
            "grid_template_columns": null,
            "grid_template_rows": null,
            "height": null,
            "justify_content": null,
            "justify_items": null,
            "left": null,
            "margin": null,
            "max_height": null,
            "max_width": null,
            "min_height": null,
            "min_width": null,
            "object_fit": null,
            "object_position": null,
            "order": null,
            "overflow": null,
            "overflow_x": null,
            "overflow_y": null,
            "padding": null,
            "right": null,
            "top": null,
            "visibility": null,
            "width": null
          }
        },
        "ff5c93eecf8d4166ab3442fd65fa982d": {
          "model_module": "@jupyter-widgets/controls",
          "model_name": "ProgressStyleModel",
          "model_module_version": "1.5.0",
          "state": {
            "_model_module": "@jupyter-widgets/controls",
            "_model_module_version": "1.5.0",
            "_model_name": "ProgressStyleModel",
            "_view_count": null,
            "_view_module": "@jupyter-widgets/base",
            "_view_module_version": "1.2.0",
            "_view_name": "StyleView",
            "bar_color": null,
            "description_width": ""
          }
        },
        "cac256b4030b4e5a8dace4825201f997": {
          "model_module": "@jupyter-widgets/base",
          "model_name": "LayoutModel",
          "model_module_version": "1.2.0",
          "state": {
            "_model_module": "@jupyter-widgets/base",
            "_model_module_version": "1.2.0",
            "_model_name": "LayoutModel",
            "_view_count": null,
            "_view_module": "@jupyter-widgets/base",
            "_view_module_version": "1.2.0",
            "_view_name": "LayoutView",
            "align_content": null,
            "align_items": null,
            "align_self": null,
            "border": null,
            "bottom": null,
            "display": null,
            "flex": null,
            "flex_flow": null,
            "grid_area": null,
            "grid_auto_columns": null,
            "grid_auto_flow": null,
            "grid_auto_rows": null,
            "grid_column": null,
            "grid_gap": null,
            "grid_row": null,
            "grid_template_areas": null,
            "grid_template_columns": null,
            "grid_template_rows": null,
            "height": null,
            "justify_content": null,
            "justify_items": null,
            "left": null,
            "margin": null,
            "max_height": null,
            "max_width": null,
            "min_height": null,
            "min_width": null,
            "object_fit": null,
            "object_position": null,
            "order": null,
            "overflow": null,
            "overflow_x": null,
            "overflow_y": null,
            "padding": null,
            "right": null,
            "top": null,
            "visibility": null,
            "width": null
          }
        },
        "df013682d2c046c7bad3f37a05b7a739": {
          "model_module": "@jupyter-widgets/controls",
          "model_name": "DescriptionStyleModel",
          "model_module_version": "1.5.0",
          "state": {
            "_model_module": "@jupyter-widgets/controls",
            "_model_module_version": "1.5.0",
            "_model_name": "DescriptionStyleModel",
            "_view_count": null,
            "_view_module": "@jupyter-widgets/base",
            "_view_module_version": "1.2.0",
            "_view_name": "StyleView",
            "description_width": ""
          }
        },
        "aa37ca59929e49438ae572e25b6cd9d3": {
          "model_module": "@jupyter-widgets/controls",
          "model_name": "HBoxModel",
          "model_module_version": "1.5.0",
          "state": {
            "_dom_classes": [],
            "_model_module": "@jupyter-widgets/controls",
            "_model_module_version": "1.5.0",
            "_model_name": "HBoxModel",
            "_view_count": null,
            "_view_module": "@jupyter-widgets/controls",
            "_view_module_version": "1.5.0",
            "_view_name": "HBoxView",
            "box_style": "",
            "children": [
              "IPY_MODEL_05f1d23b56214cb2b4094d41fe13ab7a",
              "IPY_MODEL_0646ec6ba55e477c849b489b19738211",
              "IPY_MODEL_c297ac09f4cd4cb889300a74f5d8914b"
            ],
            "layout": "IPY_MODEL_1d3275b006574cf6be170832f59fdec9"
          }
        },
        "05f1d23b56214cb2b4094d41fe13ab7a": {
          "model_module": "@jupyter-widgets/controls",
          "model_name": "HTMLModel",
          "model_module_version": "1.5.0",
          "state": {
            "_dom_classes": [],
            "_model_module": "@jupyter-widgets/controls",
            "_model_module_version": "1.5.0",
            "_model_name": "HTMLModel",
            "_view_count": null,
            "_view_module": "@jupyter-widgets/controls",
            "_view_module_version": "1.5.0",
            "_view_name": "HTMLView",
            "description": "",
            "description_tooltip": null,
            "layout": "IPY_MODEL_f67664a11e7c44c48ae11d155f2002d8",
            "placeholder": "​",
            "style": "IPY_MODEL_c3659b60139148fcb57746b31d98780d",
            "value": "100%"
          }
        },
        "0646ec6ba55e477c849b489b19738211": {
          "model_module": "@jupyter-widgets/controls",
          "model_name": "FloatProgressModel",
          "model_module_version": "1.5.0",
          "state": {
            "_dom_classes": [],
            "_model_module": "@jupyter-widgets/controls",
            "_model_module_version": "1.5.0",
            "_model_name": "FloatProgressModel",
            "_view_count": null,
            "_view_module": "@jupyter-widgets/controls",
            "_view_module_version": "1.5.0",
            "_view_name": "ProgressView",
            "bar_style": "success",
            "description": "",
            "description_tooltip": null,
            "layout": "IPY_MODEL_8691ccc8b76e4f71a548b132b3dbe736",
            "max": 10,
            "min": 0,
            "orientation": "horizontal",
            "style": "IPY_MODEL_fd507ae204804d1698ae3e4fd2d9ff79",
            "value": 10
          }
        },
        "c297ac09f4cd4cb889300a74f5d8914b": {
          "model_module": "@jupyter-widgets/controls",
          "model_name": "HTMLModel",
          "model_module_version": "1.5.0",
          "state": {
            "_dom_classes": [],
            "_model_module": "@jupyter-widgets/controls",
            "_model_module_version": "1.5.0",
            "_model_name": "HTMLModel",
            "_view_count": null,
            "_view_module": "@jupyter-widgets/controls",
            "_view_module_version": "1.5.0",
            "_view_name": "HTMLView",
            "description": "",
            "description_tooltip": null,
            "layout": "IPY_MODEL_a45fb876e598459891d0874fe5fbc345",
            "placeholder": "​",
            "style": "IPY_MODEL_f22ff38f63df4171a063a42bcb444fd8",
            "value": " 10/10 [00:00&lt;00:00, 37.14it/s]"
          }
        },
        "1d3275b006574cf6be170832f59fdec9": {
          "model_module": "@jupyter-widgets/base",
          "model_name": "LayoutModel",
          "model_module_version": "1.2.0",
          "state": {
            "_model_module": "@jupyter-widgets/base",
            "_model_module_version": "1.2.0",
            "_model_name": "LayoutModel",
            "_view_count": null,
            "_view_module": "@jupyter-widgets/base",
            "_view_module_version": "1.2.0",
            "_view_name": "LayoutView",
            "align_content": null,
            "align_items": null,
            "align_self": null,
            "border": null,
            "bottom": null,
            "display": null,
            "flex": null,
            "flex_flow": null,
            "grid_area": null,
            "grid_auto_columns": null,
            "grid_auto_flow": null,
            "grid_auto_rows": null,
            "grid_column": null,
            "grid_gap": null,
            "grid_row": null,
            "grid_template_areas": null,
            "grid_template_columns": null,
            "grid_template_rows": null,
            "height": null,
            "justify_content": null,
            "justify_items": null,
            "left": null,
            "margin": null,
            "max_height": null,
            "max_width": null,
            "min_height": null,
            "min_width": null,
            "object_fit": null,
            "object_position": null,
            "order": null,
            "overflow": null,
            "overflow_x": null,
            "overflow_y": null,
            "padding": null,
            "right": null,
            "top": null,
            "visibility": null,
            "width": null
          }
        },
        "f67664a11e7c44c48ae11d155f2002d8": {
          "model_module": "@jupyter-widgets/base",
          "model_name": "LayoutModel",
          "model_module_version": "1.2.0",
          "state": {
            "_model_module": "@jupyter-widgets/base",
            "_model_module_version": "1.2.0",
            "_model_name": "LayoutModel",
            "_view_count": null,
            "_view_module": "@jupyter-widgets/base",
            "_view_module_version": "1.2.0",
            "_view_name": "LayoutView",
            "align_content": null,
            "align_items": null,
            "align_self": null,
            "border": null,
            "bottom": null,
            "display": null,
            "flex": null,
            "flex_flow": null,
            "grid_area": null,
            "grid_auto_columns": null,
            "grid_auto_flow": null,
            "grid_auto_rows": null,
            "grid_column": null,
            "grid_gap": null,
            "grid_row": null,
            "grid_template_areas": null,
            "grid_template_columns": null,
            "grid_template_rows": null,
            "height": null,
            "justify_content": null,
            "justify_items": null,
            "left": null,
            "margin": null,
            "max_height": null,
            "max_width": null,
            "min_height": null,
            "min_width": null,
            "object_fit": null,
            "object_position": null,
            "order": null,
            "overflow": null,
            "overflow_x": null,
            "overflow_y": null,
            "padding": null,
            "right": null,
            "top": null,
            "visibility": null,
            "width": null
          }
        },
        "c3659b60139148fcb57746b31d98780d": {
          "model_module": "@jupyter-widgets/controls",
          "model_name": "DescriptionStyleModel",
          "model_module_version": "1.5.0",
          "state": {
            "_model_module": "@jupyter-widgets/controls",
            "_model_module_version": "1.5.0",
            "_model_name": "DescriptionStyleModel",
            "_view_count": null,
            "_view_module": "@jupyter-widgets/base",
            "_view_module_version": "1.2.0",
            "_view_name": "StyleView",
            "description_width": ""
          }
        },
        "8691ccc8b76e4f71a548b132b3dbe736": {
          "model_module": "@jupyter-widgets/base",
          "model_name": "LayoutModel",
          "model_module_version": "1.2.0",
          "state": {
            "_model_module": "@jupyter-widgets/base",
            "_model_module_version": "1.2.0",
            "_model_name": "LayoutModel",
            "_view_count": null,
            "_view_module": "@jupyter-widgets/base",
            "_view_module_version": "1.2.0",
            "_view_name": "LayoutView",
            "align_content": null,
            "align_items": null,
            "align_self": null,
            "border": null,
            "bottom": null,
            "display": null,
            "flex": null,
            "flex_flow": null,
            "grid_area": null,
            "grid_auto_columns": null,
            "grid_auto_flow": null,
            "grid_auto_rows": null,
            "grid_column": null,
            "grid_gap": null,
            "grid_row": null,
            "grid_template_areas": null,
            "grid_template_columns": null,
            "grid_template_rows": null,
            "height": null,
            "justify_content": null,
            "justify_items": null,
            "left": null,
            "margin": null,
            "max_height": null,
            "max_width": null,
            "min_height": null,
            "min_width": null,
            "object_fit": null,
            "object_position": null,
            "order": null,
            "overflow": null,
            "overflow_x": null,
            "overflow_y": null,
            "padding": null,
            "right": null,
            "top": null,
            "visibility": null,
            "width": null
          }
        },
        "fd507ae204804d1698ae3e4fd2d9ff79": {
          "model_module": "@jupyter-widgets/controls",
          "model_name": "ProgressStyleModel",
          "model_module_version": "1.5.0",
          "state": {
            "_model_module": "@jupyter-widgets/controls",
            "_model_module_version": "1.5.0",
            "_model_name": "ProgressStyleModel",
            "_view_count": null,
            "_view_module": "@jupyter-widgets/base",
            "_view_module_version": "1.2.0",
            "_view_name": "StyleView",
            "bar_color": null,
            "description_width": ""
          }
        },
        "a45fb876e598459891d0874fe5fbc345": {
          "model_module": "@jupyter-widgets/base",
          "model_name": "LayoutModel",
          "model_module_version": "1.2.0",
          "state": {
            "_model_module": "@jupyter-widgets/base",
            "_model_module_version": "1.2.0",
            "_model_name": "LayoutModel",
            "_view_count": null,
            "_view_module": "@jupyter-widgets/base",
            "_view_module_version": "1.2.0",
            "_view_name": "LayoutView",
            "align_content": null,
            "align_items": null,
            "align_self": null,
            "border": null,
            "bottom": null,
            "display": null,
            "flex": null,
            "flex_flow": null,
            "grid_area": null,
            "grid_auto_columns": null,
            "grid_auto_flow": null,
            "grid_auto_rows": null,
            "grid_column": null,
            "grid_gap": null,
            "grid_row": null,
            "grid_template_areas": null,
            "grid_template_columns": null,
            "grid_template_rows": null,
            "height": null,
            "justify_content": null,
            "justify_items": null,
            "left": null,
            "margin": null,
            "max_height": null,
            "max_width": null,
            "min_height": null,
            "min_width": null,
            "object_fit": null,
            "object_position": null,
            "order": null,
            "overflow": null,
            "overflow_x": null,
            "overflow_y": null,
            "padding": null,
            "right": null,
            "top": null,
            "visibility": null,
            "width": null
          }
        },
        "f22ff38f63df4171a063a42bcb444fd8": {
          "model_module": "@jupyter-widgets/controls",
          "model_name": "DescriptionStyleModel",
          "model_module_version": "1.5.0",
          "state": {
            "_model_module": "@jupyter-widgets/controls",
            "_model_module_version": "1.5.0",
            "_model_name": "DescriptionStyleModel",
            "_view_count": null,
            "_view_module": "@jupyter-widgets/base",
            "_view_module_version": "1.2.0",
            "_view_name": "StyleView",
            "description_width": ""
          }
        },
        "11041c03f1824ecea0e72ce0a9fd353b": {
          "model_module": "@jupyter-widgets/controls",
          "model_name": "HBoxModel",
          "model_module_version": "1.5.0",
          "state": {
            "_dom_classes": [],
            "_model_module": "@jupyter-widgets/controls",
            "_model_module_version": "1.5.0",
            "_model_name": "HBoxModel",
            "_view_count": null,
            "_view_module": "@jupyter-widgets/controls",
            "_view_module_version": "1.5.0",
            "_view_name": "HBoxView",
            "box_style": "",
            "children": [
              "IPY_MODEL_1d53c8b760a942409ea2ad8e040ddc74",
              "IPY_MODEL_b8271e4063bd4f7282584762f03bb75d",
              "IPY_MODEL_20c3d6738d9340b28fa2c7ff7bb76605"
            ],
            "layout": "IPY_MODEL_86df3cb2faa14b88b5754c02891e244c"
          }
        },
        "1d53c8b760a942409ea2ad8e040ddc74": {
          "model_module": "@jupyter-widgets/controls",
          "model_name": "HTMLModel",
          "model_module_version": "1.5.0",
          "state": {
            "_dom_classes": [],
            "_model_module": "@jupyter-widgets/controls",
            "_model_module_version": "1.5.0",
            "_model_name": "HTMLModel",
            "_view_count": null,
            "_view_module": "@jupyter-widgets/controls",
            "_view_module_version": "1.5.0",
            "_view_name": "HTMLView",
            "description": "",
            "description_tooltip": null,
            "layout": "IPY_MODEL_51ddb221a7254dc78c4f1ec76d3667ac",
            "placeholder": "​",
            "style": "IPY_MODEL_93af1b74cae848c69b69cc475b689fee",
            "value": "100%"
          }
        },
        "b8271e4063bd4f7282584762f03bb75d": {
          "model_module": "@jupyter-widgets/controls",
          "model_name": "FloatProgressModel",
          "model_module_version": "1.5.0",
          "state": {
            "_dom_classes": [],
            "_model_module": "@jupyter-widgets/controls",
            "_model_module_version": "1.5.0",
            "_model_name": "FloatProgressModel",
            "_view_count": null,
            "_view_module": "@jupyter-widgets/controls",
            "_view_module_version": "1.5.0",
            "_view_name": "ProgressView",
            "bar_style": "success",
            "description": "",
            "description_tooltip": null,
            "layout": "IPY_MODEL_1e490c3890b943a4b0f87a2d0c42d104",
            "max": 10,
            "min": 0,
            "orientation": "horizontal",
            "style": "IPY_MODEL_accc428cfc244e109ae99f026d52ef35",
            "value": 10
          }
        },
        "20c3d6738d9340b28fa2c7ff7bb76605": {
          "model_module": "@jupyter-widgets/controls",
          "model_name": "HTMLModel",
          "model_module_version": "1.5.0",
          "state": {
            "_dom_classes": [],
            "_model_module": "@jupyter-widgets/controls",
            "_model_module_version": "1.5.0",
            "_model_name": "HTMLModel",
            "_view_count": null,
            "_view_module": "@jupyter-widgets/controls",
            "_view_module_version": "1.5.0",
            "_view_name": "HTMLView",
            "description": "",
            "description_tooltip": null,
            "layout": "IPY_MODEL_dcff0383ebf34f2087ff7207ab3e7596",
            "placeholder": "​",
            "style": "IPY_MODEL_fb45bec1ece94653924f3e3f6fc28823",
            "value": " 10/10 [00:10&lt;00:00,  1.18s/it]"
          }
        },
        "86df3cb2faa14b88b5754c02891e244c": {
          "model_module": "@jupyter-widgets/base",
          "model_name": "LayoutModel",
          "model_module_version": "1.2.0",
          "state": {
            "_model_module": "@jupyter-widgets/base",
            "_model_module_version": "1.2.0",
            "_model_name": "LayoutModel",
            "_view_count": null,
            "_view_module": "@jupyter-widgets/base",
            "_view_module_version": "1.2.0",
            "_view_name": "LayoutView",
            "align_content": null,
            "align_items": null,
            "align_self": null,
            "border": null,
            "bottom": null,
            "display": null,
            "flex": null,
            "flex_flow": null,
            "grid_area": null,
            "grid_auto_columns": null,
            "grid_auto_flow": null,
            "grid_auto_rows": null,
            "grid_column": null,
            "grid_gap": null,
            "grid_row": null,
            "grid_template_areas": null,
            "grid_template_columns": null,
            "grid_template_rows": null,
            "height": null,
            "justify_content": null,
            "justify_items": null,
            "left": null,
            "margin": null,
            "max_height": null,
            "max_width": null,
            "min_height": null,
            "min_width": null,
            "object_fit": null,
            "object_position": null,
            "order": null,
            "overflow": null,
            "overflow_x": null,
            "overflow_y": null,
            "padding": null,
            "right": null,
            "top": null,
            "visibility": null,
            "width": null
          }
        },
        "51ddb221a7254dc78c4f1ec76d3667ac": {
          "model_module": "@jupyter-widgets/base",
          "model_name": "LayoutModel",
          "model_module_version": "1.2.0",
          "state": {
            "_model_module": "@jupyter-widgets/base",
            "_model_module_version": "1.2.0",
            "_model_name": "LayoutModel",
            "_view_count": null,
            "_view_module": "@jupyter-widgets/base",
            "_view_module_version": "1.2.0",
            "_view_name": "LayoutView",
            "align_content": null,
            "align_items": null,
            "align_self": null,
            "border": null,
            "bottom": null,
            "display": null,
            "flex": null,
            "flex_flow": null,
            "grid_area": null,
            "grid_auto_columns": null,
            "grid_auto_flow": null,
            "grid_auto_rows": null,
            "grid_column": null,
            "grid_gap": null,
            "grid_row": null,
            "grid_template_areas": null,
            "grid_template_columns": null,
            "grid_template_rows": null,
            "height": null,
            "justify_content": null,
            "justify_items": null,
            "left": null,
            "margin": null,
            "max_height": null,
            "max_width": null,
            "min_height": null,
            "min_width": null,
            "object_fit": null,
            "object_position": null,
            "order": null,
            "overflow": null,
            "overflow_x": null,
            "overflow_y": null,
            "padding": null,
            "right": null,
            "top": null,
            "visibility": null,
            "width": null
          }
        },
        "93af1b74cae848c69b69cc475b689fee": {
          "model_module": "@jupyter-widgets/controls",
          "model_name": "DescriptionStyleModel",
          "model_module_version": "1.5.0",
          "state": {
            "_model_module": "@jupyter-widgets/controls",
            "_model_module_version": "1.5.0",
            "_model_name": "DescriptionStyleModel",
            "_view_count": null,
            "_view_module": "@jupyter-widgets/base",
            "_view_module_version": "1.2.0",
            "_view_name": "StyleView",
            "description_width": ""
          }
        },
        "1e490c3890b943a4b0f87a2d0c42d104": {
          "model_module": "@jupyter-widgets/base",
          "model_name": "LayoutModel",
          "model_module_version": "1.2.0",
          "state": {
            "_model_module": "@jupyter-widgets/base",
            "_model_module_version": "1.2.0",
            "_model_name": "LayoutModel",
            "_view_count": null,
            "_view_module": "@jupyter-widgets/base",
            "_view_module_version": "1.2.0",
            "_view_name": "LayoutView",
            "align_content": null,
            "align_items": null,
            "align_self": null,
            "border": null,
            "bottom": null,
            "display": null,
            "flex": null,
            "flex_flow": null,
            "grid_area": null,
            "grid_auto_columns": null,
            "grid_auto_flow": null,
            "grid_auto_rows": null,
            "grid_column": null,
            "grid_gap": null,
            "grid_row": null,
            "grid_template_areas": null,
            "grid_template_columns": null,
            "grid_template_rows": null,
            "height": null,
            "justify_content": null,
            "justify_items": null,
            "left": null,
            "margin": null,
            "max_height": null,
            "max_width": null,
            "min_height": null,
            "min_width": null,
            "object_fit": null,
            "object_position": null,
            "order": null,
            "overflow": null,
            "overflow_x": null,
            "overflow_y": null,
            "padding": null,
            "right": null,
            "top": null,
            "visibility": null,
            "width": null
          }
        },
        "accc428cfc244e109ae99f026d52ef35": {
          "model_module": "@jupyter-widgets/controls",
          "model_name": "ProgressStyleModel",
          "model_module_version": "1.5.0",
          "state": {
            "_model_module": "@jupyter-widgets/controls",
            "_model_module_version": "1.5.0",
            "_model_name": "ProgressStyleModel",
            "_view_count": null,
            "_view_module": "@jupyter-widgets/base",
            "_view_module_version": "1.2.0",
            "_view_name": "StyleView",
            "bar_color": null,
            "description_width": ""
          }
        },
        "dcff0383ebf34f2087ff7207ab3e7596": {
          "model_module": "@jupyter-widgets/base",
          "model_name": "LayoutModel",
          "model_module_version": "1.2.0",
          "state": {
            "_model_module": "@jupyter-widgets/base",
            "_model_module_version": "1.2.0",
            "_model_name": "LayoutModel",
            "_view_count": null,
            "_view_module": "@jupyter-widgets/base",
            "_view_module_version": "1.2.0",
            "_view_name": "LayoutView",
            "align_content": null,
            "align_items": null,
            "align_self": null,
            "border": null,
            "bottom": null,
            "display": null,
            "flex": null,
            "flex_flow": null,
            "grid_area": null,
            "grid_auto_columns": null,
            "grid_auto_flow": null,
            "grid_auto_rows": null,
            "grid_column": null,
            "grid_gap": null,
            "grid_row": null,
            "grid_template_areas": null,
            "grid_template_columns": null,
            "grid_template_rows": null,
            "height": null,
            "justify_content": null,
            "justify_items": null,
            "left": null,
            "margin": null,
            "max_height": null,
            "max_width": null,
            "min_height": null,
            "min_width": null,
            "object_fit": null,
            "object_position": null,
            "order": null,
            "overflow": null,
            "overflow_x": null,
            "overflow_y": null,
            "padding": null,
            "right": null,
            "top": null,
            "visibility": null,
            "width": null
          }
        },
        "fb45bec1ece94653924f3e3f6fc28823": {
          "model_module": "@jupyter-widgets/controls",
          "model_name": "DescriptionStyleModel",
          "model_module_version": "1.5.0",
          "state": {
            "_model_module": "@jupyter-widgets/controls",
            "_model_module_version": "1.5.0",
            "_model_name": "DescriptionStyleModel",
            "_view_count": null,
            "_view_module": "@jupyter-widgets/base",
            "_view_module_version": "1.2.0",
            "_view_name": "StyleView",
            "description_width": ""
          }
        }
      }
    }
  },
  "nbformat": 4,
  "nbformat_minor": 0
}