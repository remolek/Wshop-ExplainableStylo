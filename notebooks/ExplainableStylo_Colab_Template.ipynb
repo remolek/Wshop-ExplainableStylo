{
  "cells": [
    {
      "cell_type": "markdown",
      "metadata": {
        "id": "tt-GoYWDtkn4"
      },
      "source": [
        "# 📘 Explainable Stylo Workshop Notebook\n",
        "\n",
        "Welcome to the Colab notebook for the **Explainable Stylo Workshop**.\n",
        "\n",
        "This notebook helps you:\n",
        "- Load the [`cl_explainable_stylo`](https://github.com/remolek/Wshop-ExplainableStylo) package from GitHub\n",
        "- Prepare to work with textual data stored in folders like `example1/`, `example2/`\n",
        "- Understand how to explore and use the package interactively\n"
      ]
    },
    {
      "cell_type": "code",
      "execution_count": 1,
      "metadata": {
        "colab": {
          "base_uri": "https://localhost:8080/"
        },
        "id": "dv2Y-eswtkn7",
        "outputId": "295896e7-5bf1-454a-d32e-f51dd1597642"
      },
      "outputs": [
        {
          "output_type": "stream",
          "name": "stdout",
          "text": [
            "Cloning into 'Wshop-ExplainableStylo'...\n",
            "remote: Enumerating objects: 72, done.\u001b[K\n",
            "remote: Counting objects: 100% (72/72), done.\u001b[K\n",
            "remote: Compressing objects: 100% (61/61), done.\u001b[K\n",
            "remote: Total 72 (delta 22), reused 38 (delta 5), pack-reused 0 (from 0)\u001b[K\n",
            "Receiving objects: 100% (72/72), 751.30 KiB | 4.88 MiB/s, done.\n",
            "Resolving deltas: 100% (22/22), done.\n",
            "/content/Wshop-ExplainableStylo\n"
          ]
        }
      ],
      "source": [
        "# 🔧 Setup: Clone the repository and install the package\n",
        "import os\n",
        "\n",
        "# Clone the repo only if it's not already cloned\n",
        "if not os.path.exists(\"Wshop-ExplainableStylo\"):\n",
        "    !git clone https://github.com/remolek/Wshop-ExplainableStylo.git\n",
        "%cd Wshop-ExplainableStylo"
      ]
    },
    {
      "cell_type": "markdown",
      "metadata": {
        "id": "TwZh5jlLtkn-"
      },
      "source": [
        "## 📦 Import the Package\n",
        "\n",
        "Now that the package is downloaded, you can import its modules and use them in the notebook.\n",
        "The `base` module below contains the main class which is a wrapper for most of the other functions.\n"
      ]
    },
    {
      "cell_type": "code",
      "execution_count": 2,
      "metadata": {
        "id": "kP2KdpGbtkoA"
      },
      "outputs": [],
      "source": [
        "# Import a module from cl_explainable_stylo\n",
        "from cl_explainable_stylo import base\n",
        "\n",
        "# Help or test it\n",
        "# help(example_loader)"
      ]
    },
    {
      "cell_type": "code",
      "source": [
        "help(base)"
      ],
      "metadata": {
        "collapsed": true,
        "colab": {
          "base_uri": "https://localhost:8080/"
        },
        "id": "wvO1u7tTx9kU",
        "outputId": "a8e1ca98-67e3-4dd3-f585-995e50f01afd"
      },
      "execution_count": 3,
      "outputs": [
        {
          "output_type": "stream",
          "name": "stdout",
          "text": [
            "Help on module cl_explainable_stylo.base in cl_explainable_stylo:\n",
            "\n",
            "NAME\n",
            "    cl_explainable_stylo.base - This module defines a base class 'explain_style' providing a pipeline for preprocessing texts (currently by Spacy), extracting their features, classifying them with LGBM, explaining the classifiers with SHAP and visualising the results.\n",
            "\n",
            "DESCRIPTION\n",
            "    To initialize the class you need a .json file with metadata of the form, minimally:\n",
            "    {\"experiment_name\":\"...\",\n",
            "    \"labels\": [\"filename\", \"class\"],\n",
            "    \"files\":\n",
            "            {\"filename\": [\"path_to_file1.txt\",\"path_to_file2.txt\"],\n",
            "            \"class\": [\"file1_class\", \"file2_class\"]}\n",
            "     }\n",
            "    \n",
            "    Author: Jeremi K. Ochab\n",
            "    Date: August 14, 2023\n",
            "\n",
            "CLASSES\n",
            "    builtins.object\n",
            "        explain_style\n",
            "    \n",
            "    class explain_style(builtins.object)\n",
            "     |  explain_style(metadata_json, manual=True)\n",
            "     |  \n",
            "     |  Methods defined here:\n",
            "     |  \n",
            "     |  __init__(self, metadata_json, manual=True)\n",
            "     |      Initialize self.  See help(type(self)) for accurate signature.\n",
            "     |  \n",
            "     |  classifiers_load(self, filename=None, postfix=None)\n",
            "     |  \n",
            "     |  classifiers_save(self, filename=None, postfix=None, overwrite=False)\n",
            "     |  \n",
            "     |  classify(self, class_category='class', class_regrouping=[], group_category=None, save_to_file=False)\n",
            "     |  \n",
            "     |  docs_load(self, filename=None)\n",
            "     |      #----- Saving&loading important class instance attributes \n",
            "     |      # TO DO: niejednoznaczne ładowanie dokumentów po subsamplingu. Jeśli się załaduje, to do .docs, czy .docs_subsampled? Wtedy czy .subsample_scheme powinno być zmienione? Potem jeśli docs_subsampled istnieją, to one są klasyfikowane.\n",
            "     |  \n",
            "     |  docs_save(self, docs=None, filename=None, precheck=False, overwrite=False)\n",
            "     |  \n",
            "     |  explain(self, models=None, minimize_data_use=True, save_to_file=False)\n",
            "     |  \n",
            "     |  explanations_load(self, filename=None, postfix=None)\n",
            "     |  \n",
            "     |  explanations_save(self, filename=None, postfix=None, overwrite=False)\n",
            "     |  \n",
            "     |  extract_features(self, feature_scheme=None, feature_list=None, save_to_file=False)\n",
            "     |  \n",
            "     |  features_load(self, filename=None)\n",
            "     |  \n",
            "     |  features_save(self, filename=None, overwrite=False)\n",
            "     |  \n",
            "     |  load_init(self, filename)\n",
            "     |      # TO DO: szczegółowy config ładowany/zapisywany do jednego jsona, czy do kilku osobnych?\n",
            "     |      # Lepiej do jednego, żeby zapisać np. metadane typu data, nazwa eksperymentu, jakaś notatka? itp.\n",
            "     |  \n",
            "     |  load_params_classifier(self, filename=None)\n",
            "     |  \n",
            "     |  load_params_cv(self, filename=None)\n",
            "     |  \n",
            "     |  load_params_feature(self, filename=None)\n",
            "     |  \n",
            "     |  load_params_preproc(self, filename=None)\n",
            "     |  \n",
            "     |  load_params_subsample(self, filename=None)\n",
            "     |  \n",
            "     |  plot_group_summary(self, group_by, max_display=20, show=True, color_legend=True, filename='SHAP_group_all', title='', file_ext='.png')\n",
            "     |  \n",
            "     |  plot_group_texts(self, group_by, group=None, show=True, max_display=20, filename='SHAP_group_', title='', file_ext='.png')\n",
            "     |      group = None - plot all groups (e.g., authors)\n",
            "     |      group = 'GroupName', group = 0 - plot a selected group\n",
            "     |  \n",
            "     |  plot_summary(self, group_by=None, show=True, max_display=20, filename='SHAP_wszystkie', title='', file_ext='.png')\n",
            "     |  \n",
            "     |  plot_text(self, index, show=True, max_display=20, filename=None, title=None, file_ext='.png')\n",
            "     |      # TO DO: czy 'author' ma się pojawić\n",
            "     |      # TO DO: tytuł ma podawać też numer próbki\n",
            "     |  \n",
            "     |  save_config(self, filename=None)\n",
            "     |  \n",
            "     |  save_params_classifier(self, filename=None)\n",
            "     |  \n",
            "     |  save_params_cv(self, filename=None)\n",
            "     |      # TO DO: zapisyanie scoring (funkcje pythona) jest niemożliwe do jsona\n",
            "     |  \n",
            "     |  save_params_feature(self, filename=None)\n",
            "     |  \n",
            "     |  save_params_preproc(self, filename=None)\n",
            "     |  \n",
            "     |  save_params_subsample(self, filename=None)\n",
            "     |  \n",
            "     |  scores_load(self, filename=None, postfix=None)\n",
            "     |  \n",
            "     |  scores_save(self, filename=None, postfix=None, overwrite=False)\n",
            "     |  \n",
            "     |  texts_load(self, from_variable=None, metadata=None)\n",
            "     |      #----- Workhorse methods\n",
            "     |  \n",
            "     |  texts_preprocess(self, texts=None, model=None, filename=None, labels=None, save_to_file=True)\n",
            "     |  \n",
            "     |  texts_subsample(self, subsample_scheme=None, save_to_file=False)\n",
            "     |  \n",
            "     |  ----------------------------------------------------------------------\n",
            "     |  Data descriptors defined here:\n",
            "     |  \n",
            "     |  __dict__\n",
            "     |      dictionary for instance variables\n",
            "     |  \n",
            "     |  __weakref__\n",
            "     |      list of weak references to the object\n",
            "     |  \n",
            "     |  ----------------------------------------------------------------------\n",
            "     |  Data and other attributes defined here:\n",
            "     |  \n",
            "     |  default_classifier_scheme = {'bagging_fraction': 0.8, 'bagging_freq': ...\n",
            "     |  \n",
            "     |  default_cv_scheme = {'cv_method': 'StratifiedKFold', 'n_groups': 2, 'n...\n",
            "     |  \n",
            "     |  default_feature_scheme = {'features': [13, 23, 32, 52, 61], 'max_cull_...\n",
            "     |  \n",
            "     |  default_preproc_scheme = {'model': 'pl_core_news_lg'}\n",
            "     |  \n",
            "     |  default_subsample_scheme = {'sample_length': 800, 'sample_type': 'none...\n",
            "\n",
            "FILE\n",
            "    /content/Wshop-ExplainableStylo/cl_explainable_stylo/base.py\n",
            "\n",
            "\n"
          ]
        }
      ]
    },
    {
      "cell_type": "markdown",
      "metadata": {
        "id": "IGQ59GhXtkoC"
      },
      "source": [
        "## 📁 Example1: two translations\n",
        "\n",
        "Let's start with a simple example of comparing two translations of Joseph Conrad's *Heart of Darkness* into Polish, by Aniela Zagórska (1930) and Jacek Dukaj (2017)."
      ]
    },
    {
      "cell_type": "code",
      "execution_count": 4,
      "metadata": {
        "colab": {
          "base_uri": "https://localhost:8080/"
        },
        "id": "yDw2Vwk1tkoE",
        "outputId": "a70c04eb-d3f3-4093-8080-61e37968d8d9"
      },
      "outputs": [
        {
          "output_type": "stream",
          "name": "stdout",
          "text": [
            "\n",
            "📁 example1 contains 2 .txt files:\n",
            "  📄 Dukaj.txt\n",
            "    Preview:\n",
            "    SERCE CIEMNOŚCI Jacek Dukaj ISBN 978-83-08-06606-5   Wszelka sztuka przemawia przede wszystkim do zmysłów. I także artysta słowa pisanego musi przemaw...\n",
            "  📄 Zagórska.txt\n",
            "    Preview:\n",
            "    Tytuł oryginału: Heart of Darkness Przełożyła: Aniela Zagórska ISBN: 978-83-7779-308-4   I  Jacht krążowniczy „Nellie” obrócił się na kotwicy bez najl...\n"
          ]
        }
      ],
      "source": [
        "import os\n",
        "from glob import glob\n",
        "\n",
        "# 🔍 Find all folders starting with \"example\"\n",
        "# example_dirs = sorted([d for d in os.listdir() if d.startswith(\"example\") and os.path.isdir(d)])\n",
        "# print(f\"Detected folders: {example_dirs}\")\n",
        "\n",
        "# Find and preview all .txt files inside each folder\n",
        "folder = 'example1'\n",
        "txt_files = sorted(glob(os.path.join(folder, \"*/*.txt\")))\n",
        "print(f\"\\n📁 {folder} contains {len(txt_files)} .txt files:\")\n",
        "for path in txt_files:\n",
        "    print(f\"  📄 {os.path.basename(path)}\")\n",
        "    with open(path, \"r\", encoding=\"utf-8\") as f:\n",
        "        preview = f.read(200).strip().replace(\"\\n\", \" \")\n",
        "    print(f\"    Preview:\\n    {preview[:150]}{'...' if len(preview) > 150 else ''}\")"
      ]
    },
    {
      "cell_type": "markdown",
      "source": [
        "### 📄 Text loading and processing"
      ],
      "metadata": {
        "id": "pbt86KGInF-Z"
      }
    },
    {
      "cell_type": "markdown",
      "source": [
        "Before we have prepared a small `.json` file, containing the basic metadata for our first experiment (at this point it might seem a bit redundant)."
      ],
      "metadata": {
        "id": "FSZswEwR1IL1"
      }
    },
    {
      "cell_type": "code",
      "source": [
        "import json\n",
        "from IPython.display import JSON, display\n",
        "\n",
        "# Load the JSON\n",
        "with open('example1/init_metadata.json', 'r', encoding='utf-8') as f:\n",
        "    data = json.load(f)\n",
        "\n",
        "# Display an interactive JSON tree (in Jupyter lab only)\n",
        "display(JSON(data))\n"
      ],
      "metadata": {
        "colab": {
          "base_uri": "https://localhost:8080/",
          "height": 486
        },
        "id": "liyDJB-p1734",
        "outputId": "d60536ca-30c7-4778-e565-5fab54f6ea7a"
      },
      "execution_count": 5,
      "outputs": [
        {
          "output_type": "display_data",
          "data": {
            "text/plain": [
              "<IPython.core.display.JSON object>"
            ],
            "application/json": {
              "experiment_name": "example1",
              "labels": [
                "filename",
                "class",
                "author"
              ],
              "files": {
                "filename": [
                  "example1/dukaj/Dukaj.txt",
                  "example1/zagórska/Zagórska.txt"
                ],
                "class": [
                  "dukaj",
                  "zagórska"
                ],
                "author": [
                  "Dukaj",
                  "Zagórska"
                ]
              },
              "preproc_scheme": null,
              "feature_scheme": null,
              "subsample_scheme": null,
              "classifier_params": null,
              "cv_scheme": null
            }
          },
          "metadata": {
            "application/json": {
              "expanded": false,
              "root": "root"
            }
          }
        }
      ]
    },
    {
      "cell_type": "markdown",
      "source": [
        "With these metadata we will initialize the experiment. All the text, results, etc. will be stored in one variable `exp`."
      ],
      "metadata": {
        "id": "I9897X_y4QcS"
      }
    },
    {
      "cell_type": "code",
      "source": [
        "exp = base.explain_style('example1/init_metadata.json',manual = True)"
      ],
      "metadata": {
        "colab": {
          "base_uri": "https://localhost:8080/"
        },
        "id": "yHw5I7ZLv-KL",
        "outputId": "97aeb9a4-8808-4fc1-b12a-947ebcd9dea9"
      },
      "execution_count": 6,
      "outputs": [
        {
          "output_type": "stream",
          "name": "stdout",
          "text": [
            "Initialisation metadata loaded from example1/init_metadata.json.\n",
            "Available text labels ['filename', 'class', 'author'].\n",
            "Predefined text classes ['dukaj', 'zagórska'].\n",
            "You are in manual mode. The next steps would be to run in sequence '.texts_load()', '.texts_preprocess()', '.texts_subsample()', '.extract_features()', '.classify()', '.explain()', and then any of the '.plot_...()' methods. If you would like to change the parameters provided in metadata or set by default  ('preproc_scheme', 'subsample_scheme', 'feature_scheme', 'cv_scheme', 'classifier_scheme'), please, load them via '.load_parameter_name()' to avoid incosistent file naming and config saving.\n"
          ]
        }
      ]
    },
    {
      "cell_type": "markdown",
      "source": [
        "Let's follow the instructions and load the text files by calling the method `.texts_load()` on our all-embracing `exp`. After that they will be stored in `exp.texts` (to be exact, these are going to be tuples of text and its metadata)."
      ],
      "metadata": {
        "id": "hvmWI6GX5sjC"
      }
    },
    {
      "cell_type": "code",
      "source": [
        "exp.texts_load()"
      ],
      "metadata": {
        "colab": {
          "base_uri": "https://localhost:8080/",
          "height": 66,
          "referenced_widgets": [
            "f6a683801ee84173b0605369b0c0eaad",
            "5c5ce46c64374ecebfbd178a8e672984",
            "9ec3cd57416e4d2b986ffeaa5ce8525a",
            "7b1024f9cb824b4cb67b7545e36cefb5",
            "59ea904aab6d4b16836d3418760ca892",
            "8742f08284894110bf2a6084f8e9e59d",
            "68ba6919c7f6495f8fb222419add6656",
            "8cb5e2034ba84795b252f62f5cfd018a",
            "47ea41d24e354e88b67ec326849a94de",
            "349b273e056c49ddb4025e5722ee9e15",
            "6b9c98b684eb423aacbb207be2bbc4f0"
          ]
        },
        "id": "-t5q7piB4IsJ",
        "outputId": "1112158f-ab2c-4249-c369-5b9a423499a6"
      },
      "execution_count": 7,
      "outputs": [
        {
          "output_type": "stream",
          "name": "stdout",
          "text": [
            "List of labels used: '['filename', 'class', 'author']'.\n"
          ]
        },
        {
          "output_type": "display_data",
          "data": {
            "text/plain": [
              "0it [00:00, ?it/s]"
            ],
            "application/vnd.jupyter.widget-view+json": {
              "version_major": 2,
              "version_minor": 0,
              "model_id": "f6a683801ee84173b0605369b0c0eaad"
            }
          },
          "metadata": {}
        }
      ]
    },
    {
      "cell_type": "markdown",
      "source": [
        "If you have not run spaCy in this notebook before, it will ask your permission to install a language model. It may take a minute to download and install the model. Afterwards, the text processing will commence.\n",
        "\n",
        "[⏱️ Session lifespan in GoogleColab might be from idle ~90 min. to ~12 hrs code running. Every time after the session is over and you start the environment again, all the packages and models need to be loaded again too]."
      ],
      "metadata": {
        "id": "zW9D91ZD6xQT"
      }
    },
    {
      "cell_type": "code",
      "source": [
        "exp.texts_preprocess()"
      ],
      "metadata": {
        "colab": {
          "base_uri": "https://localhost:8080/",
          "height": 327,
          "referenced_widgets": [
            "cd431c8b33dc443c8145c230742f941c",
            "837e99e8ecdb446885139b98b3ef7a08",
            "1fc04c88fe254232890ab3e98c6e258c",
            "aadef3ddd96444409e838e607c7a3fba",
            "ac7a61425cb14439bc2167837c891016",
            "973889b788c24977aecdeda6b0f50a6c",
            "1a9ad082370944e1ac9b902f19f88523",
            "779dbe2b7bbb4165a61163e3c5dfd50f",
            "b2ba4e455f88437eba919054aa635501",
            "6275fc93b9144098beae4c473ae37618",
            "b2ffff882a9c41aeaed6d70642351bd1"
          ]
        },
        "id": "_VH5xQTm6rby",
        "outputId": "c0c46e66-2cc6-4409-e15e-75934eea1aaf"
      },
      "execution_count": 8,
      "outputs": [
        {
          "output_type": "stream",
          "name": "stdout",
          "text": [
            "Default folder 'explain_example1/subsamples_none_800' created.\n",
            "Labels ['filename', 'class', 'author'] will be now accessible in documents via 'document._.label'.\n",
            "Checking if the model is available...\n",
            "The pl_core_news_lg is available from Spacy models.\n",
            "Spacy model not installed.\n",
            " Would you like to install it now: [y/n]y\n",
            "\u001b[38;5;2m✔ Download and installation successful\u001b[0m\n",
            "You can now load the package via spacy.load('pl_core_news_lg')\n",
            "\u001b[38;5;3m⚠ Restart to reload dependencies\u001b[0m\n",
            "If you are in a Jupyter or Colab notebook, you may need to restart Python in\n",
            "order to load all the package's dependencies. You can do this by selecting the\n",
            "'Restart kernel' or 'Restart runtime' option.\n",
            "Number of documents provided: 2.\n"
          ]
        },
        {
          "output_type": "display_data",
          "data": {
            "text/plain": [
              "0it [00:00, ?it/s]"
            ],
            "application/vnd.jupyter.widget-view+json": {
              "version_major": 2,
              "version_minor": 0,
              "model_id": "cd431c8b33dc443c8145c230742f941c"
            }
          },
          "metadata": {}
        },
        {
          "output_type": "stream",
          "name": "stdout",
          "text": [
            "Documents saved as explain_example1/subsamples_none_800/docs.spacy.\n",
            "They can be reloaded with '.docs_load(filename)'.\n",
            "Preprocessing parameters saved as 'explain_example1/subsamples_none_800/config_preproc_scheme.json'. It can be reloaded with '.load_params_preproc(filename)'.\n"
          ]
        }
      ]
    },
    {
      "cell_type": "markdown",
      "source": [
        "If you are running the code locally, you will notice some new\n",
        "\n",
        "*   folders, e.g., `explain_example1/` - referring to the given experiment\n",
        "*   subfolders, e.g., `subsamples_none_800` - referring to some preprocessing parameters related to segmenting the texts into smaller chunks\n",
        "*   config files, e.g., `config_*.json` - containing Python dictionaries listing all the settings and parameters (currently the default ones)\n",
        "*   data files, e.g., `docs.spacy` - texts already processed by spaCy\n",
        "\n",
        "They are supposed to store for your later reference the processing steps you have taken and allow you reloading intermediate steps of the analysis."
      ],
      "metadata": {
        "id": "dAFUdsK37enU"
      }
    },
    {
      "cell_type": "markdown",
      "source": [
        "Now, you have your `exp.docs` ready in memory. But let's assume that you are working on your own laptop and want to reload them tomorrow...\n",
        "```\n",
        "exp.docs_load(filename = 'docs.spacy')\n",
        "# This looks for 'docs.spacy' in your experiment's directory 'explain_example1/subsamples_none_800/'\n",
        "# This is a default name, so you do not need to indicate the filename:\n",
        "# exp.docs_load()\n",
        "```"
      ],
      "metadata": {
        "id": "4aFivAiWnuAT"
      }
    },
    {
      "cell_type": "code",
      "source": [
        "print(f\"You've got {len(exp.docs)} texts ready.\\n\"\n",
        "f\"The first author is {exp.docs[0]._.author}, and the second {exp.docs[1]._.author}.\")"
      ],
      "metadata": {
        "colab": {
          "base_uri": "https://localhost:8080/"
        },
        "id": "vzdP5M_lo_-9",
        "outputId": "b2d2209e-22c9-45d9-82fd-cfcd07923e40"
      },
      "execution_count": 22,
      "outputs": [
        {
          "output_type": "stream",
          "name": "stdout",
          "text": [
            "You've got 2 texts ready.\n",
            "The first author is Dukaj, and the second Zagórska.\n"
          ]
        }
      ]
    },
    {
      "cell_type": "markdown",
      "source": [
        "This is rather few texts per author. The classifier won't have much to go on with later.\n",
        "\n",
        "So let's 🪓🪓🪓 these beautiful pieces of literature into smaller chunks to get more samples.\n",
        "\n",
        "Currently implemented choices of `sample_type` are:\n",
        "- `'none'` - no chunking\n",
        "- `'t'` - segments defined by their number of tokens\n",
        "- `'s'` - segments defined by their number of sentences (as defined by spaCy)\n",
        "- `'ts'` - segments defined by their number of tokens, but make sure they don't cut sentences in half."
      ],
      "metadata": {
        "id": "DdEr__ISqxhl"
      }
    },
    {
      "cell_type": "code",
      "source": [
        "exp.subsample_scheme = {'sample_type': 'ts', 'sample_length': 200}\n",
        "exp.texts_subsample()\n",
        "print(f\"Samples 1-150 are {exp.docs_subsampled[0]._.author}'s, and 151-351 are {exp.docs_subsampled[170]._.author}'s.\")"
      ],
      "metadata": {
        "colab": {
          "base_uri": "https://localhost:8080/",
          "height": 101,
          "referenced_widgets": [
            "0b51815ebd6f4cb5b5b7371398c39fd0",
            "b0a79864c5034328b09ae7c2fa4c6bce",
            "74713a92059d41bb99fd3bb8d618f240",
            "8f322ee66e1646e9b303fa94e30e9de6",
            "3360b896c7864748883233b1c9202644",
            "96b4411d4dc246b6be8647c46a5a68f2",
            "95f49c134b104eb7bd346a0aa4fac8c8",
            "71cd11e4627d48ef9f8433affb099ca1",
            "92fc9a07602d45b4a425f0e6fe915221",
            "3a7edd94ea7c4bd3851e4a5e4b26e466",
            "ec0942e97e4e4bb097f269dbc8190381"
          ]
        },
        "id": "f8NG7t0zqxLL",
        "outputId": "d729820e-d942-4431-f2a1-e9f5c1c4db82"
      },
      "execution_count": 52,
      "outputs": [
        {
          "output_type": "stream",
          "name": "stdout",
          "text": [
            "'subsample_scheme' changed to '{'sample_type': 'ts', 'sample_length': 200}'.\n"
          ]
        },
        {
          "output_type": "display_data",
          "data": {
            "text/plain": [
              "  0%|          | 0/2 [00:00<?, ?it/s]"
            ],
            "application/vnd.jupyter.widget-view+json": {
              "version_major": 2,
              "version_minor": 0,
              "model_id": "0b51815ebd6f4cb5b5b7371398c39fd0"
            }
          },
          "metadata": {}
        },
        {
          "output_type": "stream",
          "name": "stdout",
          "text": [
            "Number of text samples produced: 351.\n",
            "Samples 1-150 are Dukaj's, and 151-351 are Zagórska's.\n"
          ]
        }
      ]
    },
    {
      "cell_type": "markdown",
      "source": [
        "### 🔬 Feature extraction"
      ],
      "metadata": {
        "id": "hEj7qB5yxhov"
      }
    },
    {
      "cell_type": "markdown",
      "source": [
        "This is how our text samples look now:"
      ],
      "metadata": {
        "id": "M66ruMp2zDAD"
      }
    },
    {
      "cell_type": "code",
      "source": [
        "from IPython.display import display, HTML\n",
        "sample = exp.docs_subsampled[153]\n",
        "display(HTML(f\"<pre style='white-space:pre-wrap'>{sample}</pre>\"))"
      ],
      "metadata": {
        "colab": {
          "base_uri": "https://localhost:8080/",
          "height": 138
        },
        "id": "SO5_Y1POquNq",
        "outputId": "1964f9c4-4dea-440d-c91d-bf22d2b50c10"
      },
      "execution_count": 54,
      "outputs": [
        {
          "output_type": "display_data",
          "data": {
            "text/plain": [
              "<IPython.core.display.HTML object>"
            ],
            "text/html": [
              "<pre style='white-space:pre-wrap'>Stara rzeka, rozlana szeroko, wypoczywała bez ruchu u schyłku dnia – po całych wiekach dzielnej służby u rasy zaludniającej jej brzegi – rozpostarta spokojnie w swej godności wodnego szlaku, wiodącego do najdalszych krańców ziemi. Nie patrzyliśmy na czcigodną rzekę przelotnym spojrzeniem krótkiego dnia, który zjawia się i odchodzi na zawsze, ale widzieliśmy ją w dostojnym świetle trwałych wspomnień. I zaiste, nic łatwiejszego dla ludzi, którzy – jak to się mówi – „poświęcili się morzu” z szacunkiem i przywiązaniem, niż wywołać wielkiego ducha przeszłości na przymorskim obszarze Tamizy. Przypływ i odpływ biegną tam i z powrotem w nieustającej służbie, przepełnione wspomnieniami o okrętach i ludziach, których niosły ku domowemu wytchnieniu lub ku walkom na morzach. Prądy te znały wszystkich mężów, którymi szczyci się naród, i służyły im wszystkim – od sir Francisa Drake’a do sir Johna Franklina – rycerzom utytułowanym lub nie, wielkim, błędnym rycerzom morza. </pre>"
            ]
          },
          "metadata": {}
        }
      ]
    },
    {
      "cell_type": "markdown",
      "source": [
        "But spaCy gives you plenty of annotation, e.g.:"
      ],
      "metadata": {
        "id": "rawn65zrzIRK"
      }
    },
    {
      "cell_type": "code",
      "source": [
        "print(f\"Lemmas: {[token.lemma_ for token in sample[-20:]]}\")\n",
        "print(f\"Categories of named entities: {[token.ent_type_ for token in sample[-20:]]}\")\n",
        "print(f\"Part-of-speech tags: {[token.pos_ for token in sample[-20:]]}\")\n",
        "print(f\"Dependency tags: {[token.dep_ for token in sample[-20:]]}\")"
      ],
      "metadata": {
        "colab": {
          "base_uri": "https://localhost:8080/"
        },
        "id": "ETT4cvwxzjQ1",
        "outputId": "06daf713-ac0b-4169-d8bb-fdd917c8e786"
      },
      "execution_count": 64,
      "outputs": [
        {
          "output_type": "stream",
          "name": "stdout",
          "text": [
            "Lemmas: ['Francis', 'Drake', '’', 'a', 'do', 'sir', 'John', 'Franklin', '–', 'rycerz', 'utytułowany', 'lub', 'nie', ',', 'wielki', ',', 'błędny', 'rycerz', 'morze', '.']\n",
            "Categories of named entities: ['persName', 'persName', '', '', '', '', 'persName', 'persName', '', '', '', '', '', '', '', '', '', '', '', '']\n",
            "Part-of-speech tags: ['PROPN', 'PROPN', 'PROPN', 'PROPN', 'ADP', 'NOUN', 'PROPN', 'PROPN', 'PUNCT', 'NOUN', 'ADJ', 'CCONJ', 'PART', 'PUNCT', 'ADJ', 'PUNCT', 'ADJ', 'NOUN', 'NOUN', 'PUNCT']\n",
            "Dependency tags: ['appos', 'flat', 'punct', 'fixed', 'case', 'nmod', 'appos', 'flat', 'punct', 'appos', 'amod', 'cc', 'conj', 'punct', 'amod', 'punct', 'conj', 'conj', 'nmod', 'punct']\n"
          ]
        }
      ]
    },
    {
      "cell_type": "markdown",
      "source": [
        "You can utilise many of these as features for the classifier, and later as features that will explain differences between text styles.\n",
        "\n",
        "A longer list is given below:"
      ],
      "metadata": {
        "id": "bPhA9tME1WYg"
      }
    },
    {
      "cell_type": "code",
      "source": [
        "from cl_explainable_stylo import feature_extraction\n",
        "help(feature_extraction.count_features)"
      ],
      "metadata": {
        "colab": {
          "base_uri": "https://localhost:8080/"
        },
        "id": "dqt_3kDn1b9d",
        "outputId": "0e68f06c-4ae0-4fa2-c685-4ac651201649"
      },
      "execution_count": 68,
      "outputs": [
        {
          "output_type": "stream",
          "name": "stdout",
          "text": [
            "Help on function count_features in module cl_explainable_stylo.feature_extraction:\n",
            "\n",
            "count_features(docs, feature_scheme={'features': [13, 23, 30, 52], 'max_features': 1000, 'n_grams_word': (1, 3), 'n_grams_pos': (1, 3), 'n_grams_dep': (1, 3), 'n_grams_morph': (1, 1), 'min_cull_word': 0.0, 'max_cull_word': 1.0, 'min_cull_d2': 0.0, 'max_cull_d2': 1.0, 'remove_duplicates': True}, verbose=0, tqdm_propagate=False)\n",
            "    Count the features in the given documents.\n",
            "    \n",
            "    Parameters\n",
            "    ----------\n",
            "    docs : spacy.tokens.doc.Doc or spacy.tokens.span.Span or list\n",
            "        A single `spacy.tokens.doc.Doc` object or `spacy.tokens.span.Span` or a list of such objects representing the documents.\n",
            "    features : int or list\n",
            "        A single integer or a list of integers representing the features to count.\n",
            "    max_features : int, optional\n",
            "        The maximum number of features to consider (default is 1000).\n",
            "    n_grams_word : tuple, optional\n",
            "        The n-gram range for word features (default is (1, 3)).\n",
            "    n_grams_pos : tuple, optional\n",
            "        The n-gram range for POS features (default is (1, 3)).\n",
            "    n_grams_dep : tuple, optional\n",
            "        The n-gram range for dependency features (default is (1, 3)).\n",
            "    n_grams_morph : tuple, optional\n",
            "        The n-gram range for morphological features (default is (1, 1)).\n",
            "    min_cull_word : int, optional\n",
            "        The minimum document frequency threshold for token (word/lemma) features (default is 0). Ignores features that have a document frequency strictly lower than the given threshold.\n",
            "    max_cull_word : int, optional\n",
            "        The maximum document frequency threshold for token (word/lemma) features (default is 1). Ignores features that have a document frequency strictly higher than the given threshold.\n",
            "    min_cull_d2 : int, optional\n",
            "        The minimum document frequency threshold for dependency features (default is 0).\n",
            "    max_cull_d2 : int, optional\n",
            "        The maximum document frequency threshold for dependency features (default is 1).\n",
            "    remove_duplicates : bool, optional\n",
            "        Remove feature duplicates resulting from different feature types (default is True).\n",
            "    verbose : int, optional\n",
            "        Verbosity level (0: all messages, 1: warnings, 2: no messages) (default is 0).\n",
            "    tqdm_propagate : bool, optional\n",
            "        Display tqdm progress bars for functions called from within count_features (default is False).\n",
            "    \n",
            "    Returns\n",
            "    -------\n",
            "    tuple\n",
            "        A tuple containing the feature names and the feature matrix.\n",
            "        - feature_names : list\n",
            "            A list of feature names formatted as 'FeatureName_FeatureTypeID'.\n",
            "        - dfX : pandas.DataFrame\n",
            "            A DataFrame representing the feature matrix.\n",
            "    \n",
            "    Notes\n",
            "    -----\n",
            "    The function supports counting the same types of features as `choose_features()`.\n",
            "    Available feature IDs and their corresponding types:\n",
            "    - Tokens:\n",
            "        - 10: Select all words.\n",
            "        - 11: Select all lemmas.\n",
            "        - 12: Select non-NER words, replacing named entities with their entity type.\n",
            "        - 13: Select non-NER lemmas.\n",
            "    - Token N-grams, dependency-based:\n",
            "        - 20: Select all words and punctuation (excluding numerals) in dependency-based bigrams.\n",
            "        - 21: Select all lemmas in dependency-based bigrams.\n",
            "        - 22: Select non-NER words in dependency-based bigrams, replacing named entities with their entity type.\n",
            "        - 23: Select non-NER lemmas in dependency-based bigrams, replacing named entities with their entity type.\n",
            "    - Part-of-speech tags:\n",
            "        - 30: Select all parts of speech.\n",
            "        - 31: Select parts of speech without punctuation.\n",
            "        - 32: Select parts of speech without 'SPACE'.\n",
            "    - Dependency-based tags:\n",
            "        - 40: Select dependency labels without punctuation.\n",
            "    - Morphology annotation:\n",
            "        - 50: Select morphology annotations with punctuation.\n",
            "        - 52: Select non-NER morphology annotations, replacing named entities with their entity type.\n",
            "    - Named entities:\n",
            "        - 60: Select NER types.\n",
            "        - 61: Select all named entities.\n",
            "    - Invalid feature IDs will be skipped, and a warning message will be displayed if `verbose` is set to 0 or 1.\n",
            "    \n",
            "    Example situation where removing duplicates might be needed:\n",
            "    - Suppose that in a given corpus the feature 'PronType=Prs|Reflex=Yes_50' is always realised with 'się_10' (word) and the corresponding 'się_11' (lemma). These three features will be reduced to one.\n",
            "    - A specific POS 5-gram has only one corresponding word 5-gram realisation.\n",
            "\n"
          ]
        },
        {
          "output_type": "execute_result",
          "data": {
            "text/plain": [
              "{'features': [13, 23, 32, 52, 61],\n",
              " 'max_features': 1000,\n",
              " 'n_grams_word': (1, 3),\n",
              " 'n_grams_pos': (1, 3),\n",
              " 'n_grams_dep': (1, 3),\n",
              " 'n_grams_morph': (1, 1),\n",
              " 'min_cull_word': 0.0,\n",
              " 'max_cull_word': 1.0,\n",
              " 'min_cull_d2': 0.0,\n",
              " 'max_cull_d2': 1.0,\n",
              " 'remove_duplicates': False}"
            ]
          },
          "metadata": {},
          "execution_count": 68
        }
      ]
    },
    {
      "cell_type": "markdown",
      "source": [
        "You choose from the above the ones that you consider potentially useful.\n",
        "\n",
        "The default settings are defined in `exp.default_feature_scheme`,\n",
        "and the currently used settings are stored in `exp.feature_scheme`, which you can modify.\n",
        "\n",
        "🥼 Currently, the pipeline is implemented to work with _spaCy_.  If have your own annotations, you have to extract them as features on your own. But you can still use them in later steps."
      ],
      "metadata": {
        "id": "mmEKedXg2NJv"
      }
    },
    {
      "cell_type": "code",
      "source": [
        "exp.default_feature_scheme"
      ],
      "metadata": {
        "colab": {
          "base_uri": "https://localhost:8080/"
        },
        "id": "9MT4IukH2Kno",
        "outputId": "5318ce72-1d98-48ba-8adf-67e3c8a1fcb2"
      },
      "execution_count": 69,
      "outputs": [
        {
          "output_type": "execute_result",
          "data": {
            "text/plain": [
              "{'features': [13, 23, 32, 52, 61],\n",
              " 'max_features': 1000,\n",
              " 'n_grams_word': (1, 3),\n",
              " 'n_grams_pos': (1, 3),\n",
              " 'n_grams_dep': (1, 3),\n",
              " 'n_grams_morph': (1, 1),\n",
              " 'min_cull_word': 0.0,\n",
              " 'max_cull_word': 1.0,\n",
              " 'min_cull_d2': 0.0,\n",
              " 'max_cull_d2': 1.0,\n",
              " 'remove_duplicates': False}"
            ]
          },
          "metadata": {},
          "execution_count": 69
        }
      ]
    },
    {
      "cell_type": "code",
      "source": [
        "exp.feature_scheme['max_features']=500\n",
        "exp.feature_scheme"
      ],
      "metadata": {
        "colab": {
          "base_uri": "https://localhost:8080/"
        },
        "id": "88RjKvUJ21Gg",
        "outputId": "a9b09ad9-72e0-4c89-ee68-a914c633f2e3"
      },
      "execution_count": 72,
      "outputs": [
        {
          "output_type": "execute_result",
          "data": {
            "text/plain": [
              "{'features': [13, 23, 32, 52, 61],\n",
              " 'max_features': 500,\n",
              " 'n_grams_word': (1, 3),\n",
              " 'n_grams_pos': (1, 3),\n",
              " 'n_grams_dep': (1, 3),\n",
              " 'n_grams_morph': (1, 1),\n",
              " 'min_cull_word': 0.0,\n",
              " 'max_cull_word': 1.0,\n",
              " 'min_cull_d2': 0.0,\n",
              " 'max_cull_d2': 1.0,\n",
              " 'remove_duplicates': False}"
            ]
          },
          "metadata": {},
          "execution_count": 72
        }
      ]
    },
    {
      "cell_type": "markdown",
      "source": [
        "Now, let the machine do some heavy lifting for us:"
      ],
      "metadata": {
        "id": "uRyFphvt3Vdr"
      }
    },
    {
      "cell_type": "code",
      "source": [
        "exp.extract_features(save_to_file=True)"
      ],
      "metadata": {
        "colab": {
          "base_uri": "https://localhost:8080/",
          "height": 243,
          "referenced_widgets": [
            "83756708e7de4f949549e189342a8ed1",
            "7de18267773247deba8a6cb6d4a0c522",
            "656a8fde67774b35a4acc3aa8d55e732",
            "e55de258181a47afae6205896dfdbff2",
            "a4383833fa364fc5a44899753dcba4c4",
            "aaef6df084ad4b44a433cd9f3215a0d3",
            "9dd892bbddde410e8e7da763b138022e",
            "19db85075ca14036890bec9227117832",
            "559c88aa2f9f4d8fa5804b35ca9ecc06",
            "123a7746f62b4695adc36797d510a436",
            "489b02845e0047b18e2c82e287875acb"
          ]
        },
        "id": "4KaEAA3o3Zpb",
        "outputId": "f8c4a041-c135-4420-9fd2-0e69e045e987"
      },
      "execution_count": 73,
      "outputs": [
        {
          "output_type": "stream",
          "name": "stdout",
          "text": [
            "Number of documents provided: 351.\n",
            "Features to be extracted: [13, 23, 32, 52, 61].\n"
          ]
        },
        {
          "output_type": "display_data",
          "data": {
            "text/plain": [
              "  0%|          | 0/5 [00:00<?, ?it/s]"
            ],
            "application/vnd.jupyter.widget-view+json": {
              "version_major": 2,
              "version_minor": 0,
              "model_id": "83756708e7de4f949549e189342a8ed1"
            }
          },
          "metadata": {}
        },
        {
          "output_type": "stream",
          "name": "stdout",
          "text": [
            "-- Extracting non-NER lemmas (replacing named entities with their entity type).\n",
            "-- Extracting dependency-based non-NER lemma bigrams (including punctuation, excluding numerals, replacing named entities with their entity type).\n",
            "-- Extracting all parts of speech (no punctuation).\n",
            "-- Extracting morphology annotations with punctuation (replacing named entities with their entity type).\n",
            "-- Extracting all named entities.\n",
            "Default folder 'explain_example1/subsamples_ts_200' created.\n",
            "Feature extraction parameters saved as 'explain_example1/subsamples_ts_200/config_feature_scheme.json'. It can be reloaded with '.load_params_feature(filename)'.\n",
            "'.feature_dataframe' saved as 'explain_example1/subsamples_ts_200/features.csv'. It can be reloaded with '.features_load(filename)'.\n"
          ]
        }
      ]
    },
    {
      "cell_type": "markdown",
      "source": [
        "The table (samples x features) is going to be saved as a `.csv` file, which can later be reloaded with\n",
        "```\n",
        "exp.features_load(filename = 'features.csv')\n",
        "```\n",
        "Our all-encompassing variable `exp` now contains also that table `exp.feature_dataframe` encoded as a _Pandas_ `DataFrame`.\n",
        "\n",
        "⚠️ It can grow rather **BIG**, ~100 MB and more, depending on the size of your corpus and the number of features.\n",
        "\n",
        "⚠️ The folder for storage is named after the subsampling settings: `subsamples_ts_200`. If you make multiple experiments with different subsampling settings, they are going to be stored separately. If you make experiments with different `.feature_scheme` settings, they might overwrite or produce `features_1.csv`, `features_2.csv`, etc. (with corresponding `config_*_1.json`, `config_*_2.json`, ..., files).\n"
      ],
      "metadata": {
        "id": "tmGgFLfD3e7P"
      }
    },
    {
      "cell_type": "code",
      "source": [
        "exp.feature_dataframe"
      ],
      "metadata": {
        "colab": {
          "base_uri": "https://localhost:8080/",
          "height": 461
        },
        "id": "0P1ZfvFC3dsv",
        "outputId": "2431f786-862e-4961-a109-7a2a2808f08c"
      },
      "execution_count": 74,
      "outputs": [
        {
          "output_type": "execute_result",
          "data": {
            "text/plain": [
              "     aby_13  ach_13  agent_13  albo_13  ale_13  ale nie_13  ani_13  aż_13  \\\n",
              "0       0.0     0.0       0.0      0.0     0.0         0.0     0.0    1.0   \n",
              "1       0.0     0.0       0.0      0.0     0.0         0.0     1.0    0.0   \n",
              "2       0.0     0.0       0.0      0.0     0.0         0.0     0.0    0.0   \n",
              "3       0.0     0.0       0.0      0.0     1.0         0.0     0.0    0.0   \n",
              "4       0.0     0.0       0.0      1.0     0.0         0.0     0.0    0.0   \n",
              "..      ...     ...       ...      ...     ...         ...     ...    ...   \n",
              "346     0.0     0.0       0.0      0.0     1.0         0.0     0.0    0.0   \n",
              "347     2.0     0.0       0.0      0.0     0.0         0.0     0.0    0.0   \n",
              "348     0.0     0.0       0.0      0.0     2.0         0.0     0.0    0.0   \n",
              "349     0.0     1.0       0.0      0.0     1.0         0.0     0.0    0.0   \n",
              "350     3.0     0.0       0.0      0.0     1.0         0.0     0.0    1.0   \n",
              "\n",
              "     bardzo_13  bez_13  ...  wschodnioindyjskiej_61  wtajemniczy_61  \\\n",
              "0          0.0     0.0  ...                     0.0             0.0   \n",
              "1          0.0     1.0  ...                     0.0             0.0   \n",
              "2          0.0     0.0  ...                     0.0             0.0   \n",
              "3          1.0     0.0  ...                     0.0             0.0   \n",
              "4          0.0     0.0  ...                     0.0             0.0   \n",
              "..         ...     ...  ...                     ...             ...   \n",
              "346        0.0     0.0  ...                     0.0             0.0   \n",
              "347        3.0     0.0  ...                     0.0             0.0   \n",
              "348        0.0     0.0  ...                     0.0             0.0   \n",
              "349        1.0     0.0  ...                     0.0             0.0   \n",
              "350        0.0     0.0  ...                     0.0             0.0   \n",
              "\n",
              "     wygraża_61  wylornetkowałem_61  zamorskiego_61  Ósma_61  ósmej_61  \\\n",
              "0           0.0                 0.0             0.0      0.0       0.0   \n",
              "1           0.0                 0.0             0.0      0.0       0.0   \n",
              "2           0.0                 0.0             0.0      0.0       0.0   \n",
              "3           0.0                 0.0             0.0      0.0       0.0   \n",
              "4           0.0                 0.0             0.0      0.0       0.0   \n",
              "..          ...                 ...             ...      ...       ...   \n",
              "346         0.0                 0.0             0.0      0.0       0.0   \n",
              "347         0.0                 0.0             0.0      0.0       0.0   \n",
              "348         0.0                 0.0             0.0      0.0       0.0   \n",
              "349         0.0                 0.0             0.0      0.0       0.0   \n",
              "350         0.0                 0.0             0.0      0.0       0.0   \n",
              "\n",
              "     Łódź_61  Śródziemnego_61  Śródziemnym_61  \n",
              "0        0.0              0.0             0.0  \n",
              "1        0.0              0.0             0.0  \n",
              "2        0.0              0.0             0.0  \n",
              "3        0.0              1.0             0.0  \n",
              "4        0.0              0.0             0.0  \n",
              "..       ...              ...             ...  \n",
              "346      0.0              0.0             0.0  \n",
              "347      0.0              0.0             0.0  \n",
              "348      0.0              0.0             0.0  \n",
              "349      0.0              0.0             0.0  \n",
              "350      0.0              0.0             0.0  \n",
              "\n",
              "[351 rows x 2317 columns]"
            ],
            "text/html": [
              "\n",
              "  <div id=\"df-41e04801-d50e-4600-8fc1-3e4542241945\" class=\"colab-df-container\">\n",
              "    <div>\n",
              "<style scoped>\n",
              "    .dataframe tbody tr th:only-of-type {\n",
              "        vertical-align: middle;\n",
              "    }\n",
              "\n",
              "    .dataframe tbody tr th {\n",
              "        vertical-align: top;\n",
              "    }\n",
              "\n",
              "    .dataframe thead th {\n",
              "        text-align: right;\n",
              "    }\n",
              "</style>\n",
              "<table border=\"1\" class=\"dataframe\">\n",
              "  <thead>\n",
              "    <tr style=\"text-align: right;\">\n",
              "      <th></th>\n",
              "      <th>aby_13</th>\n",
              "      <th>ach_13</th>\n",
              "      <th>agent_13</th>\n",
              "      <th>albo_13</th>\n",
              "      <th>ale_13</th>\n",
              "      <th>ale nie_13</th>\n",
              "      <th>ani_13</th>\n",
              "      <th>aż_13</th>\n",
              "      <th>bardzo_13</th>\n",
              "      <th>bez_13</th>\n",
              "      <th>...</th>\n",
              "      <th>wschodnioindyjskiej_61</th>\n",
              "      <th>wtajemniczy_61</th>\n",
              "      <th>wygraża_61</th>\n",
              "      <th>wylornetkowałem_61</th>\n",
              "      <th>zamorskiego_61</th>\n",
              "      <th>Ósma_61</th>\n",
              "      <th>ósmej_61</th>\n",
              "      <th>Łódź_61</th>\n",
              "      <th>Śródziemnego_61</th>\n",
              "      <th>Śródziemnym_61</th>\n",
              "    </tr>\n",
              "  </thead>\n",
              "  <tbody>\n",
              "    <tr>\n",
              "      <th>0</th>\n",
              "      <td>0.0</td>\n",
              "      <td>0.0</td>\n",
              "      <td>0.0</td>\n",
              "      <td>0.0</td>\n",
              "      <td>0.0</td>\n",
              "      <td>0.0</td>\n",
              "      <td>0.0</td>\n",
              "      <td>1.0</td>\n",
              "      <td>0.0</td>\n",
              "      <td>0.0</td>\n",
              "      <td>...</td>\n",
              "      <td>0.0</td>\n",
              "      <td>0.0</td>\n",
              "      <td>0.0</td>\n",
              "      <td>0.0</td>\n",
              "      <td>0.0</td>\n",
              "      <td>0.0</td>\n",
              "      <td>0.0</td>\n",
              "      <td>0.0</td>\n",
              "      <td>0.0</td>\n",
              "      <td>0.0</td>\n",
              "    </tr>\n",
              "    <tr>\n",
              "      <th>1</th>\n",
              "      <td>0.0</td>\n",
              "      <td>0.0</td>\n",
              "      <td>0.0</td>\n",
              "      <td>0.0</td>\n",
              "      <td>0.0</td>\n",
              "      <td>0.0</td>\n",
              "      <td>1.0</td>\n",
              "      <td>0.0</td>\n",
              "      <td>0.0</td>\n",
              "      <td>1.0</td>\n",
              "      <td>...</td>\n",
              "      <td>0.0</td>\n",
              "      <td>0.0</td>\n",
              "      <td>0.0</td>\n",
              "      <td>0.0</td>\n",
              "      <td>0.0</td>\n",
              "      <td>0.0</td>\n",
              "      <td>0.0</td>\n",
              "      <td>0.0</td>\n",
              "      <td>0.0</td>\n",
              "      <td>0.0</td>\n",
              "    </tr>\n",
              "    <tr>\n",
              "      <th>2</th>\n",
              "      <td>0.0</td>\n",
              "      <td>0.0</td>\n",
              "      <td>0.0</td>\n",
              "      <td>0.0</td>\n",
              "      <td>0.0</td>\n",
              "      <td>0.0</td>\n",
              "      <td>0.0</td>\n",
              "      <td>0.0</td>\n",
              "      <td>0.0</td>\n",
              "      <td>0.0</td>\n",
              "      <td>...</td>\n",
              "      <td>0.0</td>\n",
              "      <td>0.0</td>\n",
              "      <td>0.0</td>\n",
              "      <td>0.0</td>\n",
              "      <td>0.0</td>\n",
              "      <td>0.0</td>\n",
              "      <td>0.0</td>\n",
              "      <td>0.0</td>\n",
              "      <td>0.0</td>\n",
              "      <td>0.0</td>\n",
              "    </tr>\n",
              "    <tr>\n",
              "      <th>3</th>\n",
              "      <td>0.0</td>\n",
              "      <td>0.0</td>\n",
              "      <td>0.0</td>\n",
              "      <td>0.0</td>\n",
              "      <td>1.0</td>\n",
              "      <td>0.0</td>\n",
              "      <td>0.0</td>\n",
              "      <td>0.0</td>\n",
              "      <td>1.0</td>\n",
              "      <td>0.0</td>\n",
              "      <td>...</td>\n",
              "      <td>0.0</td>\n",
              "      <td>0.0</td>\n",
              "      <td>0.0</td>\n",
              "      <td>0.0</td>\n",
              "      <td>0.0</td>\n",
              "      <td>0.0</td>\n",
              "      <td>0.0</td>\n",
              "      <td>0.0</td>\n",
              "      <td>1.0</td>\n",
              "      <td>0.0</td>\n",
              "    </tr>\n",
              "    <tr>\n",
              "      <th>4</th>\n",
              "      <td>0.0</td>\n",
              "      <td>0.0</td>\n",
              "      <td>0.0</td>\n",
              "      <td>1.0</td>\n",
              "      <td>0.0</td>\n",
              "      <td>0.0</td>\n",
              "      <td>0.0</td>\n",
              "      <td>0.0</td>\n",
              "      <td>0.0</td>\n",
              "      <td>0.0</td>\n",
              "      <td>...</td>\n",
              "      <td>0.0</td>\n",
              "      <td>0.0</td>\n",
              "      <td>0.0</td>\n",
              "      <td>0.0</td>\n",
              "      <td>0.0</td>\n",
              "      <td>0.0</td>\n",
              "      <td>0.0</td>\n",
              "      <td>0.0</td>\n",
              "      <td>0.0</td>\n",
              "      <td>0.0</td>\n",
              "    </tr>\n",
              "    <tr>\n",
              "      <th>...</th>\n",
              "      <td>...</td>\n",
              "      <td>...</td>\n",
              "      <td>...</td>\n",
              "      <td>...</td>\n",
              "      <td>...</td>\n",
              "      <td>...</td>\n",
              "      <td>...</td>\n",
              "      <td>...</td>\n",
              "      <td>...</td>\n",
              "      <td>...</td>\n",
              "      <td>...</td>\n",
              "      <td>...</td>\n",
              "      <td>...</td>\n",
              "      <td>...</td>\n",
              "      <td>...</td>\n",
              "      <td>...</td>\n",
              "      <td>...</td>\n",
              "      <td>...</td>\n",
              "      <td>...</td>\n",
              "      <td>...</td>\n",
              "      <td>...</td>\n",
              "    </tr>\n",
              "    <tr>\n",
              "      <th>346</th>\n",
              "      <td>0.0</td>\n",
              "      <td>0.0</td>\n",
              "      <td>0.0</td>\n",
              "      <td>0.0</td>\n",
              "      <td>1.0</td>\n",
              "      <td>0.0</td>\n",
              "      <td>0.0</td>\n",
              "      <td>0.0</td>\n",
              "      <td>0.0</td>\n",
              "      <td>0.0</td>\n",
              "      <td>...</td>\n",
              "      <td>0.0</td>\n",
              "      <td>0.0</td>\n",
              "      <td>0.0</td>\n",
              "      <td>0.0</td>\n",
              "      <td>0.0</td>\n",
              "      <td>0.0</td>\n",
              "      <td>0.0</td>\n",
              "      <td>0.0</td>\n",
              "      <td>0.0</td>\n",
              "      <td>0.0</td>\n",
              "    </tr>\n",
              "    <tr>\n",
              "      <th>347</th>\n",
              "      <td>2.0</td>\n",
              "      <td>0.0</td>\n",
              "      <td>0.0</td>\n",
              "      <td>0.0</td>\n",
              "      <td>0.0</td>\n",
              "      <td>0.0</td>\n",
              "      <td>0.0</td>\n",
              "      <td>0.0</td>\n",
              "      <td>3.0</td>\n",
              "      <td>0.0</td>\n",
              "      <td>...</td>\n",
              "      <td>0.0</td>\n",
              "      <td>0.0</td>\n",
              "      <td>0.0</td>\n",
              "      <td>0.0</td>\n",
              "      <td>0.0</td>\n",
              "      <td>0.0</td>\n",
              "      <td>0.0</td>\n",
              "      <td>0.0</td>\n",
              "      <td>0.0</td>\n",
              "      <td>0.0</td>\n",
              "    </tr>\n",
              "    <tr>\n",
              "      <th>348</th>\n",
              "      <td>0.0</td>\n",
              "      <td>0.0</td>\n",
              "      <td>0.0</td>\n",
              "      <td>0.0</td>\n",
              "      <td>2.0</td>\n",
              "      <td>0.0</td>\n",
              "      <td>0.0</td>\n",
              "      <td>0.0</td>\n",
              "      <td>0.0</td>\n",
              "      <td>0.0</td>\n",
              "      <td>...</td>\n",
              "      <td>0.0</td>\n",
              "      <td>0.0</td>\n",
              "      <td>0.0</td>\n",
              "      <td>0.0</td>\n",
              "      <td>0.0</td>\n",
              "      <td>0.0</td>\n",
              "      <td>0.0</td>\n",
              "      <td>0.0</td>\n",
              "      <td>0.0</td>\n",
              "      <td>0.0</td>\n",
              "    </tr>\n",
              "    <tr>\n",
              "      <th>349</th>\n",
              "      <td>0.0</td>\n",
              "      <td>1.0</td>\n",
              "      <td>0.0</td>\n",
              "      <td>0.0</td>\n",
              "      <td>1.0</td>\n",
              "      <td>0.0</td>\n",
              "      <td>0.0</td>\n",
              "      <td>0.0</td>\n",
              "      <td>1.0</td>\n",
              "      <td>0.0</td>\n",
              "      <td>...</td>\n",
              "      <td>0.0</td>\n",
              "      <td>0.0</td>\n",
              "      <td>0.0</td>\n",
              "      <td>0.0</td>\n",
              "      <td>0.0</td>\n",
              "      <td>0.0</td>\n",
              "      <td>0.0</td>\n",
              "      <td>0.0</td>\n",
              "      <td>0.0</td>\n",
              "      <td>0.0</td>\n",
              "    </tr>\n",
              "    <tr>\n",
              "      <th>350</th>\n",
              "      <td>3.0</td>\n",
              "      <td>0.0</td>\n",
              "      <td>0.0</td>\n",
              "      <td>0.0</td>\n",
              "      <td>1.0</td>\n",
              "      <td>0.0</td>\n",
              "      <td>0.0</td>\n",
              "      <td>1.0</td>\n",
              "      <td>0.0</td>\n",
              "      <td>0.0</td>\n",
              "      <td>...</td>\n",
              "      <td>0.0</td>\n",
              "      <td>0.0</td>\n",
              "      <td>0.0</td>\n",
              "      <td>0.0</td>\n",
              "      <td>0.0</td>\n",
              "      <td>0.0</td>\n",
              "      <td>0.0</td>\n",
              "      <td>0.0</td>\n",
              "      <td>0.0</td>\n",
              "      <td>0.0</td>\n",
              "    </tr>\n",
              "  </tbody>\n",
              "</table>\n",
              "<p>351 rows × 2317 columns</p>\n",
              "</div>\n",
              "    <div class=\"colab-df-buttons\">\n",
              "\n",
              "  <div class=\"colab-df-container\">\n",
              "    <button class=\"colab-df-convert\" onclick=\"convertToInteractive('df-41e04801-d50e-4600-8fc1-3e4542241945')\"\n",
              "            title=\"Convert this dataframe to an interactive table.\"\n",
              "            style=\"display:none;\">\n",
              "\n",
              "  <svg xmlns=\"http://www.w3.org/2000/svg\" height=\"24px\" viewBox=\"0 -960 960 960\">\n",
              "    <path d=\"M120-120v-720h720v720H120Zm60-500h600v-160H180v160Zm220 220h160v-160H400v160Zm0 220h160v-160H400v160ZM180-400h160v-160H180v160Zm440 0h160v-160H620v160ZM180-180h160v-160H180v160Zm440 0h160v-160H620v160Z\"/>\n",
              "  </svg>\n",
              "    </button>\n",
              "\n",
              "  <style>\n",
              "    .colab-df-container {\n",
              "      display:flex;\n",
              "      gap: 12px;\n",
              "    }\n",
              "\n",
              "    .colab-df-convert {\n",
              "      background-color: #E8F0FE;\n",
              "      border: none;\n",
              "      border-radius: 50%;\n",
              "      cursor: pointer;\n",
              "      display: none;\n",
              "      fill: #1967D2;\n",
              "      height: 32px;\n",
              "      padding: 0 0 0 0;\n",
              "      width: 32px;\n",
              "    }\n",
              "\n",
              "    .colab-df-convert:hover {\n",
              "      background-color: #E2EBFA;\n",
              "      box-shadow: 0px 1px 2px rgba(60, 64, 67, 0.3), 0px 1px 3px 1px rgba(60, 64, 67, 0.15);\n",
              "      fill: #174EA6;\n",
              "    }\n",
              "\n",
              "    .colab-df-buttons div {\n",
              "      margin-bottom: 4px;\n",
              "    }\n",
              "\n",
              "    [theme=dark] .colab-df-convert {\n",
              "      background-color: #3B4455;\n",
              "      fill: #D2E3FC;\n",
              "    }\n",
              "\n",
              "    [theme=dark] .colab-df-convert:hover {\n",
              "      background-color: #434B5C;\n",
              "      box-shadow: 0px 1px 3px 1px rgba(0, 0, 0, 0.15);\n",
              "      filter: drop-shadow(0px 1px 2px rgba(0, 0, 0, 0.3));\n",
              "      fill: #FFFFFF;\n",
              "    }\n",
              "  </style>\n",
              "\n",
              "    <script>\n",
              "      const buttonEl =\n",
              "        document.querySelector('#df-41e04801-d50e-4600-8fc1-3e4542241945 button.colab-df-convert');\n",
              "      buttonEl.style.display =\n",
              "        google.colab.kernel.accessAllowed ? 'block' : 'none';\n",
              "\n",
              "      async function convertToInteractive(key) {\n",
              "        const element = document.querySelector('#df-41e04801-d50e-4600-8fc1-3e4542241945');\n",
              "        const dataTable =\n",
              "          await google.colab.kernel.invokeFunction('convertToInteractive',\n",
              "                                                    [key], {});\n",
              "        if (!dataTable) return;\n",
              "\n",
              "        const docLinkHtml = 'Like what you see? Visit the ' +\n",
              "          '<a target=\"_blank\" href=https://colab.research.google.com/notebooks/data_table.ipynb>data table notebook</a>'\n",
              "          + ' to learn more about interactive tables.';\n",
              "        element.innerHTML = '';\n",
              "        dataTable['output_type'] = 'display_data';\n",
              "        await google.colab.output.renderOutput(dataTable, element);\n",
              "        const docLink = document.createElement('div');\n",
              "        docLink.innerHTML = docLinkHtml;\n",
              "        element.appendChild(docLink);\n",
              "      }\n",
              "    </script>\n",
              "  </div>\n",
              "\n",
              "\n",
              "    <div id=\"df-4ad59a08-15b1-4d47-bc23-a814671ea3e7\">\n",
              "      <button class=\"colab-df-quickchart\" onclick=\"quickchart('df-4ad59a08-15b1-4d47-bc23-a814671ea3e7')\"\n",
              "                title=\"Suggest charts\"\n",
              "                style=\"display:none;\">\n",
              "\n",
              "<svg xmlns=\"http://www.w3.org/2000/svg\" height=\"24px\"viewBox=\"0 0 24 24\"\n",
              "     width=\"24px\">\n",
              "    <g>\n",
              "        <path d=\"M19 3H5c-1.1 0-2 .9-2 2v14c0 1.1.9 2 2 2h14c1.1 0 2-.9 2-2V5c0-1.1-.9-2-2-2zM9 17H7v-7h2v7zm4 0h-2V7h2v10zm4 0h-2v-4h2v4z\"/>\n",
              "    </g>\n",
              "</svg>\n",
              "      </button>\n",
              "\n",
              "<style>\n",
              "  .colab-df-quickchart {\n",
              "      --bg-color: #E8F0FE;\n",
              "      --fill-color: #1967D2;\n",
              "      --hover-bg-color: #E2EBFA;\n",
              "      --hover-fill-color: #174EA6;\n",
              "      --disabled-fill-color: #AAA;\n",
              "      --disabled-bg-color: #DDD;\n",
              "  }\n",
              "\n",
              "  [theme=dark] .colab-df-quickchart {\n",
              "      --bg-color: #3B4455;\n",
              "      --fill-color: #D2E3FC;\n",
              "      --hover-bg-color: #434B5C;\n",
              "      --hover-fill-color: #FFFFFF;\n",
              "      --disabled-bg-color: #3B4455;\n",
              "      --disabled-fill-color: #666;\n",
              "  }\n",
              "\n",
              "  .colab-df-quickchart {\n",
              "    background-color: var(--bg-color);\n",
              "    border: none;\n",
              "    border-radius: 50%;\n",
              "    cursor: pointer;\n",
              "    display: none;\n",
              "    fill: var(--fill-color);\n",
              "    height: 32px;\n",
              "    padding: 0;\n",
              "    width: 32px;\n",
              "  }\n",
              "\n",
              "  .colab-df-quickchart:hover {\n",
              "    background-color: var(--hover-bg-color);\n",
              "    box-shadow: 0 1px 2px rgba(60, 64, 67, 0.3), 0 1px 3px 1px rgba(60, 64, 67, 0.15);\n",
              "    fill: var(--button-hover-fill-color);\n",
              "  }\n",
              "\n",
              "  .colab-df-quickchart-complete:disabled,\n",
              "  .colab-df-quickchart-complete:disabled:hover {\n",
              "    background-color: var(--disabled-bg-color);\n",
              "    fill: var(--disabled-fill-color);\n",
              "    box-shadow: none;\n",
              "  }\n",
              "\n",
              "  .colab-df-spinner {\n",
              "    border: 2px solid var(--fill-color);\n",
              "    border-color: transparent;\n",
              "    border-bottom-color: var(--fill-color);\n",
              "    animation:\n",
              "      spin 1s steps(1) infinite;\n",
              "  }\n",
              "\n",
              "  @keyframes spin {\n",
              "    0% {\n",
              "      border-color: transparent;\n",
              "      border-bottom-color: var(--fill-color);\n",
              "      border-left-color: var(--fill-color);\n",
              "    }\n",
              "    20% {\n",
              "      border-color: transparent;\n",
              "      border-left-color: var(--fill-color);\n",
              "      border-top-color: var(--fill-color);\n",
              "    }\n",
              "    30% {\n",
              "      border-color: transparent;\n",
              "      border-left-color: var(--fill-color);\n",
              "      border-top-color: var(--fill-color);\n",
              "      border-right-color: var(--fill-color);\n",
              "    }\n",
              "    40% {\n",
              "      border-color: transparent;\n",
              "      border-right-color: var(--fill-color);\n",
              "      border-top-color: var(--fill-color);\n",
              "    }\n",
              "    60% {\n",
              "      border-color: transparent;\n",
              "      border-right-color: var(--fill-color);\n",
              "    }\n",
              "    80% {\n",
              "      border-color: transparent;\n",
              "      border-right-color: var(--fill-color);\n",
              "      border-bottom-color: var(--fill-color);\n",
              "    }\n",
              "    90% {\n",
              "      border-color: transparent;\n",
              "      border-bottom-color: var(--fill-color);\n",
              "    }\n",
              "  }\n",
              "</style>\n",
              "\n",
              "      <script>\n",
              "        async function quickchart(key) {\n",
              "          const quickchartButtonEl =\n",
              "            document.querySelector('#' + key + ' button');\n",
              "          quickchartButtonEl.disabled = true;  // To prevent multiple clicks.\n",
              "          quickchartButtonEl.classList.add('colab-df-spinner');\n",
              "          try {\n",
              "            const charts = await google.colab.kernel.invokeFunction(\n",
              "                'suggestCharts', [key], {});\n",
              "          } catch (error) {\n",
              "            console.error('Error during call to suggestCharts:', error);\n",
              "          }\n",
              "          quickchartButtonEl.classList.remove('colab-df-spinner');\n",
              "          quickchartButtonEl.classList.add('colab-df-quickchart-complete');\n",
              "        }\n",
              "        (() => {\n",
              "          let quickchartButtonEl =\n",
              "            document.querySelector('#df-4ad59a08-15b1-4d47-bc23-a814671ea3e7 button');\n",
              "          quickchartButtonEl.style.display =\n",
              "            google.colab.kernel.accessAllowed ? 'block' : 'none';\n",
              "        })();\n",
              "      </script>\n",
              "    </div>\n",
              "\n",
              "    </div>\n",
              "  </div>\n"
            ],
            "application/vnd.google.colaboratory.intrinsic+json": {
              "type": "dataframe"
            }
          },
          "metadata": {},
          "execution_count": 74
        }
      ]
    },
    {
      "cell_type": "markdown",
      "source": [
        "🥼 If have your own features and they are in the same table format (especially the number of text samples), you can still load them with\n",
        "```\n",
        "exp.features_load(filename = 'features.csv')\n",
        "```\n",
        "Alternatively, if you have them stored in a variable as _Pandas_ `DataFrame`,\n",
        "you can simply put it into the `exp` (without unnecessary computing `exp.extract_features()`):\n",
        "```\n",
        "exp.feature_dataframe = your_df\n",
        "```"
      ],
      "metadata": {
        "id": "aS8ezsoG7vJc"
      }
    },
    {
      "cell_type": "markdown",
      "source": [
        "### 🏋️‍♀️ Training a classifier\n",
        "\n",
        "Everything's ready to feed the classifier, train it to distinguish between the authors and then explain how it is doing that."
      ],
      "metadata": {
        "id": "FbgkvbyM6j3o"
      }
    },
    {
      "cell_type": "markdown",
      "source": [
        "Like before, the default settings are defined in `exp.default_cv_scheme` and `exp.default_classifier_scheme`,\n",
        "and the currently used settings are stored in `exp.cv_scheme` and `exp.classifier_scheme`, which you can modify.\n",
        "\n",
        "⚠️ Not all the settings are used for a given `cv_method`."
      ],
      "metadata": {
        "id": "T9Pd7f8K-8cG"
      }
    },
    {
      "cell_type": "code",
      "source": [
        "exp.cv_scheme"
      ],
      "metadata": {
        "id": "5nc3_l0z-a0i",
        "outputId": "1c1c8ebc-2ab5-419b-cc38-d08853487118",
        "colab": {
          "base_uri": "https://localhost:8080/"
        }
      },
      "execution_count": 80,
      "outputs": [
        {
          "output_type": "execute_result",
          "data": {
            "text/plain": [
              "{'cv_method': 'StratifiedKFold',\n",
              " 'n_repeats': 10,\n",
              " 'n_splits': 10,\n",
              " 'shuffle': True,\n",
              " 'n_groups': 2,\n",
              " 'p': 2,\n",
              " 'test_fold': [1, 0, 1, 1, 0],\n",
              " 'test_size': 0.2,\n",
              " 'train_size': 0.2,\n",
              " 'random_state': None,\n",
              " 'val_fraction': 0.0,\n",
              " 'scoring': {'acc': {'func': <function sklearn.metrics._classification.accuracy_score(y_true, y_pred, *, normalize=True, sample_weight=None)>},\n",
              "  'f1': {'func': <function sklearn.metrics._classification.fbeta_score(y_true, y_pred, *, beta, labels=None, pos_label=1, average='binary', sample_weight=None, zero_division='warn')>,\n",
              "   'params': {'beta': 1, 'average': 'macro'}}}}"
            ]
          },
          "metadata": {},
          "execution_count": 80
        }
      ]
    },
    {
      "cell_type": "code",
      "source": [
        "exp.cv_scheme['val_fraction'] = 0."
      ],
      "metadata": {
        "id": "qQC3qkvs-cZ_"
      },
      "execution_count": 77,
      "outputs": []
    },
    {
      "cell_type": "code",
      "source": [
        "exp.classify(save_to_file=True)"
      ],
      "metadata": {
        "id": "Zd9kGxVi-PVK",
        "outputId": "67b4cf33-bff1-4fc3-8273-55a426175137",
        "colab": {
          "base_uri": "https://localhost:8080/",
          "height": 1000,
          "referenced_widgets": [
            "ee94ade5b1e34e01a6c3a701848004e4",
            "1080384fb9bf47e0aba9e1bfd95e37bd",
            "7612be9e9cd341328abd84ffbc48268c",
            "f1c0a74311884d64834db12f460fea3e",
            "0f3a27e190cd4652a5a2d5b2c7331c33",
            "14ffa1d9608a4a1d860194177e16dc3d",
            "5615131b34b24df0b8ae7d17d8b7ccba",
            "442fe568655d4121babf8a156b0a411c",
            "411ff1738f8d4d0593d4334559dbf412",
            "c42b4d000e4749f080cae0280a73abae",
            "78afbbb5e94e443cb36a235ba6b25bf4",
            "95a3033c343b42ada609d006c1b77fa7",
            "570ff7bd5bdb42ca8e48dbaa6523055a",
            "258c254a783944c09b45337df6999c7e",
            "5be9d2f8d4f94e69b15098d62715953e",
            "197e96d6df484fc784fa29f71a35bb8f",
            "913534f7aa47455b93f4028783d7ab53",
            "d1492c29feeb441eb1cdd0a09c33c15d",
            "159923b867024c37a7b4d7804c45eba2",
            "bb44661f901c4ae1b54eaad02025501f",
            "443bd79e66d24b5e895f20769e7eed8d",
            "4f9b409134134e4ea26f8f9b81ee52fc"
          ]
        }
      },
      "execution_count": 78,
      "outputs": [
        {
          "output_type": "stream",
          "name": "stdout",
          "text": [
            "Proceeding with 2 classes.\n",
            "Proceeding with StratifiedKFold cross-validation.\n"
          ]
        },
        {
          "output_type": "display_data",
          "data": {
            "text/plain": [
              "  0%|          | 0/10 [00:00<?, ?it/s]"
            ],
            "application/vnd.jupyter.widget-view+json": {
              "version_major": 2,
              "version_minor": 0,
              "model_id": "ee94ade5b1e34e01a6c3a701848004e4"
            }
          },
          "metadata": {}
        },
        {
          "output_type": "stream",
          "name": "stdout",
          "text": [
            "'val_fraction' setting results in 0.0 validation samples. No nested validation will be performed.\n",
            "Train:315, Val:0, Test:36\n"
          ]
        },
        {
          "output_type": "stream",
          "name": "stderr",
          "text": [
            "/usr/local/lib/python3.11/dist-packages/lightgbm/engine.py:204: UserWarning: Found `num_iterations` in params. Will use it instead of argument\n",
            "  _log_warning(f\"Found `{alias}` in params. Will use it instead of argument\")\n"
          ]
        },
        {
          "output_type": "stream",
          "name": "stdout",
          "text": [
            "'val_fraction' setting results in 0.0 validation samples. No nested validation will be performed.\n",
            "Train:316, Val:0, Test:35\n"
          ]
        },
        {
          "output_type": "stream",
          "name": "stderr",
          "text": [
            "/usr/local/lib/python3.11/dist-packages/lightgbm/engine.py:204: UserWarning: Found `num_iterations` in params. Will use it instead of argument\n",
            "  _log_warning(f\"Found `{alias}` in params. Will use it instead of argument\")\n"
          ]
        },
        {
          "output_type": "stream",
          "name": "stdout",
          "text": [
            "'val_fraction' setting results in 0.0 validation samples. No nested validation will be performed.\n",
            "Train:316, Val:0, Test:35\n"
          ]
        },
        {
          "output_type": "stream",
          "name": "stderr",
          "text": [
            "/usr/local/lib/python3.11/dist-packages/lightgbm/engine.py:204: UserWarning: Found `num_iterations` in params. Will use it instead of argument\n",
            "  _log_warning(f\"Found `{alias}` in params. Will use it instead of argument\")\n"
          ]
        },
        {
          "output_type": "stream",
          "name": "stdout",
          "text": [
            "'val_fraction' setting results in 0.0 validation samples. No nested validation will be performed.\n",
            "Train:316, Val:0, Test:35\n"
          ]
        },
        {
          "output_type": "stream",
          "name": "stderr",
          "text": [
            "/usr/local/lib/python3.11/dist-packages/lightgbm/engine.py:204: UserWarning: Found `num_iterations` in params. Will use it instead of argument\n",
            "  _log_warning(f\"Found `{alias}` in params. Will use it instead of argument\")\n"
          ]
        },
        {
          "output_type": "stream",
          "name": "stdout",
          "text": [
            "'val_fraction' setting results in 0.0 validation samples. No nested validation will be performed.\n",
            "Train:316, Val:0, Test:35\n"
          ]
        },
        {
          "output_type": "stream",
          "name": "stderr",
          "text": [
            "/usr/local/lib/python3.11/dist-packages/lightgbm/engine.py:204: UserWarning: Found `num_iterations` in params. Will use it instead of argument\n",
            "  _log_warning(f\"Found `{alias}` in params. Will use it instead of argument\")\n"
          ]
        },
        {
          "output_type": "stream",
          "name": "stdout",
          "text": [
            "'val_fraction' setting results in 0.0 validation samples. No nested validation will be performed.\n",
            "Train:316, Val:0, Test:35\n"
          ]
        },
        {
          "output_type": "stream",
          "name": "stderr",
          "text": [
            "/usr/local/lib/python3.11/dist-packages/lightgbm/engine.py:204: UserWarning: Found `num_iterations` in params. Will use it instead of argument\n",
            "  _log_warning(f\"Found `{alias}` in params. Will use it instead of argument\")\n"
          ]
        },
        {
          "output_type": "stream",
          "name": "stdout",
          "text": [
            "'val_fraction' setting results in 0.0 validation samples. No nested validation will be performed.\n",
            "Train:316, Val:0, Test:35\n"
          ]
        },
        {
          "output_type": "stream",
          "name": "stderr",
          "text": [
            "/usr/local/lib/python3.11/dist-packages/lightgbm/engine.py:204: UserWarning: Found `num_iterations` in params. Will use it instead of argument\n",
            "  _log_warning(f\"Found `{alias}` in params. Will use it instead of argument\")\n"
          ]
        },
        {
          "output_type": "stream",
          "name": "stdout",
          "text": [
            "'val_fraction' setting results in 0.0 validation samples. No nested validation will be performed.\n",
            "Train:316, Val:0, Test:35\n"
          ]
        },
        {
          "output_type": "stream",
          "name": "stderr",
          "text": [
            "/usr/local/lib/python3.11/dist-packages/lightgbm/engine.py:204: UserWarning: Found `num_iterations` in params. Will use it instead of argument\n",
            "  _log_warning(f\"Found `{alias}` in params. Will use it instead of argument\")\n"
          ]
        },
        {
          "output_type": "stream",
          "name": "stdout",
          "text": [
            "'val_fraction' setting results in 0.0 validation samples. No nested validation will be performed.\n",
            "Train:316, Val:0, Test:35\n"
          ]
        },
        {
          "output_type": "stream",
          "name": "stderr",
          "text": [
            "/usr/local/lib/python3.11/dist-packages/lightgbm/engine.py:204: UserWarning: Found `num_iterations` in params. Will use it instead of argument\n",
            "  _log_warning(f\"Found `{alias}` in params. Will use it instead of argument\")\n"
          ]
        },
        {
          "output_type": "stream",
          "name": "stdout",
          "text": [
            "'val_fraction' setting results in 0.0 validation samples. No nested validation will be performed.\n",
            "Train:316, Val:0, Test:35\n"
          ]
        },
        {
          "output_type": "stream",
          "name": "stderr",
          "text": [
            "/usr/local/lib/python3.11/dist-packages/lightgbm/engine.py:204: UserWarning: Found `num_iterations` in params. Will use it instead of argument\n",
            "  _log_warning(f\"Found `{alias}` in params. Will use it instead of argument\")\n"
          ]
        },
        {
          "output_type": "stream",
          "name": "stdout",
          "text": [
            "'val_fraction' setting results in 0.0 validation samples. No nested validation will be performed.\n",
            "Train:315, Val:0, Test:36\n"
          ]
        },
        {
          "output_type": "stream",
          "name": "stderr",
          "text": [
            "/usr/local/lib/python3.11/dist-packages/lightgbm/engine.py:204: UserWarning: Found `num_iterations` in params. Will use it instead of argument\n",
            "  _log_warning(f\"Found `{alias}` in params. Will use it instead of argument\")\n"
          ]
        },
        {
          "output_type": "stream",
          "name": "stdout",
          "text": [
            "'val_fraction' setting results in 0.0 validation samples. No nested validation will be performed.\n",
            "Train:316, Val:0, Test:35\n"
          ]
        },
        {
          "output_type": "stream",
          "name": "stderr",
          "text": [
            "/usr/local/lib/python3.11/dist-packages/lightgbm/engine.py:204: UserWarning: Found `num_iterations` in params. Will use it instead of argument\n",
            "  _log_warning(f\"Found `{alias}` in params. Will use it instead of argument\")\n"
          ]
        },
        {
          "output_type": "stream",
          "name": "stdout",
          "text": [
            "'val_fraction' setting results in 0.0 validation samples. No nested validation will be performed.\n",
            "Train:316, Val:0, Test:35\n"
          ]
        },
        {
          "output_type": "stream",
          "name": "stderr",
          "text": [
            "/usr/local/lib/python3.11/dist-packages/lightgbm/engine.py:204: UserWarning: Found `num_iterations` in params. Will use it instead of argument\n",
            "  _log_warning(f\"Found `{alias}` in params. Will use it instead of argument\")\n"
          ]
        },
        {
          "output_type": "stream",
          "name": "stdout",
          "text": [
            "'val_fraction' setting results in 0.0 validation samples. No nested validation will be performed.\n",
            "Train:316, Val:0, Test:35\n"
          ]
        },
        {
          "output_type": "stream",
          "name": "stderr",
          "text": [
            "/usr/local/lib/python3.11/dist-packages/lightgbm/engine.py:204: UserWarning: Found `num_iterations` in params. Will use it instead of argument\n",
            "  _log_warning(f\"Found `{alias}` in params. Will use it instead of argument\")\n"
          ]
        },
        {
          "output_type": "stream",
          "name": "stdout",
          "text": [
            "'val_fraction' setting results in 0.0 validation samples. No nested validation will be performed.\n",
            "Train:316, Val:0, Test:35\n"
          ]
        },
        {
          "output_type": "stream",
          "name": "stderr",
          "text": [
            "/usr/local/lib/python3.11/dist-packages/lightgbm/engine.py:204: UserWarning: Found `num_iterations` in params. Will use it instead of argument\n",
            "  _log_warning(f\"Found `{alias}` in params. Will use it instead of argument\")\n"
          ]
        },
        {
          "output_type": "stream",
          "name": "stdout",
          "text": [
            "'val_fraction' setting results in 0.0 validation samples. No nested validation will be performed.\n",
            "Train:316, Val:0, Test:35\n"
          ]
        },
        {
          "output_type": "stream",
          "name": "stderr",
          "text": [
            "/usr/local/lib/python3.11/dist-packages/lightgbm/engine.py:204: UserWarning: Found `num_iterations` in params. Will use it instead of argument\n",
            "  _log_warning(f\"Found `{alias}` in params. Will use it instead of argument\")\n"
          ]
        },
        {
          "output_type": "stream",
          "name": "stdout",
          "text": [
            "'val_fraction' setting results in 0.0 validation samples. No nested validation will be performed.\n",
            "Train:316, Val:0, Test:35\n"
          ]
        },
        {
          "output_type": "stream",
          "name": "stderr",
          "text": [
            "/usr/local/lib/python3.11/dist-packages/lightgbm/engine.py:204: UserWarning: Found `num_iterations` in params. Will use it instead of argument\n",
            "  _log_warning(f\"Found `{alias}` in params. Will use it instead of argument\")\n"
          ]
        },
        {
          "output_type": "stream",
          "name": "stdout",
          "text": [
            "'val_fraction' setting results in 0.0 validation samples. No nested validation will be performed.\n",
            "Train:316, Val:0, Test:35\n"
          ]
        },
        {
          "output_type": "stream",
          "name": "stderr",
          "text": [
            "/usr/local/lib/python3.11/dist-packages/lightgbm/engine.py:204: UserWarning: Found `num_iterations` in params. Will use it instead of argument\n",
            "  _log_warning(f\"Found `{alias}` in params. Will use it instead of argument\")\n"
          ]
        },
        {
          "output_type": "stream",
          "name": "stdout",
          "text": [
            "'val_fraction' setting results in 0.0 validation samples. No nested validation will be performed.\n",
            "Train:316, Val:0, Test:35\n"
          ]
        },
        {
          "output_type": "stream",
          "name": "stderr",
          "text": [
            "/usr/local/lib/python3.11/dist-packages/lightgbm/engine.py:204: UserWarning: Found `num_iterations` in params. Will use it instead of argument\n",
            "  _log_warning(f\"Found `{alias}` in params. Will use it instead of argument\")\n"
          ]
        },
        {
          "output_type": "stream",
          "name": "stdout",
          "text": [
            "'val_fraction' setting results in 0.0 validation samples. No nested validation will be performed.\n",
            "Train:316, Val:0, Test:35\n"
          ]
        },
        {
          "output_type": "stream",
          "name": "stderr",
          "text": [
            "/usr/local/lib/python3.11/dist-packages/lightgbm/engine.py:204: UserWarning: Found `num_iterations` in params. Will use it instead of argument\n",
            "  _log_warning(f\"Found `{alias}` in params. Will use it instead of argument\")\n"
          ]
        },
        {
          "output_type": "stream",
          "name": "stdout",
          "text": [
            "'val_fraction' setting results in 0.0 validation samples. No nested validation will be performed.\n",
            "Train:315, Val:0, Test:36\n"
          ]
        },
        {
          "output_type": "stream",
          "name": "stderr",
          "text": [
            "/usr/local/lib/python3.11/dist-packages/lightgbm/engine.py:204: UserWarning: Found `num_iterations` in params. Will use it instead of argument\n",
            "  _log_warning(f\"Found `{alias}` in params. Will use it instead of argument\")\n"
          ]
        },
        {
          "output_type": "stream",
          "name": "stdout",
          "text": [
            "'val_fraction' setting results in 0.0 validation samples. No nested validation will be performed.\n",
            "Train:316, Val:0, Test:35\n"
          ]
        },
        {
          "output_type": "stream",
          "name": "stderr",
          "text": [
            "/usr/local/lib/python3.11/dist-packages/lightgbm/engine.py:204: UserWarning: Found `num_iterations` in params. Will use it instead of argument\n",
            "  _log_warning(f\"Found `{alias}` in params. Will use it instead of argument\")\n"
          ]
        },
        {
          "output_type": "stream",
          "name": "stdout",
          "text": [
            "'val_fraction' setting results in 0.0 validation samples. No nested validation will be performed.\n",
            "Train:316, Val:0, Test:35\n"
          ]
        },
        {
          "output_type": "stream",
          "name": "stderr",
          "text": [
            "/usr/local/lib/python3.11/dist-packages/lightgbm/engine.py:204: UserWarning: Found `num_iterations` in params. Will use it instead of argument\n",
            "  _log_warning(f\"Found `{alias}` in params. Will use it instead of argument\")\n"
          ]
        },
        {
          "output_type": "stream",
          "name": "stdout",
          "text": [
            "'val_fraction' setting results in 0.0 validation samples. No nested validation will be performed.\n",
            "Train:316, Val:0, Test:35\n"
          ]
        },
        {
          "output_type": "stream",
          "name": "stderr",
          "text": [
            "/usr/local/lib/python3.11/dist-packages/lightgbm/engine.py:204: UserWarning: Found `num_iterations` in params. Will use it instead of argument\n",
            "  _log_warning(f\"Found `{alias}` in params. Will use it instead of argument\")\n"
          ]
        },
        {
          "output_type": "stream",
          "name": "stdout",
          "text": [
            "'val_fraction' setting results in 0.0 validation samples. No nested validation will be performed.\n",
            "Train:316, Val:0, Test:35\n"
          ]
        },
        {
          "output_type": "stream",
          "name": "stderr",
          "text": [
            "/usr/local/lib/python3.11/dist-packages/lightgbm/engine.py:204: UserWarning: Found `num_iterations` in params. Will use it instead of argument\n",
            "  _log_warning(f\"Found `{alias}` in params. Will use it instead of argument\")\n"
          ]
        },
        {
          "output_type": "stream",
          "name": "stdout",
          "text": [
            "'val_fraction' setting results in 0.0 validation samples. No nested validation will be performed.\n",
            "Train:316, Val:0, Test:35\n"
          ]
        },
        {
          "output_type": "stream",
          "name": "stderr",
          "text": [
            "/usr/local/lib/python3.11/dist-packages/lightgbm/engine.py:204: UserWarning: Found `num_iterations` in params. Will use it instead of argument\n",
            "  _log_warning(f\"Found `{alias}` in params. Will use it instead of argument\")\n"
          ]
        },
        {
          "output_type": "stream",
          "name": "stdout",
          "text": [
            "'val_fraction' setting results in 0.0 validation samples. No nested validation will be performed.\n",
            "Train:316, Val:0, Test:35\n"
          ]
        },
        {
          "output_type": "stream",
          "name": "stderr",
          "text": [
            "/usr/local/lib/python3.11/dist-packages/lightgbm/engine.py:204: UserWarning: Found `num_iterations` in params. Will use it instead of argument\n",
            "  _log_warning(f\"Found `{alias}` in params. Will use it instead of argument\")\n"
          ]
        },
        {
          "output_type": "stream",
          "name": "stdout",
          "text": [
            "'val_fraction' setting results in 0.0 validation samples. No nested validation will be performed.\n",
            "Train:316, Val:0, Test:35\n"
          ]
        },
        {
          "output_type": "stream",
          "name": "stderr",
          "text": [
            "/usr/local/lib/python3.11/dist-packages/lightgbm/engine.py:204: UserWarning: Found `num_iterations` in params. Will use it instead of argument\n",
            "  _log_warning(f\"Found `{alias}` in params. Will use it instead of argument\")\n"
          ]
        },
        {
          "output_type": "stream",
          "name": "stdout",
          "text": [
            "'val_fraction' setting results in 0.0 validation samples. No nested validation will be performed.\n",
            "Train:316, Val:0, Test:35\n"
          ]
        },
        {
          "output_type": "stream",
          "name": "stderr",
          "text": [
            "/usr/local/lib/python3.11/dist-packages/lightgbm/engine.py:204: UserWarning: Found `num_iterations` in params. Will use it instead of argument\n",
            "  _log_warning(f\"Found `{alias}` in params. Will use it instead of argument\")\n"
          ]
        },
        {
          "output_type": "stream",
          "name": "stdout",
          "text": [
            "'val_fraction' setting results in 0.0 validation samples. No nested validation will be performed.\n",
            "Train:316, Val:0, Test:35\n"
          ]
        },
        {
          "output_type": "stream",
          "name": "stderr",
          "text": [
            "/usr/local/lib/python3.11/dist-packages/lightgbm/engine.py:204: UserWarning: Found `num_iterations` in params. Will use it instead of argument\n",
            "  _log_warning(f\"Found `{alias}` in params. Will use it instead of argument\")\n"
          ]
        },
        {
          "output_type": "stream",
          "name": "stdout",
          "text": [
            "'val_fraction' setting results in 0.0 validation samples. No nested validation will be performed.\n",
            "Train:315, Val:0, Test:36\n"
          ]
        },
        {
          "output_type": "stream",
          "name": "stderr",
          "text": [
            "/usr/local/lib/python3.11/dist-packages/lightgbm/engine.py:204: UserWarning: Found `num_iterations` in params. Will use it instead of argument\n",
            "  _log_warning(f\"Found `{alias}` in params. Will use it instead of argument\")\n"
          ]
        },
        {
          "output_type": "stream",
          "name": "stdout",
          "text": [
            "'val_fraction' setting results in 0.0 validation samples. No nested validation will be performed.\n",
            "Train:316, Val:0, Test:35\n"
          ]
        },
        {
          "output_type": "stream",
          "name": "stderr",
          "text": [
            "/usr/local/lib/python3.11/dist-packages/lightgbm/engine.py:204: UserWarning: Found `num_iterations` in params. Will use it instead of argument\n",
            "  _log_warning(f\"Found `{alias}` in params. Will use it instead of argument\")\n"
          ]
        },
        {
          "output_type": "stream",
          "name": "stdout",
          "text": [
            "'val_fraction' setting results in 0.0 validation samples. No nested validation will be performed.\n",
            "Train:316, Val:0, Test:35\n"
          ]
        },
        {
          "output_type": "stream",
          "name": "stderr",
          "text": [
            "/usr/local/lib/python3.11/dist-packages/lightgbm/engine.py:204: UserWarning: Found `num_iterations` in params. Will use it instead of argument\n",
            "  _log_warning(f\"Found `{alias}` in params. Will use it instead of argument\")\n"
          ]
        },
        {
          "output_type": "stream",
          "name": "stdout",
          "text": [
            "'val_fraction' setting results in 0.0 validation samples. No nested validation will be performed.\n",
            "Train:316, Val:0, Test:35\n"
          ]
        },
        {
          "output_type": "stream",
          "name": "stderr",
          "text": [
            "/usr/local/lib/python3.11/dist-packages/lightgbm/engine.py:204: UserWarning: Found `num_iterations` in params. Will use it instead of argument\n",
            "  _log_warning(f\"Found `{alias}` in params. Will use it instead of argument\")\n"
          ]
        },
        {
          "output_type": "stream",
          "name": "stdout",
          "text": [
            "'val_fraction' setting results in 0.0 validation samples. No nested validation will be performed.\n",
            "Train:316, Val:0, Test:35\n"
          ]
        },
        {
          "output_type": "stream",
          "name": "stderr",
          "text": [
            "/usr/local/lib/python3.11/dist-packages/lightgbm/engine.py:204: UserWarning: Found `num_iterations` in params. Will use it instead of argument\n",
            "  _log_warning(f\"Found `{alias}` in params. Will use it instead of argument\")\n"
          ]
        },
        {
          "output_type": "stream",
          "name": "stdout",
          "text": [
            "'val_fraction' setting results in 0.0 validation samples. No nested validation will be performed.\n",
            "Train:316, Val:0, Test:35\n"
          ]
        },
        {
          "output_type": "stream",
          "name": "stderr",
          "text": [
            "/usr/local/lib/python3.11/dist-packages/lightgbm/engine.py:204: UserWarning: Found `num_iterations` in params. Will use it instead of argument\n",
            "  _log_warning(f\"Found `{alias}` in params. Will use it instead of argument\")\n"
          ]
        },
        {
          "output_type": "stream",
          "name": "stdout",
          "text": [
            "'val_fraction' setting results in 0.0 validation samples. No nested validation will be performed.\n",
            "Train:316, Val:0, Test:35\n"
          ]
        },
        {
          "output_type": "stream",
          "name": "stderr",
          "text": [
            "/usr/local/lib/python3.11/dist-packages/lightgbm/engine.py:204: UserWarning: Found `num_iterations` in params. Will use it instead of argument\n",
            "  _log_warning(f\"Found `{alias}` in params. Will use it instead of argument\")\n"
          ]
        },
        {
          "output_type": "stream",
          "name": "stdout",
          "text": [
            "'val_fraction' setting results in 0.0 validation samples. No nested validation will be performed.\n",
            "Train:316, Val:0, Test:35\n"
          ]
        },
        {
          "output_type": "stream",
          "name": "stderr",
          "text": [
            "/usr/local/lib/python3.11/dist-packages/lightgbm/engine.py:204: UserWarning: Found `num_iterations` in params. Will use it instead of argument\n",
            "  _log_warning(f\"Found `{alias}` in params. Will use it instead of argument\")\n"
          ]
        },
        {
          "output_type": "stream",
          "name": "stdout",
          "text": [
            "'val_fraction' setting results in 0.0 validation samples. No nested validation will be performed.\n",
            "Train:316, Val:0, Test:35\n"
          ]
        },
        {
          "output_type": "stream",
          "name": "stderr",
          "text": [
            "/usr/local/lib/python3.11/dist-packages/lightgbm/engine.py:204: UserWarning: Found `num_iterations` in params. Will use it instead of argument\n",
            "  _log_warning(f\"Found `{alias}` in params. Will use it instead of argument\")\n"
          ]
        },
        {
          "output_type": "stream",
          "name": "stdout",
          "text": [
            "'val_fraction' setting results in 0.0 validation samples. No nested validation will be performed.\n",
            "Train:316, Val:0, Test:35\n"
          ]
        },
        {
          "output_type": "stream",
          "name": "stderr",
          "text": [
            "/usr/local/lib/python3.11/dist-packages/lightgbm/engine.py:204: UserWarning: Found `num_iterations` in params. Will use it instead of argument\n",
            "  _log_warning(f\"Found `{alias}` in params. Will use it instead of argument\")\n"
          ]
        },
        {
          "output_type": "stream",
          "name": "stdout",
          "text": [
            "'val_fraction' setting results in 0.0 validation samples. No nested validation will be performed.\n",
            "Train:315, Val:0, Test:36\n"
          ]
        },
        {
          "output_type": "stream",
          "name": "stderr",
          "text": [
            "/usr/local/lib/python3.11/dist-packages/lightgbm/engine.py:204: UserWarning: Found `num_iterations` in params. Will use it instead of argument\n",
            "  _log_warning(f\"Found `{alias}` in params. Will use it instead of argument\")\n"
          ]
        },
        {
          "output_type": "stream",
          "name": "stdout",
          "text": [
            "'val_fraction' setting results in 0.0 validation samples. No nested validation will be performed.\n",
            "Train:316, Val:0, Test:35\n"
          ]
        },
        {
          "output_type": "stream",
          "name": "stderr",
          "text": [
            "/usr/local/lib/python3.11/dist-packages/lightgbm/engine.py:204: UserWarning: Found `num_iterations` in params. Will use it instead of argument\n",
            "  _log_warning(f\"Found `{alias}` in params. Will use it instead of argument\")\n"
          ]
        },
        {
          "output_type": "stream",
          "name": "stdout",
          "text": [
            "'val_fraction' setting results in 0.0 validation samples. No nested validation will be performed.\n",
            "Train:316, Val:0, Test:35\n"
          ]
        },
        {
          "output_type": "stream",
          "name": "stderr",
          "text": [
            "/usr/local/lib/python3.11/dist-packages/lightgbm/engine.py:204: UserWarning: Found `num_iterations` in params. Will use it instead of argument\n",
            "  _log_warning(f\"Found `{alias}` in params. Will use it instead of argument\")\n"
          ]
        },
        {
          "output_type": "stream",
          "name": "stdout",
          "text": [
            "'val_fraction' setting results in 0.0 validation samples. No nested validation will be performed.\n",
            "Train:316, Val:0, Test:35\n"
          ]
        },
        {
          "output_type": "stream",
          "name": "stderr",
          "text": [
            "/usr/local/lib/python3.11/dist-packages/lightgbm/engine.py:204: UserWarning: Found `num_iterations` in params. Will use it instead of argument\n",
            "  _log_warning(f\"Found `{alias}` in params. Will use it instead of argument\")\n"
          ]
        },
        {
          "output_type": "stream",
          "name": "stdout",
          "text": [
            "'val_fraction' setting results in 0.0 validation samples. No nested validation will be performed.\n",
            "Train:316, Val:0, Test:35\n"
          ]
        },
        {
          "output_type": "stream",
          "name": "stderr",
          "text": [
            "/usr/local/lib/python3.11/dist-packages/lightgbm/engine.py:204: UserWarning: Found `num_iterations` in params. Will use it instead of argument\n",
            "  _log_warning(f\"Found `{alias}` in params. Will use it instead of argument\")\n"
          ]
        },
        {
          "output_type": "stream",
          "name": "stdout",
          "text": [
            "'val_fraction' setting results in 0.0 validation samples. No nested validation will be performed.\n",
            "Train:316, Val:0, Test:35\n"
          ]
        },
        {
          "output_type": "stream",
          "name": "stderr",
          "text": [
            "/usr/local/lib/python3.11/dist-packages/lightgbm/engine.py:204: UserWarning: Found `num_iterations` in params. Will use it instead of argument\n",
            "  _log_warning(f\"Found `{alias}` in params. Will use it instead of argument\")\n"
          ]
        },
        {
          "output_type": "stream",
          "name": "stdout",
          "text": [
            "'val_fraction' setting results in 0.0 validation samples. No nested validation will be performed.\n",
            "Train:316, Val:0, Test:35\n"
          ]
        },
        {
          "output_type": "stream",
          "name": "stderr",
          "text": [
            "/usr/local/lib/python3.11/dist-packages/lightgbm/engine.py:204: UserWarning: Found `num_iterations` in params. Will use it instead of argument\n",
            "  _log_warning(f\"Found `{alias}` in params. Will use it instead of argument\")\n"
          ]
        },
        {
          "output_type": "stream",
          "name": "stdout",
          "text": [
            "'val_fraction' setting results in 0.0 validation samples. No nested validation will be performed.\n",
            "Train:316, Val:0, Test:35\n"
          ]
        },
        {
          "output_type": "stream",
          "name": "stderr",
          "text": [
            "/usr/local/lib/python3.11/dist-packages/lightgbm/engine.py:204: UserWarning: Found `num_iterations` in params. Will use it instead of argument\n",
            "  _log_warning(f\"Found `{alias}` in params. Will use it instead of argument\")\n"
          ]
        },
        {
          "output_type": "stream",
          "name": "stdout",
          "text": [
            "'val_fraction' setting results in 0.0 validation samples. No nested validation will be performed.\n",
            "Train:316, Val:0, Test:35\n"
          ]
        },
        {
          "output_type": "stream",
          "name": "stderr",
          "text": [
            "/usr/local/lib/python3.11/dist-packages/lightgbm/engine.py:204: UserWarning: Found `num_iterations` in params. Will use it instead of argument\n",
            "  _log_warning(f\"Found `{alias}` in params. Will use it instead of argument\")\n"
          ]
        },
        {
          "output_type": "stream",
          "name": "stdout",
          "text": [
            "'val_fraction' setting results in 0.0 validation samples. No nested validation will be performed.\n",
            "Train:316, Val:0, Test:35\n"
          ]
        },
        {
          "output_type": "stream",
          "name": "stderr",
          "text": [
            "/usr/local/lib/python3.11/dist-packages/lightgbm/engine.py:204: UserWarning: Found `num_iterations` in params. Will use it instead of argument\n",
            "  _log_warning(f\"Found `{alias}` in params. Will use it instead of argument\")\n"
          ]
        },
        {
          "output_type": "stream",
          "name": "stdout",
          "text": [
            "'val_fraction' setting results in 0.0 validation samples. No nested validation will be performed.\n",
            "Train:315, Val:0, Test:36\n"
          ]
        },
        {
          "output_type": "stream",
          "name": "stderr",
          "text": [
            "/usr/local/lib/python3.11/dist-packages/lightgbm/engine.py:204: UserWarning: Found `num_iterations` in params. Will use it instead of argument\n",
            "  _log_warning(f\"Found `{alias}` in params. Will use it instead of argument\")\n"
          ]
        },
        {
          "output_type": "stream",
          "name": "stdout",
          "text": [
            "'val_fraction' setting results in 0.0 validation samples. No nested validation will be performed.\n",
            "Train:316, Val:0, Test:35\n"
          ]
        },
        {
          "output_type": "stream",
          "name": "stderr",
          "text": [
            "/usr/local/lib/python3.11/dist-packages/lightgbm/engine.py:204: UserWarning: Found `num_iterations` in params. Will use it instead of argument\n",
            "  _log_warning(f\"Found `{alias}` in params. Will use it instead of argument\")\n"
          ]
        },
        {
          "output_type": "stream",
          "name": "stdout",
          "text": [
            "'val_fraction' setting results in 0.0 validation samples. No nested validation will be performed.\n",
            "Train:316, Val:0, Test:35\n"
          ]
        },
        {
          "output_type": "stream",
          "name": "stderr",
          "text": [
            "/usr/local/lib/python3.11/dist-packages/lightgbm/engine.py:204: UserWarning: Found `num_iterations` in params. Will use it instead of argument\n",
            "  _log_warning(f\"Found `{alias}` in params. Will use it instead of argument\")\n"
          ]
        },
        {
          "output_type": "stream",
          "name": "stdout",
          "text": [
            "'val_fraction' setting results in 0.0 validation samples. No nested validation will be performed.\n",
            "Train:316, Val:0, Test:35\n"
          ]
        },
        {
          "output_type": "stream",
          "name": "stderr",
          "text": [
            "/usr/local/lib/python3.11/dist-packages/lightgbm/engine.py:204: UserWarning: Found `num_iterations` in params. Will use it instead of argument\n",
            "  _log_warning(f\"Found `{alias}` in params. Will use it instead of argument\")\n"
          ]
        },
        {
          "output_type": "stream",
          "name": "stdout",
          "text": [
            "'val_fraction' setting results in 0.0 validation samples. No nested validation will be performed.\n",
            "Train:316, Val:0, Test:35\n"
          ]
        },
        {
          "output_type": "stream",
          "name": "stderr",
          "text": [
            "/usr/local/lib/python3.11/dist-packages/lightgbm/engine.py:204: UserWarning: Found `num_iterations` in params. Will use it instead of argument\n",
            "  _log_warning(f\"Found `{alias}` in params. Will use it instead of argument\")\n"
          ]
        },
        {
          "output_type": "stream",
          "name": "stdout",
          "text": [
            "'val_fraction' setting results in 0.0 validation samples. No nested validation will be performed.\n",
            "Train:316, Val:0, Test:35\n"
          ]
        },
        {
          "output_type": "stream",
          "name": "stderr",
          "text": [
            "/usr/local/lib/python3.11/dist-packages/lightgbm/engine.py:204: UserWarning: Found `num_iterations` in params. Will use it instead of argument\n",
            "  _log_warning(f\"Found `{alias}` in params. Will use it instead of argument\")\n"
          ]
        },
        {
          "output_type": "stream",
          "name": "stdout",
          "text": [
            "'val_fraction' setting results in 0.0 validation samples. No nested validation will be performed.\n",
            "Train:316, Val:0, Test:35\n"
          ]
        },
        {
          "output_type": "stream",
          "name": "stderr",
          "text": [
            "/usr/local/lib/python3.11/dist-packages/lightgbm/engine.py:204: UserWarning: Found `num_iterations` in params. Will use it instead of argument\n",
            "  _log_warning(f\"Found `{alias}` in params. Will use it instead of argument\")\n"
          ]
        },
        {
          "output_type": "stream",
          "name": "stdout",
          "text": [
            "'val_fraction' setting results in 0.0 validation samples. No nested validation will be performed.\n",
            "Train:316, Val:0, Test:35\n"
          ]
        },
        {
          "output_type": "stream",
          "name": "stderr",
          "text": [
            "/usr/local/lib/python3.11/dist-packages/lightgbm/engine.py:204: UserWarning: Found `num_iterations` in params. Will use it instead of argument\n",
            "  _log_warning(f\"Found `{alias}` in params. Will use it instead of argument\")\n"
          ]
        },
        {
          "output_type": "stream",
          "name": "stdout",
          "text": [
            "'val_fraction' setting results in 0.0 validation samples. No nested validation will be performed.\n",
            "Train:316, Val:0, Test:35\n"
          ]
        },
        {
          "output_type": "stream",
          "name": "stderr",
          "text": [
            "/usr/local/lib/python3.11/dist-packages/lightgbm/engine.py:204: UserWarning: Found `num_iterations` in params. Will use it instead of argument\n",
            "  _log_warning(f\"Found `{alias}` in params. Will use it instead of argument\")\n"
          ]
        },
        {
          "output_type": "stream",
          "name": "stdout",
          "text": [
            "'val_fraction' setting results in 0.0 validation samples. No nested validation will be performed.\n",
            "Train:316, Val:0, Test:35\n"
          ]
        },
        {
          "output_type": "stream",
          "name": "stderr",
          "text": [
            "/usr/local/lib/python3.11/dist-packages/lightgbm/engine.py:204: UserWarning: Found `num_iterations` in params. Will use it instead of argument\n",
            "  _log_warning(f\"Found `{alias}` in params. Will use it instead of argument\")\n"
          ]
        },
        {
          "output_type": "stream",
          "name": "stdout",
          "text": [
            "'val_fraction' setting results in 0.0 validation samples. No nested validation will be performed.\n",
            "Train:315, Val:0, Test:36\n"
          ]
        },
        {
          "output_type": "stream",
          "name": "stderr",
          "text": [
            "/usr/local/lib/python3.11/dist-packages/lightgbm/engine.py:204: UserWarning: Found `num_iterations` in params. Will use it instead of argument\n",
            "  _log_warning(f\"Found `{alias}` in params. Will use it instead of argument\")\n"
          ]
        },
        {
          "output_type": "stream",
          "name": "stdout",
          "text": [
            "'val_fraction' setting results in 0.0 validation samples. No nested validation will be performed.\n",
            "Train:316, Val:0, Test:35\n"
          ]
        },
        {
          "output_type": "stream",
          "name": "stderr",
          "text": [
            "/usr/local/lib/python3.11/dist-packages/lightgbm/engine.py:204: UserWarning: Found `num_iterations` in params. Will use it instead of argument\n",
            "  _log_warning(f\"Found `{alias}` in params. Will use it instead of argument\")\n"
          ]
        },
        {
          "output_type": "stream",
          "name": "stdout",
          "text": [
            "'val_fraction' setting results in 0.0 validation samples. No nested validation will be performed.\n",
            "Train:316, Val:0, Test:35\n"
          ]
        },
        {
          "output_type": "stream",
          "name": "stderr",
          "text": [
            "/usr/local/lib/python3.11/dist-packages/lightgbm/engine.py:204: UserWarning: Found `num_iterations` in params. Will use it instead of argument\n",
            "  _log_warning(f\"Found `{alias}` in params. Will use it instead of argument\")\n"
          ]
        },
        {
          "output_type": "stream",
          "name": "stdout",
          "text": [
            "'val_fraction' setting results in 0.0 validation samples. No nested validation will be performed.\n",
            "Train:316, Val:0, Test:35\n"
          ]
        },
        {
          "output_type": "stream",
          "name": "stderr",
          "text": [
            "/usr/local/lib/python3.11/dist-packages/lightgbm/engine.py:204: UserWarning: Found `num_iterations` in params. Will use it instead of argument\n",
            "  _log_warning(f\"Found `{alias}` in params. Will use it instead of argument\")\n"
          ]
        },
        {
          "output_type": "stream",
          "name": "stdout",
          "text": [
            "'val_fraction' setting results in 0.0 validation samples. No nested validation will be performed.\n",
            "Train:316, Val:0, Test:35\n"
          ]
        },
        {
          "output_type": "stream",
          "name": "stderr",
          "text": [
            "/usr/local/lib/python3.11/dist-packages/lightgbm/engine.py:204: UserWarning: Found `num_iterations` in params. Will use it instead of argument\n",
            "  _log_warning(f\"Found `{alias}` in params. Will use it instead of argument\")\n"
          ]
        },
        {
          "output_type": "stream",
          "name": "stdout",
          "text": [
            "'val_fraction' setting results in 0.0 validation samples. No nested validation will be performed.\n",
            "Train:316, Val:0, Test:35\n"
          ]
        },
        {
          "output_type": "stream",
          "name": "stderr",
          "text": [
            "/usr/local/lib/python3.11/dist-packages/lightgbm/engine.py:204: UserWarning: Found `num_iterations` in params. Will use it instead of argument\n",
            "  _log_warning(f\"Found `{alias}` in params. Will use it instead of argument\")\n"
          ]
        },
        {
          "output_type": "stream",
          "name": "stdout",
          "text": [
            "'val_fraction' setting results in 0.0 validation samples. No nested validation will be performed.\n",
            "Train:316, Val:0, Test:35\n"
          ]
        },
        {
          "output_type": "stream",
          "name": "stderr",
          "text": [
            "/usr/local/lib/python3.11/dist-packages/lightgbm/engine.py:204: UserWarning: Found `num_iterations` in params. Will use it instead of argument\n",
            "  _log_warning(f\"Found `{alias}` in params. Will use it instead of argument\")\n"
          ]
        },
        {
          "output_type": "stream",
          "name": "stdout",
          "text": [
            "'val_fraction' setting results in 0.0 validation samples. No nested validation will be performed.\n",
            "Train:316, Val:0, Test:35\n"
          ]
        },
        {
          "output_type": "stream",
          "name": "stderr",
          "text": [
            "/usr/local/lib/python3.11/dist-packages/lightgbm/engine.py:204: UserWarning: Found `num_iterations` in params. Will use it instead of argument\n",
            "  _log_warning(f\"Found `{alias}` in params. Will use it instead of argument\")\n"
          ]
        },
        {
          "output_type": "stream",
          "name": "stdout",
          "text": [
            "'val_fraction' setting results in 0.0 validation samples. No nested validation will be performed.\n",
            "Train:316, Val:0, Test:35\n"
          ]
        },
        {
          "output_type": "stream",
          "name": "stderr",
          "text": [
            "/usr/local/lib/python3.11/dist-packages/lightgbm/engine.py:204: UserWarning: Found `num_iterations` in params. Will use it instead of argument\n",
            "  _log_warning(f\"Found `{alias}` in params. Will use it instead of argument\")\n"
          ]
        },
        {
          "output_type": "stream",
          "name": "stdout",
          "text": [
            "'val_fraction' setting results in 0.0 validation samples. No nested validation will be performed.\n",
            "Train:316, Val:0, Test:35\n"
          ]
        },
        {
          "output_type": "stream",
          "name": "stderr",
          "text": [
            "/usr/local/lib/python3.11/dist-packages/lightgbm/engine.py:204: UserWarning: Found `num_iterations` in params. Will use it instead of argument\n",
            "  _log_warning(f\"Found `{alias}` in params. Will use it instead of argument\")\n"
          ]
        },
        {
          "output_type": "stream",
          "name": "stdout",
          "text": [
            "'val_fraction' setting results in 0.0 validation samples. No nested validation will be performed.\n",
            "Train:315, Val:0, Test:36\n"
          ]
        },
        {
          "output_type": "stream",
          "name": "stderr",
          "text": [
            "/usr/local/lib/python3.11/dist-packages/lightgbm/engine.py:204: UserWarning: Found `num_iterations` in params. Will use it instead of argument\n",
            "  _log_warning(f\"Found `{alias}` in params. Will use it instead of argument\")\n"
          ]
        },
        {
          "output_type": "stream",
          "name": "stdout",
          "text": [
            "'val_fraction' setting results in 0.0 validation samples. No nested validation will be performed.\n",
            "Train:316, Val:0, Test:35\n"
          ]
        },
        {
          "output_type": "stream",
          "name": "stderr",
          "text": [
            "/usr/local/lib/python3.11/dist-packages/lightgbm/engine.py:204: UserWarning: Found `num_iterations` in params. Will use it instead of argument\n",
            "  _log_warning(f\"Found `{alias}` in params. Will use it instead of argument\")\n"
          ]
        },
        {
          "output_type": "stream",
          "name": "stdout",
          "text": [
            "'val_fraction' setting results in 0.0 validation samples. No nested validation will be performed.\n",
            "Train:316, Val:0, Test:35\n"
          ]
        },
        {
          "output_type": "stream",
          "name": "stderr",
          "text": [
            "/usr/local/lib/python3.11/dist-packages/lightgbm/engine.py:204: UserWarning: Found `num_iterations` in params. Will use it instead of argument\n",
            "  _log_warning(f\"Found `{alias}` in params. Will use it instead of argument\")\n"
          ]
        },
        {
          "output_type": "stream",
          "name": "stdout",
          "text": [
            "'val_fraction' setting results in 0.0 validation samples. No nested validation will be performed.\n",
            "Train:316, Val:0, Test:35\n"
          ]
        },
        {
          "output_type": "stream",
          "name": "stderr",
          "text": [
            "/usr/local/lib/python3.11/dist-packages/lightgbm/engine.py:204: UserWarning: Found `num_iterations` in params. Will use it instead of argument\n",
            "  _log_warning(f\"Found `{alias}` in params. Will use it instead of argument\")\n"
          ]
        },
        {
          "output_type": "stream",
          "name": "stdout",
          "text": [
            "'val_fraction' setting results in 0.0 validation samples. No nested validation will be performed.\n",
            "Train:316, Val:0, Test:35\n"
          ]
        },
        {
          "output_type": "stream",
          "name": "stderr",
          "text": [
            "/usr/local/lib/python3.11/dist-packages/lightgbm/engine.py:204: UserWarning: Found `num_iterations` in params. Will use it instead of argument\n",
            "  _log_warning(f\"Found `{alias}` in params. Will use it instead of argument\")\n"
          ]
        },
        {
          "output_type": "stream",
          "name": "stdout",
          "text": [
            "'val_fraction' setting results in 0.0 validation samples. No nested validation will be performed.\n",
            "Train:316, Val:0, Test:35\n"
          ]
        },
        {
          "output_type": "stream",
          "name": "stderr",
          "text": [
            "/usr/local/lib/python3.11/dist-packages/lightgbm/engine.py:204: UserWarning: Found `num_iterations` in params. Will use it instead of argument\n",
            "  _log_warning(f\"Found `{alias}` in params. Will use it instead of argument\")\n"
          ]
        },
        {
          "output_type": "stream",
          "name": "stdout",
          "text": [
            "'val_fraction' setting results in 0.0 validation samples. No nested validation will be performed.\n",
            "Train:316, Val:0, Test:35\n"
          ]
        },
        {
          "output_type": "stream",
          "name": "stderr",
          "text": [
            "/usr/local/lib/python3.11/dist-packages/lightgbm/engine.py:204: UserWarning: Found `num_iterations` in params. Will use it instead of argument\n",
            "  _log_warning(f\"Found `{alias}` in params. Will use it instead of argument\")\n"
          ]
        },
        {
          "output_type": "stream",
          "name": "stdout",
          "text": [
            "'val_fraction' setting results in 0.0 validation samples. No nested validation will be performed.\n",
            "Train:316, Val:0, Test:35\n"
          ]
        },
        {
          "output_type": "stream",
          "name": "stderr",
          "text": [
            "/usr/local/lib/python3.11/dist-packages/lightgbm/engine.py:204: UserWarning: Found `num_iterations` in params. Will use it instead of argument\n",
            "  _log_warning(f\"Found `{alias}` in params. Will use it instead of argument\")\n"
          ]
        },
        {
          "output_type": "stream",
          "name": "stdout",
          "text": [
            "'val_fraction' setting results in 0.0 validation samples. No nested validation will be performed.\n",
            "Train:316, Val:0, Test:35\n"
          ]
        },
        {
          "output_type": "stream",
          "name": "stderr",
          "text": [
            "/usr/local/lib/python3.11/dist-packages/lightgbm/engine.py:204: UserWarning: Found `num_iterations` in params. Will use it instead of argument\n",
            "  _log_warning(f\"Found `{alias}` in params. Will use it instead of argument\")\n"
          ]
        },
        {
          "output_type": "stream",
          "name": "stdout",
          "text": [
            "'val_fraction' setting results in 0.0 validation samples. No nested validation will be performed.\n",
            "Train:316, Val:0, Test:35\n"
          ]
        },
        {
          "output_type": "stream",
          "name": "stderr",
          "text": [
            "/usr/local/lib/python3.11/dist-packages/lightgbm/engine.py:204: UserWarning: Found `num_iterations` in params. Will use it instead of argument\n",
            "  _log_warning(f\"Found `{alias}` in params. Will use it instead of argument\")\n"
          ]
        },
        {
          "output_type": "stream",
          "name": "stdout",
          "text": [
            "'val_fraction' setting results in 0.0 validation samples. No nested validation will be performed.\n",
            "Train:315, Val:0, Test:36\n"
          ]
        },
        {
          "output_type": "stream",
          "name": "stderr",
          "text": [
            "/usr/local/lib/python3.11/dist-packages/lightgbm/engine.py:204: UserWarning: Found `num_iterations` in params. Will use it instead of argument\n",
            "  _log_warning(f\"Found `{alias}` in params. Will use it instead of argument\")\n"
          ]
        },
        {
          "output_type": "stream",
          "name": "stdout",
          "text": [
            "'val_fraction' setting results in 0.0 validation samples. No nested validation will be performed.\n",
            "Train:316, Val:0, Test:35\n"
          ]
        },
        {
          "output_type": "stream",
          "name": "stderr",
          "text": [
            "/usr/local/lib/python3.11/dist-packages/lightgbm/engine.py:204: UserWarning: Found `num_iterations` in params. Will use it instead of argument\n",
            "  _log_warning(f\"Found `{alias}` in params. Will use it instead of argument\")\n"
          ]
        },
        {
          "output_type": "stream",
          "name": "stdout",
          "text": [
            "'val_fraction' setting results in 0.0 validation samples. No nested validation will be performed.\n",
            "Train:316, Val:0, Test:35\n"
          ]
        },
        {
          "output_type": "stream",
          "name": "stderr",
          "text": [
            "/usr/local/lib/python3.11/dist-packages/lightgbm/engine.py:204: UserWarning: Found `num_iterations` in params. Will use it instead of argument\n",
            "  _log_warning(f\"Found `{alias}` in params. Will use it instead of argument\")\n"
          ]
        },
        {
          "output_type": "stream",
          "name": "stdout",
          "text": [
            "'val_fraction' setting results in 0.0 validation samples. No nested validation will be performed.\n",
            "Train:316, Val:0, Test:35\n"
          ]
        },
        {
          "output_type": "stream",
          "name": "stderr",
          "text": [
            "/usr/local/lib/python3.11/dist-packages/lightgbm/engine.py:204: UserWarning: Found `num_iterations` in params. Will use it instead of argument\n",
            "  _log_warning(f\"Found `{alias}` in params. Will use it instead of argument\")\n"
          ]
        },
        {
          "output_type": "stream",
          "name": "stdout",
          "text": [
            "'val_fraction' setting results in 0.0 validation samples. No nested validation will be performed.\n",
            "Train:316, Val:0, Test:35\n"
          ]
        },
        {
          "output_type": "stream",
          "name": "stderr",
          "text": [
            "/usr/local/lib/python3.11/dist-packages/lightgbm/engine.py:204: UserWarning: Found `num_iterations` in params. Will use it instead of argument\n",
            "  _log_warning(f\"Found `{alias}` in params. Will use it instead of argument\")\n"
          ]
        },
        {
          "output_type": "stream",
          "name": "stdout",
          "text": [
            "'val_fraction' setting results in 0.0 validation samples. No nested validation will be performed.\n",
            "Train:316, Val:0, Test:35\n"
          ]
        },
        {
          "output_type": "stream",
          "name": "stderr",
          "text": [
            "/usr/local/lib/python3.11/dist-packages/lightgbm/engine.py:204: UserWarning: Found `num_iterations` in params. Will use it instead of argument\n",
            "  _log_warning(f\"Found `{alias}` in params. Will use it instead of argument\")\n"
          ]
        },
        {
          "output_type": "stream",
          "name": "stdout",
          "text": [
            "'val_fraction' setting results in 0.0 validation samples. No nested validation will be performed.\n",
            "Train:316, Val:0, Test:35\n"
          ]
        },
        {
          "output_type": "stream",
          "name": "stderr",
          "text": [
            "/usr/local/lib/python3.11/dist-packages/lightgbm/engine.py:204: UserWarning: Found `num_iterations` in params. Will use it instead of argument\n",
            "  _log_warning(f\"Found `{alias}` in params. Will use it instead of argument\")\n"
          ]
        },
        {
          "output_type": "stream",
          "name": "stdout",
          "text": [
            "'val_fraction' setting results in 0.0 validation samples. No nested validation will be performed.\n",
            "Train:316, Val:0, Test:35\n"
          ]
        },
        {
          "output_type": "stream",
          "name": "stderr",
          "text": [
            "/usr/local/lib/python3.11/dist-packages/lightgbm/engine.py:204: UserWarning: Found `num_iterations` in params. Will use it instead of argument\n",
            "  _log_warning(f\"Found `{alias}` in params. Will use it instead of argument\")\n"
          ]
        },
        {
          "output_type": "stream",
          "name": "stdout",
          "text": [
            "'val_fraction' setting results in 0.0 validation samples. No nested validation will be performed.\n",
            "Train:316, Val:0, Test:35\n"
          ]
        },
        {
          "output_type": "stream",
          "name": "stderr",
          "text": [
            "/usr/local/lib/python3.11/dist-packages/lightgbm/engine.py:204: UserWarning: Found `num_iterations` in params. Will use it instead of argument\n",
            "  _log_warning(f\"Found `{alias}` in params. Will use it instead of argument\")\n"
          ]
        },
        {
          "output_type": "stream",
          "name": "stdout",
          "text": [
            "'val_fraction' setting results in 0.0 validation samples. No nested validation will be performed.\n",
            "Train:316, Val:0, Test:35\n"
          ]
        },
        {
          "output_type": "stream",
          "name": "stderr",
          "text": [
            "/usr/local/lib/python3.11/dist-packages/lightgbm/engine.py:204: UserWarning: Found `num_iterations` in params. Will use it instead of argument\n",
            "  _log_warning(f\"Found `{alias}` in params. Will use it instead of argument\")\n"
          ]
        },
        {
          "output_type": "stream",
          "name": "stdout",
          "text": [
            "'val_fraction' setting results in 0.0 validation samples. No nested validation will be performed.\n",
            "Train:315, Val:0, Test:36\n"
          ]
        },
        {
          "output_type": "stream",
          "name": "stderr",
          "text": [
            "/usr/local/lib/python3.11/dist-packages/lightgbm/engine.py:204: UserWarning: Found `num_iterations` in params. Will use it instead of argument\n",
            "  _log_warning(f\"Found `{alias}` in params. Will use it instead of argument\")\n"
          ]
        },
        {
          "output_type": "stream",
          "name": "stdout",
          "text": [
            "'val_fraction' setting results in 0.0 validation samples. No nested validation will be performed.\n",
            "Train:316, Val:0, Test:35\n"
          ]
        },
        {
          "output_type": "stream",
          "name": "stderr",
          "text": [
            "/usr/local/lib/python3.11/dist-packages/lightgbm/engine.py:204: UserWarning: Found `num_iterations` in params. Will use it instead of argument\n",
            "  _log_warning(f\"Found `{alias}` in params. Will use it instead of argument\")\n"
          ]
        },
        {
          "output_type": "stream",
          "name": "stdout",
          "text": [
            "'val_fraction' setting results in 0.0 validation samples. No nested validation will be performed.\n",
            "Train:316, Val:0, Test:35\n"
          ]
        },
        {
          "output_type": "stream",
          "name": "stderr",
          "text": [
            "/usr/local/lib/python3.11/dist-packages/lightgbm/engine.py:204: UserWarning: Found `num_iterations` in params. Will use it instead of argument\n",
            "  _log_warning(f\"Found `{alias}` in params. Will use it instead of argument\")\n"
          ]
        },
        {
          "output_type": "stream",
          "name": "stdout",
          "text": [
            "'val_fraction' setting results in 0.0 validation samples. No nested validation will be performed.\n",
            "Train:316, Val:0, Test:35\n"
          ]
        },
        {
          "output_type": "stream",
          "name": "stderr",
          "text": [
            "/usr/local/lib/python3.11/dist-packages/lightgbm/engine.py:204: UserWarning: Found `num_iterations` in params. Will use it instead of argument\n",
            "  _log_warning(f\"Found `{alias}` in params. Will use it instead of argument\")\n"
          ]
        },
        {
          "output_type": "stream",
          "name": "stdout",
          "text": [
            "'val_fraction' setting results in 0.0 validation samples. No nested validation will be performed.\n",
            "Train:316, Val:0, Test:35\n"
          ]
        },
        {
          "output_type": "stream",
          "name": "stderr",
          "text": [
            "/usr/local/lib/python3.11/dist-packages/lightgbm/engine.py:204: UserWarning: Found `num_iterations` in params. Will use it instead of argument\n",
            "  _log_warning(f\"Found `{alias}` in params. Will use it instead of argument\")\n"
          ]
        },
        {
          "output_type": "stream",
          "name": "stdout",
          "text": [
            "'val_fraction' setting results in 0.0 validation samples. No nested validation will be performed.\n",
            "Train:316, Val:0, Test:35\n"
          ]
        },
        {
          "output_type": "stream",
          "name": "stderr",
          "text": [
            "/usr/local/lib/python3.11/dist-packages/lightgbm/engine.py:204: UserWarning: Found `num_iterations` in params. Will use it instead of argument\n",
            "  _log_warning(f\"Found `{alias}` in params. Will use it instead of argument\")\n"
          ]
        },
        {
          "output_type": "stream",
          "name": "stdout",
          "text": [
            "'val_fraction' setting results in 0.0 validation samples. No nested validation will be performed.\n",
            "Train:316, Val:0, Test:35\n"
          ]
        },
        {
          "output_type": "stream",
          "name": "stderr",
          "text": [
            "/usr/local/lib/python3.11/dist-packages/lightgbm/engine.py:204: UserWarning: Found `num_iterations` in params. Will use it instead of argument\n",
            "  _log_warning(f\"Found `{alias}` in params. Will use it instead of argument\")\n"
          ]
        },
        {
          "output_type": "stream",
          "name": "stdout",
          "text": [
            "'val_fraction' setting results in 0.0 validation samples. No nested validation will be performed.\n",
            "Train:316, Val:0, Test:35\n"
          ]
        },
        {
          "output_type": "stream",
          "name": "stderr",
          "text": [
            "/usr/local/lib/python3.11/dist-packages/lightgbm/engine.py:204: UserWarning: Found `num_iterations` in params. Will use it instead of argument\n",
            "  _log_warning(f\"Found `{alias}` in params. Will use it instead of argument\")\n"
          ]
        },
        {
          "output_type": "stream",
          "name": "stdout",
          "text": [
            "'val_fraction' setting results in 0.0 validation samples. No nested validation will be performed.\n",
            "Train:316, Val:0, Test:35\n"
          ]
        },
        {
          "output_type": "stream",
          "name": "stderr",
          "text": [
            "/usr/local/lib/python3.11/dist-packages/lightgbm/engine.py:204: UserWarning: Found `num_iterations` in params. Will use it instead of argument\n",
            "  _log_warning(f\"Found `{alias}` in params. Will use it instead of argument\")\n"
          ]
        },
        {
          "output_type": "stream",
          "name": "stdout",
          "text": [
            "'val_fraction' setting results in 0.0 validation samples. No nested validation will be performed.\n",
            "Train:316, Val:0, Test:35\n"
          ]
        },
        {
          "output_type": "stream",
          "name": "stderr",
          "text": [
            "/usr/local/lib/python3.11/dist-packages/lightgbm/engine.py:204: UserWarning: Found `num_iterations` in params. Will use it instead of argument\n",
            "  _log_warning(f\"Found `{alias}` in params. Will use it instead of argument\")\n"
          ]
        },
        {
          "output_type": "display_data",
          "data": {
            "text/plain": [
              "  0%|          | 0/100 [00:00<?, ?it/s]"
            ],
            "application/vnd.jupyter.widget-view+json": {
              "version_major": 2,
              "version_minor": 0,
              "model_id": "95a3033c343b42ada609d006c1b77fa7"
            }
          },
          "metadata": {}
        },
        {
          "output_type": "stream",
          "name": "stdout",
          "text": [
            "Accuracy [0-1, higher better]: \t0.97 \t Baseline value:  0.57\n",
            "F1 [0-1, higher better]: \t\t0.96 \t Baseline value:  0.36\n",
            "Scores saved as explain_example1/subsamples_ts_200/scores_class-class.pkl.\n",
            "Classifiers saved as explain_example1/subsamples_ts_200/classifiers_class-class.pkl.\n",
            "Classifiers saved as booster_*.txt.\n",
            "Classifier parameters saved as 'explain_example1/subsamples_ts_200/config_classifier_scheme.json'. It can be reloaded with '.load_params_classifier(filename)'.\n",
            "Cross-validation parameters saved as 'explain_example1/subsamples_ts_200/config_cv_scheme.pkl'. It can be reloaded with '.load_params_cv(filename)'.\n"
          ]
        }
      ]
    },
    {
      "cell_type": "markdown",
      "source": [
        "Let's check if the classifier is actually able to correctly attribute the samples to the authors:"
      ],
      "metadata": {
        "id": "Jg9XDsBhAASr"
      }
    },
    {
      "cell_type": "code",
      "source": [
        "exp.scores.print_scores()"
      ],
      "metadata": {
        "id": "nLj4IG06_xHz",
        "outputId": "c3649ff5-a164-498c-f0da-010846c4ea32",
        "colab": {
          "base_uri": "https://localhost:8080/"
        }
      },
      "execution_count": 83,
      "outputs": [
        {
          "output_type": "stream",
          "name": "stdout",
          "text": [
            "Accuracy [0-1, higher better]: \t0.97 \t Baseline value:  0.57\n",
            "F1 [0-1, higher better]: \t\t0.96 \t Baseline value:  0.36\n"
          ]
        }
      ]
    },
    {
      "cell_type": "markdown",
      "source": [
        "Both the classifier itself\n",
        "```\n",
        "exp.classifiers_load(postfix='_class-class')\n",
        "```\n",
        "and the scores\n",
        "```\n",
        "exp.scores_load(postfix='_class-class')\n",
        "```\n",
        "are saved and can be reloaded for further inspection or for inference using the trained model."
      ],
      "metadata": {
        "id": "iCx14wdjAQsg"
      }
    },
    {
      "cell_type": "markdown",
      "source": [
        "### Explanations"
      ],
      "metadata": {
        "id": "LjsW5fm4Aprq"
      }
    },
    {
      "cell_type": "markdown",
      "metadata": {
        "id": "JJLTRw_ctkoL"
      },
      "source": [
        "## 🧪 Your Playground\n",
        "\n",
        "You can now run your own analyses using functions from `cl_explainable_stylo`, loading texts and experimenting with stylistic explainability."
      ]
    },
    {
      "cell_type": "code",
      "execution_count": null,
      "metadata": {
        "id": "4EB16pIgtkoO"
      },
      "outputs": [],
      "source": [
        "# Write your own code here!\n",
        "# For example, analyze loaded text, vectorize it, or explain features\n",
        "# from cl_explainable_stylo import analyze_text\n",
        "\n",
        "# results = analyze_text(text)\n",
        "# print(results)"
      ]
    }
  ],
  "metadata": {
    "kernelspec": {
      "display_name": "Python 3",
      "language": "python",
      "name": "python3"
    },
    "language_info": {
      "name": "python",
      "version": "3.x"
    },
    "colab": {
      "provenance": []
    },
    "widgets": {
      "application/vnd.jupyter.widget-state+json": {
        "f6a683801ee84173b0605369b0c0eaad": {
          "model_module": "@jupyter-widgets/controls",
          "model_name": "HBoxModel",
          "model_module_version": "1.5.0",
          "state": {
            "_dom_classes": [],
            "_model_module": "@jupyter-widgets/controls",
            "_model_module_version": "1.5.0",
            "_model_name": "HBoxModel",
            "_view_count": null,
            "_view_module": "@jupyter-widgets/controls",
            "_view_module_version": "1.5.0",
            "_view_name": "HBoxView",
            "box_style": "",
            "children": [
              "IPY_MODEL_5c5ce46c64374ecebfbd178a8e672984",
              "IPY_MODEL_9ec3cd57416e4d2b986ffeaa5ce8525a",
              "IPY_MODEL_7b1024f9cb824b4cb67b7545e36cefb5"
            ],
            "layout": "IPY_MODEL_59ea904aab6d4b16836d3418760ca892"
          }
        },
        "5c5ce46c64374ecebfbd178a8e672984": {
          "model_module": "@jupyter-widgets/controls",
          "model_name": "HTMLModel",
          "model_module_version": "1.5.0",
          "state": {
            "_dom_classes": [],
            "_model_module": "@jupyter-widgets/controls",
            "_model_module_version": "1.5.0",
            "_model_name": "HTMLModel",
            "_view_count": null,
            "_view_module": "@jupyter-widgets/controls",
            "_view_module_version": "1.5.0",
            "_view_name": "HTMLView",
            "description": "",
            "description_tooltip": null,
            "layout": "IPY_MODEL_8742f08284894110bf2a6084f8e9e59d",
            "placeholder": "​",
            "style": "IPY_MODEL_68ba6919c7f6495f8fb222419add6656",
            "value": ""
          }
        },
        "9ec3cd57416e4d2b986ffeaa5ce8525a": {
          "model_module": "@jupyter-widgets/controls",
          "model_name": "FloatProgressModel",
          "model_module_version": "1.5.0",
          "state": {
            "_dom_classes": [],
            "_model_module": "@jupyter-widgets/controls",
            "_model_module_version": "1.5.0",
            "_model_name": "FloatProgressModel",
            "_view_count": null,
            "_view_module": "@jupyter-widgets/controls",
            "_view_module_version": "1.5.0",
            "_view_name": "ProgressView",
            "bar_style": "success",
            "description": "",
            "description_tooltip": null,
            "layout": "IPY_MODEL_8cb5e2034ba84795b252f62f5cfd018a",
            "max": 1,
            "min": 0,
            "orientation": "horizontal",
            "style": "IPY_MODEL_47ea41d24e354e88b67ec326849a94de",
            "value": 1
          }
        },
        "7b1024f9cb824b4cb67b7545e36cefb5": {
          "model_module": "@jupyter-widgets/controls",
          "model_name": "HTMLModel",
          "model_module_version": "1.5.0",
          "state": {
            "_dom_classes": [],
            "_model_module": "@jupyter-widgets/controls",
            "_model_module_version": "1.5.0",
            "_model_name": "HTMLModel",
            "_view_count": null,
            "_view_module": "@jupyter-widgets/controls",
            "_view_module_version": "1.5.0",
            "_view_name": "HTMLView",
            "description": "",
            "description_tooltip": null,
            "layout": "IPY_MODEL_349b273e056c49ddb4025e5722ee9e15",
            "placeholder": "​",
            "style": "IPY_MODEL_6b9c98b684eb423aacbb207be2bbc4f0",
            "value": " 2/? [00:00&lt;00:00, 99.70it/s]"
          }
        },
        "59ea904aab6d4b16836d3418760ca892": {
          "model_module": "@jupyter-widgets/base",
          "model_name": "LayoutModel",
          "model_module_version": "1.2.0",
          "state": {
            "_model_module": "@jupyter-widgets/base",
            "_model_module_version": "1.2.0",
            "_model_name": "LayoutModel",
            "_view_count": null,
            "_view_module": "@jupyter-widgets/base",
            "_view_module_version": "1.2.0",
            "_view_name": "LayoutView",
            "align_content": null,
            "align_items": null,
            "align_self": null,
            "border": null,
            "bottom": null,
            "display": null,
            "flex": null,
            "flex_flow": null,
            "grid_area": null,
            "grid_auto_columns": null,
            "grid_auto_flow": null,
            "grid_auto_rows": null,
            "grid_column": null,
            "grid_gap": null,
            "grid_row": null,
            "grid_template_areas": null,
            "grid_template_columns": null,
            "grid_template_rows": null,
            "height": null,
            "justify_content": null,
            "justify_items": null,
            "left": null,
            "margin": null,
            "max_height": null,
            "max_width": null,
            "min_height": null,
            "min_width": null,
            "object_fit": null,
            "object_position": null,
            "order": null,
            "overflow": null,
            "overflow_x": null,
            "overflow_y": null,
            "padding": null,
            "right": null,
            "top": null,
            "visibility": null,
            "width": null
          }
        },
        "8742f08284894110bf2a6084f8e9e59d": {
          "model_module": "@jupyter-widgets/base",
          "model_name": "LayoutModel",
          "model_module_version": "1.2.0",
          "state": {
            "_model_module": "@jupyter-widgets/base",
            "_model_module_version": "1.2.0",
            "_model_name": "LayoutModel",
            "_view_count": null,
            "_view_module": "@jupyter-widgets/base",
            "_view_module_version": "1.2.0",
            "_view_name": "LayoutView",
            "align_content": null,
            "align_items": null,
            "align_self": null,
            "border": null,
            "bottom": null,
            "display": null,
            "flex": null,
            "flex_flow": null,
            "grid_area": null,
            "grid_auto_columns": null,
            "grid_auto_flow": null,
            "grid_auto_rows": null,
            "grid_column": null,
            "grid_gap": null,
            "grid_row": null,
            "grid_template_areas": null,
            "grid_template_columns": null,
            "grid_template_rows": null,
            "height": null,
            "justify_content": null,
            "justify_items": null,
            "left": null,
            "margin": null,
            "max_height": null,
            "max_width": null,
            "min_height": null,
            "min_width": null,
            "object_fit": null,
            "object_position": null,
            "order": null,
            "overflow": null,
            "overflow_x": null,
            "overflow_y": null,
            "padding": null,
            "right": null,
            "top": null,
            "visibility": null,
            "width": null
          }
        },
        "68ba6919c7f6495f8fb222419add6656": {
          "model_module": "@jupyter-widgets/controls",
          "model_name": "DescriptionStyleModel",
          "model_module_version": "1.5.0",
          "state": {
            "_model_module": "@jupyter-widgets/controls",
            "_model_module_version": "1.5.0",
            "_model_name": "DescriptionStyleModel",
            "_view_count": null,
            "_view_module": "@jupyter-widgets/base",
            "_view_module_version": "1.2.0",
            "_view_name": "StyleView",
            "description_width": ""
          }
        },
        "8cb5e2034ba84795b252f62f5cfd018a": {
          "model_module": "@jupyter-widgets/base",
          "model_name": "LayoutModel",
          "model_module_version": "1.2.0",
          "state": {
            "_model_module": "@jupyter-widgets/base",
            "_model_module_version": "1.2.0",
            "_model_name": "LayoutModel",
            "_view_count": null,
            "_view_module": "@jupyter-widgets/base",
            "_view_module_version": "1.2.0",
            "_view_name": "LayoutView",
            "align_content": null,
            "align_items": null,
            "align_self": null,
            "border": null,
            "bottom": null,
            "display": null,
            "flex": null,
            "flex_flow": null,
            "grid_area": null,
            "grid_auto_columns": null,
            "grid_auto_flow": null,
            "grid_auto_rows": null,
            "grid_column": null,
            "grid_gap": null,
            "grid_row": null,
            "grid_template_areas": null,
            "grid_template_columns": null,
            "grid_template_rows": null,
            "height": null,
            "justify_content": null,
            "justify_items": null,
            "left": null,
            "margin": null,
            "max_height": null,
            "max_width": null,
            "min_height": null,
            "min_width": null,
            "object_fit": null,
            "object_position": null,
            "order": null,
            "overflow": null,
            "overflow_x": null,
            "overflow_y": null,
            "padding": null,
            "right": null,
            "top": null,
            "visibility": null,
            "width": "20px"
          }
        },
        "47ea41d24e354e88b67ec326849a94de": {
          "model_module": "@jupyter-widgets/controls",
          "model_name": "ProgressStyleModel",
          "model_module_version": "1.5.0",
          "state": {
            "_model_module": "@jupyter-widgets/controls",
            "_model_module_version": "1.5.0",
            "_model_name": "ProgressStyleModel",
            "_view_count": null,
            "_view_module": "@jupyter-widgets/base",
            "_view_module_version": "1.2.0",
            "_view_name": "StyleView",
            "bar_color": null,
            "description_width": ""
          }
        },
        "349b273e056c49ddb4025e5722ee9e15": {
          "model_module": "@jupyter-widgets/base",
          "model_name": "LayoutModel",
          "model_module_version": "1.2.0",
          "state": {
            "_model_module": "@jupyter-widgets/base",
            "_model_module_version": "1.2.0",
            "_model_name": "LayoutModel",
            "_view_count": null,
            "_view_module": "@jupyter-widgets/base",
            "_view_module_version": "1.2.0",
            "_view_name": "LayoutView",
            "align_content": null,
            "align_items": null,
            "align_self": null,
            "border": null,
            "bottom": null,
            "display": null,
            "flex": null,
            "flex_flow": null,
            "grid_area": null,
            "grid_auto_columns": null,
            "grid_auto_flow": null,
            "grid_auto_rows": null,
            "grid_column": null,
            "grid_gap": null,
            "grid_row": null,
            "grid_template_areas": null,
            "grid_template_columns": null,
            "grid_template_rows": null,
            "height": null,
            "justify_content": null,
            "justify_items": null,
            "left": null,
            "margin": null,
            "max_height": null,
            "max_width": null,
            "min_height": null,
            "min_width": null,
            "object_fit": null,
            "object_position": null,
            "order": null,
            "overflow": null,
            "overflow_x": null,
            "overflow_y": null,
            "padding": null,
            "right": null,
            "top": null,
            "visibility": null,
            "width": null
          }
        },
        "6b9c98b684eb423aacbb207be2bbc4f0": {
          "model_module": "@jupyter-widgets/controls",
          "model_name": "DescriptionStyleModel",
          "model_module_version": "1.5.0",
          "state": {
            "_model_module": "@jupyter-widgets/controls",
            "_model_module_version": "1.5.0",
            "_model_name": "DescriptionStyleModel",
            "_view_count": null,
            "_view_module": "@jupyter-widgets/base",
            "_view_module_version": "1.2.0",
            "_view_name": "StyleView",
            "description_width": ""
          }
        },
        "cd431c8b33dc443c8145c230742f941c": {
          "model_module": "@jupyter-widgets/controls",
          "model_name": "HBoxModel",
          "model_module_version": "1.5.0",
          "state": {
            "_dom_classes": [],
            "_model_module": "@jupyter-widgets/controls",
            "_model_module_version": "1.5.0",
            "_model_name": "HBoxModel",
            "_view_count": null,
            "_view_module": "@jupyter-widgets/controls",
            "_view_module_version": "1.5.0",
            "_view_name": "HBoxView",
            "box_style": "",
            "children": [
              "IPY_MODEL_837e99e8ecdb446885139b98b3ef7a08",
              "IPY_MODEL_1fc04c88fe254232890ab3e98c6e258c",
              "IPY_MODEL_aadef3ddd96444409e838e607c7a3fba"
            ],
            "layout": "IPY_MODEL_ac7a61425cb14439bc2167837c891016"
          }
        },
        "837e99e8ecdb446885139b98b3ef7a08": {
          "model_module": "@jupyter-widgets/controls",
          "model_name": "HTMLModel",
          "model_module_version": "1.5.0",
          "state": {
            "_dom_classes": [],
            "_model_module": "@jupyter-widgets/controls",
            "_model_module_version": "1.5.0",
            "_model_name": "HTMLModel",
            "_view_count": null,
            "_view_module": "@jupyter-widgets/controls",
            "_view_module_version": "1.5.0",
            "_view_name": "HTMLView",
            "description": "",
            "description_tooltip": null,
            "layout": "IPY_MODEL_973889b788c24977aecdeda6b0f50a6c",
            "placeholder": "​",
            "style": "IPY_MODEL_1a9ad082370944e1ac9b902f19f88523",
            "value": ""
          }
        },
        "1fc04c88fe254232890ab3e98c6e258c": {
          "model_module": "@jupyter-widgets/controls",
          "model_name": "FloatProgressModel",
          "model_module_version": "1.5.0",
          "state": {
            "_dom_classes": [],
            "_model_module": "@jupyter-widgets/controls",
            "_model_module_version": "1.5.0",
            "_model_name": "FloatProgressModel",
            "_view_count": null,
            "_view_module": "@jupyter-widgets/controls",
            "_view_module_version": "1.5.0",
            "_view_name": "ProgressView",
            "bar_style": "success",
            "description": "",
            "description_tooltip": null,
            "layout": "IPY_MODEL_779dbe2b7bbb4165a61163e3c5dfd50f",
            "max": 1,
            "min": 0,
            "orientation": "horizontal",
            "style": "IPY_MODEL_b2ba4e455f88437eba919054aa635501",
            "value": 1
          }
        },
        "aadef3ddd96444409e838e607c7a3fba": {
          "model_module": "@jupyter-widgets/controls",
          "model_name": "HTMLModel",
          "model_module_version": "1.5.0",
          "state": {
            "_dom_classes": [],
            "_model_module": "@jupyter-widgets/controls",
            "_model_module_version": "1.5.0",
            "_model_name": "HTMLModel",
            "_view_count": null,
            "_view_module": "@jupyter-widgets/controls",
            "_view_module_version": "1.5.0",
            "_view_name": "HTMLView",
            "description": "",
            "description_tooltip": null,
            "layout": "IPY_MODEL_6275fc93b9144098beae4c473ae37618",
            "placeholder": "​",
            "style": "IPY_MODEL_b2ffff882a9c41aeaed6d70642351bd1",
            "value": " 2/? [00:17&lt;00:00, 17.84s/it]"
          }
        },
        "ac7a61425cb14439bc2167837c891016": {
          "model_module": "@jupyter-widgets/base",
          "model_name": "LayoutModel",
          "model_module_version": "1.2.0",
          "state": {
            "_model_module": "@jupyter-widgets/base",
            "_model_module_version": "1.2.0",
            "_model_name": "LayoutModel",
            "_view_count": null,
            "_view_module": "@jupyter-widgets/base",
            "_view_module_version": "1.2.0",
            "_view_name": "LayoutView",
            "align_content": null,
            "align_items": null,
            "align_self": null,
            "border": null,
            "bottom": null,
            "display": null,
            "flex": null,
            "flex_flow": null,
            "grid_area": null,
            "grid_auto_columns": null,
            "grid_auto_flow": null,
            "grid_auto_rows": null,
            "grid_column": null,
            "grid_gap": null,
            "grid_row": null,
            "grid_template_areas": null,
            "grid_template_columns": null,
            "grid_template_rows": null,
            "height": null,
            "justify_content": null,
            "justify_items": null,
            "left": null,
            "margin": null,
            "max_height": null,
            "max_width": null,
            "min_height": null,
            "min_width": null,
            "object_fit": null,
            "object_position": null,
            "order": null,
            "overflow": null,
            "overflow_x": null,
            "overflow_y": null,
            "padding": null,
            "right": null,
            "top": null,
            "visibility": null,
            "width": null
          }
        },
        "973889b788c24977aecdeda6b0f50a6c": {
          "model_module": "@jupyter-widgets/base",
          "model_name": "LayoutModel",
          "model_module_version": "1.2.0",
          "state": {
            "_model_module": "@jupyter-widgets/base",
            "_model_module_version": "1.2.0",
            "_model_name": "LayoutModel",
            "_view_count": null,
            "_view_module": "@jupyter-widgets/base",
            "_view_module_version": "1.2.0",
            "_view_name": "LayoutView",
            "align_content": null,
            "align_items": null,
            "align_self": null,
            "border": null,
            "bottom": null,
            "display": null,
            "flex": null,
            "flex_flow": null,
            "grid_area": null,
            "grid_auto_columns": null,
            "grid_auto_flow": null,
            "grid_auto_rows": null,
            "grid_column": null,
            "grid_gap": null,
            "grid_row": null,
            "grid_template_areas": null,
            "grid_template_columns": null,
            "grid_template_rows": null,
            "height": null,
            "justify_content": null,
            "justify_items": null,
            "left": null,
            "margin": null,
            "max_height": null,
            "max_width": null,
            "min_height": null,
            "min_width": null,
            "object_fit": null,
            "object_position": null,
            "order": null,
            "overflow": null,
            "overflow_x": null,
            "overflow_y": null,
            "padding": null,
            "right": null,
            "top": null,
            "visibility": null,
            "width": null
          }
        },
        "1a9ad082370944e1ac9b902f19f88523": {
          "model_module": "@jupyter-widgets/controls",
          "model_name": "DescriptionStyleModel",
          "model_module_version": "1.5.0",
          "state": {
            "_model_module": "@jupyter-widgets/controls",
            "_model_module_version": "1.5.0",
            "_model_name": "DescriptionStyleModel",
            "_view_count": null,
            "_view_module": "@jupyter-widgets/base",
            "_view_module_version": "1.2.0",
            "_view_name": "StyleView",
            "description_width": ""
          }
        },
        "779dbe2b7bbb4165a61163e3c5dfd50f": {
          "model_module": "@jupyter-widgets/base",
          "model_name": "LayoutModel",
          "model_module_version": "1.2.0",
          "state": {
            "_model_module": "@jupyter-widgets/base",
            "_model_module_version": "1.2.0",
            "_model_name": "LayoutModel",
            "_view_count": null,
            "_view_module": "@jupyter-widgets/base",
            "_view_module_version": "1.2.0",
            "_view_name": "LayoutView",
            "align_content": null,
            "align_items": null,
            "align_self": null,
            "border": null,
            "bottom": null,
            "display": null,
            "flex": null,
            "flex_flow": null,
            "grid_area": null,
            "grid_auto_columns": null,
            "grid_auto_flow": null,
            "grid_auto_rows": null,
            "grid_column": null,
            "grid_gap": null,
            "grid_row": null,
            "grid_template_areas": null,
            "grid_template_columns": null,
            "grid_template_rows": null,
            "height": null,
            "justify_content": null,
            "justify_items": null,
            "left": null,
            "margin": null,
            "max_height": null,
            "max_width": null,
            "min_height": null,
            "min_width": null,
            "object_fit": null,
            "object_position": null,
            "order": null,
            "overflow": null,
            "overflow_x": null,
            "overflow_y": null,
            "padding": null,
            "right": null,
            "top": null,
            "visibility": null,
            "width": "20px"
          }
        },
        "b2ba4e455f88437eba919054aa635501": {
          "model_module": "@jupyter-widgets/controls",
          "model_name": "ProgressStyleModel",
          "model_module_version": "1.5.0",
          "state": {
            "_model_module": "@jupyter-widgets/controls",
            "_model_module_version": "1.5.0",
            "_model_name": "ProgressStyleModel",
            "_view_count": null,
            "_view_module": "@jupyter-widgets/base",
            "_view_module_version": "1.2.0",
            "_view_name": "StyleView",
            "bar_color": null,
            "description_width": ""
          }
        },
        "6275fc93b9144098beae4c473ae37618": {
          "model_module": "@jupyter-widgets/base",
          "model_name": "LayoutModel",
          "model_module_version": "1.2.0",
          "state": {
            "_model_module": "@jupyter-widgets/base",
            "_model_module_version": "1.2.0",
            "_model_name": "LayoutModel",
            "_view_count": null,
            "_view_module": "@jupyter-widgets/base",
            "_view_module_version": "1.2.0",
            "_view_name": "LayoutView",
            "align_content": null,
            "align_items": null,
            "align_self": null,
            "border": null,
            "bottom": null,
            "display": null,
            "flex": null,
            "flex_flow": null,
            "grid_area": null,
            "grid_auto_columns": null,
            "grid_auto_flow": null,
            "grid_auto_rows": null,
            "grid_column": null,
            "grid_gap": null,
            "grid_row": null,
            "grid_template_areas": null,
            "grid_template_columns": null,
            "grid_template_rows": null,
            "height": null,
            "justify_content": null,
            "justify_items": null,
            "left": null,
            "margin": null,
            "max_height": null,
            "max_width": null,
            "min_height": null,
            "min_width": null,
            "object_fit": null,
            "object_position": null,
            "order": null,
            "overflow": null,
            "overflow_x": null,
            "overflow_y": null,
            "padding": null,
            "right": null,
            "top": null,
            "visibility": null,
            "width": null
          }
        },
        "b2ffff882a9c41aeaed6d70642351bd1": {
          "model_module": "@jupyter-widgets/controls",
          "model_name": "DescriptionStyleModel",
          "model_module_version": "1.5.0",
          "state": {
            "_model_module": "@jupyter-widgets/controls",
            "_model_module_version": "1.5.0",
            "_model_name": "DescriptionStyleModel",
            "_view_count": null,
            "_view_module": "@jupyter-widgets/base",
            "_view_module_version": "1.2.0",
            "_view_name": "StyleView",
            "description_width": ""
          }
        },
        "0b51815ebd6f4cb5b5b7371398c39fd0": {
          "model_module": "@jupyter-widgets/controls",
          "model_name": "HBoxModel",
          "model_module_version": "1.5.0",
          "state": {
            "_dom_classes": [],
            "_model_module": "@jupyter-widgets/controls",
            "_model_module_version": "1.5.0",
            "_model_name": "HBoxModel",
            "_view_count": null,
            "_view_module": "@jupyter-widgets/controls",
            "_view_module_version": "1.5.0",
            "_view_name": "HBoxView",
            "box_style": "",
            "children": [
              "IPY_MODEL_b0a79864c5034328b09ae7c2fa4c6bce",
              "IPY_MODEL_74713a92059d41bb99fd3bb8d618f240",
              "IPY_MODEL_8f322ee66e1646e9b303fa94e30e9de6"
            ],
            "layout": "IPY_MODEL_3360b896c7864748883233b1c9202644"
          }
        },
        "b0a79864c5034328b09ae7c2fa4c6bce": {
          "model_module": "@jupyter-widgets/controls",
          "model_name": "HTMLModel",
          "model_module_version": "1.5.0",
          "state": {
            "_dom_classes": [],
            "_model_module": "@jupyter-widgets/controls",
            "_model_module_version": "1.5.0",
            "_model_name": "HTMLModel",
            "_view_count": null,
            "_view_module": "@jupyter-widgets/controls",
            "_view_module_version": "1.5.0",
            "_view_name": "HTMLView",
            "description": "",
            "description_tooltip": null,
            "layout": "IPY_MODEL_96b4411d4dc246b6be8647c46a5a68f2",
            "placeholder": "​",
            "style": "IPY_MODEL_95f49c134b104eb7bd346a0aa4fac8c8",
            "value": "100%"
          }
        },
        "74713a92059d41bb99fd3bb8d618f240": {
          "model_module": "@jupyter-widgets/controls",
          "model_name": "FloatProgressModel",
          "model_module_version": "1.5.0",
          "state": {
            "_dom_classes": [],
            "_model_module": "@jupyter-widgets/controls",
            "_model_module_version": "1.5.0",
            "_model_name": "FloatProgressModel",
            "_view_count": null,
            "_view_module": "@jupyter-widgets/controls",
            "_view_module_version": "1.5.0",
            "_view_name": "ProgressView",
            "bar_style": "success",
            "description": "",
            "description_tooltip": null,
            "layout": "IPY_MODEL_71cd11e4627d48ef9f8433affb099ca1",
            "max": 2,
            "min": 0,
            "orientation": "horizontal",
            "style": "IPY_MODEL_92fc9a07602d45b4a425f0e6fe915221",
            "value": 2
          }
        },
        "8f322ee66e1646e9b303fa94e30e9de6": {
          "model_module": "@jupyter-widgets/controls",
          "model_name": "HTMLModel",
          "model_module_version": "1.5.0",
          "state": {
            "_dom_classes": [],
            "_model_module": "@jupyter-widgets/controls",
            "_model_module_version": "1.5.0",
            "_model_name": "HTMLModel",
            "_view_count": null,
            "_view_module": "@jupyter-widgets/controls",
            "_view_module_version": "1.5.0",
            "_view_name": "HTMLView",
            "description": "",
            "description_tooltip": null,
            "layout": "IPY_MODEL_3a7edd94ea7c4bd3851e4a5e4b26e466",
            "placeholder": "​",
            "style": "IPY_MODEL_ec0942e97e4e4bb097f269dbc8190381",
            "value": " 2/2 [00:02&lt;00:00,  1.14s/it]"
          }
        },
        "3360b896c7864748883233b1c9202644": {
          "model_module": "@jupyter-widgets/base",
          "model_name": "LayoutModel",
          "model_module_version": "1.2.0",
          "state": {
            "_model_module": "@jupyter-widgets/base",
            "_model_module_version": "1.2.0",
            "_model_name": "LayoutModel",
            "_view_count": null,
            "_view_module": "@jupyter-widgets/base",
            "_view_module_version": "1.2.0",
            "_view_name": "LayoutView",
            "align_content": null,
            "align_items": null,
            "align_self": null,
            "border": null,
            "bottom": null,
            "display": null,
            "flex": null,
            "flex_flow": null,
            "grid_area": null,
            "grid_auto_columns": null,
            "grid_auto_flow": null,
            "grid_auto_rows": null,
            "grid_column": null,
            "grid_gap": null,
            "grid_row": null,
            "grid_template_areas": null,
            "grid_template_columns": null,
            "grid_template_rows": null,
            "height": null,
            "justify_content": null,
            "justify_items": null,
            "left": null,
            "margin": null,
            "max_height": null,
            "max_width": null,
            "min_height": null,
            "min_width": null,
            "object_fit": null,
            "object_position": null,
            "order": null,
            "overflow": null,
            "overflow_x": null,
            "overflow_y": null,
            "padding": null,
            "right": null,
            "top": null,
            "visibility": null,
            "width": null
          }
        },
        "96b4411d4dc246b6be8647c46a5a68f2": {
          "model_module": "@jupyter-widgets/base",
          "model_name": "LayoutModel",
          "model_module_version": "1.2.0",
          "state": {
            "_model_module": "@jupyter-widgets/base",
            "_model_module_version": "1.2.0",
            "_model_name": "LayoutModel",
            "_view_count": null,
            "_view_module": "@jupyter-widgets/base",
            "_view_module_version": "1.2.0",
            "_view_name": "LayoutView",
            "align_content": null,
            "align_items": null,
            "align_self": null,
            "border": null,
            "bottom": null,
            "display": null,
            "flex": null,
            "flex_flow": null,
            "grid_area": null,
            "grid_auto_columns": null,
            "grid_auto_flow": null,
            "grid_auto_rows": null,
            "grid_column": null,
            "grid_gap": null,
            "grid_row": null,
            "grid_template_areas": null,
            "grid_template_columns": null,
            "grid_template_rows": null,
            "height": null,
            "justify_content": null,
            "justify_items": null,
            "left": null,
            "margin": null,
            "max_height": null,
            "max_width": null,
            "min_height": null,
            "min_width": null,
            "object_fit": null,
            "object_position": null,
            "order": null,
            "overflow": null,
            "overflow_x": null,
            "overflow_y": null,
            "padding": null,
            "right": null,
            "top": null,
            "visibility": null,
            "width": null
          }
        },
        "95f49c134b104eb7bd346a0aa4fac8c8": {
          "model_module": "@jupyter-widgets/controls",
          "model_name": "DescriptionStyleModel",
          "model_module_version": "1.5.0",
          "state": {
            "_model_module": "@jupyter-widgets/controls",
            "_model_module_version": "1.5.0",
            "_model_name": "DescriptionStyleModel",
            "_view_count": null,
            "_view_module": "@jupyter-widgets/base",
            "_view_module_version": "1.2.0",
            "_view_name": "StyleView",
            "description_width": ""
          }
        },
        "71cd11e4627d48ef9f8433affb099ca1": {
          "model_module": "@jupyter-widgets/base",
          "model_name": "LayoutModel",
          "model_module_version": "1.2.0",
          "state": {
            "_model_module": "@jupyter-widgets/base",
            "_model_module_version": "1.2.0",
            "_model_name": "LayoutModel",
            "_view_count": null,
            "_view_module": "@jupyter-widgets/base",
            "_view_module_version": "1.2.0",
            "_view_name": "LayoutView",
            "align_content": null,
            "align_items": null,
            "align_self": null,
            "border": null,
            "bottom": null,
            "display": null,
            "flex": null,
            "flex_flow": null,
            "grid_area": null,
            "grid_auto_columns": null,
            "grid_auto_flow": null,
            "grid_auto_rows": null,
            "grid_column": null,
            "grid_gap": null,
            "grid_row": null,
            "grid_template_areas": null,
            "grid_template_columns": null,
            "grid_template_rows": null,
            "height": null,
            "justify_content": null,
            "justify_items": null,
            "left": null,
            "margin": null,
            "max_height": null,
            "max_width": null,
            "min_height": null,
            "min_width": null,
            "object_fit": null,
            "object_position": null,
            "order": null,
            "overflow": null,
            "overflow_x": null,
            "overflow_y": null,
            "padding": null,
            "right": null,
            "top": null,
            "visibility": null,
            "width": null
          }
        },
        "92fc9a07602d45b4a425f0e6fe915221": {
          "model_module": "@jupyter-widgets/controls",
          "model_name": "ProgressStyleModel",
          "model_module_version": "1.5.0",
          "state": {
            "_model_module": "@jupyter-widgets/controls",
            "_model_module_version": "1.5.0",
            "_model_name": "ProgressStyleModel",
            "_view_count": null,
            "_view_module": "@jupyter-widgets/base",
            "_view_module_version": "1.2.0",
            "_view_name": "StyleView",
            "bar_color": null,
            "description_width": ""
          }
        },
        "3a7edd94ea7c4bd3851e4a5e4b26e466": {
          "model_module": "@jupyter-widgets/base",
          "model_name": "LayoutModel",
          "model_module_version": "1.2.0",
          "state": {
            "_model_module": "@jupyter-widgets/base",
            "_model_module_version": "1.2.0",
            "_model_name": "LayoutModel",
            "_view_count": null,
            "_view_module": "@jupyter-widgets/base",
            "_view_module_version": "1.2.0",
            "_view_name": "LayoutView",
            "align_content": null,
            "align_items": null,
            "align_self": null,
            "border": null,
            "bottom": null,
            "display": null,
            "flex": null,
            "flex_flow": null,
            "grid_area": null,
            "grid_auto_columns": null,
            "grid_auto_flow": null,
            "grid_auto_rows": null,
            "grid_column": null,
            "grid_gap": null,
            "grid_row": null,
            "grid_template_areas": null,
            "grid_template_columns": null,
            "grid_template_rows": null,
            "height": null,
            "justify_content": null,
            "justify_items": null,
            "left": null,
            "margin": null,
            "max_height": null,
            "max_width": null,
            "min_height": null,
            "min_width": null,
            "object_fit": null,
            "object_position": null,
            "order": null,
            "overflow": null,
            "overflow_x": null,
            "overflow_y": null,
            "padding": null,
            "right": null,
            "top": null,
            "visibility": null,
            "width": null
          }
        },
        "ec0942e97e4e4bb097f269dbc8190381": {
          "model_module": "@jupyter-widgets/controls",
          "model_name": "DescriptionStyleModel",
          "model_module_version": "1.5.0",
          "state": {
            "_model_module": "@jupyter-widgets/controls",
            "_model_module_version": "1.5.0",
            "_model_name": "DescriptionStyleModel",
            "_view_count": null,
            "_view_module": "@jupyter-widgets/base",
            "_view_module_version": "1.2.0",
            "_view_name": "StyleView",
            "description_width": ""
          }
        },
        "83756708e7de4f949549e189342a8ed1": {
          "model_module": "@jupyter-widgets/controls",
          "model_name": "HBoxModel",
          "model_module_version": "1.5.0",
          "state": {
            "_dom_classes": [],
            "_model_module": "@jupyter-widgets/controls",
            "_model_module_version": "1.5.0",
            "_model_name": "HBoxModel",
            "_view_count": null,
            "_view_module": "@jupyter-widgets/controls",
            "_view_module_version": "1.5.0",
            "_view_name": "HBoxView",
            "box_style": "",
            "children": [
              "IPY_MODEL_7de18267773247deba8a6cb6d4a0c522",
              "IPY_MODEL_656a8fde67774b35a4acc3aa8d55e732",
              "IPY_MODEL_e55de258181a47afae6205896dfdbff2"
            ],
            "layout": "IPY_MODEL_a4383833fa364fc5a44899753dcba4c4"
          }
        },
        "7de18267773247deba8a6cb6d4a0c522": {
          "model_module": "@jupyter-widgets/controls",
          "model_name": "HTMLModel",
          "model_module_version": "1.5.0",
          "state": {
            "_dom_classes": [],
            "_model_module": "@jupyter-widgets/controls",
            "_model_module_version": "1.5.0",
            "_model_name": "HTMLModel",
            "_view_count": null,
            "_view_module": "@jupyter-widgets/controls",
            "_view_module_version": "1.5.0",
            "_view_name": "HTMLView",
            "description": "",
            "description_tooltip": null,
            "layout": "IPY_MODEL_aaef6df084ad4b44a433cd9f3215a0d3",
            "placeholder": "​",
            "style": "IPY_MODEL_9dd892bbddde410e8e7da763b138022e",
            "value": "100%"
          }
        },
        "656a8fde67774b35a4acc3aa8d55e732": {
          "model_module": "@jupyter-widgets/controls",
          "model_name": "FloatProgressModel",
          "model_module_version": "1.5.0",
          "state": {
            "_dom_classes": [],
            "_model_module": "@jupyter-widgets/controls",
            "_model_module_version": "1.5.0",
            "_model_name": "FloatProgressModel",
            "_view_count": null,
            "_view_module": "@jupyter-widgets/controls",
            "_view_module_version": "1.5.0",
            "_view_name": "ProgressView",
            "bar_style": "success",
            "description": "",
            "description_tooltip": null,
            "layout": "IPY_MODEL_19db85075ca14036890bec9227117832",
            "max": 5,
            "min": 0,
            "orientation": "horizontal",
            "style": "IPY_MODEL_559c88aa2f9f4d8fa5804b35ca9ecc06",
            "value": 5
          }
        },
        "e55de258181a47afae6205896dfdbff2": {
          "model_module": "@jupyter-widgets/controls",
          "model_name": "HTMLModel",
          "model_module_version": "1.5.0",
          "state": {
            "_dom_classes": [],
            "_model_module": "@jupyter-widgets/controls",
            "_model_module_version": "1.5.0",
            "_model_name": "HTMLModel",
            "_view_count": null,
            "_view_module": "@jupyter-widgets/controls",
            "_view_module_version": "1.5.0",
            "_view_name": "HTMLView",
            "description": "",
            "description_tooltip": null,
            "layout": "IPY_MODEL_123a7746f62b4695adc36797d510a436",
            "placeholder": "​",
            "style": "IPY_MODEL_489b02845e0047b18e2c82e287875acb",
            "value": " 5/5 [00:40&lt;00:00,  7.66s/it]"
          }
        },
        "a4383833fa364fc5a44899753dcba4c4": {
          "model_module": "@jupyter-widgets/base",
          "model_name": "LayoutModel",
          "model_module_version": "1.2.0",
          "state": {
            "_model_module": "@jupyter-widgets/base",
            "_model_module_version": "1.2.0",
            "_model_name": "LayoutModel",
            "_view_count": null,
            "_view_module": "@jupyter-widgets/base",
            "_view_module_version": "1.2.0",
            "_view_name": "LayoutView",
            "align_content": null,
            "align_items": null,
            "align_self": null,
            "border": null,
            "bottom": null,
            "display": null,
            "flex": null,
            "flex_flow": null,
            "grid_area": null,
            "grid_auto_columns": null,
            "grid_auto_flow": null,
            "grid_auto_rows": null,
            "grid_column": null,
            "grid_gap": null,
            "grid_row": null,
            "grid_template_areas": null,
            "grid_template_columns": null,
            "grid_template_rows": null,
            "height": null,
            "justify_content": null,
            "justify_items": null,
            "left": null,
            "margin": null,
            "max_height": null,
            "max_width": null,
            "min_height": null,
            "min_width": null,
            "object_fit": null,
            "object_position": null,
            "order": null,
            "overflow": null,
            "overflow_x": null,
            "overflow_y": null,
            "padding": null,
            "right": null,
            "top": null,
            "visibility": null,
            "width": null
          }
        },
        "aaef6df084ad4b44a433cd9f3215a0d3": {
          "model_module": "@jupyter-widgets/base",
          "model_name": "LayoutModel",
          "model_module_version": "1.2.0",
          "state": {
            "_model_module": "@jupyter-widgets/base",
            "_model_module_version": "1.2.0",
            "_model_name": "LayoutModel",
            "_view_count": null,
            "_view_module": "@jupyter-widgets/base",
            "_view_module_version": "1.2.0",
            "_view_name": "LayoutView",
            "align_content": null,
            "align_items": null,
            "align_self": null,
            "border": null,
            "bottom": null,
            "display": null,
            "flex": null,
            "flex_flow": null,
            "grid_area": null,
            "grid_auto_columns": null,
            "grid_auto_flow": null,
            "grid_auto_rows": null,
            "grid_column": null,
            "grid_gap": null,
            "grid_row": null,
            "grid_template_areas": null,
            "grid_template_columns": null,
            "grid_template_rows": null,
            "height": null,
            "justify_content": null,
            "justify_items": null,
            "left": null,
            "margin": null,
            "max_height": null,
            "max_width": null,
            "min_height": null,
            "min_width": null,
            "object_fit": null,
            "object_position": null,
            "order": null,
            "overflow": null,
            "overflow_x": null,
            "overflow_y": null,
            "padding": null,
            "right": null,
            "top": null,
            "visibility": null,
            "width": null
          }
        },
        "9dd892bbddde410e8e7da763b138022e": {
          "model_module": "@jupyter-widgets/controls",
          "model_name": "DescriptionStyleModel",
          "model_module_version": "1.5.0",
          "state": {
            "_model_module": "@jupyter-widgets/controls",
            "_model_module_version": "1.5.0",
            "_model_name": "DescriptionStyleModel",
            "_view_count": null,
            "_view_module": "@jupyter-widgets/base",
            "_view_module_version": "1.2.0",
            "_view_name": "StyleView",
            "description_width": ""
          }
        },
        "19db85075ca14036890bec9227117832": {
          "model_module": "@jupyter-widgets/base",
          "model_name": "LayoutModel",
          "model_module_version": "1.2.0",
          "state": {
            "_model_module": "@jupyter-widgets/base",
            "_model_module_version": "1.2.0",
            "_model_name": "LayoutModel",
            "_view_count": null,
            "_view_module": "@jupyter-widgets/base",
            "_view_module_version": "1.2.0",
            "_view_name": "LayoutView",
            "align_content": null,
            "align_items": null,
            "align_self": null,
            "border": null,
            "bottom": null,
            "display": null,
            "flex": null,
            "flex_flow": null,
            "grid_area": null,
            "grid_auto_columns": null,
            "grid_auto_flow": null,
            "grid_auto_rows": null,
            "grid_column": null,
            "grid_gap": null,
            "grid_row": null,
            "grid_template_areas": null,
            "grid_template_columns": null,
            "grid_template_rows": null,
            "height": null,
            "justify_content": null,
            "justify_items": null,
            "left": null,
            "margin": null,
            "max_height": null,
            "max_width": null,
            "min_height": null,
            "min_width": null,
            "object_fit": null,
            "object_position": null,
            "order": null,
            "overflow": null,
            "overflow_x": null,
            "overflow_y": null,
            "padding": null,
            "right": null,
            "top": null,
            "visibility": null,
            "width": null
          }
        },
        "559c88aa2f9f4d8fa5804b35ca9ecc06": {
          "model_module": "@jupyter-widgets/controls",
          "model_name": "ProgressStyleModel",
          "model_module_version": "1.5.0",
          "state": {
            "_model_module": "@jupyter-widgets/controls",
            "_model_module_version": "1.5.0",
            "_model_name": "ProgressStyleModel",
            "_view_count": null,
            "_view_module": "@jupyter-widgets/base",
            "_view_module_version": "1.2.0",
            "_view_name": "StyleView",
            "bar_color": null,
            "description_width": ""
          }
        },
        "123a7746f62b4695adc36797d510a436": {
          "model_module": "@jupyter-widgets/base",
          "model_name": "LayoutModel",
          "model_module_version": "1.2.0",
          "state": {
            "_model_module": "@jupyter-widgets/base",
            "_model_module_version": "1.2.0",
            "_model_name": "LayoutModel",
            "_view_count": null,
            "_view_module": "@jupyter-widgets/base",
            "_view_module_version": "1.2.0",
            "_view_name": "LayoutView",
            "align_content": null,
            "align_items": null,
            "align_self": null,
            "border": null,
            "bottom": null,
            "display": null,
            "flex": null,
            "flex_flow": null,
            "grid_area": null,
            "grid_auto_columns": null,
            "grid_auto_flow": null,
            "grid_auto_rows": null,
            "grid_column": null,
            "grid_gap": null,
            "grid_row": null,
            "grid_template_areas": null,
            "grid_template_columns": null,
            "grid_template_rows": null,
            "height": null,
            "justify_content": null,
            "justify_items": null,
            "left": null,
            "margin": null,
            "max_height": null,
            "max_width": null,
            "min_height": null,
            "min_width": null,
            "object_fit": null,
            "object_position": null,
            "order": null,
            "overflow": null,
            "overflow_x": null,
            "overflow_y": null,
            "padding": null,
            "right": null,
            "top": null,
            "visibility": null,
            "width": null
          }
        },
        "489b02845e0047b18e2c82e287875acb": {
          "model_module": "@jupyter-widgets/controls",
          "model_name": "DescriptionStyleModel",
          "model_module_version": "1.5.0",
          "state": {
            "_model_module": "@jupyter-widgets/controls",
            "_model_module_version": "1.5.0",
            "_model_name": "DescriptionStyleModel",
            "_view_count": null,
            "_view_module": "@jupyter-widgets/base",
            "_view_module_version": "1.2.0",
            "_view_name": "StyleView",
            "description_width": ""
          }
        },
        "ee94ade5b1e34e01a6c3a701848004e4": {
          "model_module": "@jupyter-widgets/controls",
          "model_name": "HBoxModel",
          "model_module_version": "1.5.0",
          "state": {
            "_dom_classes": [],
            "_model_module": "@jupyter-widgets/controls",
            "_model_module_version": "1.5.0",
            "_model_name": "HBoxModel",
            "_view_count": null,
            "_view_module": "@jupyter-widgets/controls",
            "_view_module_version": "1.5.0",
            "_view_name": "HBoxView",
            "box_style": "",
            "children": [
              "IPY_MODEL_1080384fb9bf47e0aba9e1bfd95e37bd",
              "IPY_MODEL_7612be9e9cd341328abd84ffbc48268c",
              "IPY_MODEL_f1c0a74311884d64834db12f460fea3e"
            ],
            "layout": "IPY_MODEL_0f3a27e190cd4652a5a2d5b2c7331c33"
          }
        },
        "1080384fb9bf47e0aba9e1bfd95e37bd": {
          "model_module": "@jupyter-widgets/controls",
          "model_name": "HTMLModel",
          "model_module_version": "1.5.0",
          "state": {
            "_dom_classes": [],
            "_model_module": "@jupyter-widgets/controls",
            "_model_module_version": "1.5.0",
            "_model_name": "HTMLModel",
            "_view_count": null,
            "_view_module": "@jupyter-widgets/controls",
            "_view_module_version": "1.5.0",
            "_view_name": "HTMLView",
            "description": "",
            "description_tooltip": null,
            "layout": "IPY_MODEL_14ffa1d9608a4a1d860194177e16dc3d",
            "placeholder": "​",
            "style": "IPY_MODEL_5615131b34b24df0b8ae7d17d8b7ccba",
            "value": "100%"
          }
        },
        "7612be9e9cd341328abd84ffbc48268c": {
          "model_module": "@jupyter-widgets/controls",
          "model_name": "FloatProgressModel",
          "model_module_version": "1.5.0",
          "state": {
            "_dom_classes": [],
            "_model_module": "@jupyter-widgets/controls",
            "_model_module_version": "1.5.0",
            "_model_name": "FloatProgressModel",
            "_view_count": null,
            "_view_module": "@jupyter-widgets/controls",
            "_view_module_version": "1.5.0",
            "_view_name": "ProgressView",
            "bar_style": "success",
            "description": "",
            "description_tooltip": null,
            "layout": "IPY_MODEL_442fe568655d4121babf8a156b0a411c",
            "max": 10,
            "min": 0,
            "orientation": "horizontal",
            "style": "IPY_MODEL_411ff1738f8d4d0593d4334559dbf412",
            "value": 10
          }
        },
        "f1c0a74311884d64834db12f460fea3e": {
          "model_module": "@jupyter-widgets/controls",
          "model_name": "HTMLModel",
          "model_module_version": "1.5.0",
          "state": {
            "_dom_classes": [],
            "_model_module": "@jupyter-widgets/controls",
            "_model_module_version": "1.5.0",
            "_model_name": "HTMLModel",
            "_view_count": null,
            "_view_module": "@jupyter-widgets/controls",
            "_view_module_version": "1.5.0",
            "_view_name": "HTMLView",
            "description": "",
            "description_tooltip": null,
            "layout": "IPY_MODEL_c42b4d000e4749f080cae0280a73abae",
            "placeholder": "​",
            "style": "IPY_MODEL_78afbbb5e94e443cb36a235ba6b25bf4",
            "value": " 10/10 [01:23&lt;00:00,  8.39s/it]"
          }
        },
        "0f3a27e190cd4652a5a2d5b2c7331c33": {
          "model_module": "@jupyter-widgets/base",
          "model_name": "LayoutModel",
          "model_module_version": "1.2.0",
          "state": {
            "_model_module": "@jupyter-widgets/base",
            "_model_module_version": "1.2.0",
            "_model_name": "LayoutModel",
            "_view_count": null,
            "_view_module": "@jupyter-widgets/base",
            "_view_module_version": "1.2.0",
            "_view_name": "LayoutView",
            "align_content": null,
            "align_items": null,
            "align_self": null,
            "border": null,
            "bottom": null,
            "display": null,
            "flex": null,
            "flex_flow": null,
            "grid_area": null,
            "grid_auto_columns": null,
            "grid_auto_flow": null,
            "grid_auto_rows": null,
            "grid_column": null,
            "grid_gap": null,
            "grid_row": null,
            "grid_template_areas": null,
            "grid_template_columns": null,
            "grid_template_rows": null,
            "height": null,
            "justify_content": null,
            "justify_items": null,
            "left": null,
            "margin": null,
            "max_height": null,
            "max_width": null,
            "min_height": null,
            "min_width": null,
            "object_fit": null,
            "object_position": null,
            "order": null,
            "overflow": null,
            "overflow_x": null,
            "overflow_y": null,
            "padding": null,
            "right": null,
            "top": null,
            "visibility": null,
            "width": null
          }
        },
        "14ffa1d9608a4a1d860194177e16dc3d": {
          "model_module": "@jupyter-widgets/base",
          "model_name": "LayoutModel",
          "model_module_version": "1.2.0",
          "state": {
            "_model_module": "@jupyter-widgets/base",
            "_model_module_version": "1.2.0",
            "_model_name": "LayoutModel",
            "_view_count": null,
            "_view_module": "@jupyter-widgets/base",
            "_view_module_version": "1.2.0",
            "_view_name": "LayoutView",
            "align_content": null,
            "align_items": null,
            "align_self": null,
            "border": null,
            "bottom": null,
            "display": null,
            "flex": null,
            "flex_flow": null,
            "grid_area": null,
            "grid_auto_columns": null,
            "grid_auto_flow": null,
            "grid_auto_rows": null,
            "grid_column": null,
            "grid_gap": null,
            "grid_row": null,
            "grid_template_areas": null,
            "grid_template_columns": null,
            "grid_template_rows": null,
            "height": null,
            "justify_content": null,
            "justify_items": null,
            "left": null,
            "margin": null,
            "max_height": null,
            "max_width": null,
            "min_height": null,
            "min_width": null,
            "object_fit": null,
            "object_position": null,
            "order": null,
            "overflow": null,
            "overflow_x": null,
            "overflow_y": null,
            "padding": null,
            "right": null,
            "top": null,
            "visibility": null,
            "width": null
          }
        },
        "5615131b34b24df0b8ae7d17d8b7ccba": {
          "model_module": "@jupyter-widgets/controls",
          "model_name": "DescriptionStyleModel",
          "model_module_version": "1.5.0",
          "state": {
            "_model_module": "@jupyter-widgets/controls",
            "_model_module_version": "1.5.0",
            "_model_name": "DescriptionStyleModel",
            "_view_count": null,
            "_view_module": "@jupyter-widgets/base",
            "_view_module_version": "1.2.0",
            "_view_name": "StyleView",
            "description_width": ""
          }
        },
        "442fe568655d4121babf8a156b0a411c": {
          "model_module": "@jupyter-widgets/base",
          "model_name": "LayoutModel",
          "model_module_version": "1.2.0",
          "state": {
            "_model_module": "@jupyter-widgets/base",
            "_model_module_version": "1.2.0",
            "_model_name": "LayoutModel",
            "_view_count": null,
            "_view_module": "@jupyter-widgets/base",
            "_view_module_version": "1.2.0",
            "_view_name": "LayoutView",
            "align_content": null,
            "align_items": null,
            "align_self": null,
            "border": null,
            "bottom": null,
            "display": null,
            "flex": null,
            "flex_flow": null,
            "grid_area": null,
            "grid_auto_columns": null,
            "grid_auto_flow": null,
            "grid_auto_rows": null,
            "grid_column": null,
            "grid_gap": null,
            "grid_row": null,
            "grid_template_areas": null,
            "grid_template_columns": null,
            "grid_template_rows": null,
            "height": null,
            "justify_content": null,
            "justify_items": null,
            "left": null,
            "margin": null,
            "max_height": null,
            "max_width": null,
            "min_height": null,
            "min_width": null,
            "object_fit": null,
            "object_position": null,
            "order": null,
            "overflow": null,
            "overflow_x": null,
            "overflow_y": null,
            "padding": null,
            "right": null,
            "top": null,
            "visibility": null,
            "width": null
          }
        },
        "411ff1738f8d4d0593d4334559dbf412": {
          "model_module": "@jupyter-widgets/controls",
          "model_name": "ProgressStyleModel",
          "model_module_version": "1.5.0",
          "state": {
            "_model_module": "@jupyter-widgets/controls",
            "_model_module_version": "1.5.0",
            "_model_name": "ProgressStyleModel",
            "_view_count": null,
            "_view_module": "@jupyter-widgets/base",
            "_view_module_version": "1.2.0",
            "_view_name": "StyleView",
            "bar_color": null,
            "description_width": ""
          }
        },
        "c42b4d000e4749f080cae0280a73abae": {
          "model_module": "@jupyter-widgets/base",
          "model_name": "LayoutModel",
          "model_module_version": "1.2.0",
          "state": {
            "_model_module": "@jupyter-widgets/base",
            "_model_module_version": "1.2.0",
            "_model_name": "LayoutModel",
            "_view_count": null,
            "_view_module": "@jupyter-widgets/base",
            "_view_module_version": "1.2.0",
            "_view_name": "LayoutView",
            "align_content": null,
            "align_items": null,
            "align_self": null,
            "border": null,
            "bottom": null,
            "display": null,
            "flex": null,
            "flex_flow": null,
            "grid_area": null,
            "grid_auto_columns": null,
            "grid_auto_flow": null,
            "grid_auto_rows": null,
            "grid_column": null,
            "grid_gap": null,
            "grid_row": null,
            "grid_template_areas": null,
            "grid_template_columns": null,
            "grid_template_rows": null,
            "height": null,
            "justify_content": null,
            "justify_items": null,
            "left": null,
            "margin": null,
            "max_height": null,
            "max_width": null,
            "min_height": null,
            "min_width": null,
            "object_fit": null,
            "object_position": null,
            "order": null,
            "overflow": null,
            "overflow_x": null,
            "overflow_y": null,
            "padding": null,
            "right": null,
            "top": null,
            "visibility": null,
            "width": null
          }
        },
        "78afbbb5e94e443cb36a235ba6b25bf4": {
          "model_module": "@jupyter-widgets/controls",
          "model_name": "DescriptionStyleModel",
          "model_module_version": "1.5.0",
          "state": {
            "_model_module": "@jupyter-widgets/controls",
            "_model_module_version": "1.5.0",
            "_model_name": "DescriptionStyleModel",
            "_view_count": null,
            "_view_module": "@jupyter-widgets/base",
            "_view_module_version": "1.2.0",
            "_view_name": "StyleView",
            "description_width": ""
          }
        },
        "95a3033c343b42ada609d006c1b77fa7": {
          "model_module": "@jupyter-widgets/controls",
          "model_name": "HBoxModel",
          "model_module_version": "1.5.0",
          "state": {
            "_dom_classes": [],
            "_model_module": "@jupyter-widgets/controls",
            "_model_module_version": "1.5.0",
            "_model_name": "HBoxModel",
            "_view_count": null,
            "_view_module": "@jupyter-widgets/controls",
            "_view_module_version": "1.5.0",
            "_view_name": "HBoxView",
            "box_style": "",
            "children": [
              "IPY_MODEL_570ff7bd5bdb42ca8e48dbaa6523055a",
              "IPY_MODEL_258c254a783944c09b45337df6999c7e",
              "IPY_MODEL_5be9d2f8d4f94e69b15098d62715953e"
            ],
            "layout": "IPY_MODEL_197e96d6df484fc784fa29f71a35bb8f"
          }
        },
        "570ff7bd5bdb42ca8e48dbaa6523055a": {
          "model_module": "@jupyter-widgets/controls",
          "model_name": "HTMLModel",
          "model_module_version": "1.5.0",
          "state": {
            "_dom_classes": [],
            "_model_module": "@jupyter-widgets/controls",
            "_model_module_version": "1.5.0",
            "_model_name": "HTMLModel",
            "_view_count": null,
            "_view_module": "@jupyter-widgets/controls",
            "_view_module_version": "1.5.0",
            "_view_name": "HTMLView",
            "description": "",
            "description_tooltip": null,
            "layout": "IPY_MODEL_913534f7aa47455b93f4028783d7ab53",
            "placeholder": "​",
            "style": "IPY_MODEL_d1492c29feeb441eb1cdd0a09c33c15d",
            "value": "100%"
          }
        },
        "258c254a783944c09b45337df6999c7e": {
          "model_module": "@jupyter-widgets/controls",
          "model_name": "FloatProgressModel",
          "model_module_version": "1.5.0",
          "state": {
            "_dom_classes": [],
            "_model_module": "@jupyter-widgets/controls",
            "_model_module_version": "1.5.0",
            "_model_name": "FloatProgressModel",
            "_view_count": null,
            "_view_module": "@jupyter-widgets/controls",
            "_view_module_version": "1.5.0",
            "_view_name": "ProgressView",
            "bar_style": "success",
            "description": "",
            "description_tooltip": null,
            "layout": "IPY_MODEL_159923b867024c37a7b4d7804c45eba2",
            "max": 100,
            "min": 0,
            "orientation": "horizontal",
            "style": "IPY_MODEL_bb44661f901c4ae1b54eaad02025501f",
            "value": 100
          }
        },
        "5be9d2f8d4f94e69b15098d62715953e": {
          "model_module": "@jupyter-widgets/controls",
          "model_name": "HTMLModel",
          "model_module_version": "1.5.0",
          "state": {
            "_dom_classes": [],
            "_model_module": "@jupyter-widgets/controls",
            "_model_module_version": "1.5.0",
            "_model_name": "HTMLModel",
            "_view_count": null,
            "_view_module": "@jupyter-widgets/controls",
            "_view_module_version": "1.5.0",
            "_view_name": "HTMLView",
            "description": "",
            "description_tooltip": null,
            "layout": "IPY_MODEL_443bd79e66d24b5e895f20769e7eed8d",
            "placeholder": "​",
            "style": "IPY_MODEL_4f9b409134134e4ea26f8f9b81ee52fc",
            "value": " 100/100 [00:02&lt;00:00, 58.23it/s]"
          }
        },
        "197e96d6df484fc784fa29f71a35bb8f": {
          "model_module": "@jupyter-widgets/base",
          "model_name": "LayoutModel",
          "model_module_version": "1.2.0",
          "state": {
            "_model_module": "@jupyter-widgets/base",
            "_model_module_version": "1.2.0",
            "_model_name": "LayoutModel",
            "_view_count": null,
            "_view_module": "@jupyter-widgets/base",
            "_view_module_version": "1.2.0",
            "_view_name": "LayoutView",
            "align_content": null,
            "align_items": null,
            "align_self": null,
            "border": null,
            "bottom": null,
            "display": null,
            "flex": null,
            "flex_flow": null,
            "grid_area": null,
            "grid_auto_columns": null,
            "grid_auto_flow": null,
            "grid_auto_rows": null,
            "grid_column": null,
            "grid_gap": null,
            "grid_row": null,
            "grid_template_areas": null,
            "grid_template_columns": null,
            "grid_template_rows": null,
            "height": null,
            "justify_content": null,
            "justify_items": null,
            "left": null,
            "margin": null,
            "max_height": null,
            "max_width": null,
            "min_height": null,
            "min_width": null,
            "object_fit": null,
            "object_position": null,
            "order": null,
            "overflow": null,
            "overflow_x": null,
            "overflow_y": null,
            "padding": null,
            "right": null,
            "top": null,
            "visibility": null,
            "width": null
          }
        },
        "913534f7aa47455b93f4028783d7ab53": {
          "model_module": "@jupyter-widgets/base",
          "model_name": "LayoutModel",
          "model_module_version": "1.2.0",
          "state": {
            "_model_module": "@jupyter-widgets/base",
            "_model_module_version": "1.2.0",
            "_model_name": "LayoutModel",
            "_view_count": null,
            "_view_module": "@jupyter-widgets/base",
            "_view_module_version": "1.2.0",
            "_view_name": "LayoutView",
            "align_content": null,
            "align_items": null,
            "align_self": null,
            "border": null,
            "bottom": null,
            "display": null,
            "flex": null,
            "flex_flow": null,
            "grid_area": null,
            "grid_auto_columns": null,
            "grid_auto_flow": null,
            "grid_auto_rows": null,
            "grid_column": null,
            "grid_gap": null,
            "grid_row": null,
            "grid_template_areas": null,
            "grid_template_columns": null,
            "grid_template_rows": null,
            "height": null,
            "justify_content": null,
            "justify_items": null,
            "left": null,
            "margin": null,
            "max_height": null,
            "max_width": null,
            "min_height": null,
            "min_width": null,
            "object_fit": null,
            "object_position": null,
            "order": null,
            "overflow": null,
            "overflow_x": null,
            "overflow_y": null,
            "padding": null,
            "right": null,
            "top": null,
            "visibility": null,
            "width": null
          }
        },
        "d1492c29feeb441eb1cdd0a09c33c15d": {
          "model_module": "@jupyter-widgets/controls",
          "model_name": "DescriptionStyleModel",
          "model_module_version": "1.5.0",
          "state": {
            "_model_module": "@jupyter-widgets/controls",
            "_model_module_version": "1.5.0",
            "_model_name": "DescriptionStyleModel",
            "_view_count": null,
            "_view_module": "@jupyter-widgets/base",
            "_view_module_version": "1.2.0",
            "_view_name": "StyleView",
            "description_width": ""
          }
        },
        "159923b867024c37a7b4d7804c45eba2": {
          "model_module": "@jupyter-widgets/base",
          "model_name": "LayoutModel",
          "model_module_version": "1.2.0",
          "state": {
            "_model_module": "@jupyter-widgets/base",
            "_model_module_version": "1.2.0",
            "_model_name": "LayoutModel",
            "_view_count": null,
            "_view_module": "@jupyter-widgets/base",
            "_view_module_version": "1.2.0",
            "_view_name": "LayoutView",
            "align_content": null,
            "align_items": null,
            "align_self": null,
            "border": null,
            "bottom": null,
            "display": null,
            "flex": null,
            "flex_flow": null,
            "grid_area": null,
            "grid_auto_columns": null,
            "grid_auto_flow": null,
            "grid_auto_rows": null,
            "grid_column": null,
            "grid_gap": null,
            "grid_row": null,
            "grid_template_areas": null,
            "grid_template_columns": null,
            "grid_template_rows": null,
            "height": null,
            "justify_content": null,
            "justify_items": null,
            "left": null,
            "margin": null,
            "max_height": null,
            "max_width": null,
            "min_height": null,
            "min_width": null,
            "object_fit": null,
            "object_position": null,
            "order": null,
            "overflow": null,
            "overflow_x": null,
            "overflow_y": null,
            "padding": null,
            "right": null,
            "top": null,
            "visibility": null,
            "width": null
          }
        },
        "bb44661f901c4ae1b54eaad02025501f": {
          "model_module": "@jupyter-widgets/controls",
          "model_name": "ProgressStyleModel",
          "model_module_version": "1.5.0",
          "state": {
            "_model_module": "@jupyter-widgets/controls",
            "_model_module_version": "1.5.0",
            "_model_name": "ProgressStyleModel",
            "_view_count": null,
            "_view_module": "@jupyter-widgets/base",
            "_view_module_version": "1.2.0",
            "_view_name": "StyleView",
            "bar_color": null,
            "description_width": ""
          }
        },
        "443bd79e66d24b5e895f20769e7eed8d": {
          "model_module": "@jupyter-widgets/base",
          "model_name": "LayoutModel",
          "model_module_version": "1.2.0",
          "state": {
            "_model_module": "@jupyter-widgets/base",
            "_model_module_version": "1.2.0",
            "_model_name": "LayoutModel",
            "_view_count": null,
            "_view_module": "@jupyter-widgets/base",
            "_view_module_version": "1.2.0",
            "_view_name": "LayoutView",
            "align_content": null,
            "align_items": null,
            "align_self": null,
            "border": null,
            "bottom": null,
            "display": null,
            "flex": null,
            "flex_flow": null,
            "grid_area": null,
            "grid_auto_columns": null,
            "grid_auto_flow": null,
            "grid_auto_rows": null,
            "grid_column": null,
            "grid_gap": null,
            "grid_row": null,
            "grid_template_areas": null,
            "grid_template_columns": null,
            "grid_template_rows": null,
            "height": null,
            "justify_content": null,
            "justify_items": null,
            "left": null,
            "margin": null,
            "max_height": null,
            "max_width": null,
            "min_height": null,
            "min_width": null,
            "object_fit": null,
            "object_position": null,
            "order": null,
            "overflow": null,
            "overflow_x": null,
            "overflow_y": null,
            "padding": null,
            "right": null,
            "top": null,
            "visibility": null,
            "width": null
          }
        },
        "4f9b409134134e4ea26f8f9b81ee52fc": {
          "model_module": "@jupyter-widgets/controls",
          "model_name": "DescriptionStyleModel",
          "model_module_version": "1.5.0",
          "state": {
            "_model_module": "@jupyter-widgets/controls",
            "_model_module_version": "1.5.0",
            "_model_name": "DescriptionStyleModel",
            "_view_count": null,
            "_view_module": "@jupyter-widgets/base",
            "_view_module_version": "1.2.0",
            "_view_name": "StyleView",
            "description_width": ""
          }
        }
      }
    }
  },
  "nbformat": 4,
  "nbformat_minor": 0
}