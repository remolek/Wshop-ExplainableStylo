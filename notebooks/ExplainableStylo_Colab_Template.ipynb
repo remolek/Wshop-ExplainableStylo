{
  "cells": [
    {
      "cell_type": "markdown",
      "metadata": {
        "id": "tt-GoYWDtkn4"
      },
      "source": [
        "# 📘 Explainable Stylo Workshop Notebook\n",
        "\n",
        "Welcome to the Colab notebook for the **Explainable Stylo Workshop**.\n",
        "\n",
        "This notebook helps you:\n",
        "- Load the [`cl_explainable_stylo`](https://github.com/remolek/Wshop-ExplainableStylo) package from GitHub\n",
        "- Prepare to work with textual data stored in folders like `example1/`, `example2/`\n",
        "- Understand how to explore and use the package interactively\n"
      ]
    },
    {
      "cell_type": "code",
      "execution_count": 1,
      "metadata": {
        "colab": {
          "base_uri": "https://localhost:8080/"
        },
        "id": "dv2Y-eswtkn7",
        "outputId": "295896e7-5bf1-454a-d32e-f51dd1597642"
      },
      "outputs": [
        {
          "output_type": "stream",
          "name": "stdout",
          "text": [
            "Cloning into 'Wshop-ExplainableStylo'...\n",
            "remote: Enumerating objects: 72, done.\u001b[K\n",
            "remote: Counting objects: 100% (72/72), done.\u001b[K\n",
            "remote: Compressing objects: 100% (61/61), done.\u001b[K\n",
            "remote: Total 72 (delta 22), reused 38 (delta 5), pack-reused 0 (from 0)\u001b[K\n",
            "Receiving objects: 100% (72/72), 751.30 KiB | 4.88 MiB/s, done.\n",
            "Resolving deltas: 100% (22/22), done.\n",
            "/content/Wshop-ExplainableStylo\n"
          ]
        }
      ],
      "source": [
        "# 🔧 Setup: Clone the repository and install the package\n",
        "import os\n",
        "\n",
        "# Clone the repo only if it's not already cloned\n",
        "if not os.path.exists(\"Wshop-ExplainableStylo\"):\n",
        "    !git clone https://github.com/remolek/Wshop-ExplainableStylo.git\n",
        "%cd Wshop-ExplainableStylo"
      ]
    },
    {
      "cell_type": "markdown",
      "metadata": {
        "id": "TwZh5jlLtkn-"
      },
      "source": [
        "## 📦 Import the Package\n",
        "\n",
        "Now that the package is downloaded, you can import its modules and use them in the notebook.\n",
        "The `base` module below contains the main class which is a wrapper for most of the other functions.\n"
      ]
    },
    {
      "cell_type": "code",
      "execution_count": 2,
      "metadata": {
        "id": "kP2KdpGbtkoA"
      },
      "outputs": [],
      "source": [
        "# Import a module from cl_explainable_stylo\n",
        "from cl_explainable_stylo import base\n",
        "\n",
        "# Help or test it\n",
        "# help(example_loader)"
      ]
    },
    {
      "cell_type": "code",
      "source": [
        "help(base)"
      ],
      "metadata": {
        "collapsed": true,
        "colab": {
          "base_uri": "https://localhost:8080/"
        },
        "id": "wvO1u7tTx9kU",
        "outputId": "a8e1ca98-67e3-4dd3-f585-995e50f01afd"
      },
      "execution_count": 3,
      "outputs": [
        {
          "output_type": "stream",
          "name": "stdout",
          "text": [
            "Help on module cl_explainable_stylo.base in cl_explainable_stylo:\n",
            "\n",
            "NAME\n",
            "    cl_explainable_stylo.base - This module defines a base class 'explain_style' providing a pipeline for preprocessing texts (currently by Spacy), extracting their features, classifying them with LGBM, explaining the classifiers with SHAP and visualising the results.\n",
            "\n",
            "DESCRIPTION\n",
            "    To initialize the class you need a .json file with metadata of the form, minimally:\n",
            "    {\"experiment_name\":\"...\",\n",
            "    \"labels\": [\"filename\", \"class\"],\n",
            "    \"files\":\n",
            "            {\"filename\": [\"path_to_file1.txt\",\"path_to_file2.txt\"],\n",
            "            \"class\": [\"file1_class\", \"file2_class\"]}\n",
            "     }\n",
            "    \n",
            "    Author: Jeremi K. Ochab\n",
            "    Date: August 14, 2023\n",
            "\n",
            "CLASSES\n",
            "    builtins.object\n",
            "        explain_style\n",
            "    \n",
            "    class explain_style(builtins.object)\n",
            "     |  explain_style(metadata_json, manual=True)\n",
            "     |  \n",
            "     |  Methods defined here:\n",
            "     |  \n",
            "     |  __init__(self, metadata_json, manual=True)\n",
            "     |      Initialize self.  See help(type(self)) for accurate signature.\n",
            "     |  \n",
            "     |  classifiers_load(self, filename=None, postfix=None)\n",
            "     |  \n",
            "     |  classifiers_save(self, filename=None, postfix=None, overwrite=False)\n",
            "     |  \n",
            "     |  classify(self, class_category='class', class_regrouping=[], group_category=None, save_to_file=False)\n",
            "     |  \n",
            "     |  docs_load(self, filename=None)\n",
            "     |      #----- Saving&loading important class instance attributes \n",
            "     |      # TO DO: niejednoznaczne ładowanie dokumentów po subsamplingu. Jeśli się załaduje, to do .docs, czy .docs_subsampled? Wtedy czy .subsample_scheme powinno być zmienione? Potem jeśli docs_subsampled istnieją, to one są klasyfikowane.\n",
            "     |  \n",
            "     |  docs_save(self, docs=None, filename=None, precheck=False, overwrite=False)\n",
            "     |  \n",
            "     |  explain(self, models=None, minimize_data_use=True, save_to_file=False)\n",
            "     |  \n",
            "     |  explanations_load(self, filename=None, postfix=None)\n",
            "     |  \n",
            "     |  explanations_save(self, filename=None, postfix=None, overwrite=False)\n",
            "     |  \n",
            "     |  extract_features(self, feature_scheme=None, feature_list=None, save_to_file=False)\n",
            "     |  \n",
            "     |  features_load(self, filename=None)\n",
            "     |  \n",
            "     |  features_save(self, filename=None, overwrite=False)\n",
            "     |  \n",
            "     |  load_init(self, filename)\n",
            "     |      # TO DO: szczegółowy config ładowany/zapisywany do jednego jsona, czy do kilku osobnych?\n",
            "     |      # Lepiej do jednego, żeby zapisać np. metadane typu data, nazwa eksperymentu, jakaś notatka? itp.\n",
            "     |  \n",
            "     |  load_params_classifier(self, filename=None)\n",
            "     |  \n",
            "     |  load_params_cv(self, filename=None)\n",
            "     |  \n",
            "     |  load_params_feature(self, filename=None)\n",
            "     |  \n",
            "     |  load_params_preproc(self, filename=None)\n",
            "     |  \n",
            "     |  load_params_subsample(self, filename=None)\n",
            "     |  \n",
            "     |  plot_group_summary(self, group_by, max_display=20, show=True, color_legend=True, filename='SHAP_group_all', title='', file_ext='.png')\n",
            "     |  \n",
            "     |  plot_group_texts(self, group_by, group=None, show=True, max_display=20, filename='SHAP_group_', title='', file_ext='.png')\n",
            "     |      group = None - plot all groups (e.g., authors)\n",
            "     |      group = 'GroupName', group = 0 - plot a selected group\n",
            "     |  \n",
            "     |  plot_summary(self, group_by=None, show=True, max_display=20, filename='SHAP_wszystkie', title='', file_ext='.png')\n",
            "     |  \n",
            "     |  plot_text(self, index, show=True, max_display=20, filename=None, title=None, file_ext='.png')\n",
            "     |      # TO DO: czy 'author' ma się pojawić\n",
            "     |      # TO DO: tytuł ma podawać też numer próbki\n",
            "     |  \n",
            "     |  save_config(self, filename=None)\n",
            "     |  \n",
            "     |  save_params_classifier(self, filename=None)\n",
            "     |  \n",
            "     |  save_params_cv(self, filename=None)\n",
            "     |      # TO DO: zapisyanie scoring (funkcje pythona) jest niemożliwe do jsona\n",
            "     |  \n",
            "     |  save_params_feature(self, filename=None)\n",
            "     |  \n",
            "     |  save_params_preproc(self, filename=None)\n",
            "     |  \n",
            "     |  save_params_subsample(self, filename=None)\n",
            "     |  \n",
            "     |  scores_load(self, filename=None, postfix=None)\n",
            "     |  \n",
            "     |  scores_save(self, filename=None, postfix=None, overwrite=False)\n",
            "     |  \n",
            "     |  texts_load(self, from_variable=None, metadata=None)\n",
            "     |      #----- Workhorse methods\n",
            "     |  \n",
            "     |  texts_preprocess(self, texts=None, model=None, filename=None, labels=None, save_to_file=True)\n",
            "     |  \n",
            "     |  texts_subsample(self, subsample_scheme=None, save_to_file=False)\n",
            "     |  \n",
            "     |  ----------------------------------------------------------------------\n",
            "     |  Data descriptors defined here:\n",
            "     |  \n",
            "     |  __dict__\n",
            "     |      dictionary for instance variables\n",
            "     |  \n",
            "     |  __weakref__\n",
            "     |      list of weak references to the object\n",
            "     |  \n",
            "     |  ----------------------------------------------------------------------\n",
            "     |  Data and other attributes defined here:\n",
            "     |  \n",
            "     |  default_classifier_scheme = {'bagging_fraction': 0.8, 'bagging_freq': ...\n",
            "     |  \n",
            "     |  default_cv_scheme = {'cv_method': 'StratifiedKFold', 'n_groups': 2, 'n...\n",
            "     |  \n",
            "     |  default_feature_scheme = {'features': [13, 23, 32, 52, 61], 'max_cull_...\n",
            "     |  \n",
            "     |  default_preproc_scheme = {'model': 'pl_core_news_lg'}\n",
            "     |  \n",
            "     |  default_subsample_scheme = {'sample_length': 800, 'sample_type': 'none...\n",
            "\n",
            "FILE\n",
            "    /content/Wshop-ExplainableStylo/cl_explainable_stylo/base.py\n",
            "\n",
            "\n"
          ]
        }
      ]
    },
    {
      "cell_type": "markdown",
      "metadata": {
        "id": "IGQ59GhXtkoC"
      },
      "source": [
        "## 📁 Example1: two translations\n",
        "\n",
        "Let's start with a simple example of comparing two translations of Joseph Conrad's *Heart of Darkness* into Polish, by Aniela Zagórska (1930) and Jacek Dukaj (2017)."
      ]
    },
    {
      "cell_type": "code",
      "execution_count": 4,
      "metadata": {
        "colab": {
          "base_uri": "https://localhost:8080/"
        },
        "id": "yDw2Vwk1tkoE",
        "outputId": "a70c04eb-d3f3-4093-8080-61e37968d8d9"
      },
      "outputs": [
        {
          "output_type": "stream",
          "name": "stdout",
          "text": [
            "\n",
            "📁 example1 contains 2 .txt files:\n",
            "  📄 Dukaj.txt\n",
            "    Preview:\n",
            "    SERCE CIEMNOŚCI Jacek Dukaj ISBN 978-83-08-06606-5   Wszelka sztuka przemawia przede wszystkim do zmysłów. I także artysta słowa pisanego musi przemaw...\n",
            "  📄 Zagórska.txt\n",
            "    Preview:\n",
            "    Tytuł oryginału: Heart of Darkness Przełożyła: Aniela Zagórska ISBN: 978-83-7779-308-4   I  Jacht krążowniczy „Nellie” obrócił się na kotwicy bez najl...\n"
          ]
        }
      ],
      "source": [
        "import os\n",
        "from glob import glob\n",
        "\n",
        "# 🔍 Find all folders starting with \"example\"\n",
        "# example_dirs = sorted([d for d in os.listdir() if d.startswith(\"example\") and os.path.isdir(d)])\n",
        "# print(f\"Detected folders: {example_dirs}\")\n",
        "\n",
        "# Find and preview all .txt files inside each folder\n",
        "folder = 'example1'\n",
        "txt_files = sorted(glob(os.path.join(folder, \"*/*.txt\")))\n",
        "print(f\"\\n📁 {folder} contains {len(txt_files)} .txt files:\")\n",
        "for path in txt_files:\n",
        "    print(f\"  📄 {os.path.basename(path)}\")\n",
        "    with open(path, \"r\", encoding=\"utf-8\") as f:\n",
        "        preview = f.read(200).strip().replace(\"\\n\", \" \")\n",
        "    print(f\"    Preview:\\n    {preview[:150]}{'...' if len(preview) > 150 else ''}\")"
      ]
    },
    {
      "cell_type": "markdown",
      "source": [
        "### 📄 Text loading and processing"
      ],
      "metadata": {
        "id": "pbt86KGInF-Z"
      }
    },
    {
      "cell_type": "markdown",
      "source": [
        "Before we have prepared a small `.json` file, containing the basic metadata for our first experiment (at this point it might seem a bit redundant)."
      ],
      "metadata": {
        "id": "FSZswEwR1IL1"
      }
    },
    {
      "cell_type": "code",
      "source": [
        "import json\n",
        "from IPython.display import JSON, display\n",
        "\n",
        "# Load the JSON\n",
        "with open('example1/init_metadata.json', 'r', encoding='utf-8') as f:\n",
        "    data = json.load(f)\n",
        "\n",
        "# Display an interactive JSON tree (in Jupyter lab only)\n",
        "display(JSON(data))\n"
      ],
      "metadata": {
        "colab": {
          "base_uri": "https://localhost:8080/",
          "height": 486
        },
        "id": "liyDJB-p1734",
        "outputId": "d60536ca-30c7-4778-e565-5fab54f6ea7a"
      },
      "execution_count": 5,
      "outputs": [
        {
          "output_type": "display_data",
          "data": {
            "text/plain": [
              "<IPython.core.display.JSON object>"
            ],
            "application/json": {
              "experiment_name": "example1",
              "labels": [
                "filename",
                "class",
                "author"
              ],
              "files": {
                "filename": [
                  "example1/dukaj/Dukaj.txt",
                  "example1/zagórska/Zagórska.txt"
                ],
                "class": [
                  "dukaj",
                  "zagórska"
                ],
                "author": [
                  "Dukaj",
                  "Zagórska"
                ]
              },
              "preproc_scheme": null,
              "feature_scheme": null,
              "subsample_scheme": null,
              "classifier_params": null,
              "cv_scheme": null
            }
          },
          "metadata": {
            "application/json": {
              "expanded": false,
              "root": "root"
            }
          }
        }
      ]
    },
    {
      "cell_type": "markdown",
      "source": [
        "With these metadata we will initialize the experiment. All the text, results, etc. will be stored in one variable `exp`."
      ],
      "metadata": {
        "id": "I9897X_y4QcS"
      }
    },
    {
      "cell_type": "code",
      "source": [
        "exp = base.explain_style('example1/init_metadata.json',manual = True)"
      ],
      "metadata": {
        "colab": {
          "base_uri": "https://localhost:8080/"
        },
        "id": "yHw5I7ZLv-KL",
        "outputId": "97aeb9a4-8808-4fc1-b12a-947ebcd9dea9"
      },
      "execution_count": 6,
      "outputs": [
        {
          "output_type": "stream",
          "name": "stdout",
          "text": [
            "Initialisation metadata loaded from example1/init_metadata.json.\n",
            "Available text labels ['filename', 'class', 'author'].\n",
            "Predefined text classes ['dukaj', 'zagórska'].\n",
            "You are in manual mode. The next steps would be to run in sequence '.texts_load()', '.texts_preprocess()', '.texts_subsample()', '.extract_features()', '.classify()', '.explain()', and then any of the '.plot_...()' methods. If you would like to change the parameters provided in metadata or set by default  ('preproc_scheme', 'subsample_scheme', 'feature_scheme', 'cv_scheme', 'classifier_scheme'), please, load them via '.load_parameter_name()' to avoid incosistent file naming and config saving.\n"
          ]
        }
      ]
    },
    {
      "cell_type": "markdown",
      "source": [
        "Let's follow the instructions and load the text files by calling the method `.texts_load()` on our all-embracing `exp`. After that they will be stored in `exp.texts` (to be exact, these are going to be tuples of text and its metadata)."
      ],
      "metadata": {
        "id": "hvmWI6GX5sjC"
      }
    },
    {
      "cell_type": "code",
      "source": [
        "exp.texts_load()"
      ],
      "metadata": {
        "colab": {
          "base_uri": "https://localhost:8080/",
          "height": 66,
          "referenced_widgets": [
            "f6a683801ee84173b0605369b0c0eaad",
            "5c5ce46c64374ecebfbd178a8e672984",
            "9ec3cd57416e4d2b986ffeaa5ce8525a",
            "7b1024f9cb824b4cb67b7545e36cefb5",
            "59ea904aab6d4b16836d3418760ca892",
            "8742f08284894110bf2a6084f8e9e59d",
            "68ba6919c7f6495f8fb222419add6656",
            "8cb5e2034ba84795b252f62f5cfd018a",
            "47ea41d24e354e88b67ec326849a94de",
            "349b273e056c49ddb4025e5722ee9e15",
            "6b9c98b684eb423aacbb207be2bbc4f0"
          ]
        },
        "id": "-t5q7piB4IsJ",
        "outputId": "1112158f-ab2c-4249-c369-5b9a423499a6"
      },
      "execution_count": 7,
      "outputs": [
        {
          "output_type": "stream",
          "name": "stdout",
          "text": [
            "List of labels used: '['filename', 'class', 'author']'.\n"
          ]
        },
        {
          "output_type": "display_data",
          "data": {
            "text/plain": [
              "0it [00:00, ?it/s]"
            ],
            "application/vnd.jupyter.widget-view+json": {
              "version_major": 2,
              "version_minor": 0,
              "model_id": "f6a683801ee84173b0605369b0c0eaad"
            }
          },
          "metadata": {}
        }
      ]
    },
    {
      "cell_type": "markdown",
      "source": [
        "If you have not run spaCy in this notebook before, it will ask your permission to install a language model. It may take a minute to download and install the model. Afterwards, the text processing will commence.\n",
        "\n",
        "[⏱️ Session lifespan in GoogleColab might be from idle ~90 min. to ~12 hrs code running. Every time after the session is over and you start the environment again, all the packages and models need to be loaded again too]."
      ],
      "metadata": {
        "id": "zW9D91ZD6xQT"
      }
    },
    {
      "cell_type": "code",
      "source": [
        "exp.texts_preprocess()"
      ],
      "metadata": {
        "colab": {
          "base_uri": "https://localhost:8080/",
          "height": 347,
          "referenced_widgets": [
            "cd431c8b33dc443c8145c230742f941c",
            "837e99e8ecdb446885139b98b3ef7a08",
            "1fc04c88fe254232890ab3e98c6e258c",
            "aadef3ddd96444409e838e607c7a3fba",
            "ac7a61425cb14439bc2167837c891016",
            "973889b788c24977aecdeda6b0f50a6c",
            "1a9ad082370944e1ac9b902f19f88523",
            "779dbe2b7bbb4165a61163e3c5dfd50f",
            "b2ba4e455f88437eba919054aa635501",
            "6275fc93b9144098beae4c473ae37618",
            "b2ffff882a9c41aeaed6d70642351bd1"
          ]
        },
        "id": "_VH5xQTm6rby",
        "outputId": "c0c46e66-2cc6-4409-e15e-75934eea1aaf"
      },
      "execution_count": 8,
      "outputs": [
        {
          "output_type": "stream",
          "name": "stdout",
          "text": [
            "Default folder 'explain_example1/subsamples_none_800' created.\n",
            "Labels ['filename', 'class', 'author'] will be now accessible in documents via 'document._.label'.\n",
            "Checking if the model is available...\n",
            "The pl_core_news_lg is available from Spacy models.\n",
            "Spacy model not installed.\n",
            " Would you like to install it now: [y/n]y\n",
            "\u001b[38;5;2m✔ Download and installation successful\u001b[0m\n",
            "You can now load the package via spacy.load('pl_core_news_lg')\n",
            "\u001b[38;5;3m⚠ Restart to reload dependencies\u001b[0m\n",
            "If you are in a Jupyter or Colab notebook, you may need to restart Python in\n",
            "order to load all the package's dependencies. You can do this by selecting the\n",
            "'Restart kernel' or 'Restart runtime' option.\n",
            "Number of documents provided: 2.\n"
          ]
        },
        {
          "output_type": "display_data",
          "data": {
            "text/plain": [
              "0it [00:00, ?it/s]"
            ],
            "application/vnd.jupyter.widget-view+json": {
              "version_major": 2,
              "version_minor": 0,
              "model_id": "cd431c8b33dc443c8145c230742f941c"
            }
          },
          "metadata": {}
        },
        {
          "output_type": "stream",
          "name": "stdout",
          "text": [
            "Documents saved as explain_example1/subsamples_none_800/docs.spacy.\n",
            "They can be reloaded with '.docs_load(filename)'.\n",
            "Preprocessing parameters saved as 'explain_example1/subsamples_none_800/config_preproc_scheme.json'. It can be reloaded with '.load_params_preproc(filename)'.\n"
          ]
        }
      ]
    },
    {
      "cell_type": "markdown",
      "source": [
        "If you are running the code locally, you will notice some new\n",
        "\n",
        "*   folders, e.g., `explain_example1/` - referring to the given experiment\n",
        "*   subfolders, e.g., `subsamples_none_800` - referring to some preprocessing parameters related to segmenting the texts into smaller chunks\n",
        "*   config files, e.g., `config_*.json` - containing Python dictionaries listing all the settings and parameters (currently the default ones)\n",
        "*   data files, e.g., `docs.spacy` - texts already processed by spaCy\n",
        "\n",
        "They are supposed to store for your later reference the processing steps you have taken and allow you reloading intermediate steps of the analysis."
      ],
      "metadata": {
        "id": "dAFUdsK37enU"
      }
    },
    {
      "cell_type": "markdown",
      "source": [
        "Now, you have your `exp.docs` ready in memory. But let's assume that you are working on your own laptop and want to reload them tomorrow...\n",
        "```\n",
        "exp.docs_load(filename = 'docs.spacy')\n",
        "# This looks for 'docs.spacy' in your experiment's directory 'explain_example1/subsamples_none_800/'\n",
        "# This is a default name, so you do not need to indicate the filename:\n",
        "# exp.docs_load()\n",
        "```"
      ],
      "metadata": {
        "id": "4aFivAiWnuAT"
      }
    },
    {
      "cell_type": "code",
      "source": [
        "print(f\"You've got {len(exp.docs)} texts ready.\\n\"\n",
        "f\"The first author is {exp.docs[0]._.author}, and the second {exp.docs[1]._.author}.\")"
      ],
      "metadata": {
        "colab": {
          "base_uri": "https://localhost:8080/"
        },
        "id": "vzdP5M_lo_-9",
        "outputId": "b2d2209e-22c9-45d9-82fd-cfcd07923e40"
      },
      "execution_count": 22,
      "outputs": [
        {
          "output_type": "stream",
          "name": "stdout",
          "text": [
            "You've got 2 texts ready.\n",
            "The first author is Dukaj, and the second Zagórska.\n"
          ]
        }
      ]
    },
    {
      "cell_type": "markdown",
      "source": [
        "This is rather few texts per author. The classifier won't have much to go on with later.\n",
        "\n",
        "So let's chop these beautiful pieces of literature into smaller chunks to get more samples.\n",
        "\n",
        "Currently implemented choices of `sample_type` are:\n",
        "- `'none'` - no chunking\n",
        "- `'t'` - segments defined by their number of tokens\n",
        "- `'s'` - segments defined by their number of sentences (as defined by spaCy)\n",
        "- `'ts'` - segments defined by their number of tokens, but make sure they don't cut sentences in half."
      ],
      "metadata": {
        "id": "DdEr__ISqxhl"
      }
    },
    {
      "cell_type": "code",
      "source": [
        "exp.subsample_scheme = {'sample_type': 'ts', 'sample_length': 800}\n",
        "exp.texts_subsample()\n",
        "print(f\"Samples 1-37 are {exp.docs_subsampled[0]._.author}'s, and 38-87 are {exp.docs_subsampled[37]._.author}'s.\")"
      ],
      "metadata": {
        "colab": {
          "base_uri": "https://localhost:8080/",
          "height": 101,
          "referenced_widgets": [
            "d7d2eaaff0db4ee9a0a435ecef8f5fd7",
            "7138c539f1f44994b3aca0023d753c71",
            "32ad7eeabaaa4fecb9ac473cf5c694cc",
            "a6b4372b921f4420a5a6b2fd4a07ae9f",
            "aec3875e84a648d8b88b81229082e8eb",
            "18ae39adf0a14fb9ae655c60b64d366e",
            "42df3121aa3e4be8a28e1fb9aa6c3dd5",
            "09bd1311fa77448e95663755beaecb23",
            "ed7fd5d720404781b092977ed13acba2",
            "bd9582b935f8439498235a08bd7cccb1",
            "17843247516d48a99c527c18d566b2d1"
          ]
        },
        "id": "f8NG7t0zqxLL",
        "outputId": "464a5ff8-854f-4f01-ee97-0b808f0031d8"
      },
      "execution_count": 38,
      "outputs": [
        {
          "output_type": "stream",
          "name": "stdout",
          "text": [
            "'subsample_scheme' changed to '{'sample_type': 'ts', 'sample_length': 800}'.\n"
          ]
        },
        {
          "output_type": "display_data",
          "data": {
            "text/plain": [
              "  0%|          | 0/2 [00:00<?, ?it/s]"
            ],
            "application/vnd.jupyter.widget-view+json": {
              "version_major": 2,
              "version_minor": 0,
              "model_id": "d7d2eaaff0db4ee9a0a435ecef8f5fd7"
            }
          },
          "metadata": {}
        },
        {
          "output_type": "stream",
          "name": "stdout",
          "text": [
            "Number of text samples produced: 87.\n",
            "Samples 1-37 are Dukaj's, and 38-87 are Zagórska's.\n"
          ]
        }
      ]
    },
    {
      "cell_type": "code",
      "source": [
        "print(f\"The first document starts with: {exp.docs[0][0:50]}\""
      ],
      "metadata": {
        "id": "SO5_Y1POquNq"
      },
      "execution_count": null,
      "outputs": []
    },
    {
      "cell_type": "markdown",
      "metadata": {
        "id": "JJLTRw_ctkoL"
      },
      "source": [
        "## 🧪 Your Playground\n",
        "\n",
        "You can now run your own analyses using functions from `cl_explainable_stylo`, loading texts and experimenting with stylistic explainability."
      ]
    },
    {
      "cell_type": "code",
      "execution_count": null,
      "metadata": {
        "id": "4EB16pIgtkoO"
      },
      "outputs": [],
      "source": [
        "# Write your own code here!\n",
        "# For example, analyze loaded text, vectorize it, or explain features\n",
        "# from cl_explainable_stylo import analyze_text\n",
        "\n",
        "# results = analyze_text(text)\n",
        "# print(results)"
      ]
    }
  ],
  "metadata": {
    "kernelspec": {
      "display_name": "Python 3",
      "language": "python",
      "name": "python3"
    },
    "language_info": {
      "name": "python",
      "version": "3.x"
    },
    "colab": {
      "provenance": []
    },
    "widgets": {
      "application/vnd.jupyter.widget-state+json": {
        "f6a683801ee84173b0605369b0c0eaad": {
          "model_module": "@jupyter-widgets/controls",
          "model_name": "HBoxModel",
          "model_module_version": "1.5.0",
          "state": {
            "_dom_classes": [],
            "_model_module": "@jupyter-widgets/controls",
            "_model_module_version": "1.5.0",
            "_model_name": "HBoxModel",
            "_view_count": null,
            "_view_module": "@jupyter-widgets/controls",
            "_view_module_version": "1.5.0",
            "_view_name": "HBoxView",
            "box_style": "",
            "children": [
              "IPY_MODEL_5c5ce46c64374ecebfbd178a8e672984",
              "IPY_MODEL_9ec3cd57416e4d2b986ffeaa5ce8525a",
              "IPY_MODEL_7b1024f9cb824b4cb67b7545e36cefb5"
            ],
            "layout": "IPY_MODEL_59ea904aab6d4b16836d3418760ca892"
          }
        },
        "5c5ce46c64374ecebfbd178a8e672984": {
          "model_module": "@jupyter-widgets/controls",
          "model_name": "HTMLModel",
          "model_module_version": "1.5.0",
          "state": {
            "_dom_classes": [],
            "_model_module": "@jupyter-widgets/controls",
            "_model_module_version": "1.5.0",
            "_model_name": "HTMLModel",
            "_view_count": null,
            "_view_module": "@jupyter-widgets/controls",
            "_view_module_version": "1.5.0",
            "_view_name": "HTMLView",
            "description": "",
            "description_tooltip": null,
            "layout": "IPY_MODEL_8742f08284894110bf2a6084f8e9e59d",
            "placeholder": "​",
            "style": "IPY_MODEL_68ba6919c7f6495f8fb222419add6656",
            "value": ""
          }
        },
        "9ec3cd57416e4d2b986ffeaa5ce8525a": {
          "model_module": "@jupyter-widgets/controls",
          "model_name": "FloatProgressModel",
          "model_module_version": "1.5.0",
          "state": {
            "_dom_classes": [],
            "_model_module": "@jupyter-widgets/controls",
            "_model_module_version": "1.5.0",
            "_model_name": "FloatProgressModel",
            "_view_count": null,
            "_view_module": "@jupyter-widgets/controls",
            "_view_module_version": "1.5.0",
            "_view_name": "ProgressView",
            "bar_style": "success",
            "description": "",
            "description_tooltip": null,
            "layout": "IPY_MODEL_8cb5e2034ba84795b252f62f5cfd018a",
            "max": 1,
            "min": 0,
            "orientation": "horizontal",
            "style": "IPY_MODEL_47ea41d24e354e88b67ec326849a94de",
            "value": 1
          }
        },
        "7b1024f9cb824b4cb67b7545e36cefb5": {
          "model_module": "@jupyter-widgets/controls",
          "model_name": "HTMLModel",
          "model_module_version": "1.5.0",
          "state": {
            "_dom_classes": [],
            "_model_module": "@jupyter-widgets/controls",
            "_model_module_version": "1.5.0",
            "_model_name": "HTMLModel",
            "_view_count": null,
            "_view_module": "@jupyter-widgets/controls",
            "_view_module_version": "1.5.0",
            "_view_name": "HTMLView",
            "description": "",
            "description_tooltip": null,
            "layout": "IPY_MODEL_349b273e056c49ddb4025e5722ee9e15",
            "placeholder": "​",
            "style": "IPY_MODEL_6b9c98b684eb423aacbb207be2bbc4f0",
            "value": " 2/? [00:00&lt;00:00, 99.70it/s]"
          }
        },
        "59ea904aab6d4b16836d3418760ca892": {
          "model_module": "@jupyter-widgets/base",
          "model_name": "LayoutModel",
          "model_module_version": "1.2.0",
          "state": {
            "_model_module": "@jupyter-widgets/base",
            "_model_module_version": "1.2.0",
            "_model_name": "LayoutModel",
            "_view_count": null,
            "_view_module": "@jupyter-widgets/base",
            "_view_module_version": "1.2.0",
            "_view_name": "LayoutView",
            "align_content": null,
            "align_items": null,
            "align_self": null,
            "border": null,
            "bottom": null,
            "display": null,
            "flex": null,
            "flex_flow": null,
            "grid_area": null,
            "grid_auto_columns": null,
            "grid_auto_flow": null,
            "grid_auto_rows": null,
            "grid_column": null,
            "grid_gap": null,
            "grid_row": null,
            "grid_template_areas": null,
            "grid_template_columns": null,
            "grid_template_rows": null,
            "height": null,
            "justify_content": null,
            "justify_items": null,
            "left": null,
            "margin": null,
            "max_height": null,
            "max_width": null,
            "min_height": null,
            "min_width": null,
            "object_fit": null,
            "object_position": null,
            "order": null,
            "overflow": null,
            "overflow_x": null,
            "overflow_y": null,
            "padding": null,
            "right": null,
            "top": null,
            "visibility": null,
            "width": null
          }
        },
        "8742f08284894110bf2a6084f8e9e59d": {
          "model_module": "@jupyter-widgets/base",
          "model_name": "LayoutModel",
          "model_module_version": "1.2.0",
          "state": {
            "_model_module": "@jupyter-widgets/base",
            "_model_module_version": "1.2.0",
            "_model_name": "LayoutModel",
            "_view_count": null,
            "_view_module": "@jupyter-widgets/base",
            "_view_module_version": "1.2.0",
            "_view_name": "LayoutView",
            "align_content": null,
            "align_items": null,
            "align_self": null,
            "border": null,
            "bottom": null,
            "display": null,
            "flex": null,
            "flex_flow": null,
            "grid_area": null,
            "grid_auto_columns": null,
            "grid_auto_flow": null,
            "grid_auto_rows": null,
            "grid_column": null,
            "grid_gap": null,
            "grid_row": null,
            "grid_template_areas": null,
            "grid_template_columns": null,
            "grid_template_rows": null,
            "height": null,
            "justify_content": null,
            "justify_items": null,
            "left": null,
            "margin": null,
            "max_height": null,
            "max_width": null,
            "min_height": null,
            "min_width": null,
            "object_fit": null,
            "object_position": null,
            "order": null,
            "overflow": null,
            "overflow_x": null,
            "overflow_y": null,
            "padding": null,
            "right": null,
            "top": null,
            "visibility": null,
            "width": null
          }
        },
        "68ba6919c7f6495f8fb222419add6656": {
          "model_module": "@jupyter-widgets/controls",
          "model_name": "DescriptionStyleModel",
          "model_module_version": "1.5.0",
          "state": {
            "_model_module": "@jupyter-widgets/controls",
            "_model_module_version": "1.5.0",
            "_model_name": "DescriptionStyleModel",
            "_view_count": null,
            "_view_module": "@jupyter-widgets/base",
            "_view_module_version": "1.2.0",
            "_view_name": "StyleView",
            "description_width": ""
          }
        },
        "8cb5e2034ba84795b252f62f5cfd018a": {
          "model_module": "@jupyter-widgets/base",
          "model_name": "LayoutModel",
          "model_module_version": "1.2.0",
          "state": {
            "_model_module": "@jupyter-widgets/base",
            "_model_module_version": "1.2.0",
            "_model_name": "LayoutModel",
            "_view_count": null,
            "_view_module": "@jupyter-widgets/base",
            "_view_module_version": "1.2.0",
            "_view_name": "LayoutView",
            "align_content": null,
            "align_items": null,
            "align_self": null,
            "border": null,
            "bottom": null,
            "display": null,
            "flex": null,
            "flex_flow": null,
            "grid_area": null,
            "grid_auto_columns": null,
            "grid_auto_flow": null,
            "grid_auto_rows": null,
            "grid_column": null,
            "grid_gap": null,
            "grid_row": null,
            "grid_template_areas": null,
            "grid_template_columns": null,
            "grid_template_rows": null,
            "height": null,
            "justify_content": null,
            "justify_items": null,
            "left": null,
            "margin": null,
            "max_height": null,
            "max_width": null,
            "min_height": null,
            "min_width": null,
            "object_fit": null,
            "object_position": null,
            "order": null,
            "overflow": null,
            "overflow_x": null,
            "overflow_y": null,
            "padding": null,
            "right": null,
            "top": null,
            "visibility": null,
            "width": "20px"
          }
        },
        "47ea41d24e354e88b67ec326849a94de": {
          "model_module": "@jupyter-widgets/controls",
          "model_name": "ProgressStyleModel",
          "model_module_version": "1.5.0",
          "state": {
            "_model_module": "@jupyter-widgets/controls",
            "_model_module_version": "1.5.0",
            "_model_name": "ProgressStyleModel",
            "_view_count": null,
            "_view_module": "@jupyter-widgets/base",
            "_view_module_version": "1.2.0",
            "_view_name": "StyleView",
            "bar_color": null,
            "description_width": ""
          }
        },
        "349b273e056c49ddb4025e5722ee9e15": {
          "model_module": "@jupyter-widgets/base",
          "model_name": "LayoutModel",
          "model_module_version": "1.2.0",
          "state": {
            "_model_module": "@jupyter-widgets/base",
            "_model_module_version": "1.2.0",
            "_model_name": "LayoutModel",
            "_view_count": null,
            "_view_module": "@jupyter-widgets/base",
            "_view_module_version": "1.2.0",
            "_view_name": "LayoutView",
            "align_content": null,
            "align_items": null,
            "align_self": null,
            "border": null,
            "bottom": null,
            "display": null,
            "flex": null,
            "flex_flow": null,
            "grid_area": null,
            "grid_auto_columns": null,
            "grid_auto_flow": null,
            "grid_auto_rows": null,
            "grid_column": null,
            "grid_gap": null,
            "grid_row": null,
            "grid_template_areas": null,
            "grid_template_columns": null,
            "grid_template_rows": null,
            "height": null,
            "justify_content": null,
            "justify_items": null,
            "left": null,
            "margin": null,
            "max_height": null,
            "max_width": null,
            "min_height": null,
            "min_width": null,
            "object_fit": null,
            "object_position": null,
            "order": null,
            "overflow": null,
            "overflow_x": null,
            "overflow_y": null,
            "padding": null,
            "right": null,
            "top": null,
            "visibility": null,
            "width": null
          }
        },
        "6b9c98b684eb423aacbb207be2bbc4f0": {
          "model_module": "@jupyter-widgets/controls",
          "model_name": "DescriptionStyleModel",
          "model_module_version": "1.5.0",
          "state": {
            "_model_module": "@jupyter-widgets/controls",
            "_model_module_version": "1.5.0",
            "_model_name": "DescriptionStyleModel",
            "_view_count": null,
            "_view_module": "@jupyter-widgets/base",
            "_view_module_version": "1.2.0",
            "_view_name": "StyleView",
            "description_width": ""
          }
        },
        "cd431c8b33dc443c8145c230742f941c": {
          "model_module": "@jupyter-widgets/controls",
          "model_name": "HBoxModel",
          "model_module_version": "1.5.0",
          "state": {
            "_dom_classes": [],
            "_model_module": "@jupyter-widgets/controls",
            "_model_module_version": "1.5.0",
            "_model_name": "HBoxModel",
            "_view_count": null,
            "_view_module": "@jupyter-widgets/controls",
            "_view_module_version": "1.5.0",
            "_view_name": "HBoxView",
            "box_style": "",
            "children": [
              "IPY_MODEL_837e99e8ecdb446885139b98b3ef7a08",
              "IPY_MODEL_1fc04c88fe254232890ab3e98c6e258c",
              "IPY_MODEL_aadef3ddd96444409e838e607c7a3fba"
            ],
            "layout": "IPY_MODEL_ac7a61425cb14439bc2167837c891016"
          }
        },
        "837e99e8ecdb446885139b98b3ef7a08": {
          "model_module": "@jupyter-widgets/controls",
          "model_name": "HTMLModel",
          "model_module_version": "1.5.0",
          "state": {
            "_dom_classes": [],
            "_model_module": "@jupyter-widgets/controls",
            "_model_module_version": "1.5.0",
            "_model_name": "HTMLModel",
            "_view_count": null,
            "_view_module": "@jupyter-widgets/controls",
            "_view_module_version": "1.5.0",
            "_view_name": "HTMLView",
            "description": "",
            "description_tooltip": null,
            "layout": "IPY_MODEL_973889b788c24977aecdeda6b0f50a6c",
            "placeholder": "​",
            "style": "IPY_MODEL_1a9ad082370944e1ac9b902f19f88523",
            "value": ""
          }
        },
        "1fc04c88fe254232890ab3e98c6e258c": {
          "model_module": "@jupyter-widgets/controls",
          "model_name": "FloatProgressModel",
          "model_module_version": "1.5.0",
          "state": {
            "_dom_classes": [],
            "_model_module": "@jupyter-widgets/controls",
            "_model_module_version": "1.5.0",
            "_model_name": "FloatProgressModel",
            "_view_count": null,
            "_view_module": "@jupyter-widgets/controls",
            "_view_module_version": "1.5.0",
            "_view_name": "ProgressView",
            "bar_style": "success",
            "description": "",
            "description_tooltip": null,
            "layout": "IPY_MODEL_779dbe2b7bbb4165a61163e3c5dfd50f",
            "max": 1,
            "min": 0,
            "orientation": "horizontal",
            "style": "IPY_MODEL_b2ba4e455f88437eba919054aa635501",
            "value": 1
          }
        },
        "aadef3ddd96444409e838e607c7a3fba": {
          "model_module": "@jupyter-widgets/controls",
          "model_name": "HTMLModel",
          "model_module_version": "1.5.0",
          "state": {
            "_dom_classes": [],
            "_model_module": "@jupyter-widgets/controls",
            "_model_module_version": "1.5.0",
            "_model_name": "HTMLModel",
            "_view_count": null,
            "_view_module": "@jupyter-widgets/controls",
            "_view_module_version": "1.5.0",
            "_view_name": "HTMLView",
            "description": "",
            "description_tooltip": null,
            "layout": "IPY_MODEL_6275fc93b9144098beae4c473ae37618",
            "placeholder": "​",
            "style": "IPY_MODEL_b2ffff882a9c41aeaed6d70642351bd1",
            "value": " 2/? [00:17&lt;00:00, 17.84s/it]"
          }
        },
        "ac7a61425cb14439bc2167837c891016": {
          "model_module": "@jupyter-widgets/base",
          "model_name": "LayoutModel",
          "model_module_version": "1.2.0",
          "state": {
            "_model_module": "@jupyter-widgets/base",
            "_model_module_version": "1.2.0",
            "_model_name": "LayoutModel",
            "_view_count": null,
            "_view_module": "@jupyter-widgets/base",
            "_view_module_version": "1.2.0",
            "_view_name": "LayoutView",
            "align_content": null,
            "align_items": null,
            "align_self": null,
            "border": null,
            "bottom": null,
            "display": null,
            "flex": null,
            "flex_flow": null,
            "grid_area": null,
            "grid_auto_columns": null,
            "grid_auto_flow": null,
            "grid_auto_rows": null,
            "grid_column": null,
            "grid_gap": null,
            "grid_row": null,
            "grid_template_areas": null,
            "grid_template_columns": null,
            "grid_template_rows": null,
            "height": null,
            "justify_content": null,
            "justify_items": null,
            "left": null,
            "margin": null,
            "max_height": null,
            "max_width": null,
            "min_height": null,
            "min_width": null,
            "object_fit": null,
            "object_position": null,
            "order": null,
            "overflow": null,
            "overflow_x": null,
            "overflow_y": null,
            "padding": null,
            "right": null,
            "top": null,
            "visibility": null,
            "width": null
          }
        },
        "973889b788c24977aecdeda6b0f50a6c": {
          "model_module": "@jupyter-widgets/base",
          "model_name": "LayoutModel",
          "model_module_version": "1.2.0",
          "state": {
            "_model_module": "@jupyter-widgets/base",
            "_model_module_version": "1.2.0",
            "_model_name": "LayoutModel",
            "_view_count": null,
            "_view_module": "@jupyter-widgets/base",
            "_view_module_version": "1.2.0",
            "_view_name": "LayoutView",
            "align_content": null,
            "align_items": null,
            "align_self": null,
            "border": null,
            "bottom": null,
            "display": null,
            "flex": null,
            "flex_flow": null,
            "grid_area": null,
            "grid_auto_columns": null,
            "grid_auto_flow": null,
            "grid_auto_rows": null,
            "grid_column": null,
            "grid_gap": null,
            "grid_row": null,
            "grid_template_areas": null,
            "grid_template_columns": null,
            "grid_template_rows": null,
            "height": null,
            "justify_content": null,
            "justify_items": null,
            "left": null,
            "margin": null,
            "max_height": null,
            "max_width": null,
            "min_height": null,
            "min_width": null,
            "object_fit": null,
            "object_position": null,
            "order": null,
            "overflow": null,
            "overflow_x": null,
            "overflow_y": null,
            "padding": null,
            "right": null,
            "top": null,
            "visibility": null,
            "width": null
          }
        },
        "1a9ad082370944e1ac9b902f19f88523": {
          "model_module": "@jupyter-widgets/controls",
          "model_name": "DescriptionStyleModel",
          "model_module_version": "1.5.0",
          "state": {
            "_model_module": "@jupyter-widgets/controls",
            "_model_module_version": "1.5.0",
            "_model_name": "DescriptionStyleModel",
            "_view_count": null,
            "_view_module": "@jupyter-widgets/base",
            "_view_module_version": "1.2.0",
            "_view_name": "StyleView",
            "description_width": ""
          }
        },
        "779dbe2b7bbb4165a61163e3c5dfd50f": {
          "model_module": "@jupyter-widgets/base",
          "model_name": "LayoutModel",
          "model_module_version": "1.2.0",
          "state": {
            "_model_module": "@jupyter-widgets/base",
            "_model_module_version": "1.2.0",
            "_model_name": "LayoutModel",
            "_view_count": null,
            "_view_module": "@jupyter-widgets/base",
            "_view_module_version": "1.2.0",
            "_view_name": "LayoutView",
            "align_content": null,
            "align_items": null,
            "align_self": null,
            "border": null,
            "bottom": null,
            "display": null,
            "flex": null,
            "flex_flow": null,
            "grid_area": null,
            "grid_auto_columns": null,
            "grid_auto_flow": null,
            "grid_auto_rows": null,
            "grid_column": null,
            "grid_gap": null,
            "grid_row": null,
            "grid_template_areas": null,
            "grid_template_columns": null,
            "grid_template_rows": null,
            "height": null,
            "justify_content": null,
            "justify_items": null,
            "left": null,
            "margin": null,
            "max_height": null,
            "max_width": null,
            "min_height": null,
            "min_width": null,
            "object_fit": null,
            "object_position": null,
            "order": null,
            "overflow": null,
            "overflow_x": null,
            "overflow_y": null,
            "padding": null,
            "right": null,
            "top": null,
            "visibility": null,
            "width": "20px"
          }
        },
        "b2ba4e455f88437eba919054aa635501": {
          "model_module": "@jupyter-widgets/controls",
          "model_name": "ProgressStyleModel",
          "model_module_version": "1.5.0",
          "state": {
            "_model_module": "@jupyter-widgets/controls",
            "_model_module_version": "1.5.0",
            "_model_name": "ProgressStyleModel",
            "_view_count": null,
            "_view_module": "@jupyter-widgets/base",
            "_view_module_version": "1.2.0",
            "_view_name": "StyleView",
            "bar_color": null,
            "description_width": ""
          }
        },
        "6275fc93b9144098beae4c473ae37618": {
          "model_module": "@jupyter-widgets/base",
          "model_name": "LayoutModel",
          "model_module_version": "1.2.0",
          "state": {
            "_model_module": "@jupyter-widgets/base",
            "_model_module_version": "1.2.0",
            "_model_name": "LayoutModel",
            "_view_count": null,
            "_view_module": "@jupyter-widgets/base",
            "_view_module_version": "1.2.0",
            "_view_name": "LayoutView",
            "align_content": null,
            "align_items": null,
            "align_self": null,
            "border": null,
            "bottom": null,
            "display": null,
            "flex": null,
            "flex_flow": null,
            "grid_area": null,
            "grid_auto_columns": null,
            "grid_auto_flow": null,
            "grid_auto_rows": null,
            "grid_column": null,
            "grid_gap": null,
            "grid_row": null,
            "grid_template_areas": null,
            "grid_template_columns": null,
            "grid_template_rows": null,
            "height": null,
            "justify_content": null,
            "justify_items": null,
            "left": null,
            "margin": null,
            "max_height": null,
            "max_width": null,
            "min_height": null,
            "min_width": null,
            "object_fit": null,
            "object_position": null,
            "order": null,
            "overflow": null,
            "overflow_x": null,
            "overflow_y": null,
            "padding": null,
            "right": null,
            "top": null,
            "visibility": null,
            "width": null
          }
        },
        "b2ffff882a9c41aeaed6d70642351bd1": {
          "model_module": "@jupyter-widgets/controls",
          "model_name": "DescriptionStyleModel",
          "model_module_version": "1.5.0",
          "state": {
            "_model_module": "@jupyter-widgets/controls",
            "_model_module_version": "1.5.0",
            "_model_name": "DescriptionStyleModel",
            "_view_count": null,
            "_view_module": "@jupyter-widgets/base",
            "_view_module_version": "1.2.0",
            "_view_name": "StyleView",
            "description_width": ""
          }
        },
        "d7d2eaaff0db4ee9a0a435ecef8f5fd7": {
          "model_module": "@jupyter-widgets/controls",
          "model_name": "HBoxModel",
          "model_module_version": "1.5.0",
          "state": {
            "_dom_classes": [],
            "_model_module": "@jupyter-widgets/controls",
            "_model_module_version": "1.5.0",
            "_model_name": "HBoxModel",
            "_view_count": null,
            "_view_module": "@jupyter-widgets/controls",
            "_view_module_version": "1.5.0",
            "_view_name": "HBoxView",
            "box_style": "",
            "children": [
              "IPY_MODEL_7138c539f1f44994b3aca0023d753c71",
              "IPY_MODEL_32ad7eeabaaa4fecb9ac473cf5c694cc",
              "IPY_MODEL_a6b4372b921f4420a5a6b2fd4a07ae9f"
            ],
            "layout": "IPY_MODEL_aec3875e84a648d8b88b81229082e8eb"
          }
        },
        "7138c539f1f44994b3aca0023d753c71": {
          "model_module": "@jupyter-widgets/controls",
          "model_name": "HTMLModel",
          "model_module_version": "1.5.0",
          "state": {
            "_dom_classes": [],
            "_model_module": "@jupyter-widgets/controls",
            "_model_module_version": "1.5.0",
            "_model_name": "HTMLModel",
            "_view_count": null,
            "_view_module": "@jupyter-widgets/controls",
            "_view_module_version": "1.5.0",
            "_view_name": "HTMLView",
            "description": "",
            "description_tooltip": null,
            "layout": "IPY_MODEL_18ae39adf0a14fb9ae655c60b64d366e",
            "placeholder": "​",
            "style": "IPY_MODEL_42df3121aa3e4be8a28e1fb9aa6c3dd5",
            "value": "100%"
          }
        },
        "32ad7eeabaaa4fecb9ac473cf5c694cc": {
          "model_module": "@jupyter-widgets/controls",
          "model_name": "FloatProgressModel",
          "model_module_version": "1.5.0",
          "state": {
            "_dom_classes": [],
            "_model_module": "@jupyter-widgets/controls",
            "_model_module_version": "1.5.0",
            "_model_name": "FloatProgressModel",
            "_view_count": null,
            "_view_module": "@jupyter-widgets/controls",
            "_view_module_version": "1.5.0",
            "_view_name": "ProgressView",
            "bar_style": "success",
            "description": "",
            "description_tooltip": null,
            "layout": "IPY_MODEL_09bd1311fa77448e95663755beaecb23",
            "max": 2,
            "min": 0,
            "orientation": "horizontal",
            "style": "IPY_MODEL_ed7fd5d720404781b092977ed13acba2",
            "value": 2
          }
        },
        "a6b4372b921f4420a5a6b2fd4a07ae9f": {
          "model_module": "@jupyter-widgets/controls",
          "model_name": "HTMLModel",
          "model_module_version": "1.5.0",
          "state": {
            "_dom_classes": [],
            "_model_module": "@jupyter-widgets/controls",
            "_model_module_version": "1.5.0",
            "_model_name": "HTMLModel",
            "_view_count": null,
            "_view_module": "@jupyter-widgets/controls",
            "_view_module_version": "1.5.0",
            "_view_name": "HTMLView",
            "description": "",
            "description_tooltip": null,
            "layout": "IPY_MODEL_bd9582b935f8439498235a08bd7cccb1",
            "placeholder": "​",
            "style": "IPY_MODEL_17843247516d48a99c527c18d566b2d1",
            "value": " 2/2 [00:01&lt;00:00,  1.90it/s]"
          }
        },
        "aec3875e84a648d8b88b81229082e8eb": {
          "model_module": "@jupyter-widgets/base",
          "model_name": "LayoutModel",
          "model_module_version": "1.2.0",
          "state": {
            "_model_module": "@jupyter-widgets/base",
            "_model_module_version": "1.2.0",
            "_model_name": "LayoutModel",
            "_view_count": null,
            "_view_module": "@jupyter-widgets/base",
            "_view_module_version": "1.2.0",
            "_view_name": "LayoutView",
            "align_content": null,
            "align_items": null,
            "align_self": null,
            "border": null,
            "bottom": null,
            "display": null,
            "flex": null,
            "flex_flow": null,
            "grid_area": null,
            "grid_auto_columns": null,
            "grid_auto_flow": null,
            "grid_auto_rows": null,
            "grid_column": null,
            "grid_gap": null,
            "grid_row": null,
            "grid_template_areas": null,
            "grid_template_columns": null,
            "grid_template_rows": null,
            "height": null,
            "justify_content": null,
            "justify_items": null,
            "left": null,
            "margin": null,
            "max_height": null,
            "max_width": null,
            "min_height": null,
            "min_width": null,
            "object_fit": null,
            "object_position": null,
            "order": null,
            "overflow": null,
            "overflow_x": null,
            "overflow_y": null,
            "padding": null,
            "right": null,
            "top": null,
            "visibility": null,
            "width": null
          }
        },
        "18ae39adf0a14fb9ae655c60b64d366e": {
          "model_module": "@jupyter-widgets/base",
          "model_name": "LayoutModel",
          "model_module_version": "1.2.0",
          "state": {
            "_model_module": "@jupyter-widgets/base",
            "_model_module_version": "1.2.0",
            "_model_name": "LayoutModel",
            "_view_count": null,
            "_view_module": "@jupyter-widgets/base",
            "_view_module_version": "1.2.0",
            "_view_name": "LayoutView",
            "align_content": null,
            "align_items": null,
            "align_self": null,
            "border": null,
            "bottom": null,
            "display": null,
            "flex": null,
            "flex_flow": null,
            "grid_area": null,
            "grid_auto_columns": null,
            "grid_auto_flow": null,
            "grid_auto_rows": null,
            "grid_column": null,
            "grid_gap": null,
            "grid_row": null,
            "grid_template_areas": null,
            "grid_template_columns": null,
            "grid_template_rows": null,
            "height": null,
            "justify_content": null,
            "justify_items": null,
            "left": null,
            "margin": null,
            "max_height": null,
            "max_width": null,
            "min_height": null,
            "min_width": null,
            "object_fit": null,
            "object_position": null,
            "order": null,
            "overflow": null,
            "overflow_x": null,
            "overflow_y": null,
            "padding": null,
            "right": null,
            "top": null,
            "visibility": null,
            "width": null
          }
        },
        "42df3121aa3e4be8a28e1fb9aa6c3dd5": {
          "model_module": "@jupyter-widgets/controls",
          "model_name": "DescriptionStyleModel",
          "model_module_version": "1.5.0",
          "state": {
            "_model_module": "@jupyter-widgets/controls",
            "_model_module_version": "1.5.0",
            "_model_name": "DescriptionStyleModel",
            "_view_count": null,
            "_view_module": "@jupyter-widgets/base",
            "_view_module_version": "1.2.0",
            "_view_name": "StyleView",
            "description_width": ""
          }
        },
        "09bd1311fa77448e95663755beaecb23": {
          "model_module": "@jupyter-widgets/base",
          "model_name": "LayoutModel",
          "model_module_version": "1.2.0",
          "state": {
            "_model_module": "@jupyter-widgets/base",
            "_model_module_version": "1.2.0",
            "_model_name": "LayoutModel",
            "_view_count": null,
            "_view_module": "@jupyter-widgets/base",
            "_view_module_version": "1.2.0",
            "_view_name": "LayoutView",
            "align_content": null,
            "align_items": null,
            "align_self": null,
            "border": null,
            "bottom": null,
            "display": null,
            "flex": null,
            "flex_flow": null,
            "grid_area": null,
            "grid_auto_columns": null,
            "grid_auto_flow": null,
            "grid_auto_rows": null,
            "grid_column": null,
            "grid_gap": null,
            "grid_row": null,
            "grid_template_areas": null,
            "grid_template_columns": null,
            "grid_template_rows": null,
            "height": null,
            "justify_content": null,
            "justify_items": null,
            "left": null,
            "margin": null,
            "max_height": null,
            "max_width": null,
            "min_height": null,
            "min_width": null,
            "object_fit": null,
            "object_position": null,
            "order": null,
            "overflow": null,
            "overflow_x": null,
            "overflow_y": null,
            "padding": null,
            "right": null,
            "top": null,
            "visibility": null,
            "width": null
          }
        },
        "ed7fd5d720404781b092977ed13acba2": {
          "model_module": "@jupyter-widgets/controls",
          "model_name": "ProgressStyleModel",
          "model_module_version": "1.5.0",
          "state": {
            "_model_module": "@jupyter-widgets/controls",
            "_model_module_version": "1.5.0",
            "_model_name": "ProgressStyleModel",
            "_view_count": null,
            "_view_module": "@jupyter-widgets/base",
            "_view_module_version": "1.2.0",
            "_view_name": "StyleView",
            "bar_color": null,
            "description_width": ""
          }
        },
        "bd9582b935f8439498235a08bd7cccb1": {
          "model_module": "@jupyter-widgets/base",
          "model_name": "LayoutModel",
          "model_module_version": "1.2.0",
          "state": {
            "_model_module": "@jupyter-widgets/base",
            "_model_module_version": "1.2.0",
            "_model_name": "LayoutModel",
            "_view_count": null,
            "_view_module": "@jupyter-widgets/base",
            "_view_module_version": "1.2.0",
            "_view_name": "LayoutView",
            "align_content": null,
            "align_items": null,
            "align_self": null,
            "border": null,
            "bottom": null,
            "display": null,
            "flex": null,
            "flex_flow": null,
            "grid_area": null,
            "grid_auto_columns": null,
            "grid_auto_flow": null,
            "grid_auto_rows": null,
            "grid_column": null,
            "grid_gap": null,
            "grid_row": null,
            "grid_template_areas": null,
            "grid_template_columns": null,
            "grid_template_rows": null,
            "height": null,
            "justify_content": null,
            "justify_items": null,
            "left": null,
            "margin": null,
            "max_height": null,
            "max_width": null,
            "min_height": null,
            "min_width": null,
            "object_fit": null,
            "object_position": null,
            "order": null,
            "overflow": null,
            "overflow_x": null,
            "overflow_y": null,
            "padding": null,
            "right": null,
            "top": null,
            "visibility": null,
            "width": null
          }
        },
        "17843247516d48a99c527c18d566b2d1": {
          "model_module": "@jupyter-widgets/controls",
          "model_name": "DescriptionStyleModel",
          "model_module_version": "1.5.0",
          "state": {
            "_model_module": "@jupyter-widgets/controls",
            "_model_module_version": "1.5.0",
            "_model_name": "DescriptionStyleModel",
            "_view_count": null,
            "_view_module": "@jupyter-widgets/base",
            "_view_module_version": "1.2.0",
            "_view_name": "StyleView",
            "description_width": ""
          }
        }
      }
    }
  },
  "nbformat": 4,
  "nbformat_minor": 0
}